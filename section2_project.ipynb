{
  "nbformat": 4,
  "nbformat_minor": 0,
  "metadata": {
    "colab": {
      "provenance": [],
      "authorship_tag": "ABX9TyOiy0nQ67XBOT/UPeThRI0I",
      "include_colab_link": true
    },
    "kernelspec": {
      "name": "python3",
      "display_name": "Python 3"
    },
    "language_info": {
      "name": "python"
    }
  },
  "cells": [
    {
      "cell_type": "markdown",
      "metadata": {
        "id": "view-in-github",
        "colab_type": "text"
      },
      "source": [
        "<a href=\"https://colab.research.google.com/github/haylee94/Section-2_Project-/blob/main/section2_project.ipynb\" target=\"_parent\"><img src=\"https://colab.research.google.com/assets/colab-badge.svg\" alt=\"Open In Colab\"/></a>"
      ]
    },
    {
      "cell_type": "code",
      "source": [
        "from google.colab import files\n",
        "uploaded = files.upload()"
      ],
      "metadata": {
        "colab": {
          "base_uri": "https://localhost:8080/",
          "height": 74
        },
        "id": "p3pf6qG4mX5b",
        "outputId": "c570562a-16c2-4b81-b096-b54fcbe6ab04"
      },
      "execution_count": 1,
      "outputs": [
        {
          "output_type": "display_data",
          "data": {
            "text/plain": [
              "<IPython.core.display.HTML object>"
            ],
            "text/html": [
              "\n",
              "     <input type=\"file\" id=\"files-96c07be3-d440-48c9-9c2c-3aea07913314\" name=\"files[]\" multiple disabled\n",
              "        style=\"border:none\" />\n",
              "     <output id=\"result-96c07be3-d440-48c9-9c2c-3aea07913314\">\n",
              "      Upload widget is only available when the cell has been executed in the\n",
              "      current browser session. Please rerun this cell to enable.\n",
              "      </output>\n",
              "      <script>// Copyright 2017 Google LLC\n",
              "//\n",
              "// Licensed under the Apache License, Version 2.0 (the \"License\");\n",
              "// you may not use this file except in compliance with the License.\n",
              "// You may obtain a copy of the License at\n",
              "//\n",
              "//      http://www.apache.org/licenses/LICENSE-2.0\n",
              "//\n",
              "// Unless required by applicable law or agreed to in writing, software\n",
              "// distributed under the License is distributed on an \"AS IS\" BASIS,\n",
              "// WITHOUT WARRANTIES OR CONDITIONS OF ANY KIND, either express or implied.\n",
              "// See the License for the specific language governing permissions and\n",
              "// limitations under the License.\n",
              "\n",
              "/**\n",
              " * @fileoverview Helpers for google.colab Python module.\n",
              " */\n",
              "(function(scope) {\n",
              "function span(text, styleAttributes = {}) {\n",
              "  const element = document.createElement('span');\n",
              "  element.textContent = text;\n",
              "  for (const key of Object.keys(styleAttributes)) {\n",
              "    element.style[key] = styleAttributes[key];\n",
              "  }\n",
              "  return element;\n",
              "}\n",
              "\n",
              "// Max number of bytes which will be uploaded at a time.\n",
              "const MAX_PAYLOAD_SIZE = 100 * 1024;\n",
              "\n",
              "function _uploadFiles(inputId, outputId) {\n",
              "  const steps = uploadFilesStep(inputId, outputId);\n",
              "  const outputElement = document.getElementById(outputId);\n",
              "  // Cache steps on the outputElement to make it available for the next call\n",
              "  // to uploadFilesContinue from Python.\n",
              "  outputElement.steps = steps;\n",
              "\n",
              "  return _uploadFilesContinue(outputId);\n",
              "}\n",
              "\n",
              "// This is roughly an async generator (not supported in the browser yet),\n",
              "// where there are multiple asynchronous steps and the Python side is going\n",
              "// to poll for completion of each step.\n",
              "// This uses a Promise to block the python side on completion of each step,\n",
              "// then passes the result of the previous step as the input to the next step.\n",
              "function _uploadFilesContinue(outputId) {\n",
              "  const outputElement = document.getElementById(outputId);\n",
              "  const steps = outputElement.steps;\n",
              "\n",
              "  const next = steps.next(outputElement.lastPromiseValue);\n",
              "  return Promise.resolve(next.value.promise).then((value) => {\n",
              "    // Cache the last promise value to make it available to the next\n",
              "    // step of the generator.\n",
              "    outputElement.lastPromiseValue = value;\n",
              "    return next.value.response;\n",
              "  });\n",
              "}\n",
              "\n",
              "/**\n",
              " * Generator function which is called between each async step of the upload\n",
              " * process.\n",
              " * @param {string} inputId Element ID of the input file picker element.\n",
              " * @param {string} outputId Element ID of the output display.\n",
              " * @return {!Iterable<!Object>} Iterable of next steps.\n",
              " */\n",
              "function* uploadFilesStep(inputId, outputId) {\n",
              "  const inputElement = document.getElementById(inputId);\n",
              "  inputElement.disabled = false;\n",
              "\n",
              "  const outputElement = document.getElementById(outputId);\n",
              "  outputElement.innerHTML = '';\n",
              "\n",
              "  const pickedPromise = new Promise((resolve) => {\n",
              "    inputElement.addEventListener('change', (e) => {\n",
              "      resolve(e.target.files);\n",
              "    });\n",
              "  });\n",
              "\n",
              "  const cancel = document.createElement('button');\n",
              "  inputElement.parentElement.appendChild(cancel);\n",
              "  cancel.textContent = 'Cancel upload';\n",
              "  const cancelPromise = new Promise((resolve) => {\n",
              "    cancel.onclick = () => {\n",
              "      resolve(null);\n",
              "    };\n",
              "  });\n",
              "\n",
              "  // Wait for the user to pick the files.\n",
              "  const files = yield {\n",
              "    promise: Promise.race([pickedPromise, cancelPromise]),\n",
              "    response: {\n",
              "      action: 'starting',\n",
              "    }\n",
              "  };\n",
              "\n",
              "  cancel.remove();\n",
              "\n",
              "  // Disable the input element since further picks are not allowed.\n",
              "  inputElement.disabled = true;\n",
              "\n",
              "  if (!files) {\n",
              "    return {\n",
              "      response: {\n",
              "        action: 'complete',\n",
              "      }\n",
              "    };\n",
              "  }\n",
              "\n",
              "  for (const file of files) {\n",
              "    const li = document.createElement('li');\n",
              "    li.append(span(file.name, {fontWeight: 'bold'}));\n",
              "    li.append(span(\n",
              "        `(${file.type || 'n/a'}) - ${file.size} bytes, ` +\n",
              "        `last modified: ${\n",
              "            file.lastModifiedDate ? file.lastModifiedDate.toLocaleDateString() :\n",
              "                                    'n/a'} - `));\n",
              "    const percent = span('0% done');\n",
              "    li.appendChild(percent);\n",
              "\n",
              "    outputElement.appendChild(li);\n",
              "\n",
              "    const fileDataPromise = new Promise((resolve) => {\n",
              "      const reader = new FileReader();\n",
              "      reader.onload = (e) => {\n",
              "        resolve(e.target.result);\n",
              "      };\n",
              "      reader.readAsArrayBuffer(file);\n",
              "    });\n",
              "    // Wait for the data to be ready.\n",
              "    let fileData = yield {\n",
              "      promise: fileDataPromise,\n",
              "      response: {\n",
              "        action: 'continue',\n",
              "      }\n",
              "    };\n",
              "\n",
              "    // Use a chunked sending to avoid message size limits. See b/62115660.\n",
              "    let position = 0;\n",
              "    do {\n",
              "      const length = Math.min(fileData.byteLength - position, MAX_PAYLOAD_SIZE);\n",
              "      const chunk = new Uint8Array(fileData, position, length);\n",
              "      position += length;\n",
              "\n",
              "      const base64 = btoa(String.fromCharCode.apply(null, chunk));\n",
              "      yield {\n",
              "        response: {\n",
              "          action: 'append',\n",
              "          file: file.name,\n",
              "          data: base64,\n",
              "        },\n",
              "      };\n",
              "\n",
              "      let percentDone = fileData.byteLength === 0 ?\n",
              "          100 :\n",
              "          Math.round((position / fileData.byteLength) * 100);\n",
              "      percent.textContent = `${percentDone}% done`;\n",
              "\n",
              "    } while (position < fileData.byteLength);\n",
              "  }\n",
              "\n",
              "  // All done.\n",
              "  yield {\n",
              "    response: {\n",
              "      action: 'complete',\n",
              "    }\n",
              "  };\n",
              "}\n",
              "\n",
              "scope.google = scope.google || {};\n",
              "scope.google.colab = scope.google.colab || {};\n",
              "scope.google.colab._files = {\n",
              "  _uploadFiles,\n",
              "  _uploadFilesContinue,\n",
              "};\n",
              "})(self);\n",
              "</script> "
            ]
          },
          "metadata": {}
        },
        {
          "output_type": "stream",
          "name": "stdout",
          "text": [
            "Saving retirement.csv to retirement (3).csv\n"
          ]
        }
      ]
    },
    {
      "cell_type": "code",
      "source": [
        "import pandas as pd\n",
        "import numpy as np"
      ],
      "metadata": {
        "id": "7gU_ZF8AmgN9"
      },
      "execution_count": 2,
      "outputs": []
    },
    {
      "cell_type": "code",
      "source": [
        "pd.set_option('display.max_columns', None) # Pandas를 활용해 시각적 탐색(열전체)\n",
        "pd.set_option('display.max_rows', None) # Pandas를 활용해 시각적 탐색(행전체)"
      ],
      "metadata": {
        "id": "f8Fg_NX8mcx6"
      },
      "execution_count": 3,
      "outputs": []
    },
    {
      "cell_type": "code",
      "source": [
        "# 데이터셋 불러오기 \n",
        "df = pd.read_csv('retirement.csv')"
      ],
      "metadata": {
        "id": "o_sMG3urmk6F"
      },
      "execution_count": 4,
      "outputs": []
    },
    {
      "cell_type": "code",
      "source": [
        "df.head()"
      ],
      "metadata": {
        "colab": {
          "base_uri": "https://localhost:8080/",
          "height": 270
        },
        "id": "qpmWB-nMobfz",
        "outputId": "41998a73-e447-4b53-f56b-548baf6f2006"
      },
      "execution_count": 5,
      "outputs": [
        {
          "output_type": "execute_result",
          "data": {
            "text/plain": [
              "   satisfaction_level  last_evaluation  number_project  average_montly_hours  \\\n",
              "0                0.38             0.53               2                   157   \n",
              "1                0.80             0.86               5                   262   \n",
              "2                0.11             0.88               7                   272   \n",
              "3                0.72             0.87               5                   223   \n",
              "4                0.37             0.52               2                   159   \n",
              "\n",
              "   time_spend_company  Work_accident  left  promotion_last_5years department  \\\n",
              "0                   3              0     1                      0      sales   \n",
              "1                   6              0     1                      0      sales   \n",
              "2                   4              0     1                      0      sales   \n",
              "3                   5              0     1                      0      sales   \n",
              "4                   3              0     1                      0      sales   \n",
              "\n",
              "   salary  \n",
              "0     low  \n",
              "1  medium  \n",
              "2  medium  \n",
              "3     low  \n",
              "4     low  "
            ],
            "text/html": [
              "\n",
              "  <div id=\"df-3e308f96-c2ac-4459-b94d-ae7b9a98b43b\">\n",
              "    <div class=\"colab-df-container\">\n",
              "      <div>\n",
              "<style scoped>\n",
              "    .dataframe tbody tr th:only-of-type {\n",
              "        vertical-align: middle;\n",
              "    }\n",
              "\n",
              "    .dataframe tbody tr th {\n",
              "        vertical-align: top;\n",
              "    }\n",
              "\n",
              "    .dataframe thead th {\n",
              "        text-align: right;\n",
              "    }\n",
              "</style>\n",
              "<table border=\"1\" class=\"dataframe\">\n",
              "  <thead>\n",
              "    <tr style=\"text-align: right;\">\n",
              "      <th></th>\n",
              "      <th>satisfaction_level</th>\n",
              "      <th>last_evaluation</th>\n",
              "      <th>number_project</th>\n",
              "      <th>average_montly_hours</th>\n",
              "      <th>time_spend_company</th>\n",
              "      <th>Work_accident</th>\n",
              "      <th>left</th>\n",
              "      <th>promotion_last_5years</th>\n",
              "      <th>department</th>\n",
              "      <th>salary</th>\n",
              "    </tr>\n",
              "  </thead>\n",
              "  <tbody>\n",
              "    <tr>\n",
              "      <th>0</th>\n",
              "      <td>0.38</td>\n",
              "      <td>0.53</td>\n",
              "      <td>2</td>\n",
              "      <td>157</td>\n",
              "      <td>3</td>\n",
              "      <td>0</td>\n",
              "      <td>1</td>\n",
              "      <td>0</td>\n",
              "      <td>sales</td>\n",
              "      <td>low</td>\n",
              "    </tr>\n",
              "    <tr>\n",
              "      <th>1</th>\n",
              "      <td>0.80</td>\n",
              "      <td>0.86</td>\n",
              "      <td>5</td>\n",
              "      <td>262</td>\n",
              "      <td>6</td>\n",
              "      <td>0</td>\n",
              "      <td>1</td>\n",
              "      <td>0</td>\n",
              "      <td>sales</td>\n",
              "      <td>medium</td>\n",
              "    </tr>\n",
              "    <tr>\n",
              "      <th>2</th>\n",
              "      <td>0.11</td>\n",
              "      <td>0.88</td>\n",
              "      <td>7</td>\n",
              "      <td>272</td>\n",
              "      <td>4</td>\n",
              "      <td>0</td>\n",
              "      <td>1</td>\n",
              "      <td>0</td>\n",
              "      <td>sales</td>\n",
              "      <td>medium</td>\n",
              "    </tr>\n",
              "    <tr>\n",
              "      <th>3</th>\n",
              "      <td>0.72</td>\n",
              "      <td>0.87</td>\n",
              "      <td>5</td>\n",
              "      <td>223</td>\n",
              "      <td>5</td>\n",
              "      <td>0</td>\n",
              "      <td>1</td>\n",
              "      <td>0</td>\n",
              "      <td>sales</td>\n",
              "      <td>low</td>\n",
              "    </tr>\n",
              "    <tr>\n",
              "      <th>4</th>\n",
              "      <td>0.37</td>\n",
              "      <td>0.52</td>\n",
              "      <td>2</td>\n",
              "      <td>159</td>\n",
              "      <td>3</td>\n",
              "      <td>0</td>\n",
              "      <td>1</td>\n",
              "      <td>0</td>\n",
              "      <td>sales</td>\n",
              "      <td>low</td>\n",
              "    </tr>\n",
              "  </tbody>\n",
              "</table>\n",
              "</div>\n",
              "      <button class=\"colab-df-convert\" onclick=\"convertToInteractive('df-3e308f96-c2ac-4459-b94d-ae7b9a98b43b')\"\n",
              "              title=\"Convert this dataframe to an interactive table.\"\n",
              "              style=\"display:none;\">\n",
              "        \n",
              "  <svg xmlns=\"http://www.w3.org/2000/svg\" height=\"24px\"viewBox=\"0 0 24 24\"\n",
              "       width=\"24px\">\n",
              "    <path d=\"M0 0h24v24H0V0z\" fill=\"none\"/>\n",
              "    <path d=\"M18.56 5.44l.94 2.06.94-2.06 2.06-.94-2.06-.94-.94-2.06-.94 2.06-2.06.94zm-11 1L8.5 8.5l.94-2.06 2.06-.94-2.06-.94L8.5 2.5l-.94 2.06-2.06.94zm10 10l.94 2.06.94-2.06 2.06-.94-2.06-.94-.94-2.06-.94 2.06-2.06.94z\"/><path d=\"M17.41 7.96l-1.37-1.37c-.4-.4-.92-.59-1.43-.59-.52 0-1.04.2-1.43.59L10.3 9.45l-7.72 7.72c-.78.78-.78 2.05 0 2.83L4 21.41c.39.39.9.59 1.41.59.51 0 1.02-.2 1.41-.59l7.78-7.78 2.81-2.81c.8-.78.8-2.07 0-2.86zM5.41 20L4 18.59l7.72-7.72 1.47 1.35L5.41 20z\"/>\n",
              "  </svg>\n",
              "      </button>\n",
              "      \n",
              "  <style>\n",
              "    .colab-df-container {\n",
              "      display:flex;\n",
              "      flex-wrap:wrap;\n",
              "      gap: 12px;\n",
              "    }\n",
              "\n",
              "    .colab-df-convert {\n",
              "      background-color: #E8F0FE;\n",
              "      border: none;\n",
              "      border-radius: 50%;\n",
              "      cursor: pointer;\n",
              "      display: none;\n",
              "      fill: #1967D2;\n",
              "      height: 32px;\n",
              "      padding: 0 0 0 0;\n",
              "      width: 32px;\n",
              "    }\n",
              "\n",
              "    .colab-df-convert:hover {\n",
              "      background-color: #E2EBFA;\n",
              "      box-shadow: 0px 1px 2px rgba(60, 64, 67, 0.3), 0px 1px 3px 1px rgba(60, 64, 67, 0.15);\n",
              "      fill: #174EA6;\n",
              "    }\n",
              "\n",
              "    [theme=dark] .colab-df-convert {\n",
              "      background-color: #3B4455;\n",
              "      fill: #D2E3FC;\n",
              "    }\n",
              "\n",
              "    [theme=dark] .colab-df-convert:hover {\n",
              "      background-color: #434B5C;\n",
              "      box-shadow: 0px 1px 3px 1px rgba(0, 0, 0, 0.15);\n",
              "      filter: drop-shadow(0px 1px 2px rgba(0, 0, 0, 0.3));\n",
              "      fill: #FFFFFF;\n",
              "    }\n",
              "  </style>\n",
              "\n",
              "      <script>\n",
              "        const buttonEl =\n",
              "          document.querySelector('#df-3e308f96-c2ac-4459-b94d-ae7b9a98b43b button.colab-df-convert');\n",
              "        buttonEl.style.display =\n",
              "          google.colab.kernel.accessAllowed ? 'block' : 'none';\n",
              "\n",
              "        async function convertToInteractive(key) {\n",
              "          const element = document.querySelector('#df-3e308f96-c2ac-4459-b94d-ae7b9a98b43b');\n",
              "          const dataTable =\n",
              "            await google.colab.kernel.invokeFunction('convertToInteractive',\n",
              "                                                     [key], {});\n",
              "          if (!dataTable) return;\n",
              "\n",
              "          const docLinkHtml = 'Like what you see? Visit the ' +\n",
              "            '<a target=\"_blank\" href=https://colab.research.google.com/notebooks/data_table.ipynb>data table notebook</a>'\n",
              "            + ' to learn more about interactive tables.';\n",
              "          element.innerHTML = '';\n",
              "          dataTable['output_type'] = 'display_data';\n",
              "          await google.colab.output.renderOutput(dataTable, element);\n",
              "          const docLink = document.createElement('div');\n",
              "          docLink.innerHTML = docLinkHtml;\n",
              "          element.appendChild(docLink);\n",
              "        }\n",
              "      </script>\n",
              "    </div>\n",
              "  </div>\n",
              "  "
            ]
          },
          "metadata": {},
          "execution_count": 5
        }
      ]
    },
    {
      "cell_type": "code",
      "source": [
        "df.columns"
      ],
      "metadata": {
        "colab": {
          "base_uri": "https://localhost:8080/"
        },
        "id": "1nFS5CGpq-I2",
        "outputId": "27e24832-9ffd-421b-da5e-3d5199b7cc89"
      },
      "execution_count": 6,
      "outputs": [
        {
          "output_type": "execute_result",
          "data": {
            "text/plain": [
              "Index(['satisfaction_level', 'last_evaluation', 'number_project',\n",
              "       'average_montly_hours', 'time_spend_company', 'Work_accident', 'left',\n",
              "       'promotion_last_5years', 'department', 'salary'],\n",
              "      dtype='object')"
            ]
          },
          "metadata": {},
          "execution_count": 6
        }
      ]
    },
    {
      "cell_type": "code",
      "source": [
        "df.info()"
      ],
      "metadata": {
        "colab": {
          "base_uri": "https://localhost:8080/"
        },
        "id": "yHe7iJdCrPie",
        "outputId": "8841b13c-2bd8-459f-c120-a8d6af2dd210"
      },
      "execution_count": 7,
      "outputs": [
        {
          "output_type": "stream",
          "name": "stdout",
          "text": [
            "<class 'pandas.core.frame.DataFrame'>\n",
            "RangeIndex: 14999 entries, 0 to 14998\n",
            "Data columns (total 10 columns):\n",
            " #   Column                 Non-Null Count  Dtype  \n",
            "---  ------                 --------------  -----  \n",
            " 0   satisfaction_level     14999 non-null  float64\n",
            " 1   last_evaluation        14999 non-null  float64\n",
            " 2   number_project         14999 non-null  int64  \n",
            " 3   average_montly_hours   14999 non-null  int64  \n",
            " 4   time_spend_company     14999 non-null  int64  \n",
            " 5   Work_accident          14999 non-null  int64  \n",
            " 6   left                   14999 non-null  int64  \n",
            " 7   promotion_last_5years  14999 non-null  int64  \n",
            " 8   department             14999 non-null  object \n",
            " 9   salary                 14999 non-null  object \n",
            "dtypes: float64(2), int64(6), object(2)\n",
            "memory usage: 1.1+ MB\n"
          ]
        }
      ]
    },
    {
      "cell_type": "code",
      "source": [
        "df['satisfaction_level'].unique() #수치형 -> 범주형 ?"
      ],
      "metadata": {
        "colab": {
          "base_uri": "https://localhost:8080/"
        },
        "id": "xg8wJO92sQKE",
        "outputId": "f647c9a8-86bb-42d0-c2b5-d89ff169a56d"
      },
      "execution_count": 8,
      "outputs": [
        {
          "output_type": "execute_result",
          "data": {
            "text/plain": [
              "array([0.38, 0.8 , 0.11, 0.72, 0.37, 0.41, 0.1 , 0.92, 0.89, 0.42, 0.45,\n",
              "       0.84, 0.36, 0.78, 0.76, 0.09, 0.46, 0.4 , 0.82, 0.87, 0.57, 0.43,\n",
              "       0.13, 0.44, 0.39, 0.85, 0.81, 0.9 , 0.74, 0.79, 0.17, 0.24, 0.91,\n",
              "       0.71, 0.86, 0.14, 0.75, 0.7 , 0.31, 0.73, 0.83, 0.32, 0.54, 0.27,\n",
              "       0.77, 0.88, 0.48, 0.19, 0.6 , 0.12, 0.61, 0.33, 0.56, 0.47, 0.28,\n",
              "       0.55, 0.53, 0.59, 0.66, 0.25, 0.34, 0.58, 0.51, 0.35, 0.64, 0.5 ,\n",
              "       0.23, 0.15, 0.49, 0.3 , 0.63, 0.21, 0.62, 0.29, 0.2 , 0.16, 0.65,\n",
              "       0.68, 0.67, 0.22, 0.26, 0.99, 0.98, 1.  , 0.52, 0.93, 0.97, 0.69,\n",
              "       0.94, 0.96, 0.18, 0.95])"
            ]
          },
          "metadata": {},
          "execution_count": 8
        }
      ]
    },
    {
      "cell_type": "code",
      "source": [
        "df['last_evaluation'].unique() # 평가점수니까 그대로?"
      ],
      "metadata": {
        "colab": {
          "base_uri": "https://localhost:8080/"
        },
        "id": "loZXk1Dc5_B5",
        "outputId": "544d7589-930c-4215-9ba0-34039d19297a"
      },
      "execution_count": 9,
      "outputs": [
        {
          "output_type": "execute_result",
          "data": {
            "text/plain": [
              "array([0.53, 0.86, 0.88, 0.87, 0.52, 0.5 , 0.77, 0.85, 1.  , 0.54, 0.81,\n",
              "       0.92, 0.55, 0.56, 0.47, 0.99, 0.51, 0.89, 0.83, 0.95, 0.57, 0.49,\n",
              "       0.46, 0.62, 0.94, 0.48, 0.8 , 0.74, 0.7 , 0.78, 0.91, 0.93, 0.98,\n",
              "       0.97, 0.79, 0.59, 0.84, 0.45, 0.96, 0.68, 0.82, 0.9 , 0.71, 0.6 ,\n",
              "       0.65, 0.58, 0.72, 0.67, 0.75, 0.73, 0.63, 0.61, 0.76, 0.66, 0.69,\n",
              "       0.37, 0.64, 0.39, 0.41, 0.43, 0.44, 0.36, 0.38, 0.4 , 0.42])"
            ]
          },
          "metadata": {},
          "execution_count": 9
        }
      ]
    },
    {
      "cell_type": "code",
      "source": [
        "df['number_project'].unique() # 승진관여?"
      ],
      "metadata": {
        "colab": {
          "base_uri": "https://localhost:8080/"
        },
        "id": "IqhJqnGn6GoW",
        "outputId": "e0f485e0-c7c0-461c-e1fe-68c1eb2de399"
      },
      "execution_count": 10,
      "outputs": [
        {
          "output_type": "execute_result",
          "data": {
            "text/plain": [
              "array([2, 5, 7, 6, 4, 3])"
            ]
          },
          "metadata": {},
          "execution_count": 10
        }
      ]
    },
    {
      "cell_type": "code",
      "source": [
        "df['average_montly_hours'].unique() # 수치형 -> 범주형 퇴직관여?"
      ],
      "metadata": {
        "colab": {
          "base_uri": "https://localhost:8080/"
        },
        "id": "Eh1cNdji6Nhw",
        "outputId": "2e18537e-e265-42d2-95f5-08bf230525be"
      },
      "execution_count": 11,
      "outputs": [
        {
          "output_type": "execute_result",
          "data": {
            "text/plain": [
              "array([157, 262, 272, 223, 159, 153, 247, 259, 224, 142, 135, 305, 234,\n",
              "       148, 137, 143, 160, 255, 282, 147, 304, 139, 158, 242, 239, 128,\n",
              "       132, 294, 134, 145, 140, 246, 126, 306, 152, 269, 127, 281, 276,\n",
              "       182, 273, 307, 309, 225, 226, 308, 244, 286, 161, 264, 277, 275,\n",
              "       149, 295, 151, 249, 291, 232, 130, 129, 155, 265, 279, 284, 221,\n",
              "       154, 150, 267, 257, 177, 144, 289, 258, 263, 251, 133, 216, 300,\n",
              "       138, 260, 183, 250, 292, 283, 245, 256, 278, 240, 136, 301, 243,\n",
              "       296, 274, 164, 146, 261, 285, 141, 297, 156, 287, 219, 254, 228,\n",
              "       131, 252, 236, 270, 298, 192, 248, 266, 238, 229, 233, 268, 231,\n",
              "       253, 302, 271, 290, 235, 293, 241, 218, 199, 180, 195, 237, 227,\n",
              "       172, 206, 181, 217, 310, 214, 198, 211, 222, 213, 202, 184, 204,\n",
              "       288, 220, 299, 303, 212, 196, 179, 205, 230, 203, 280, 169, 188,\n",
              "       178, 175, 166, 163, 168, 165, 189, 162, 215, 193, 176, 191, 174,\n",
              "       201, 208, 171, 111, 104, 106, 100, 194, 209, 185, 200, 207, 187,\n",
              "       210, 186, 167, 108, 122, 110, 115, 197, 102, 109, 190,  99, 101,\n",
              "        97, 173, 121, 170, 105, 118, 119, 117, 114,  96,  98, 107, 123,\n",
              "       116, 125, 113, 120, 112, 124, 103])"
            ]
          },
          "metadata": {},
          "execution_count": 11
        }
      ]
    },
    {
      "cell_type": "code",
      "source": [
        "df['time_spend_company'].unique() # 승진관여?"
      ],
      "metadata": {
        "colab": {
          "base_uri": "https://localhost:8080/"
        },
        "id": "EOFCcQ_y6S14",
        "outputId": "683a5fb6-4942-4a33-d742-e2959d434e3f"
      },
      "execution_count": 12,
      "outputs": [
        {
          "output_type": "execute_result",
          "data": {
            "text/plain": [
              "array([ 3,  6,  4,  5,  2,  8, 10,  7])"
            ]
          },
          "metadata": {},
          "execution_count": 12
        }
      ]
    },
    {
      "cell_type": "code",
      "source": [
        "df['Work_accident'].unique() # 0 -> 없음, 1 -> 있음"
      ],
      "metadata": {
        "colab": {
          "base_uri": "https://localhost:8080/"
        },
        "id": "fEFSGHzp6ZIe",
        "outputId": "988139c4-19c3-4a49-ce9d-949710365245"
      },
      "execution_count": 13,
      "outputs": [
        {
          "output_type": "execute_result",
          "data": {
            "text/plain": [
              "array([0, 1])"
            ]
          },
          "metadata": {},
          "execution_count": 13
        }
      ]
    },
    {
      "cell_type": "code",
      "source": [
        "df['left'].unique() # 0 -> 재직, 1 -> 퇴직"
      ],
      "metadata": {
        "colab": {
          "base_uri": "https://localhost:8080/"
        },
        "id": "WmzNDwKG6h1x",
        "outputId": "9a2c6384-9c59-4610-aaad-fc1ca3cb9525"
      },
      "execution_count": 14,
      "outputs": [
        {
          "output_type": "execute_result",
          "data": {
            "text/plain": [
              "array([1, 0])"
            ]
          },
          "metadata": {},
          "execution_count": 14
        }
      ]
    },
    {
      "cell_type": "code",
      "source": [
        "df['promotion_last_5years'].unique() # 0 -> 승진못함, 1 -> 승진"
      ],
      "metadata": {
        "colab": {
          "base_uri": "https://localhost:8080/"
        },
        "id": "WJ7pV7_76q4r",
        "outputId": "dc2419c6-dccb-44b0-937a-e2f20f78ccbf"
      },
      "execution_count": 15,
      "outputs": [
        {
          "output_type": "execute_result",
          "data": {
            "text/plain": [
              "array([0, 1])"
            ]
          },
          "metadata": {},
          "execution_count": 15
        }
      ]
    },
    {
      "cell_type": "code",
      "source": [
        "df['department'].unique()"
      ],
      "metadata": {
        "colab": {
          "base_uri": "https://localhost:8080/"
        },
        "id": "7HwtfkNq6uLn",
        "outputId": "f0d51109-0344-4403-d3c9-00d34eff1e72"
      },
      "execution_count": 16,
      "outputs": [
        {
          "output_type": "execute_result",
          "data": {
            "text/plain": [
              "array(['sales', 'accounting', 'hr', 'technical', 'support', 'management',\n",
              "       'IT', 'product_mng', 'marketing', 'RandD'], dtype=object)"
            ]
          },
          "metadata": {},
          "execution_count": 16
        }
      ]
    },
    {
      "cell_type": "code",
      "source": [
        "df['salary'].unique() # 퇴직관여?"
      ],
      "metadata": {
        "colab": {
          "base_uri": "https://localhost:8080/"
        },
        "id": "Grz3YdCP61De",
        "outputId": "8a5e9866-30a3-42cc-8455-16cd808971c2"
      },
      "execution_count": 17,
      "outputs": [
        {
          "output_type": "execute_result",
          "data": {
            "text/plain": [
              "array(['low', 'medium', 'high'], dtype=object)"
            ]
          },
          "metadata": {},
          "execution_count": 17
        }
      ]
    },
    {
      "cell_type": "code",
      "source": [
        "df['Work_accident'] = df['Work_accident'].astype(str)\n",
        "df['promotion_last_5years'] = df['promotion_last_5years'].astype(str)"
      ],
      "metadata": {
        "id": "fBWN0cjUhPhd"
      },
      "execution_count": 18,
      "outputs": []
    },
    {
      "cell_type": "code",
      "source": [
        "df.shape"
      ],
      "metadata": {
        "colab": {
          "base_uri": "https://localhost:8080/"
        },
        "id": "zh_9wr9VUyUz",
        "outputId": "fb06f43f-eaaa-4b25-eaa2-404ceac504a3"
      },
      "execution_count": 19,
      "outputs": [
        {
          "output_type": "execute_result",
          "data": {
            "text/plain": [
              "(14999, 10)"
            ]
          },
          "metadata": {},
          "execution_count": 19
        }
      ]
    },
    {
      "cell_type": "code",
      "source": [
        "# 중복되는 값이 있는 확인합니다.\n",
        "df.duplicated().sum()"
      ],
      "metadata": {
        "colab": {
          "base_uri": "https://localhost:8080/"
        },
        "id": "aK7vkmgBZDZG",
        "outputId": "d5682731-1fba-4656-c510-1d787d410d2c"
      },
      "execution_count": 20,
      "outputs": [
        {
          "output_type": "execute_result",
          "data": {
            "text/plain": [
              "3008"
            ]
          },
          "metadata": {},
          "execution_count": 20
        }
      ]
    },
    {
      "cell_type": "code",
      "source": [
        "print(\"중복된 데이터의 비율\", df.duplicated().sum()/len(df))"
      ],
      "metadata": {
        "colab": {
          "base_uri": "https://localhost:8080/"
        },
        "id": "DkZeqmW-nozX",
        "outputId": "f80558b7-0dfd-4d9d-9eb8-31b93bbee942"
      },
      "execution_count": 21,
      "outputs": [
        {
          "output_type": "stream",
          "name": "stdout",
          "text": [
            "중복된 데이터의 비율 0.2005467031135409\n"
          ]
        }
      ]
    },
    {
      "cell_type": "code",
      "source": [
        "# 결측치를 확인합니다.\n",
        "df.isnull().sum()"
      ],
      "metadata": {
        "colab": {
          "base_uri": "https://localhost:8080/"
        },
        "id": "accGEviPZHiM",
        "outputId": "cc182411-9b18-4253-e1fc-71e2c7fce2dd"
      },
      "execution_count": 22,
      "outputs": [
        {
          "output_type": "execute_result",
          "data": {
            "text/plain": [
              "satisfaction_level       0\n",
              "last_evaluation          0\n",
              "number_project           0\n",
              "average_montly_hours     0\n",
              "time_spend_company       0\n",
              "Work_accident            0\n",
              "left                     0\n",
              "promotion_last_5years    0\n",
              "department               0\n",
              "salary                   0\n",
              "dtype: int64"
            ]
          },
          "metadata": {},
          "execution_count": 22
        }
      ]
    },
    {
      "cell_type": "code",
      "source": [
        "# 고유한 값이 너무 많은 컬럼이 있는지 확인\n",
        "df.nunique()/len(df)"
      ],
      "metadata": {
        "colab": {
          "base_uri": "https://localhost:8080/"
        },
        "id": "hq-DjaOwZrfl",
        "outputId": "973c7b66-8762-4d88-d419-e49c38b98b98"
      },
      "execution_count": 23,
      "outputs": [
        {
          "output_type": "execute_result",
          "data": {
            "text/plain": [
              "satisfaction_level       0.006134\n",
              "last_evaluation          0.004334\n",
              "number_project           0.000400\n",
              "average_montly_hours     0.014334\n",
              "time_spend_company       0.000533\n",
              "Work_accident            0.000133\n",
              "left                     0.000133\n",
              "promotion_last_5years    0.000133\n",
              "department               0.000667\n",
              "salary                   0.000200\n",
              "dtype: float64"
            ]
          },
          "metadata": {},
          "execution_count": 23
        }
      ]
    },
    {
      "cell_type": "code",
      "source": [
        "import matplotlib.pyplot as plt\n",
        "import seaborn as sns"
      ],
      "metadata": {
        "id": "ZBG7GSracD2m"
      },
      "execution_count": 5,
      "outputs": []
    },
    {
      "cell_type": "code",
      "source": [
        "# 수치형 컬럼과 타겟간의 상관관계를 확인\n",
        "# target = promotion_last_5years\n",
        "df.corr()['promotion_last_5years'].sort_values(ascending=False).head(10)"
      ],
      "metadata": {
        "colab": {
          "base_uri": "https://localhost:8080/"
        },
        "id": "KpXyx_Q3a_Lm",
        "outputId": "c64b5623-be44-4a5e-e770-043b7b94db73"
      },
      "execution_count": 6,
      "outputs": [
        {
          "output_type": "execute_result",
          "data": {
            "text/plain": [
              "promotion_last_5years    1.000000\n",
              "time_spend_company       0.067433\n",
              "Work_accident            0.039245\n",
              "satisfaction_level       0.025605\n",
              "average_montly_hours    -0.003544\n",
              "number_project          -0.006064\n",
              "last_evaluation         -0.008684\n",
              "left                    -0.061788\n",
              "Name: promotion_last_5years, dtype: float64"
            ]
          },
          "metadata": {},
          "execution_count": 6
        }
      ]
    },
    {
      "cell_type": "code",
      "source": [
        "corr_matrix = df.corr()\n",
        "plt.figure(figsize = (10,5))\n",
        "sns.heatmap(corr_matrix, annot=True, linewidths=.5)\n",
        "plt.show()"
      ],
      "metadata": {
        "colab": {
          "base_uri": "https://localhost:8080/",
          "height": 427
        },
        "id": "EIGpUFLec4ba",
        "outputId": "be7cbb50-4429-45d2-cae9-69115fd8db81"
      },
      "execution_count": 7,
      "outputs": [
        {
          "output_type": "display_data",
          "data": {
            "text/plain": [
              "<Figure size 720x360 with 2 Axes>"
            ],
            "image/png": "[encoded data removed]"
          },
          "metadata": {
            "needs_background": "light"
          }
        }
      ]
    },
    {
      "cell_type": "code",
      "source": [
        "# 상관관계 높은 피쳐 : number_project, average_monthly_hours, last_evaluation"
      ],
      "metadata": {
        "id": "zchIFaSBj-u4"
      },
      "execution_count": null,
      "outputs": []
    },
    {
      "cell_type": "code",
      "source": [
        "df['left'].value_counts()"
      ],
      "metadata": {
        "colab": {
          "base_uri": "https://localhost:8080/"
        },
        "id": "mOS7be9Ykiy-",
        "outputId": "41afd1c5-d841-4f8a-9565-72dbf0abe0db"
      },
      "execution_count": 27,
      "outputs": [
        {
          "output_type": "execute_result",
          "data": {
            "text/plain": [
              "0    11428\n",
              "1     3571\n",
              "Name: left, dtype: int64"
            ]
          },
          "metadata": {},
          "execution_count": 27
        }
      ]
    },
    {
      "cell_type": "code",
      "source": [
        "df['left'].value_counts() / len(df) * 100"
      ],
      "metadata": {
        "colab": {
          "base_uri": "https://localhost:8080/"
        },
        "id": "8N_E8nfzk2cR",
        "outputId": "bed47ff5-95ef-49eb-e679-4e4a51150c31"
      },
      "execution_count": 28,
      "outputs": [
        {
          "output_type": "execute_result",
          "data": {
            "text/plain": [
              "0    76.191746\n",
              "1    23.808254\n",
              "Name: left, dtype: float64"
            ]
          },
          "metadata": {},
          "execution_count": 28
        }
      ]
    },
    {
      "cell_type": "code",
      "source": [
        "# 타겟 데이터 범주의 비율을 확인\n",
        "y =  df['promotion_last_5years']\n",
        "print(\"타겟데이터의 비율\\n\",y.value_counts(normalize=True))\n",
        "\n",
        "\n",
        "%matplotlib inline\n",
        "sns.countplot(x=y);"
      ],
      "metadata": {
        "colab": {
          "base_uri": "https://localhost:8080/",
          "height": 351
        },
        "id": "aJp0HXiFmuFG",
        "outputId": "23cf4e55-10cc-4ae2-e771-ca843e86d630"
      },
      "execution_count": 8,
      "outputs": [
        {
          "output_type": "stream",
          "name": "stdout",
          "text": [
            "타겟데이터의 비율\n",
            " 0    0.978732\n",
            "1    0.021268\n",
            "Name: promotion_last_5years, dtype: float64\n"
          ]
        },
        {
          "output_type": "display_data",
          "data": {
            "text/plain": [
              "<Figure size 432x288 with 1 Axes>"
            ],
            "image/png": "[encoded data removed]"
          },
          "metadata": {
            "needs_background": "light"
          }
        }
      ]
    },
    {
      "cell_type": "code",
      "source": [
        "# 승진한 사람들의 평가점수가 승진 못한 사람들보다 높다?"
      ],
      "metadata": {
        "id": "-rBU7dfvZs4p"
      },
      "execution_count": null,
      "outputs": []
    },
    {
      "cell_type": "code",
      "source": [
        "np.random.seed(10)\n",
        "\n",
        "pro_means, nonpro_means, diff_means = [], [], []\n",
        "\n",
        "for _ in range(10000):\n",
        "  sample = df.sample(df.shape[0], replace=True)\n",
        "  \n",
        "  pro_mean = sample[sample['promotion_last_5years'] == 1]['last_evaluation'].mean()\n",
        "  pro_means.append(pro_mean)\n",
        "\n",
        "  nonpro_mean = sample[sample['promotion_last_5years'] == 0]['last_evaluation'].mean()\n",
        "  nonpro_means.append(nonpro_mean)\n",
        "\n",
        "  diff_means.append(pro_mean - nonpro_mean)"
      ],
      "metadata": {
        "id": "PnDwqmuYX2np"
      },
      "execution_count": 9,
      "outputs": []
    },
    {
      "cell_type": "code",
      "source": [
        "plt.figure(figsize=(8,5))\n",
        "plt.hist(pro_means, alpha = 0.5, label='pro')\n",
        "plt.hist(nonpro_means, alpha = 0.5, label = 'no pro')\n",
        "plt.legend(loc=9, fontsize=13)\n",
        "plt.show()"
      ],
      "metadata": {
        "colab": {
          "base_uri": "https://localhost:8080/",
          "height": 320
        },
        "id": "Nso8_2Zva_7R",
        "outputId": "175fd2a7-f1e6-4368-f315-19933743af18"
      },
      "execution_count": 10,
      "outputs": [
        {
          "output_type": "display_data",
          "data": {
            "text/plain": [
              "<Figure size 576x360 with 1 Axes>"
            ],
            "image/png": "[encoded data removed]"
          },
          "metadata": {
            "needs_background": "light"
          }
        }
      ]
    },
    {
      "cell_type": "code",
      "source": [
        "plt.figure(figsize=(8,5))\n",
        "plt.hist(diff_means, alpha=0.5, label = 'Difference in Means')\n",
        "plt.axvline(0, c='r')\n",
        "plt.legend(loc=9, fontsize=13);"
      ],
      "metadata": {
        "colab": {
          "base_uri": "https://localhost:8080/",
          "height": 320
        },
        "id": "_ai7uPhqbSvp",
        "outputId": "6068a5a3-b7d5-46d8-d661-fae37f7d92e6"
      },
      "execution_count": 11,
      "outputs": [
        {
          "output_type": "display_data",
          "data": {
            "text/plain": [
              "<Figure size 576x360 with 1 Axes>"
            ],
            "image/png": "[encoded data removed]"
          },
          "metadata": {
            "needs_background": "light"
          }
        }
      ]
    },
    {
      "cell_type": "code",
      "source": [
        "# 귀무가설 : pro - nonpro <= 0 -> 둘의 차이를 나타내는 분포는 0을 나타내는 빨간선 기준으로 왼쪽이 더 많음 (기각불가)\n",
        "# 대립가설 : pro - nonpro > 0 -> 승진한 사람들의 평가점수가 승진못한 사람들의 평가점수보다 낮다 (채택불가)"
      ],
      "metadata": {
        "id": "-A32Bc0Xenc6"
      },
      "execution_count": null,
      "outputs": []
    },
    {
      "cell_type": "code",
      "source": [
        "sample_diff_mean = df[df['promotion_last_5years'] == 1]['last_evaluation'].mean() - df[df['promotion_last_5years'] == 0]['last_evaluation'].mean()\n",
        "sample_diff_mean"
      ],
      "metadata": {
        "colab": {
          "base_uri": "https://localhost:8080/"
        },
        "id": "3FlqwNJR4j8L",
        "outputId": "5d717ddb-0f66-4b02-fdec-068d105a26ce"
      },
      "execution_count": 12,
      "outputs": [
        {
          "output_type": "execute_result",
          "data": {
            "text/plain": [
              "-0.010302035909218965"
            ]
          },
          "metadata": {},
          "execution_count": 12
        }
      ]
    },
    {
      "cell_type": "code",
      "source": [
        "sample_diff_std = np.std(diff_means)\n",
        "sample_diff_std"
      ],
      "metadata": {
        "colab": {
          "base_uri": "https://localhost:8080/"
        },
        "id": "_kqwdVuw4-cV",
        "outputId": "6ac70405-e7c0-4ea5-ef6e-c8bfc1f8f0a4"
      },
      "execution_count": 13,
      "outputs": [
        {
          "output_type": "execute_result",
          "data": {
            "text/plain": [
              "0.00965130397710262"
            ]
          },
          "metadata": {},
          "execution_count": 13
        }
      ]
    },
    {
      "cell_type": "code",
      "source": [
        "plt.figure(figsize=(8,5))\n",
        "null_vals = np.random.normal(0, sample_diff_std, 1000) # diff_means는 두 분포의 차이의 표본 분포입니다.\n",
        "plt.hist(null_vals, alpha=0.5, label='null hypothesis')\n",
        "plt.axvline(sample_diff_mean, color='r', label='statistics')\n",
        "plt.legend(loc=9, fontsize=13)\n",
        "plt.show()"
      ],
      "metadata": {
        "colab": {
          "base_uri": "https://localhost:8080/",
          "height": 323
        },
        "id": "r4oyyxaT5B9W",
        "outputId": "c984836e-c1fc-4478-b24f-d75bd13be371"
      },
      "execution_count": 14,
      "outputs": [
        {
          "output_type": "display_data",
          "data": {
            "text/plain": [
              "<Figure size 576x360 with 1 Axes>"
            ],
            "image/png": "[encoded data removed]"
          },
          "metadata": {
            "needs_background": "light"
          }
        }
      ]
    },
    {
      "cell_type": "code",
      "source": [
        "# p-value 확인\n",
        "(null_vals < sample_diff_mean).mean()"
      ],
      "metadata": {
        "colab": {
          "base_uri": "https://localhost:8080/"
        },
        "id": "BYamZo7e7YYx",
        "outputId": "b77ba871-2f65-46b7-c0d5-f43d93f9bcf5"
      },
      "execution_count": 16,
      "outputs": [
        {
          "output_type": "execute_result",
          "data": {
            "text/plain": [
              "0.14"
            ]
          },
          "metadata": {},
          "execution_count": 16
        }
      ]
    },
    {
      "cell_type": "code",
      "source": [
        "# 이 평균 평가점수 차이가 귀무 분포의 왼쪽에 존재함을 알 수 있습니다. 기각역은 0.05보다 작아야 기각이 가능하지만 그래프상에서도 0.05보다 더 큰 면적으로 보이고 있으므로 기각 불가\n",
        "# p-value가 0.14로 0.05보다 크기 때문에 귀무 가설을 기각할 수 없고 대립 가설을 채택할 수 없다."
      ],
      "metadata": {
        "id": "nNTTK0KL6paa"
      },
      "execution_count": null,
      "outputs": []
    },
    {
      "cell_type": "code",
      "source": [
        "# 승진한 사람들의 플젝수가 승진 못한 사람들보다 많다?"
      ],
      "metadata": {
        "id": "A7tkH5jY3O1-"
      },
      "execution_count": null,
      "outputs": []
    },
    {
      "cell_type": "code",
      "source": [
        "np.random.seed(10)\n",
        "\n",
        "pro_means, nonpro_means, diff_means = [], [], []\n",
        "\n",
        "for _ in range(10000):\n",
        "  sample = df.sample(df.shape[0], replace=True)\n",
        "  \n",
        "  pro_mean = sample[sample['promotion_last_5years'] == 1]['number_project'].mean()\n",
        "  pro_means.append(pro_mean)\n",
        "\n",
        "  nonpro_mean = sample[sample['promotion_last_5years'] == 0]['number_project'].mean()\n",
        "  nonpro_means.append(nonpro_mean)\n",
        "\n",
        "  diff_means.append(pro_mean - nonpro_mean)"
      ],
      "metadata": {
        "id": "Ss-EH6Qr3asB"
      },
      "execution_count": 17,
      "outputs": []
    },
    {
      "cell_type": "code",
      "source": [
        "plt.figure(figsize=(8,5))\n",
        "plt.hist(pro_means, alpha = 0.5, label='pro')\n",
        "plt.hist(nonpro_means, alpha = 0.5, label = 'no pro')\n",
        "plt.legend(loc=9, fontsize=13)\n",
        "plt.show()"
      ],
      "metadata": {
        "colab": {
          "base_uri": "https://localhost:8080/",
          "height": 320
        },
        "id": "TChzcYIp4RFf",
        "outputId": "d0e940a5-0686-4bf6-f1cd-9c49b703121c"
      },
      "execution_count": 18,
      "outputs": [
        {
          "output_type": "display_data",
          "data": {
            "text/plain": [
              "<Figure size 576x360 with 1 Axes>"
            ],
            "image/png": "[encoded data removed]"
          },
          "metadata": {
            "needs_background": "light"
          }
        }
      ]
    },
    {
      "cell_type": "code",
      "source": [
        "plt.figure(figsize=(8,5))\n",
        "plt.hist(diff_means, alpha=0.5, label = 'Difference in Means')\n",
        "plt.axvline(0, c='r')\n",
        "plt.legend(loc=9, fontsize=13);"
      ],
      "metadata": {
        "colab": {
          "base_uri": "https://localhost:8080/",
          "height": 320
        },
        "id": "tesySpRT4UiV",
        "outputId": "c0f3b383-a409-49d1-8818-a9feabbdc7c7"
      },
      "execution_count": 19,
      "outputs": [
        {
          "output_type": "display_data",
          "data": {
            "text/plain": [
              "<Figure size 576x360 with 1 Axes>"
            ],
            "image/png": "[encoded data removed]"
          },
          "metadata": {
            "needs_background": "light"
          }
        }
      ]
    },
    {
      "cell_type": "code",
      "source": [
        "# 귀무가설 : pro - nonpro <= 0 -> 둘의 차이를 나타내는 분포는 0을 나타내는 빨간선 기준으로 왼쪽이 더 많음(기각불가)\n",
        "# 대립가설 : pro - nonpro > 0 -> 승진한 사람들의 평균 프로젝트수가 승진못한 사람들의 평균 프로젝트수보다 많다 (채택불가)"
      ],
      "metadata": {
        "id": "3xnKZlaE9YAO"
      },
      "execution_count": null,
      "outputs": []
    },
    {
      "cell_type": "code",
      "source": [
        "sample_diff_mean = df[df['promotion_last_5years'] == 1]['number_project'].mean() - df[df['promotion_last_5years'] == 0]['number_project'].mean()\n",
        "sample_diff_mean"
      ],
      "metadata": {
        "colab": {
          "base_uri": "https://localhost:8080/"
        },
        "id": "mAky_9aTDopJ",
        "outputId": "4f8ca5df-a8ca-47fa-f156-f23c919e3f1b"
      },
      "execution_count": 20,
      "outputs": [
        {
          "output_type": "execute_result",
          "data": {
            "text/plain": [
              "-0.05180421617281539"
            ]
          },
          "metadata": {},
          "execution_count": 20
        }
      ]
    },
    {
      "cell_type": "code",
      "source": [
        "sample_diff_std = np.std(diff_means)\n",
        "sample_diff_std"
      ],
      "metadata": {
        "colab": {
          "base_uri": "https://localhost:8080/"
        },
        "id": "kt4tAqQbD1Dq",
        "outputId": "36d7bdea-39d7-41fc-c05c-764cd7130772"
      },
      "execution_count": 21,
      "outputs": [
        {
          "output_type": "execute_result",
          "data": {
            "text/plain": [
              "0.06037429538224993"
            ]
          },
          "metadata": {},
          "execution_count": 21
        }
      ]
    },
    {
      "cell_type": "code",
      "source": [
        "plt.figure(figsize=(8,5))\n",
        "null_vals = np.random.normal(0, sample_diff_std, 1000) # diff_means는 두 분포의 차이의 표본 분포입니다.\n",
        "plt.hist(null_vals, alpha=0.5, label='null hypothesis')\n",
        "plt.axvline(sample_diff_mean, color='r', label='statistics')\n",
        "plt.legend(loc=9, fontsize=13)\n",
        "plt.show()"
      ],
      "metadata": {
        "colab": {
          "base_uri": "https://localhost:8080/",
          "height": 323
        },
        "id": "wTfE6Sd8D4vm",
        "outputId": "98275f91-74f2-4240-a190-ca497b639640"
      },
      "execution_count": 22,
      "outputs": [
        {
          "output_type": "display_data",
          "data": {
            "text/plain": [
              "<Figure size 576x360 with 1 Axes>"
            ],
            "image/png": "[encoded data removed]"
          },
          "metadata": {
            "needs_background": "light"
          }
        }
      ]
    },
    {
      "cell_type": "code",
      "source": [
        "# p-value 확인\n",
        "(null_vals < sample_diff_mean).mean()"
      ],
      "metadata": {
        "colab": {
          "base_uri": "https://localhost:8080/"
        },
        "id": "FIPXW6CBD8Rb",
        "outputId": "e478955a-7d77-414c-9930-8af9287c081d"
      },
      "execution_count": 24,
      "outputs": [
        {
          "output_type": "execute_result",
          "data": {
            "text/plain": [
              "0.207"
            ]
          },
          "metadata": {},
          "execution_count": 24
        }
      ]
    },
    {
      "cell_type": "code",
      "source": [
        "# 이 평균 평가점수 차이가 귀무 분포의 왼쪽에 존재함을 알 수 있습니다. 기각역은 0.05보다 작아야 기각이 가능.\n",
        "# p-value가 0.207으로 0.05보다 작기 때문에 귀무 가설을 안전하게 기각하고 대립 가설을 채택할 수 있다."
      ],
      "metadata": {
        "id": "P4z_iY0ID_XD"
      },
      "execution_count": null,
      "outputs": []
    },
    {
      "cell_type": "code",
      "source": [
        "# 승진한 사람들의 평균 근무시간이 승진 못한 사람들보다 많다?"
      ],
      "metadata": {
        "id": "Yfluj5H4EMQ0"
      },
      "execution_count": null,
      "outputs": []
    },
    {
      "cell_type": "code",
      "source": [
        "np.random.seed(10)\n",
        "\n",
        "pro_means, nonpro_means, diff_means = [], [], []\n",
        "\n",
        "for _ in range(10000):\n",
        "  sample = df.sample(df.shape[0], replace=True)\n",
        "  \n",
        "  pro_mean = sample[sample['promotion_last_5years'] == 1]['average_montly_hours'].mean()\n",
        "  pro_means.append(pro_mean)\n",
        "\n",
        "  nonpro_mean = sample[sample['promotion_last_5years'] == 0]['average_montly_hours'].mean()\n",
        "  nonpro_means.append(nonpro_mean)\n",
        "\n",
        "  diff_means.append(pro_mean - nonpro_mean)"
      ],
      "metadata": {
        "id": "3sNaoT_oLda0"
      },
      "execution_count": 25,
      "outputs": []
    },
    {
      "cell_type": "code",
      "source": [
        "plt.figure(figsize=(8,5))\n",
        "plt.hist(pro_means, alpha = 0.5, label='pro')\n",
        "plt.hist(nonpro_means, alpha = 0.5, label = 'no pro')\n",
        "plt.legend(loc=9, fontsize=13)\n",
        "plt.show()"
      ],
      "metadata": {
        "colab": {
          "base_uri": "https://localhost:8080/",
          "height": 320
        },
        "id": "4gA9IYPPMWbA",
        "outputId": "8e7639b6-7b64-4ec1-8b43-07c196da06c6"
      },
      "execution_count": 26,
      "outputs": [
        {
          "output_type": "display_data",
          "data": {
            "text/plain": [
              "<Figure size 576x360 with 1 Axes>"
            ],
            "image/png": "[encoded data removed]"
          },
          "metadata": {
            "needs_background": "light"
          }
        }
      ]
    },
    {
      "cell_type": "code",
      "source": [
        "plt.figure(figsize=(8,5))\n",
        "plt.hist(diff_means, alpha=0.5, label = 'Difference in Means')\n",
        "plt.axvline(0, c='r')\n",
        "plt.legend(loc=9, fontsize=13);"
      ],
      "metadata": {
        "colab": {
          "base_uri": "https://localhost:8080/",
          "height": 320
        },
        "id": "B5Ut90bHMbSc",
        "outputId": "adc5ec2e-479b-4ae5-84a5-441abfcfa920"
      },
      "execution_count": 27,
      "outputs": [
        {
          "output_type": "display_data",
          "data": {
            "text/plain": [
              "<Figure size 576x360 with 1 Axes>"
            ],
            "image/png": "[encoded data removed]"
          },
          "metadata": {
            "needs_background": "light"
          }
        }
      ]
    },
    {
      "cell_type": "code",
      "source": [
        "# 귀무가설 : pro - nonpro <= 0 -> 둘의 차이를 나타내는 분포는 0을 나타내는 빨간선 기준으로 왼쪽이 더 많음(기각불가)\n",
        "# 대립가설 : pro - nonpro > 0 -> 승진한 사람들의 평균 프로젝트수가 승진못한 사람들의 평균 프로젝트수보다 많다 (채택불가)"
      ],
      "metadata": {
        "id": "WZ_GkAwiMffv"
      },
      "execution_count": null,
      "outputs": []
    },
    {
      "cell_type": "code",
      "source": [
        "sample_diff_mean = df[df['promotion_last_5years'] == 1]['average_montly_hours'].mean() - df[df['promotion_last_5years'] == 0]['average_montly_hours'].mean()\n",
        "sample_diff_mean"
      ],
      "metadata": {
        "colab": {
          "base_uri": "https://localhost:8080/"
        },
        "id": "lHpMJorgM7xG",
        "outputId": "a25514fc-db64-495c-f15e-13fe1f4e58a7"
      },
      "execution_count": 28,
      "outputs": [
        {
          "output_type": "execute_result",
          "data": {
            "text/plain": [
              "-1.2269007371469058"
            ]
          },
          "metadata": {},
          "execution_count": 28
        }
      ]
    },
    {
      "cell_type": "code",
      "source": [
        "sample_diff_std = np.std(diff_means)\n",
        "sample_diff_std"
      ],
      "metadata": {
        "colab": {
          "base_uri": "https://localhost:8080/"
        },
        "id": "dEMkOXsxNF61",
        "outputId": "b5790a73-7b52-427b-d088-c0e9aee304b1"
      },
      "execution_count": 29,
      "outputs": [
        {
          "output_type": "execute_result",
          "data": {
            "text/plain": [
              "2.737292364254533"
            ]
          },
          "metadata": {},
          "execution_count": 29
        }
      ]
    },
    {
      "cell_type": "code",
      "source": [
        "plt.figure(figsize=(8,5))\n",
        "null_vals = np.random.normal(0, sample_diff_std, 1000) # diff_means는 두 분포의 차이의 표본 분포입니다.\n",
        "plt.hist(null_vals, alpha=0.5, label='null hypothesis')\n",
        "plt.axvline(sample_diff_mean, color='r', label='statistics')\n",
        "plt.legend(loc=9, fontsize=13)\n",
        "plt.show()"
      ],
      "metadata": {
        "colab": {
          "base_uri": "https://localhost:8080/",
          "height": 323
        },
        "id": "f4nLl-scNJHh",
        "outputId": "31dc981f-27e1-4ba7-c9ff-9fb197fc6658"
      },
      "execution_count": 30,
      "outputs": [
        {
          "output_type": "display_data",
          "data": {
            "text/plain": [
              "<Figure size 576x360 with 1 Axes>"
            ],
            "image/png": "[encoded data removed]"
          },
          "metadata": {
            "needs_background": "light"
          }
        }
      ]
    },
    {
      "cell_type": "code",
      "source": [
        "# p-value 확인\n",
        "(null_vals < sample_diff_mean).mean()"
      ],
      "metadata": {
        "colab": {
          "base_uri": "https://localhost:8080/"
        },
        "id": "pkqnIuDcNNXY",
        "outputId": "7cebdd90-00b0-4a9f-c369-ea125a40610d"
      },
      "execution_count": 32,
      "outputs": [
        {
          "output_type": "execute_result",
          "data": {
            "text/plain": [
              "0.342"
            ]
          },
          "metadata": {},
          "execution_count": 32
        }
      ]
    },
    {
      "cell_type": "code",
      "source": [
        "# 이 평균 평가점수 차이가 귀무 분포의 오른쪽에 존재함을 알 수 있습니다. 기각역은 0.05보다 작아야 기각이 가능한데 오른쪽에 존재하는 분포가 0.05보다 작아보임?\n",
        "# p-value가 0.342으로 0.05보다 작기 때문에 귀무 가설을 안전하게 기각하고 대립 가설을 채택할 수 있다."
      ],
      "metadata": {
        "id": "2-27qz6XNT2P"
      },
      "execution_count": null,
      "outputs": []
    },
    {
      "cell_type": "code",
      "source": [
        "# 승진한 사람들의 근속년수가 승진 못한 사람들보다 많다?"
      ],
      "metadata": {
        "id": "HXL9UFSfOHge"
      },
      "execution_count": null,
      "outputs": []
    },
    {
      "cell_type": "code",
      "source": [
        "np.random.seed(10)\n",
        "\n",
        "pro_means, nonpro_means, diff_means = [], [], []\n",
        "\n",
        "for _ in range(10000):\n",
        "  sample = df.sample(df.shape[0], replace=True)\n",
        "  \n",
        "  pro_mean = sample[sample['promotion_last_5years'] == 1]['time_spend_company'].mean()\n",
        "  pro_means.append(pro_mean)\n",
        "\n",
        "  nonpro_mean = sample[sample['promotion_last_5years'] == 0]['time_spend_company'].mean()\n",
        "  nonpro_means.append(nonpro_mean)\n",
        "\n",
        "  diff_means.append(pro_mean - nonpro_mean)"
      ],
      "metadata": {
        "id": "e72RBWNvOQTw"
      },
      "execution_count": 33,
      "outputs": []
    },
    {
      "cell_type": "code",
      "source": [
        "plt.figure(figsize=(8,5))\n",
        "plt.hist(pro_means, alpha = 0.5, label='pro')\n",
        "plt.hist(nonpro_means, alpha = 0.5, label = 'no pro')\n",
        "plt.legend(loc=9, fontsize=13)\n",
        "plt.show()"
      ],
      "metadata": {
        "colab": {
          "base_uri": "https://localhost:8080/",
          "height": 320
        },
        "id": "Jqzq0b63Oczg",
        "outputId": "6d8cee14-e8fc-4736-f463-47650b636d38"
      },
      "execution_count": 34,
      "outputs": [
        {
          "output_type": "display_data",
          "data": {
            "text/plain": [
              "<Figure size 576x360 with 1 Axes>"
            ],
            "image/png": "[encoded data removed]"
          },
          "metadata": {
            "needs_background": "light"
          }
        }
      ]
    },
    {
      "cell_type": "code",
      "source": [
        "plt.figure(figsize=(8,5))\n",
        "plt.hist(diff_means, alpha=0.5, label = 'Difference in Means')\n",
        "plt.axvline(0, c='r')\n",
        "plt.legend(loc=9, fontsize=13);"
      ],
      "metadata": {
        "colab": {
          "base_uri": "https://localhost:8080/",
          "height": 320
        },
        "id": "5T90CY1OOguA",
        "outputId": "9afd2805-1ed8-4409-8a34-c2bf690cf18d"
      },
      "execution_count": 35,
      "outputs": [
        {
          "output_type": "display_data",
          "data": {
            "text/plain": [
              "<Figure size 576x360 with 1 Axes>"
            ],
            "image/png": "[encoded data removed]"
          },
          "metadata": {
            "needs_background": "light"
          }
        }
      ]
    },
    {
      "cell_type": "code",
      "source": [
        "# 귀무가설 : pro - nonpro <= 0 -> 둘의 차이를 나타내는 분포는 0을 나타내는 빨간선 기준으로 오른쪽에 위치(기각)\n",
        "# 대립가설 : pro - nonpro > 0 -> 승진한 사람들의 평균 근속년수가 승진못한 사람들의 평균 근속년수보다 많다 (채택)"
      ],
      "metadata": {
        "id": "0xpFkQyMOjod"
      },
      "execution_count": null,
      "outputs": []
    },
    {
      "cell_type": "code",
      "source": [
        "sample_diff_mean = df[df['promotion_last_5years'] == 1]['time_spend_company'].mean() - df[df['promotion_last_5years'] == 0]['time_spend_company'].mean()\n",
        "sample_diff_mean"
      ],
      "metadata": {
        "colab": {
          "base_uri": "https://localhost:8080/"
        },
        "id": "cZdgqZwXO2Y_",
        "outputId": "b6a5537b-9ca0-4b8b-c79b-a7aa76fc713f"
      },
      "execution_count": 36,
      "outputs": [
        {
          "output_type": "execute_result",
          "data": {
            "text/plain": [
              "0.682424854577913"
            ]
          },
          "metadata": {},
          "execution_count": 36
        }
      ]
    },
    {
      "cell_type": "code",
      "source": [
        "sample_diff_std = np.std(diff_means)\n",
        "sample_diff_std"
      ],
      "metadata": {
        "colab": {
          "base_uri": "https://localhost:8080/"
        },
        "id": "bdwWDYzDO_sj",
        "outputId": "c31465b3-6e67-4993-ee4d-a82a844044ce"
      },
      "execution_count": 37,
      "outputs": [
        {
          "output_type": "execute_result",
          "data": {
            "text/plain": [
              "0.12245958651824032"
            ]
          },
          "metadata": {},
          "execution_count": 37
        }
      ]
    },
    {
      "cell_type": "code",
      "source": [
        "plt.figure(figsize=(8,5))\n",
        "null_vals = np.random.normal(0, sample_diff_std, 1000) # diff_means는 두 분포의 차이의 표본 분포입니다.\n",
        "plt.hist(null_vals, alpha=0.5, label='null hypothesis')\n",
        "plt.axvline(sample_diff_mean, color='r', label='statistics')\n",
        "plt.legend(loc=9, fontsize=13)\n",
        "plt.show()"
      ],
      "metadata": {
        "colab": {
          "base_uri": "https://localhost:8080/",
          "height": 323
        },
        "id": "DJCdQf7QPCgf",
        "outputId": "04ad9b80-1e32-454d-85eb-f18690a841ca"
      },
      "execution_count": 38,
      "outputs": [
        {
          "output_type": "display_data",
          "data": {
            "text/plain": [
              "<Figure size 576x360 with 1 Axes>"
            ],
            "image/png": "[encoded data removed]"
          },
          "metadata": {
            "needs_background": "light"
          }
        }
      ]
    },
    {
      "cell_type": "code",
      "source": [
        "# p-value 확인\n",
        "(null_vals > sample_diff_mean).mean()"
      ],
      "metadata": {
        "colab": {
          "base_uri": "https://localhost:8080/"
        },
        "id": "i058qzNfPGVB",
        "outputId": "2b5a4b4e-98b2-46c4-dcea-b7471a63c887"
      },
      "execution_count": 40,
      "outputs": [
        {
          "output_type": "execute_result",
          "data": {
            "text/plain": [
              "0.0"
            ]
          },
          "metadata": {},
          "execution_count": 40
        }
      ]
    },
    {
      "cell_type": "code",
      "source": [
        "# 이 평균 만족도 차이가 귀무 분포의 왼쪽에 존재함을 알 수 있습니다. 기각역은 0.05보다 작아야 기각이 가능한데 왼쪽에 존재하는 분포가 없음.\n",
        "# p-value가 0으로 0.05보다 작기 때문에 귀무 가설을 안전하게 기각하고 대립 가설을 채택할 수 있다."
      ],
      "metadata": {
        "id": "8KugYsFQPlD6"
      },
      "execution_count": null,
      "outputs": []
    },
    {
      "cell_type": "code",
      "source": [
        "# 승진한 사람들의 평균 직무 만족도가 승진 못한 사람들보다 높다?"
      ],
      "metadata": {
        "id": "bylfFw1dSWVD"
      },
      "execution_count": null,
      "outputs": []
    },
    {
      "cell_type": "code",
      "source": [
        "np.random.seed(10)\n",
        "\n",
        "pro_means, nonpro_means, diff_means = [], [], []\n",
        "\n",
        "for _ in range(10000):\n",
        "  sample = df.sample(df.shape[0], replace=True)\n",
        "  \n",
        "  pro_mean = sample[sample['promotion_last_5years'] == 1]['satisfaction_level'].mean()\n",
        "  pro_means.append(pro_mean)\n",
        "\n",
        "  nonpro_mean = sample[sample['promotion_last_5years'] == 0]['satisfaction_level'].mean()\n",
        "  nonpro_means.append(nonpro_mean)\n",
        "\n",
        "  diff_means.append(pro_mean - nonpro_mean)"
      ],
      "metadata": {
        "id": "xvb5KgDSr8IP"
      },
      "execution_count": 41,
      "outputs": []
    },
    {
      "cell_type": "code",
      "source": [
        "plt.figure(figsize=(8,5))\n",
        "plt.hist(pro_means, alpha = 0.5, label='pro')\n",
        "plt.hist(nonpro_means, alpha = 0.5, label = 'no pro')\n",
        "plt.legend(loc=9, fontsize=13)\n",
        "plt.show()"
      ],
      "metadata": {
        "colab": {
          "base_uri": "https://localhost:8080/",
          "height": 320
        },
        "id": "Pg6JuHsvsIVQ",
        "outputId": "132e7279-ff64-4f81-e9c9-16fef71a58dc"
      },
      "execution_count": 42,
      "outputs": [
        {
          "output_type": "display_data",
          "data": {
            "text/plain": [
              "<Figure size 576x360 with 1 Axes>"
            ],
            "image/png": "[encoded data removed]"
          },
          "metadata": {
            "needs_background": "light"
          }
        }
      ]
    },
    {
      "cell_type": "code",
      "source": [
        "plt.figure(figsize=(8,5))\n",
        "plt.hist(diff_means, alpha=0.5, label = 'Difference in Means')\n",
        "plt.axvline(0, c='r')\n",
        "plt.legend(loc=9, fontsize=13);"
      ],
      "metadata": {
        "colab": {
          "base_uri": "https://localhost:8080/",
          "height": 320
        },
        "id": "7N8zkGlTsNJh",
        "outputId": "a5a256a3-f9ad-469f-80b4-abf50b84c202"
      },
      "execution_count": 43,
      "outputs": [
        {
          "output_type": "display_data",
          "data": {
            "text/plain": [
              "<Figure size 576x360 with 1 Axes>"
            ],
            "image/png": "[encoded data removed]"
          },
          "metadata": {
            "needs_background": "light"
          }
        }
      ]
    },
    {
      "cell_type": "code",
      "source": [
        "# 귀무가설 : pro - nonpro <= 0 -> 둘의 차이를 나타내는 분포는 0을 나타내는 빨간선 기준으로 오른쪽에 위치(기각)\n",
        "# 대립가설 : pro - nonpro > 0 -> 승진한 사람들의 평균 근속년수가 승진못한 사람들의 평균 근속년수보다 많다 (채택)"
      ],
      "metadata": {
        "id": "Mgx3QiJbsQ_4"
      },
      "execution_count": null,
      "outputs": []
    },
    {
      "cell_type": "code",
      "source": [
        "sample_diff_mean = df[df['promotion_last_5years'] == 1]['satisfaction_level'].mean() - df[df['promotion_last_5years'] == 0]['satisfaction_level'].mean()\n",
        "sample_diff_mean"
      ],
      "metadata": {
        "colab": {
          "base_uri": "https://localhost:8080/"
        },
        "id": "wBqJmXAEsQza",
        "outputId": "dae84a7e-c3c3-4a9c-975a-af3c3f8aec97"
      },
      "execution_count": 44,
      "outputs": [
        {
          "output_type": "execute_result",
          "data": {
            "text/plain": [
              "0.0441237134095821"
            ]
          },
          "metadata": {},
          "execution_count": 44
        }
      ]
    },
    {
      "cell_type": "code",
      "source": [
        "sample_diff_std = np.std(diff_means)\n",
        "sample_diff_std"
      ],
      "metadata": {
        "colab": {
          "base_uri": "https://localhost:8080/"
        },
        "id": "ezz_3hq4sVt-",
        "outputId": "381f8d4d-883e-4caa-f9ac-f926b25fb911"
      },
      "execution_count": 45,
      "outputs": [
        {
          "output_type": "execute_result",
          "data": {
            "text/plain": [
              "0.011938608246174487"
            ]
          },
          "metadata": {},
          "execution_count": 45
        }
      ]
    },
    {
      "cell_type": "code",
      "source": [
        "plt.figure(figsize=(8,5))\n",
        "null_vals = np.random.normal(0, sample_diff_std, 1000) # diff_means는 두 분포의 차이의 표본 분포입니다.\n",
        "plt.hist(null_vals, alpha=0.5, label='null hypothesis')\n",
        "plt.axvline(sample_diff_mean, color='r', label='statistics')\n",
        "plt.legend(loc=9, fontsize=13)\n",
        "plt.show()"
      ],
      "metadata": {
        "colab": {
          "base_uri": "https://localhost:8080/",
          "height": 323
        },
        "id": "LVI9VJ0vsQll",
        "outputId": "6250ff66-6d83-414e-9bf3-ef3718b53328"
      },
      "execution_count": 46,
      "outputs": [
        {
          "output_type": "display_data",
          "data": {
            "text/plain": [
              "<Figure size 576x360 with 1 Axes>"
            ],
            "image/png": "[encoded data removed]"
          },
          "metadata": {
            "needs_background": "light"
          }
        }
      ]
    },
    {
      "cell_type": "code",
      "source": [
        "# p-value 확인\n",
        "(null_vals > sample_diff_mean).mean()"
      ],
      "metadata": {
        "colab": {
          "base_uri": "https://localhost:8080/"
        },
        "id": "rGe36JjIsnSt",
        "outputId": "f214bc1d-6fc5-480e-e307-41090f01985d"
      },
      "execution_count": 47,
      "outputs": [
        {
          "output_type": "execute_result",
          "data": {
            "text/plain": [
              "0.0"
            ]
          },
          "metadata": {},
          "execution_count": 47
        }
      ]
    },
    {
      "cell_type": "code",
      "source": [
        "# 이 평균 만족도 차이가 귀무 분포의 오른쪽에 존재함을 알 수 있습니다. 기각역은 0.05보다 작아야 기각이 가능한데 오른쪽에 존재하는 분포가 없음.\n",
        "# p-value가 0으로 0.05보다 작기 때문에 귀무 가설을 안전하게 기각하고 대립 가설을 채택할 수 있다."
      ],
      "metadata": {
        "id": "kEbMGzPPsq6P"
      },
      "execution_count": null,
      "outputs": []
    },
    {
      "cell_type": "code",
      "source": [
        "# 승진한 사람들의 평균 사건사고건수가 승진 못한 사람들보다 적다?"
      ],
      "metadata": {
        "id": "cJEObGZOs7hy"
      },
      "execution_count": null,
      "outputs": []
    },
    {
      "cell_type": "code",
      "source": [
        "Work = df.groupby(['promotion_last_5years','Work_accident']).size()\n",
        "Work"
      ],
      "metadata": {
        "colab": {
          "base_uri": "https://localhost:8080/"
        },
        "id": "pUGAGFxytHe3",
        "outputId": "e4c7ca98-4672-4c82-9223-bc69981796dc"
      },
      "execution_count": 49,
      "outputs": [
        {
          "output_type": "execute_result",
          "data": {
            "text/plain": [
              "promotion_last_5years  Work_accident\n",
              "0                      0                12587\n",
              "                       1                 2093\n",
              "1                      0                  243\n",
              "                       1                   76\n",
              "dtype: int64"
            ]
          },
          "metadata": {},
          "execution_count": 49
        }
      ]
    },
    {
      "cell_type": "code",
      "source": [
        "import seaborn as sns\n",
        "\n",
        "# kind에 count를 넣어주는 것에 주목합시다.\n",
        "sns.catplot(data=df, x=\"promotion_last_5years\",col=\"Work_accident\",kind=\"count\",col_wrap=2)"
      ],
      "metadata": {
        "colab": {
          "base_uri": "https://localhost:8080/",
          "height": 387
        },
        "id": "lJWgSN7p0B9m",
        "outputId": "39d9b454-08d8-4f57-a4b5-edb96b21d160"
      },
      "execution_count": 50,
      "outputs": [
        {
          "output_type": "execute_result",
          "data": {
            "text/plain": [
              "<seaborn.axisgrid.FacetGrid at 0x7fc1259a32d0>"
            ]
          },
          "metadata": {},
          "execution_count": 50
        },
        {
          "output_type": "display_data",
          "data": {
            "text/plain": [
              "<Figure size 720x360 with 2 Axes>"
            ],
            "image/png": "[encoded data removed]"
          },
          "metadata": {
            "needs_background": "light"
          }
        }
      ]
    },
    {
      "cell_type": "code",
      "source": [
        "import scipy.stats as stats\n",
        "chi, p, df, ex = stats.chi2_contingency(Work)\n",
        "msg = \"chi2 : {}, p-value : {}, df : {}\".format(chi,p,df)\n",
        "print(msg)"
      ],
      "metadata": {
        "colab": {
          "base_uri": "https://localhost:8080/"
        },
        "id": "Bb11tWp82-3s",
        "outputId": "d228e5a7-32d8-4e11-8bac-691262121092"
      },
      "execution_count": 52,
      "outputs": [
        {
          "output_type": "stream",
          "name": "stdout",
          "text": [
            "chi2 : 0.0, p-value : 1.0, df : 0\n"
          ]
        }
      ]
    },
    {
      "cell_type": "code",
      "source": [
        "# p-value가 0.05보다 크기 때문에 승진과 사건발생여부는 관련성이 없다."
      ],
      "metadata": {
        "id": "sTMczno-uknW"
      },
      "execution_count": null,
      "outputs": []
    }
  ]
}