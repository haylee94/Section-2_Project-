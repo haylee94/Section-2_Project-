{
  "nbformat": 4,
  "nbformat_minor": 0,
  "metadata": {
    "colab": {
      "provenance": [],
      "authorship_tag": "ABX9TyN1ibODmivWm7x+me1vF3rf",
      "include_colab_link": true
    },
    "kernelspec": {
      "name": "python3",
      "display_name": "Python 3"
    },
    "language_info": {
      "name": "python"
    },
    "widgets": {
      "application/vnd.jupyter.widget-state+json": {
        "26d432bb1ba6424280822f4f37724868": {
          "model_module": "@jupyter-widgets/controls",
          "model_name": "VBoxModel",
          "model_module_version": "1.5.0",
          "state": {
            "_dom_classes": [
              "widget-interact"
            ],
            "_model_module": "@jupyter-widgets/controls",
            "_model_module_version": "1.5.0",
            "_model_name": "VBoxModel",
            "_view_count": null,
            "_view_module": "@jupyter-widgets/controls",
            "_view_module_version": "1.5.0",
            "_view_name": "VBoxView",
            "box_style": "",
            "children": [
              "IPY_MODEL_20ae3d9be92342b2b77c872d39f4a223",
              "IPY_MODEL_3b8d890f0af54b76a5776beffeadb63c"
            ],
            "layout": "IPY_MODEL_b324193893824aed8655d4d04eb36ac0"
          }
        },
        "20ae3d9be92342b2b77c872d39f4a223": {
          "model_module": "@jupyter-widgets/controls",
          "model_name": "FloatSliderModel",
          "model_module_version": "1.5.0",
          "state": {
            "_dom_classes": [],
            "_model_module": "@jupyter-widgets/controls",
            "_model_module_version": "1.5.0",
            "_model_name": "FloatSliderModel",
            "_view_count": null,
            "_view_module": "@jupyter-widgets/controls",
            "_view_module_version": "1.5.0",
            "_view_name": "FloatSliderView",
            "continuous_update": true,
            "description": "threshold",
            "description_tooltip": null,
            "disabled": false,
            "layout": "IPY_MODEL_e656efafa57749ffb714bd8a87214409",
            "max": 1,
            "min": 0,
            "orientation": "horizontal",
            "readout": true,
            "readout_format": ".2f",
            "step": 0.01,
            "style": "IPY_MODEL_927601400d554fa9b88976d7cde154e7",
            "value": 0.45
          }
        },
        "3b8d890f0af54b76a5776beffeadb63c": {
          "model_module": "@jupyter-widgets/output",
          "model_name": "OutputModel",
          "model_module_version": "1.0.0",
          "state": {
            "_dom_classes": [],
            "_model_module": "@jupyter-widgets/output",
            "_model_module_version": "1.0.0",
            "_model_name": "OutputModel",
            "_view_count": null,
            "_view_module": "@jupyter-widgets/output",
            "_view_module_version": "1.0.0",
            "_view_name": "OutputView",
            "layout": "IPY_MODEL_a74e75df70cf4a8ca6082eb233db61a2",
            "msg_id": "",
            "outputs": [
              {
                "output_type": "display_data",
                "data": {
                  "text/plain": "<Figure size 432x288 with 1 Axes>",
                  "image/png": "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\n"
                },
                "metadata": {
                  "needs_background": "light"
                }
              },
              {
                "output_type": "stream",
                "name": "stdout",
                "text": [
                  "              precision    recall  f1-score   support\n",
                  "\n",
                  "           0       1.00      0.66      0.79      2753\n",
                  "           1       0.05      0.85      0.10        60\n",
                  "\n",
                  "    accuracy                           0.66      2813\n",
                  "   macro avg       0.52      0.75      0.45      2813\n",
                  "weighted avg       0.97      0.66      0.78      2813\n",
                  "\n"
                ]
              }
            ]
          }
        },
        "b324193893824aed8655d4d04eb36ac0": {
          "model_module": "@jupyter-widgets/base",
          "model_name": "LayoutModel",
          "model_module_version": "1.2.0",
          "state": {
            "_model_module": "@jupyter-widgets/base",
            "_model_module_version": "1.2.0",
            "_model_name": "LayoutModel",
            "_view_count": null,
            "_view_module": "@jupyter-widgets/base",
            "_view_module_version": "1.2.0",
            "_view_name": "LayoutView",
            "align_content": null,
            "align_items": null,
            "align_self": null,
            "border": null,
            "bottom": null,
            "display": null,
            "flex": null,
            "flex_flow": null,
            "grid_area": null,
            "grid_auto_columns": null,
            "grid_auto_flow": null,
            "grid_auto_rows": null,
            "grid_column": null,
            "grid_gap": null,
            "grid_row": null,
            "grid_template_areas": null,
            "grid_template_columns": null,
            "grid_template_rows": null,
            "height": null,
            "justify_content": null,
            "justify_items": null,
            "left": null,
            "margin": null,
            "max_height": null,
            "max_width": null,
            "min_height": null,
            "min_width": null,
            "object_fit": null,
            "object_position": null,
            "order": null,
            "overflow": null,
            "overflow_x": null,
            "overflow_y": null,
            "padding": null,
            "right": null,
            "top": null,
            "visibility": null,
            "width": null
          }
        },
        "e656efafa57749ffb714bd8a87214409": {
          "model_module": "@jupyter-widgets/base",
          "model_name": "LayoutModel",
          "model_module_version": "1.2.0",
          "state": {
            "_model_module": "@jupyter-widgets/base",
            "_model_module_version": "1.2.0",
            "_model_name": "LayoutModel",
            "_view_count": null,
            "_view_module": "@jupyter-widgets/base",
            "_view_module_version": "1.2.0",
            "_view_name": "LayoutView",
            "align_content": null,
            "align_items": null,
            "align_self": null,
            "border": null,
            "bottom": null,
            "display": null,
            "flex": null,
            "flex_flow": null,
            "grid_area": null,
            "grid_auto_columns": null,
            "grid_auto_flow": null,
            "grid_auto_rows": null,
            "grid_column": null,
            "grid_gap": null,
            "grid_row": null,
            "grid_template_areas": null,
            "grid_template_columns": null,
            "grid_template_rows": null,
            "height": null,
            "justify_content": null,
            "justify_items": null,
            "left": null,
            "margin": null,
            "max_height": null,
            "max_width": null,
            "min_height": null,
            "min_width": null,
            "object_fit": null,
            "object_position": null,
            "order": null,
            "overflow": null,
            "overflow_x": null,
            "overflow_y": null,
            "padding": null,
            "right": null,
            "top": null,
            "visibility": null,
            "width": null
          }
        },
        "927601400d554fa9b88976d7cde154e7": {
          "model_module": "@jupyter-widgets/controls",
          "model_name": "SliderStyleModel",
          "model_module_version": "1.5.0",
          "state": {
            "_model_module": "@jupyter-widgets/controls",
            "_model_module_version": "1.5.0",
            "_model_name": "SliderStyleModel",
            "_view_count": null,
            "_view_module": "@jupyter-widgets/base",
            "_view_module_version": "1.2.0",
            "_view_name": "StyleView",
            "description_width": "",
            "handle_color": null
          }
        },
        "a74e75df70cf4a8ca6082eb233db61a2": {
          "model_module": "@jupyter-widgets/base",
          "model_name": "LayoutModel",
          "model_module_version": "1.2.0",
          "state": {
            "_model_module": "@jupyter-widgets/base",
            "_model_module_version": "1.2.0",
            "_model_name": "LayoutModel",
            "_view_count": null,
            "_view_module": "@jupyter-widgets/base",
            "_view_module_version": "1.2.0",
            "_view_name": "LayoutView",
            "align_content": null,
            "align_items": null,
            "align_self": null,
            "border": null,
            "bottom": null,
            "display": null,
            "flex": null,
            "flex_flow": null,
            "grid_area": null,
            "grid_auto_columns": null,
            "grid_auto_flow": null,
            "grid_auto_rows": null,
            "grid_column": null,
            "grid_gap": null,
            "grid_row": null,
            "grid_template_areas": null,
            "grid_template_columns": null,
            "grid_template_rows": null,
            "height": null,
            "justify_content": null,
            "justify_items": null,
            "left": null,
            "margin": null,
            "max_height": null,
            "max_width": null,
            "min_height": null,
            "min_width": null,
            "object_fit": null,
            "object_position": null,
            "order": null,
            "overflow": null,
            "overflow_x": null,
            "overflow_y": null,
            "padding": null,
            "right": null,
            "top": null,
            "visibility": null,
            "width": null
          }
        }
      }
    }
  },
  "cells": [
    {
      "cell_type": "markdown",
      "metadata": {
        "id": "view-in-github",
        "colab_type": "text"
      },
      "source": [
        "<a href=\"https://colab.research.google.com/github/haylee94/Section-2_Project-/blob/main/section2_project.ipynb\" target=\"_parent\"><img src=\"https://colab.research.google.com/assets/colab-badge.svg\" alt=\"Open In Colab\"/></a>"
      ]
    },
    {
      "cell_type": "code",
      "source": [
        "from google.colab import files\n",
        "uploaded = files.upload()"
      ],
      "metadata": {
        "colab": {
          "base_uri": "https://localhost:8080/",
          "height": 74
        },
        "id": "p3pf6qG4mX5b",
        "outputId": "b98766c8-3275-44fb-e391-908633089ee0"
      },
      "execution_count": 1,
      "outputs": [
        {
          "output_type": "display_data",
          "data": {
            "text/plain": [
              "<IPython.core.display.HTML object>"
            ],
            "text/html": [
              "\n",
              "     <input type=\"file\" id=\"files-468fed40-f50b-47dc-a859-cd791ec22ab4\" name=\"files[]\" multiple disabled\n",
              "        style=\"border:none\" />\n",
              "     <output id=\"result-468fed40-f50b-47dc-a859-cd791ec22ab4\">\n",
              "      Upload widget is only available when the cell has been executed in the\n",
              "      current browser session. Please rerun this cell to enable.\n",
              "      </output>\n",
              "      <script>// Copyright 2017 Google LLC\n",
              "//\n",
              "// Licensed under the Apache License, Version 2.0 (the \"License\");\n",
              "// you may not use this file except in compliance with the License.\n",
              "// You may obtain a copy of the License at\n",
              "//\n",
              "//      http://www.apache.org/licenses/LICENSE-2.0\n",
              "//\n",
              "// Unless required by applicable law or agreed to in writing, software\n",
              "// distributed under the License is distributed on an \"AS IS\" BASIS,\n",
              "// WITHOUT WARRANTIES OR CONDITIONS OF ANY KIND, either express or implied.\n",
              "// See the License for the specific language governing permissions and\n",
              "// limitations under the License.\n",
              "\n",
              "/**\n",
              " * @fileoverview Helpers for google.colab Python module.\n",
              " */\n",
              "(function(scope) {\n",
              "function span(text, styleAttributes = {}) {\n",
              "  const element = document.createElement('span');\n",
              "  element.textContent = text;\n",
              "  for (const key of Object.keys(styleAttributes)) {\n",
              "    element.style[key] = styleAttributes[key];\n",
              "  }\n",
              "  return element;\n",
              "}\n",
              "\n",
              "// Max number of bytes which will be uploaded at a time.\n",
              "const MAX_PAYLOAD_SIZE = 100 * 1024;\n",
              "\n",
              "function _uploadFiles(inputId, outputId) {\n",
              "  const steps = uploadFilesStep(inputId, outputId);\n",
              "  const outputElement = document.getElementById(outputId);\n",
              "  // Cache steps on the outputElement to make it available for the next call\n",
              "  // to uploadFilesContinue from Python.\n",
              "  outputElement.steps = steps;\n",
              "\n",
              "  return _uploadFilesContinue(outputId);\n",
              "}\n",
              "\n",
              "// This is roughly an async generator (not supported in the browser yet),\n",
              "// where there are multiple asynchronous steps and the Python side is going\n",
              "// to poll for completion of each step.\n",
              "// This uses a Promise to block the python side on completion of each step,\n",
              "// then passes the result of the previous step as the input to the next step.\n",
              "function _uploadFilesContinue(outputId) {\n",
              "  const outputElement = document.getElementById(outputId);\n",
              "  const steps = outputElement.steps;\n",
              "\n",
              "  const next = steps.next(outputElement.lastPromiseValue);\n",
              "  return Promise.resolve(next.value.promise).then((value) => {\n",
              "    // Cache the last promise value to make it available to the next\n",
              "    // step of the generator.\n",
              "    outputElement.lastPromiseValue = value;\n",
              "    return next.value.response;\n",
              "  });\n",
              "}\n",
              "\n",
              "/**\n",
              " * Generator function which is called between each async step of the upload\n",
              " * process.\n",
              " * @param {string} inputId Element ID of the input file picker element.\n",
              " * @param {string} outputId Element ID of the output display.\n",
              " * @return {!Iterable<!Object>} Iterable of next steps.\n",
              " */\n",
              "function* uploadFilesStep(inputId, outputId) {\n",
              "  const inputElement = document.getElementById(inputId);\n",
              "  inputElement.disabled = false;\n",
              "\n",
              "  const outputElement = document.getElementById(outputId);\n",
              "  outputElement.innerHTML = '';\n",
              "\n",
              "  const pickedPromise = new Promise((resolve) => {\n",
              "    inputElement.addEventListener('change', (e) => {\n",
              "      resolve(e.target.files);\n",
              "    });\n",
              "  });\n",
              "\n",
              "  const cancel = document.createElement('button');\n",
              "  inputElement.parentElement.appendChild(cancel);\n",
              "  cancel.textContent = 'Cancel upload';\n",
              "  const cancelPromise = new Promise((resolve) => {\n",
              "    cancel.onclick = () => {\n",
              "      resolve(null);\n",
              "    };\n",
              "  });\n",
              "\n",
              "  // Wait for the user to pick the files.\n",
              "  const files = yield {\n",
              "    promise: Promise.race([pickedPromise, cancelPromise]),\n",
              "    response: {\n",
              "      action: 'starting',\n",
              "    }\n",
              "  };\n",
              "\n",
              "  cancel.remove();\n",
              "\n",
              "  // Disable the input element since further picks are not allowed.\n",
              "  inputElement.disabled = true;\n",
              "\n",
              "  if (!files) {\n",
              "    return {\n",
              "      response: {\n",
              "        action: 'complete',\n",
              "      }\n",
              "    };\n",
              "  }\n",
              "\n",
              "  for (const file of files) {\n",
              "    const li = document.createElement('li');\n",
              "    li.append(span(file.name, {fontWeight: 'bold'}));\n",
              "    li.append(span(\n",
              "        `(${file.type || 'n/a'}) - ${file.size} bytes, ` +\n",
              "        `last modified: ${\n",
              "            file.lastModifiedDate ? file.lastModifiedDate.toLocaleDateString() :\n",
              "                                    'n/a'} - `));\n",
              "    const percent = span('0% done');\n",
              "    li.appendChild(percent);\n",
              "\n",
              "    outputElement.appendChild(li);\n",
              "\n",
              "    const fileDataPromise = new Promise((resolve) => {\n",
              "      const reader = new FileReader();\n",
              "      reader.onload = (e) => {\n",
              "        resolve(e.target.result);\n",
              "      };\n",
              "      reader.readAsArrayBuffer(file);\n",
              "    });\n",
              "    // Wait for the data to be ready.\n",
              "    let fileData = yield {\n",
              "      promise: fileDataPromise,\n",
              "      response: {\n",
              "        action: 'continue',\n",
              "      }\n",
              "    };\n",
              "\n",
              "    // Use a chunked sending to avoid message size limits. See b/62115660.\n",
              "    let position = 0;\n",
              "    do {\n",
              "      const length = Math.min(fileData.byteLength - position, MAX_PAYLOAD_SIZE);\n",
              "      const chunk = new Uint8Array(fileData, position, length);\n",
              "      position += length;\n",
              "\n",
              "      const base64 = btoa(String.fromCharCode.apply(null, chunk));\n",
              "      yield {\n",
              "        response: {\n",
              "          action: 'append',\n",
              "          file: file.name,\n",
              "          data: base64,\n",
              "        },\n",
              "      };\n",
              "\n",
              "      let percentDone = fileData.byteLength === 0 ?\n",
              "          100 :\n",
              "          Math.round((position / fileData.byteLength) * 100);\n",
              "      percent.textContent = `${percentDone}% done`;\n",
              "\n",
              "    } while (position < fileData.byteLength);\n",
              "  }\n",
              "\n",
              "  // All done.\n",
              "  yield {\n",
              "    response: {\n",
              "      action: 'complete',\n",
              "    }\n",
              "  };\n",
              "}\n",
              "\n",
              "scope.google = scope.google || {};\n",
              "scope.google.colab = scope.google.colab || {};\n",
              "scope.google.colab._files = {\n",
              "  _uploadFiles,\n",
              "  _uploadFilesContinue,\n",
              "};\n",
              "})(self);\n",
              "</script> "
            ]
          },
          "metadata": {}
        },
        {
          "output_type": "stream",
          "name": "stdout",
          "text": [
            "Saving retirement.csv to retirement (4).csv\n"
          ]
        }
      ]
    },
    {
      "cell_type": "code",
      "source": [
        "import pandas as pd\n",
        "import numpy as np"
      ],
      "metadata": {
        "id": "7gU_ZF8AmgN9"
      },
      "execution_count": 2,
      "outputs": []
    },
    {
      "cell_type": "code",
      "source": [
        "pd.set_option('display.max_columns', None) # Pandas를 활용해 시각적 탐색(열전체)\n",
        "pd.set_option('display.max_rows', None) # Pandas를 활용해 시각적 탐색(행전체)"
      ],
      "metadata": {
        "id": "f8Fg_NX8mcx6"
      },
      "execution_count": 3,
      "outputs": []
    },
    {
      "cell_type": "code",
      "source": [
        "# 데이터셋 불러오기 \n",
        "df = pd.read_csv('retirement.csv')"
      ],
      "metadata": {
        "id": "o_sMG3urmk6F"
      },
      "execution_count": 4,
      "outputs": []
    },
    {
      "cell_type": "code",
      "source": [
        "df.head()"
      ],
      "metadata": {
        "colab": {
          "base_uri": "https://localhost:8080/",
          "height": 270
        },
        "id": "qpmWB-nMobfz",
        "outputId": "d8b51dbb-2c4d-4dc0-ad31-ff15b22824ad"
      },
      "execution_count": 5,
      "outputs": [
        {
          "output_type": "execute_result",
          "data": {
            "text/plain": [
              "   satisfaction_level  last_evaluation  number_project  average_montly_hours  \\\n",
              "0                0.38             0.53               2                   157   \n",
              "1                0.80             0.86               5                   262   \n",
              "2                0.11             0.88               7                   272   \n",
              "3                0.72             0.87               5                   223   \n",
              "4                0.37             0.52               2                   159   \n",
              "\n",
              "   time_spend_company  Work_accident  left  promotion_last_5years department  \\\n",
              "0                   3              0     1                      0      sales   \n",
              "1                   6              0     1                      0      sales   \n",
              "2                   4              0     1                      0      sales   \n",
              "3                   5              0     1                      0      sales   \n",
              "4                   3              0     1                      0      sales   \n",
              "\n",
              "   salary  \n",
              "0     low  \n",
              "1  medium  \n",
              "2  medium  \n",
              "3     low  \n",
              "4     low  "
            ],
            "text/html": [
              "\n",
              "  <div id=\"df-1e7386c8-19e2-480c-8c72-ee0d5dbc112a\">\n",
              "    <div class=\"colab-df-container\">\n",
              "      <div>\n",
              "<style scoped>\n",
              "    .dataframe tbody tr th:only-of-type {\n",
              "        vertical-align: middle;\n",
              "    }\n",
              "\n",
              "    .dataframe tbody tr th {\n",
              "        vertical-align: top;\n",
              "    }\n",
              "\n",
              "    .dataframe thead th {\n",
              "        text-align: right;\n",
              "    }\n",
              "</style>\n",
              "<table border=\"1\" class=\"dataframe\">\n",
              "  <thead>\n",
              "    <tr style=\"text-align: right;\">\n",
              "      <th></th>\n",
              "      <th>satisfaction_level</th>\n",
              "      <th>last_evaluation</th>\n",
              "      <th>number_project</th>\n",
              "      <th>average_montly_hours</th>\n",
              "      <th>time_spend_company</th>\n",
              "      <th>Work_accident</th>\n",
              "      <th>left</th>\n",
              "      <th>promotion_last_5years</th>\n",
              "      <th>department</th>\n",
              "      <th>salary</th>\n",
              "    </tr>\n",
              "  </thead>\n",
              "  <tbody>\n",
              "    <tr>\n",
              "      <th>0</th>\n",
              "      <td>0.38</td>\n",
              "      <td>0.53</td>\n",
              "      <td>2</td>\n",
              "      <td>157</td>\n",
              "      <td>3</td>\n",
              "      <td>0</td>\n",
              "      <td>1</td>\n",
              "      <td>0</td>\n",
              "      <td>sales</td>\n",
              "      <td>low</td>\n",
              "    </tr>\n",
              "    <tr>\n",
              "      <th>1</th>\n",
              "      <td>0.80</td>\n",
              "      <td>0.86</td>\n",
              "      <td>5</td>\n",
              "      <td>262</td>\n",
              "      <td>6</td>\n",
              "      <td>0</td>\n",
              "      <td>1</td>\n",
              "      <td>0</td>\n",
              "      <td>sales</td>\n",
              "      <td>medium</td>\n",
              "    </tr>\n",
              "    <tr>\n",
              "      <th>2</th>\n",
              "      <td>0.11</td>\n",
              "      <td>0.88</td>\n",
              "      <td>7</td>\n",
              "      <td>272</td>\n",
              "      <td>4</td>\n",
              "      <td>0</td>\n",
              "      <td>1</td>\n",
              "      <td>0</td>\n",
              "      <td>sales</td>\n",
              "      <td>medium</td>\n",
              "    </tr>\n",
              "    <tr>\n",
              "      <th>3</th>\n",
              "      <td>0.72</td>\n",
              "      <td>0.87</td>\n",
              "      <td>5</td>\n",
              "      <td>223</td>\n",
              "      <td>5</td>\n",
              "      <td>0</td>\n",
              "      <td>1</td>\n",
              "      <td>0</td>\n",
              "      <td>sales</td>\n",
              "      <td>low</td>\n",
              "    </tr>\n",
              "    <tr>\n",
              "      <th>4</th>\n",
              "      <td>0.37</td>\n",
              "      <td>0.52</td>\n",
              "      <td>2</td>\n",
              "      <td>159</td>\n",
              "      <td>3</td>\n",
              "      <td>0</td>\n",
              "      <td>1</td>\n",
              "      <td>0</td>\n",
              "      <td>sales</td>\n",
              "      <td>low</td>\n",
              "    </tr>\n",
              "  </tbody>\n",
              "</table>\n",
              "</div>\n",
              "      <button class=\"colab-df-convert\" onclick=\"convertToInteractive('df-1e7386c8-19e2-480c-8c72-ee0d5dbc112a')\"\n",
              "              title=\"Convert this dataframe to an interactive table.\"\n",
              "              style=\"display:none;\">\n",
              "        \n",
              "  <svg xmlns=\"http://www.w3.org/2000/svg\" height=\"24px\"viewBox=\"0 0 24 24\"\n",
              "       width=\"24px\">\n",
              "    <path d=\"M0 0h24v24H0V0z\" fill=\"none\"/>\n",
              "    <path d=\"M18.56 5.44l.94 2.06.94-2.06 2.06-.94-2.06-.94-.94-2.06-.94 2.06-2.06.94zm-11 1L8.5 8.5l.94-2.06 2.06-.94-2.06-.94L8.5 2.5l-.94 2.06-2.06.94zm10 10l.94 2.06.94-2.06 2.06-.94-2.06-.94-.94-2.06-.94 2.06-2.06.94z\"/><path d=\"M17.41 7.96l-1.37-1.37c-.4-.4-.92-.59-1.43-.59-.52 0-1.04.2-1.43.59L10.3 9.45l-7.72 7.72c-.78.78-.78 2.05 0 2.83L4 21.41c.39.39.9.59 1.41.59.51 0 1.02-.2 1.41-.59l7.78-7.78 2.81-2.81c.8-.78.8-2.07 0-2.86zM5.41 20L4 18.59l7.72-7.72 1.47 1.35L5.41 20z\"/>\n",
              "  </svg>\n",
              "      </button>\n",
              "      \n",
              "  <style>\n",
              "    .colab-df-container {\n",
              "      display:flex;\n",
              "      flex-wrap:wrap;\n",
              "      gap: 12px;\n",
              "    }\n",
              "\n",
              "    .colab-df-convert {\n",
              "      background-color: #E8F0FE;\n",
              "      border: none;\n",
              "      border-radius: 50%;\n",
              "      cursor: pointer;\n",
              "      display: none;\n",
              "      fill: #1967D2;\n",
              "      height: 32px;\n",
              "      padding: 0 0 0 0;\n",
              "      width: 32px;\n",
              "    }\n",
              "\n",
              "    .colab-df-convert:hover {\n",
              "      background-color: #E2EBFA;\n",
              "      box-shadow: 0px 1px 2px rgba(60, 64, 67, 0.3), 0px 1px 3px 1px rgba(60, 64, 67, 0.15);\n",
              "      fill: #174EA6;\n",
              "    }\n",
              "\n",
              "    [theme=dark] .colab-df-convert {\n",
              "      background-color: #3B4455;\n",
              "      fill: #D2E3FC;\n",
              "    }\n",
              "\n",
              "    [theme=dark] .colab-df-convert:hover {\n",
              "      background-color: #434B5C;\n",
              "      box-shadow: 0px 1px 3px 1px rgba(0, 0, 0, 0.15);\n",
              "      filter: drop-shadow(0px 1px 2px rgba(0, 0, 0, 0.3));\n",
              "      fill: #FFFFFF;\n",
              "    }\n",
              "  </style>\n",
              "\n",
              "      <script>\n",
              "        const buttonEl =\n",
              "          document.querySelector('#df-1e7386c8-19e2-480c-8c72-ee0d5dbc112a button.colab-df-convert');\n",
              "        buttonEl.style.display =\n",
              "          google.colab.kernel.accessAllowed ? 'block' : 'none';\n",
              "\n",
              "        async function convertToInteractive(key) {\n",
              "          const element = document.querySelector('#df-1e7386c8-19e2-480c-8c72-ee0d5dbc112a');\n",
              "          const dataTable =\n",
              "            await google.colab.kernel.invokeFunction('convertToInteractive',\n",
              "                                                     [key], {});\n",
              "          if (!dataTable) return;\n",
              "\n",
              "          const docLinkHtml = 'Like what you see? Visit the ' +\n",
              "            '<a target=\"_blank\" href=https://colab.research.google.com/notebooks/data_table.ipynb>data table notebook</a>'\n",
              "            + ' to learn more about interactive tables.';\n",
              "          element.innerHTML = '';\n",
              "          dataTable['output_type'] = 'display_data';\n",
              "          await google.colab.output.renderOutput(dataTable, element);\n",
              "          const docLink = document.createElement('div');\n",
              "          docLink.innerHTML = docLinkHtml;\n",
              "          element.appendChild(docLink);\n",
              "        }\n",
              "      </script>\n",
              "    </div>\n",
              "  </div>\n",
              "  "
            ]
          },
          "metadata": {},
          "execution_count": 5
        }
      ]
    },
    {
      "cell_type": "code",
      "source": [
        "df.columns"
      ],
      "metadata": {
        "colab": {
          "base_uri": "https://localhost:8080/"
        },
        "id": "1nFS5CGpq-I2",
        "outputId": "4f41b163-c207-4455-c11e-95cc7025ed75"
      },
      "execution_count": 6,
      "outputs": [
        {
          "output_type": "execute_result",
          "data": {
            "text/plain": [
              "Index(['satisfaction_level', 'last_evaluation', 'number_project',\n",
              "       'average_montly_hours', 'time_spend_company', 'Work_accident', 'left',\n",
              "       'promotion_last_5years', 'department', 'salary'],\n",
              "      dtype='object')"
            ]
          },
          "metadata": {},
          "execution_count": 6
        }
      ]
    },
    {
      "cell_type": "code",
      "source": [
        "df.info()"
      ],
      "metadata": {
        "colab": {
          "base_uri": "https://localhost:8080/"
        },
        "id": "yHe7iJdCrPie",
        "outputId": "2185c8b2-82a2-4921-a3a3-b73ca525f7ca"
      },
      "execution_count": 7,
      "outputs": [
        {
          "output_type": "stream",
          "name": "stdout",
          "text": [
            "<class 'pandas.core.frame.DataFrame'>\n",
            "RangeIndex: 14999 entries, 0 to 14998\n",
            "Data columns (total 10 columns):\n",
            " #   Column                 Non-Null Count  Dtype  \n",
            "---  ------                 --------------  -----  \n",
            " 0   satisfaction_level     14999 non-null  float64\n",
            " 1   last_evaluation        14999 non-null  float64\n",
            " 2   number_project         14999 non-null  int64  \n",
            " 3   average_montly_hours   14999 non-null  int64  \n",
            " 4   time_spend_company     14999 non-null  int64  \n",
            " 5   Work_accident          14999 non-null  int64  \n",
            " 6   left                   14999 non-null  int64  \n",
            " 7   promotion_last_5years  14999 non-null  int64  \n",
            " 8   department             14999 non-null  object \n",
            " 9   salary                 14999 non-null  object \n",
            "dtypes: float64(2), int64(6), object(2)\n",
            "memory usage: 1.1+ MB\n"
          ]
        }
      ]
    },
    {
      "cell_type": "code",
      "source": [
        "df['satisfaction_level'].unique() #수치형 -> 범주형 ?"
      ],
      "metadata": {
        "colab": {
          "base_uri": "https://localhost:8080/"
        },
        "id": "xg8wJO92sQKE",
        "outputId": "ebbdd41e-88b3-4995-9b2e-950cb6fa32f6"
      },
      "execution_count": 8,
      "outputs": [
        {
          "output_type": "execute_result",
          "data": {
            "text/plain": [
              "array([0.38, 0.8 , 0.11, 0.72, 0.37, 0.41, 0.1 , 0.92, 0.89, 0.42, 0.45,\n",
              "       0.84, 0.36, 0.78, 0.76, 0.09, 0.46, 0.4 , 0.82, 0.87, 0.57, 0.43,\n",
              "       0.13, 0.44, 0.39, 0.85, 0.81, 0.9 , 0.74, 0.79, 0.17, 0.24, 0.91,\n",
              "       0.71, 0.86, 0.14, 0.75, 0.7 , 0.31, 0.73, 0.83, 0.32, 0.54, 0.27,\n",
              "       0.77, 0.88, 0.48, 0.19, 0.6 , 0.12, 0.61, 0.33, 0.56, 0.47, 0.28,\n",
              "       0.55, 0.53, 0.59, 0.66, 0.25, 0.34, 0.58, 0.51, 0.35, 0.64, 0.5 ,\n",
              "       0.23, 0.15, 0.49, 0.3 , 0.63, 0.21, 0.62, 0.29, 0.2 , 0.16, 0.65,\n",
              "       0.68, 0.67, 0.22, 0.26, 0.99, 0.98, 1.  , 0.52, 0.93, 0.97, 0.69,\n",
              "       0.94, 0.96, 0.18, 0.95])"
            ]
          },
          "metadata": {},
          "execution_count": 8
        }
      ]
    },
    {
      "cell_type": "code",
      "source": [
        "df['last_evaluation'].unique() # 평가점수니까 그대로?"
      ],
      "metadata": {
        "colab": {
          "base_uri": "https://localhost:8080/"
        },
        "id": "loZXk1Dc5_B5",
        "outputId": "f8188771-d64b-4155-ebf5-5052efc89667"
      },
      "execution_count": 9,
      "outputs": [
        {
          "output_type": "execute_result",
          "data": {
            "text/plain": [
              "array([0.53, 0.86, 0.88, 0.87, 0.52, 0.5 , 0.77, 0.85, 1.  , 0.54, 0.81,\n",
              "       0.92, 0.55, 0.56, 0.47, 0.99, 0.51, 0.89, 0.83, 0.95, 0.57, 0.49,\n",
              "       0.46, 0.62, 0.94, 0.48, 0.8 , 0.74, 0.7 , 0.78, 0.91, 0.93, 0.98,\n",
              "       0.97, 0.79, 0.59, 0.84, 0.45, 0.96, 0.68, 0.82, 0.9 , 0.71, 0.6 ,\n",
              "       0.65, 0.58, 0.72, 0.67, 0.75, 0.73, 0.63, 0.61, 0.76, 0.66, 0.69,\n",
              "       0.37, 0.64, 0.39, 0.41, 0.43, 0.44, 0.36, 0.38, 0.4 , 0.42])"
            ]
          },
          "metadata": {},
          "execution_count": 9
        }
      ]
    },
    {
      "cell_type": "code",
      "source": [
        "df['number_project'].unique() # 승진관여?"
      ],
      "metadata": {
        "colab": {
          "base_uri": "https://localhost:8080/"
        },
        "id": "IqhJqnGn6GoW",
        "outputId": "5e725470-0920-48b2-f64f-7b927cbebe07"
      },
      "execution_count": 10,
      "outputs": [
        {
          "output_type": "execute_result",
          "data": {
            "text/plain": [
              "array([2, 5, 7, 6, 4, 3])"
            ]
          },
          "metadata": {},
          "execution_count": 10
        }
      ]
    },
    {
      "cell_type": "code",
      "source": [
        "df['average_montly_hours'].unique() # 수치형 -> 범주형 퇴직관여?"
      ],
      "metadata": {
        "colab": {
          "base_uri": "https://localhost:8080/"
        },
        "id": "Eh1cNdji6Nhw",
        "outputId": "d65081cd-45c6-414d-cef2-69b8a52eda0f"
      },
      "execution_count": 11,
      "outputs": [
        {
          "output_type": "execute_result",
          "data": {
            "text/plain": [
              "array([157, 262, 272, 223, 159, 153, 247, 259, 224, 142, 135, 305, 234,\n",
              "       148, 137, 143, 160, 255, 282, 147, 304, 139, 158, 242, 239, 128,\n",
              "       132, 294, 134, 145, 140, 246, 126, 306, 152, 269, 127, 281, 276,\n",
              "       182, 273, 307, 309, 225, 226, 308, 244, 286, 161, 264, 277, 275,\n",
              "       149, 295, 151, 249, 291, 232, 130, 129, 155, 265, 279, 284, 221,\n",
              "       154, 150, 267, 257, 177, 144, 289, 258, 263, 251, 133, 216, 300,\n",
              "       138, 260, 183, 250, 292, 283, 245, 256, 278, 240, 136, 301, 243,\n",
              "       296, 274, 164, 146, 261, 285, 141, 297, 156, 287, 219, 254, 228,\n",
              "       131, 252, 236, 270, 298, 192, 248, 266, 238, 229, 233, 268, 231,\n",
              "       253, 302, 271, 290, 235, 293, 241, 218, 199, 180, 195, 237, 227,\n",
              "       172, 206, 181, 217, 310, 214, 198, 211, 222, 213, 202, 184, 204,\n",
              "       288, 220, 299, 303, 212, 196, 179, 205, 230, 203, 280, 169, 188,\n",
              "       178, 175, 166, 163, 168, 165, 189, 162, 215, 193, 176, 191, 174,\n",
              "       201, 208, 171, 111, 104, 106, 100, 194, 209, 185, 200, 207, 187,\n",
              "       210, 186, 167, 108, 122, 110, 115, 197, 102, 109, 190,  99, 101,\n",
              "        97, 173, 121, 170, 105, 118, 119, 117, 114,  96,  98, 107, 123,\n",
              "       116, 125, 113, 120, 112, 124, 103])"
            ]
          },
          "metadata": {},
          "execution_count": 11
        }
      ]
    },
    {
      "cell_type": "code",
      "source": [
        "df['time_spend_company'].unique() # 승진관여?"
      ],
      "metadata": {
        "colab": {
          "base_uri": "https://localhost:8080/"
        },
        "id": "EOFCcQ_y6S14",
        "outputId": "da853a16-7dd5-423b-c817-34e5cd26cfaa"
      },
      "execution_count": 12,
      "outputs": [
        {
          "output_type": "execute_result",
          "data": {
            "text/plain": [
              "array([ 3,  6,  4,  5,  2,  8, 10,  7])"
            ]
          },
          "metadata": {},
          "execution_count": 12
        }
      ]
    },
    {
      "cell_type": "code",
      "source": [
        "df['Work_accident'].unique() # 0 -> 없음, 1 -> 있음"
      ],
      "metadata": {
        "colab": {
          "base_uri": "https://localhost:8080/"
        },
        "id": "fEFSGHzp6ZIe",
        "outputId": "cfd1654d-eb3c-43e3-c324-5da5b4d907fa"
      },
      "execution_count": 13,
      "outputs": [
        {
          "output_type": "execute_result",
          "data": {
            "text/plain": [
              "array([0, 1])"
            ]
          },
          "metadata": {},
          "execution_count": 13
        }
      ]
    },
    {
      "cell_type": "code",
      "source": [
        "df['left'].unique() # 0 -> 재직, 1 -> 퇴직"
      ],
      "metadata": {
        "colab": {
          "base_uri": "https://localhost:8080/"
        },
        "id": "WmzNDwKG6h1x",
        "outputId": "a8d5f617-7602-4104-ca4d-c7cadc138c43"
      },
      "execution_count": 14,
      "outputs": [
        {
          "output_type": "execute_result",
          "data": {
            "text/plain": [
              "array([1, 0])"
            ]
          },
          "metadata": {},
          "execution_count": 14
        }
      ]
    },
    {
      "cell_type": "code",
      "source": [
        "df['promotion_last_5years'].unique() # 0 -> 승진못함, 1 -> 승진"
      ],
      "metadata": {
        "colab": {
          "base_uri": "https://localhost:8080/"
        },
        "id": "WJ7pV7_76q4r",
        "outputId": "54fd7e80-b9a1-4792-d795-9b3a9c0568f3"
      },
      "execution_count": 15,
      "outputs": [
        {
          "output_type": "execute_result",
          "data": {
            "text/plain": [
              "array([0, 1])"
            ]
          },
          "metadata": {},
          "execution_count": 15
        }
      ]
    },
    {
      "cell_type": "code",
      "source": [
        "df['department'].unique()"
      ],
      "metadata": {
        "colab": {
          "base_uri": "https://localhost:8080/"
        },
        "id": "7HwtfkNq6uLn",
        "outputId": "2e2e791a-917e-4451-c463-21e48ad94a4d"
      },
      "execution_count": 16,
      "outputs": [
        {
          "output_type": "execute_result",
          "data": {
            "text/plain": [
              "array(['sales', 'accounting', 'hr', 'technical', 'support', 'management',\n",
              "       'IT', 'product_mng', 'marketing', 'RandD'], dtype=object)"
            ]
          },
          "metadata": {},
          "execution_count": 16
        }
      ]
    },
    {
      "cell_type": "code",
      "source": [
        "df['salary'].unique() # 퇴직관여?"
      ],
      "metadata": {
        "colab": {
          "base_uri": "https://localhost:8080/"
        },
        "id": "Grz3YdCP61De",
        "outputId": "d3454080-6866-494c-f6f1-e24cad356782"
      },
      "execution_count": 17,
      "outputs": [
        {
          "output_type": "execute_result",
          "data": {
            "text/plain": [
              "array(['low', 'medium', 'high'], dtype=object)"
            ]
          },
          "metadata": {},
          "execution_count": 17
        }
      ]
    },
    {
      "cell_type": "code",
      "source": [
        "df.shape"
      ],
      "metadata": {
        "colab": {
          "base_uri": "https://localhost:8080/"
        },
        "id": "zh_9wr9VUyUz",
        "outputId": "101be669-ff45-4a97-8ab7-52479d0813cf"
      },
      "execution_count": 18,
      "outputs": [
        {
          "output_type": "execute_result",
          "data": {
            "text/plain": [
              "(14999, 10)"
            ]
          },
          "metadata": {},
          "execution_count": 18
        }
      ]
    },
    {
      "cell_type": "code",
      "source": [
        "# 중복되는 값이 있는 확인합니다.\n",
        "df.duplicated().sum()"
      ],
      "metadata": {
        "colab": {
          "base_uri": "https://localhost:8080/"
        },
        "id": "aK7vkmgBZDZG",
        "outputId": "4252fbd4-bf7d-4abc-e725-08eee2a1c198"
      },
      "execution_count": 19,
      "outputs": [
        {
          "output_type": "execute_result",
          "data": {
            "text/plain": [
              "3008"
            ]
          },
          "metadata": {},
          "execution_count": 19
        }
      ]
    },
    {
      "cell_type": "code",
      "source": [
        "print(\"중복된 데이터의 비율\", df.duplicated().sum()/len(df))"
      ],
      "metadata": {
        "colab": {
          "base_uri": "https://localhost:8080/"
        },
        "id": "DkZeqmW-nozX",
        "outputId": "072ac99e-7e3a-4c43-829c-754ab73992b4"
      },
      "execution_count": 20,
      "outputs": [
        {
          "output_type": "stream",
          "name": "stdout",
          "text": [
            "중복된 데이터의 비율 0.2005467031135409\n"
          ]
        }
      ]
    },
    {
      "cell_type": "code",
      "source": [
        "# 결측치를 확인합니다.\n",
        "df.isnull().sum()"
      ],
      "metadata": {
        "colab": {
          "base_uri": "https://localhost:8080/"
        },
        "id": "accGEviPZHiM",
        "outputId": "97b50024-6c07-4558-ffb9-c826acbd4959"
      },
      "execution_count": 21,
      "outputs": [
        {
          "output_type": "execute_result",
          "data": {
            "text/plain": [
              "satisfaction_level       0\n",
              "last_evaluation          0\n",
              "number_project           0\n",
              "average_montly_hours     0\n",
              "time_spend_company       0\n",
              "Work_accident            0\n",
              "left                     0\n",
              "promotion_last_5years    0\n",
              "department               0\n",
              "salary                   0\n",
              "dtype: int64"
            ]
          },
          "metadata": {},
          "execution_count": 21
        }
      ]
    },
    {
      "cell_type": "code",
      "source": [
        "# 고유한 값이 너무 많은 컬럼이 있는지 확인\n",
        "df.nunique()/len(df)"
      ],
      "metadata": {
        "colab": {
          "base_uri": "https://localhost:8080/"
        },
        "id": "hq-DjaOwZrfl",
        "outputId": "bdc4040d-614c-4ff2-8b0e-8035be4f8c98"
      },
      "execution_count": 22,
      "outputs": [
        {
          "output_type": "execute_result",
          "data": {
            "text/plain": [
              "satisfaction_level       0.006134\n",
              "last_evaluation          0.004334\n",
              "number_project           0.000400\n",
              "average_montly_hours     0.014334\n",
              "time_spend_company       0.000533\n",
              "Work_accident            0.000133\n",
              "left                     0.000133\n",
              "promotion_last_5years    0.000133\n",
              "department               0.000667\n",
              "salary                   0.000200\n",
              "dtype: float64"
            ]
          },
          "metadata": {},
          "execution_count": 22
        }
      ]
    },
    {
      "cell_type": "code",
      "source": [
        "import matplotlib.pyplot as plt\n",
        "import seaborn as sns"
      ],
      "metadata": {
        "id": "ZBG7GSracD2m"
      },
      "execution_count": 23,
      "outputs": []
    },
    {
      "cell_type": "code",
      "source": [
        "# 수치형 컬럼과 타겟간의 상관관계를 확인\n",
        "# target = promotion_last_5years\n",
        "df.corr()['promotion_last_5years'].sort_values(ascending=False).head(10)"
      ],
      "metadata": {
        "colab": {
          "base_uri": "https://localhost:8080/"
        },
        "id": "KpXyx_Q3a_Lm",
        "outputId": "8d2f1d11-d0ca-4ab0-8588-1590c072952e"
      },
      "execution_count": 24,
      "outputs": [
        {
          "output_type": "execute_result",
          "data": {
            "text/plain": [
              "promotion_last_5years    1.000000\n",
              "time_spend_company       0.067433\n",
              "Work_accident            0.039245\n",
              "satisfaction_level       0.025605\n",
              "average_montly_hours    -0.003544\n",
              "number_project          -0.006064\n",
              "last_evaluation         -0.008684\n",
              "left                    -0.061788\n",
              "Name: promotion_last_5years, dtype: float64"
            ]
          },
          "metadata": {},
          "execution_count": 24
        }
      ]
    },
    {
      "cell_type": "code",
      "source": [
        "corr_matrix = df.corr()\n",
        "plt.figure(figsize = (10,5))\n",
        "sns.heatmap(corr_matrix, annot=True, linewidths=.5)\n",
        "plt.show()"
      ],
      "metadata": {
        "colab": {
          "base_uri": "https://localhost:8080/",
          "height": 427
        },
        "id": "EIGpUFLec4ba",
        "outputId": "f5e2b6d7-8163-45df-ed98-b38837653bae"
      },
      "execution_count": 25,
      "outputs": [
        {
          "output_type": "display_data",
          "data": {
            "text/plain": [
              "<Figure size 720x360 with 2 Axes>"
            ],
            "image/png": "[encoded data removed]"
          },
          "metadata": {
            "needs_background": "light"
          }
        }
      ]
    },
    {
      "cell_type": "code",
      "source": [
        "# 상관관계 높은 피쳐 : number_project, average_monthly_hours, last_evaluation"
      ],
      "metadata": {
        "id": "zchIFaSBj-u4"
      },
      "execution_count": null,
      "outputs": []
    },
    {
      "cell_type": "code",
      "source": [
        "df['promotion_last_5years'].value_counts()"
      ],
      "metadata": {
        "colab": {
          "base_uri": "https://localhost:8080/"
        },
        "id": "mOS7be9Ykiy-",
        "outputId": "0672f719-2351-421a-b5b0-bc4deb0797df"
      },
      "execution_count": 26,
      "outputs": [
        {
          "output_type": "execute_result",
          "data": {
            "text/plain": [
              "0    14680\n",
              "1      319\n",
              "Name: promotion_last_5years, dtype: int64"
            ]
          },
          "metadata": {},
          "execution_count": 26
        }
      ]
    },
    {
      "cell_type": "code",
      "source": [
        "df['promotion_last_5years'].value_counts() / len(df) * 100"
      ],
      "metadata": {
        "colab": {
          "base_uri": "https://localhost:8080/"
        },
        "id": "8N_E8nfzk2cR",
        "outputId": "c90f6e6c-a7e2-4d2d-e83a-68e20c38d9ee"
      },
      "execution_count": 27,
      "outputs": [
        {
          "output_type": "execute_result",
          "data": {
            "text/plain": [
              "0    97.873192\n",
              "1     2.126808\n",
              "Name: promotion_last_5years, dtype: float64"
            ]
          },
          "metadata": {},
          "execution_count": 27
        }
      ]
    },
    {
      "cell_type": "code",
      "source": [
        "# 타겟 데이터 범주의 비율을 확인\n",
        "y =  df['promotion_last_5years']\n",
        "print(\"타겟데이터의 비율\\n\",y.value_counts(normalize=True))\n",
        "\n",
        "\n",
        "%matplotlib inline\n",
        "sns.countplot(x=y);"
      ],
      "metadata": {
        "colab": {
          "base_uri": "https://localhost:8080/",
          "height": 351
        },
        "id": "aJp0HXiFmuFG",
        "outputId": "89efb5a4-2e78-473e-cf14-0f6ab04bc2cf"
      },
      "execution_count": 28,
      "outputs": [
        {
          "output_type": "stream",
          "name": "stdout",
          "text": [
            "타겟데이터의 비율\n",
            " 0    0.978732\n",
            "1    0.021268\n",
            "Name: promotion_last_5years, dtype: float64\n"
          ]
        },
        {
          "output_type": "display_data",
          "data": {
            "text/plain": [
              "<Figure size 432x288 with 1 Axes>"
            ],
            "image/png": "[encoded data removed]"
          },
          "metadata": {
            "needs_background": "light"
          }
        }
      ]
    },
    {
      "cell_type": "code",
      "source": [
        "# 승진한 사람들의 평가점수가 승진 못한 사람들보다 높다?"
      ],
      "metadata": {
        "id": "-rBU7dfvZs4p"
      },
      "execution_count": null,
      "outputs": []
    },
    {
      "cell_type": "code",
      "source": [
        "np.random.seed(10)\n",
        "\n",
        "pro_means, nonpro_means, diff_means = [], [], []\n",
        "\n",
        "for _ in range(10000):\n",
        "  sample = df.sample(df.shape[0], replace=True)\n",
        "  \n",
        "  pro_mean = sample[sample['promotion_last_5years'] == 1]['last_evaluation'].mean()\n",
        "  pro_means.append(pro_mean)\n",
        "\n",
        "  nonpro_mean = sample[sample['promotion_last_5years'] == 0]['last_evaluation'].mean()\n",
        "  nonpro_means.append(nonpro_mean)\n",
        "\n",
        "  diff_means.append(pro_mean - nonpro_mean)"
      ],
      "metadata": {
        "id": "PnDwqmuYX2np"
      },
      "execution_count": 9,
      "outputs": []
    },
    {
      "cell_type": "code",
      "source": [
        "plt.figure(figsize=(8,5))\n",
        "plt.hist(pro_means, alpha = 0.5, label='pro')\n",
        "plt.hist(nonpro_means, alpha = 0.5, label = 'no pro')\n",
        "plt.legend(loc=9, fontsize=13)\n",
        "plt.show()"
      ],
      "metadata": {
        "colab": {
          "base_uri": "https://localhost:8080/",
          "height": 320
        },
        "id": "Nso8_2Zva_7R",
        "outputId": "175fd2a7-f1e6-4368-f315-19933743af18"
      },
      "execution_count": 10,
      "outputs": [
        {
          "output_type": "display_data",
          "data": {
            "text/plain": [
              "<Figure size 576x360 with 1 Axes>"
            ],
            "image/png": "[encoded data removed]"
          },
          "metadata": {
            "needs_background": "light"
          }
        }
      ]
    },
    {
      "cell_type": "code",
      "source": [
        "plt.figure(figsize=(8,5))\n",
        "plt.hist(diff_means, alpha=0.5, label = 'Difference in Means')\n",
        "plt.axvline(0, c='r')\n",
        "plt.legend(loc=9, fontsize=13);"
      ],
      "metadata": {
        "colab": {
          "base_uri": "https://localhost:8080/",
          "height": 320
        },
        "id": "_ai7uPhqbSvp",
        "outputId": "6068a5a3-b7d5-46d8-d661-fae37f7d92e6"
      },
      "execution_count": 11,
      "outputs": [
        {
          "output_type": "display_data",
          "data": {
            "text/plain": [
              "<Figure size 576x360 with 1 Axes>"
            ],
            "image/png": "[encoded data removed]"
          },
          "metadata": {
            "needs_background": "light"
          }
        }
      ]
    },
    {
      "cell_type": "code",
      "source": [
        "# 귀무가설 : pro - nonpro <= 0 -> 둘의 차이를 나타내는 분포는 0을 나타내는 빨간선 기준으로 왼쪽이 더 많음 (기각불가)\n",
        "# 대립가설 : pro - nonpro > 0 -> 승진한 사람들의 평가점수가 승진못한 사람들의 평가점수보다 낮다 (채택불가)"
      ],
      "metadata": {
        "id": "-A32Bc0Xenc6"
      },
      "execution_count": null,
      "outputs": []
    },
    {
      "cell_type": "code",
      "source": [
        "sample_diff_mean = df[df['promotion_last_5years'] == 1]['last_evaluation'].mean() - df[df['promotion_last_5years'] == 0]['last_evaluation'].mean()\n",
        "sample_diff_mean"
      ],
      "metadata": {
        "colab": {
          "base_uri": "https://localhost:8080/"
        },
        "id": "3FlqwNJR4j8L",
        "outputId": "5d717ddb-0f66-4b02-fdec-068d105a26ce"
      },
      "execution_count": 12,
      "outputs": [
        {
          "output_type": "execute_result",
          "data": {
            "text/plain": [
              "-0.010302035909218965"
            ]
          },
          "metadata": {},
          "execution_count": 12
        }
      ]
    },
    {
      "cell_type": "code",
      "source": [
        "sample_diff_std = np.std(diff_means)\n",
        "sample_diff_std"
      ],
      "metadata": {
        "colab": {
          "base_uri": "https://localhost:8080/"
        },
        "id": "_kqwdVuw4-cV",
        "outputId": "6ac70405-e7c0-4ea5-ef6e-c8bfc1f8f0a4"
      },
      "execution_count": 13,
      "outputs": [
        {
          "output_type": "execute_result",
          "data": {
            "text/plain": [
              "0.00965130397710262"
            ]
          },
          "metadata": {},
          "execution_count": 13
        }
      ]
    },
    {
      "cell_type": "code",
      "source": [
        "plt.figure(figsize=(8,5))\n",
        "null_vals = np.random.normal(0, sample_diff_std, 1000) # diff_means는 두 분포의 차이의 표본 분포입니다.\n",
        "plt.hist(null_vals, alpha=0.5, label='null hypothesis')\n",
        "plt.axvline(sample_diff_mean, color='r', label='statistics')\n",
        "plt.legend(loc=9, fontsize=13)\n",
        "plt.show()"
      ],
      "metadata": {
        "colab": {
          "base_uri": "https://localhost:8080/",
          "height": 323
        },
        "id": "r4oyyxaT5B9W",
        "outputId": "c984836e-c1fc-4478-b24f-d75bd13be371"
      },
      "execution_count": 14,
      "outputs": [
        {
          "output_type": "display_data",
          "data": {
            "text/plain": [
              "<Figure size 576x360 with 1 Axes>"
            ],
            "image/png": "[encoded data removed]"
          },
          "metadata": {
            "needs_background": "light"
          }
        }
      ]
    },
    {
      "cell_type": "code",
      "source": [
        "# p-value 확인\n",
        "(null_vals < sample_diff_mean).mean()"
      ],
      "metadata": {
        "colab": {
          "base_uri": "https://localhost:8080/"
        },
        "id": "BYamZo7e7YYx",
        "outputId": "b77ba871-2f65-46b7-c0d5-f43d93f9bcf5"
      },
      "execution_count": 16,
      "outputs": [
        {
          "output_type": "execute_result",
          "data": {
            "text/plain": [
              "0.14"
            ]
          },
          "metadata": {},
          "execution_count": 16
        }
      ]
    },
    {
      "cell_type": "code",
      "source": [
        "# 이 평균 평가점수 차이가 귀무 분포의 왼쪽에 존재함을 알 수 있습니다. 기각역은 0.05보다 작아야 기각이 가능하지만 그래프상에서도 0.05보다 더 큰 면적으로 보이고 있으므로 기각 불가\n",
        "# p-value가 0.14로 0.05보다 크기 때문에 귀무 가설을 기각할 수 없고 대립 가설을 채택할 수 없다."
      ],
      "metadata": {
        "id": "nNTTK0KL6paa"
      },
      "execution_count": null,
      "outputs": []
    },
    {
      "cell_type": "code",
      "source": [
        "# 승진한 사람들의 플젝수가 승진 못한 사람들보다 많다?"
      ],
      "metadata": {
        "id": "A7tkH5jY3O1-"
      },
      "execution_count": null,
      "outputs": []
    },
    {
      "cell_type": "code",
      "source": [
        "np.random.seed(10)\n",
        "\n",
        "pro_means, nonpro_means, diff_means = [], [], []\n",
        "\n",
        "for _ in range(10000):\n",
        "  sample = df.sample(df.shape[0], replace=True)\n",
        "  \n",
        "  pro_mean = sample[sample['promotion_last_5years'] == 1]['number_project'].mean()\n",
        "  pro_means.append(pro_mean)\n",
        "\n",
        "  nonpro_mean = sample[sample['promotion_last_5years'] == 0]['number_project'].mean()\n",
        "  nonpro_means.append(nonpro_mean)\n",
        "\n",
        "  diff_means.append(pro_mean - nonpro_mean)"
      ],
      "metadata": {
        "id": "Ss-EH6Qr3asB"
      },
      "execution_count": 17,
      "outputs": []
    },
    {
      "cell_type": "code",
      "source": [
        "plt.figure(figsize=(8,5))\n",
        "plt.hist(pro_means, alpha = 0.5, label='pro')\n",
        "plt.hist(nonpro_means, alpha = 0.5, label = 'no pro')\n",
        "plt.legend(loc=9, fontsize=13)\n",
        "plt.show()"
      ],
      "metadata": {
        "colab": {
          "base_uri": "https://localhost:8080/",
          "height": 320
        },
        "id": "TChzcYIp4RFf",
        "outputId": "d0e940a5-0686-4bf6-f1cd-9c49b703121c"
      },
      "execution_count": 18,
      "outputs": [
        {
          "output_type": "display_data",
          "data": {
            "text/plain": [
              "<Figure size 576x360 with 1 Axes>"
            ],
            "image/png": "[encoded data removed]"
          },
          "metadata": {
            "needs_background": "light"
          }
        }
      ]
    },
    {
      "cell_type": "code",
      "source": [
        "plt.figure(figsize=(8,5))\n",
        "plt.hist(diff_means, alpha=0.5, label = 'Difference in Means')\n",
        "plt.axvline(0, c='r')\n",
        "plt.legend(loc=9, fontsize=13);"
      ],
      "metadata": {
        "colab": {
          "base_uri": "https://localhost:8080/",
          "height": 320
        },
        "id": "tesySpRT4UiV",
        "outputId": "c0f3b383-a409-49d1-8818-a9feabbdc7c7"
      },
      "execution_count": 19,
      "outputs": [
        {
          "output_type": "display_data",
          "data": {
            "text/plain": [
              "<Figure size 576x360 with 1 Axes>"
            ],
            "image/png": "[encoded data removed]"
          },
          "metadata": {
            "needs_background": "light"
          }
        }
      ]
    },
    {
      "cell_type": "code",
      "source": [
        "# 귀무가설 : pro - nonpro <= 0 -> 둘의 차이를 나타내는 분포는 0을 나타내는 빨간선 기준으로 왼쪽이 더 많음(기각불가)\n",
        "# 대립가설 : pro - nonpro > 0 -> 승진한 사람들의 평균 프로젝트수가 승진못한 사람들의 평균 프로젝트수보다 많다 (채택불가)"
      ],
      "metadata": {
        "id": "3xnKZlaE9YAO"
      },
      "execution_count": null,
      "outputs": []
    },
    {
      "cell_type": "code",
      "source": [
        "sample_diff_mean = df[df['promotion_last_5years'] == 1]['number_project'].mean() - df[df['promotion_last_5years'] == 0]['number_project'].mean()\n",
        "sample_diff_mean"
      ],
      "metadata": {
        "colab": {
          "base_uri": "https://localhost:8080/"
        },
        "id": "mAky_9aTDopJ",
        "outputId": "4f8ca5df-a8ca-47fa-f156-f23c919e3f1b"
      },
      "execution_count": 20,
      "outputs": [
        {
          "output_type": "execute_result",
          "data": {
            "text/plain": [
              "-0.05180421617281539"
            ]
          },
          "metadata": {},
          "execution_count": 20
        }
      ]
    },
    {
      "cell_type": "code",
      "source": [
        "sample_diff_std = np.std(diff_means)\n",
        "sample_diff_std"
      ],
      "metadata": {
        "colab": {
          "base_uri": "https://localhost:8080/"
        },
        "id": "kt4tAqQbD1Dq",
        "outputId": "36d7bdea-39d7-41fc-c05c-764cd7130772"
      },
      "execution_count": 21,
      "outputs": [
        {
          "output_type": "execute_result",
          "data": {
            "text/plain": [
              "0.06037429538224993"
            ]
          },
          "metadata": {},
          "execution_count": 21
        }
      ]
    },
    {
      "cell_type": "code",
      "source": [
        "plt.figure(figsize=(8,5))\n",
        "null_vals = np.random.normal(0, sample_diff_std, 1000) # diff_means는 두 분포의 차이의 표본 분포입니다.\n",
        "plt.hist(null_vals, alpha=0.5, label='null hypothesis')\n",
        "plt.axvline(sample_diff_mean, color='r', label='statistics')\n",
        "plt.legend(loc=9, fontsize=13)\n",
        "plt.show()"
      ],
      "metadata": {
        "colab": {
          "base_uri": "https://localhost:8080/",
          "height": 323
        },
        "id": "wTfE6Sd8D4vm",
        "outputId": "98275f91-74f2-4240-a190-ca497b639640"
      },
      "execution_count": 22,
      "outputs": [
        {
          "output_type": "display_data",
          "data": {
            "text/plain": [
              "<Figure size 576x360 with 1 Axes>"
            ],
            "image/png": "[encoded data removed]"
          },
          "metadata": {
            "needs_background": "light"
          }
        }
      ]
    },
    {
      "cell_type": "code",
      "source": [
        "# p-value 확인\n",
        "(null_vals < sample_diff_mean).mean()"
      ],
      "metadata": {
        "colab": {
          "base_uri": "https://localhost:8080/"
        },
        "id": "FIPXW6CBD8Rb",
        "outputId": "e478955a-7d77-414c-9930-8af9287c081d"
      },
      "execution_count": 24,
      "outputs": [
        {
          "output_type": "execute_result",
          "data": {
            "text/plain": [
              "0.207"
            ]
          },
          "metadata": {},
          "execution_count": 24
        }
      ]
    },
    {
      "cell_type": "code",
      "source": [
        "# 이 평균 평가점수 차이가 귀무 분포의 왼쪽에 존재함을 알 수 있습니다. 기각역은 0.05보다 작아야 기각이 가능.\n",
        "# p-value가 0.207으로 0.05보다 작기 때문에 귀무 가설을 안전하게 기각하고 대립 가설을 채택할 수 있다."
      ],
      "metadata": {
        "id": "P4z_iY0ID_XD"
      },
      "execution_count": null,
      "outputs": []
    },
    {
      "cell_type": "code",
      "source": [
        "# 승진한 사람들의 평균 근무시간이 승진 못한 사람들보다 많다?"
      ],
      "metadata": {
        "id": "Yfluj5H4EMQ0"
      },
      "execution_count": null,
      "outputs": []
    },
    {
      "cell_type": "code",
      "source": [
        "np.random.seed(10)\n",
        "\n",
        "pro_means, nonpro_means, diff_means = [], [], []\n",
        "\n",
        "for _ in range(10000):\n",
        "  sample = df.sample(df.shape[0], replace=True)\n",
        "  \n",
        "  pro_mean = sample[sample['promotion_last_5years'] == 1]['average_montly_hours'].mean()\n",
        "  pro_means.append(pro_mean)\n",
        "\n",
        "  nonpro_mean = sample[sample['promotion_last_5years'] == 0]['average_montly_hours'].mean()\n",
        "  nonpro_means.append(nonpro_mean)\n",
        "\n",
        "  diff_means.append(pro_mean - nonpro_mean)"
      ],
      "metadata": {
        "id": "3sNaoT_oLda0"
      },
      "execution_count": 25,
      "outputs": []
    },
    {
      "cell_type": "code",
      "source": [
        "plt.figure(figsize=(8,5))\n",
        "plt.hist(pro_means, alpha = 0.5, label='pro')\n",
        "plt.hist(nonpro_means, alpha = 0.5, label = 'no pro')\n",
        "plt.legend(loc=9, fontsize=13)\n",
        "plt.show()"
      ],
      "metadata": {
        "colab": {
          "base_uri": "https://localhost:8080/",
          "height": 320
        },
        "id": "4gA9IYPPMWbA",
        "outputId": "8e7639b6-7b64-4ec1-8b43-07c196da06c6"
      },
      "execution_count": 26,
      "outputs": [
        {
          "output_type": "display_data",
          "data": {
            "text/plain": [
              "<Figure size 576x360 with 1 Axes>"
            ],
            "image/png": "[encoded data removed]"
          },
          "metadata": {
            "needs_background": "light"
          }
        }
      ]
    },
    {
      "cell_type": "code",
      "source": [
        "plt.figure(figsize=(8,5))\n",
        "plt.hist(diff_means, alpha=0.5, label = 'Difference in Means')\n",
        "plt.axvline(0, c='r')\n",
        "plt.legend(loc=9, fontsize=13);"
      ],
      "metadata": {
        "colab": {
          "base_uri": "https://localhost:8080/",
          "height": 320
        },
        "id": "B5Ut90bHMbSc",
        "outputId": "adc5ec2e-479b-4ae5-84a5-441abfcfa920"
      },
      "execution_count": 27,
      "outputs": [
        {
          "output_type": "display_data",
          "data": {
            "text/plain": [
              "<Figure size 576x360 with 1 Axes>"
            ],
            "image/png": "[encoded data removed]"
          },
          "metadata": {
            "needs_background": "light"
          }
        }
      ]
    },
    {
      "cell_type": "code",
      "source": [
        "# 귀무가설 : pro - nonpro <= 0 -> 둘의 차이를 나타내는 분포는 0을 나타내는 빨간선 기준으로 왼쪽이 더 많음(기각불가)\n",
        "# 대립가설 : pro - nonpro > 0 -> 승진한 사람들의 평균 프로젝트수가 승진못한 사람들의 평균 프로젝트수보다 많다 (채택불가)"
      ],
      "metadata": {
        "id": "WZ_GkAwiMffv"
      },
      "execution_count": null,
      "outputs": []
    },
    {
      "cell_type": "code",
      "source": [
        "sample_diff_mean = df[df['promotion_last_5years'] == 1]['average_montly_hours'].mean() - df[df['promotion_last_5years'] == 0]['average_montly_hours'].mean()\n",
        "sample_diff_mean"
      ],
      "metadata": {
        "colab": {
          "base_uri": "https://localhost:8080/"
        },
        "id": "lHpMJorgM7xG",
        "outputId": "a25514fc-db64-495c-f15e-13fe1f4e58a7"
      },
      "execution_count": 28,
      "outputs": [
        {
          "output_type": "execute_result",
          "data": {
            "text/plain": [
              "-1.2269007371469058"
            ]
          },
          "metadata": {},
          "execution_count": 28
        }
      ]
    },
    {
      "cell_type": "code",
      "source": [
        "sample_diff_std = np.std(diff_means)\n",
        "sample_diff_std"
      ],
      "metadata": {
        "colab": {
          "base_uri": "https://localhost:8080/"
        },
        "id": "dEMkOXsxNF61",
        "outputId": "b5790a73-7b52-427b-d088-c0e9aee304b1"
      },
      "execution_count": 29,
      "outputs": [
        {
          "output_type": "execute_result",
          "data": {
            "text/plain": [
              "2.737292364254533"
            ]
          },
          "metadata": {},
          "execution_count": 29
        }
      ]
    },
    {
      "cell_type": "code",
      "source": [
        "plt.figure(figsize=(8,5))\n",
        "null_vals = np.random.normal(0, sample_diff_std, 1000) # diff_means는 두 분포의 차이의 표본 분포입니다.\n",
        "plt.hist(null_vals, alpha=0.5, label='null hypothesis')\n",
        "plt.axvline(sample_diff_mean, color='r', label='statistics')\n",
        "plt.legend(loc=9, fontsize=13)\n",
        "plt.show()"
      ],
      "metadata": {
        "colab": {
          "base_uri": "https://localhost:8080/",
          "height": 323
        },
        "id": "f4nLl-scNJHh",
        "outputId": "31dc981f-27e1-4ba7-c9ff-9fb197fc6658"
      },
      "execution_count": 30,
      "outputs": [
        {
          "output_type": "display_data",
          "data": {
            "text/plain": [
              "<Figure size 576x360 with 1 Axes>"
            ],
            "image/png": "[encoded data removed]"
          },
          "metadata": {
            "needs_background": "light"
          }
        }
      ]
    },
    {
      "cell_type": "code",
      "source": [
        "# p-value 확인\n",
        "(null_vals < sample_diff_mean).mean()"
      ],
      "metadata": {
        "colab": {
          "base_uri": "https://localhost:8080/"
        },
        "id": "pkqnIuDcNNXY",
        "outputId": "7cebdd90-00b0-4a9f-c369-ea125a40610d"
      },
      "execution_count": 32,
      "outputs": [
        {
          "output_type": "execute_result",
          "data": {
            "text/plain": [
              "0.342"
            ]
          },
          "metadata": {},
          "execution_count": 32
        }
      ]
    },
    {
      "cell_type": "code",
      "source": [
        "# 이 평균 평가점수 차이가 귀무 분포의 오른쪽에 존재함을 알 수 있습니다. 기각역은 0.05보다 작아야 기각이 가능한데 오른쪽에 존재하는 분포가 0.05보다 작아보임?\n",
        "# p-value가 0.342으로 0.05보다 작기 때문에 귀무 가설을 안전하게 기각하고 대립 가설을 채택할 수 있다."
      ],
      "metadata": {
        "id": "2-27qz6XNT2P"
      },
      "execution_count": null,
      "outputs": []
    },
    {
      "cell_type": "code",
      "source": [
        "# 승진한 사람들의 근속년수가 승진 못한 사람들보다 많다?"
      ],
      "metadata": {
        "id": "HXL9UFSfOHge"
      },
      "execution_count": null,
      "outputs": []
    },
    {
      "cell_type": "code",
      "source": [
        "np.random.seed(10)\n",
        "\n",
        "pro_means, nonpro_means, diff_means = [], [], []\n",
        "\n",
        "for _ in range(10000):\n",
        "  sample = df.sample(df.shape[0], replace=True)\n",
        "  \n",
        "  pro_mean = sample[sample['promotion_last_5years'] == 1]['time_spend_company'].mean()\n",
        "  pro_means.append(pro_mean)\n",
        "\n",
        "  nonpro_mean = sample[sample['promotion_last_5years'] == 0]['time_spend_company'].mean()\n",
        "  nonpro_means.append(nonpro_mean)\n",
        "\n",
        "  diff_means.append(pro_mean - nonpro_mean)"
      ],
      "metadata": {
        "id": "e72RBWNvOQTw"
      },
      "execution_count": 33,
      "outputs": []
    },
    {
      "cell_type": "code",
      "source": [
        "plt.figure(figsize=(8,5))\n",
        "plt.hist(pro_means, alpha = 0.5, label='pro')\n",
        "plt.hist(nonpro_means, alpha = 0.5, label = 'no pro')\n",
        "plt.legend(loc=9, fontsize=13)\n",
        "plt.show()"
      ],
      "metadata": {
        "colab": {
          "base_uri": "https://localhost:8080/",
          "height": 320
        },
        "id": "Jqzq0b63Oczg",
        "outputId": "6d8cee14-e8fc-4736-f463-47650b636d38"
      },
      "execution_count": 34,
      "outputs": [
        {
          "output_type": "display_data",
          "data": {
            "text/plain": [
              "<Figure size 576x360 with 1 Axes>"
            ],
            "image/png": "[encoded data removed]"
          },
          "metadata": {
            "needs_background": "light"
          }
        }
      ]
    },
    {
      "cell_type": "code",
      "source": [
        "plt.figure(figsize=(8,5))\n",
        "plt.hist(diff_means, alpha=0.5, label = 'Difference in Means')\n",
        "plt.axvline(0, c='r')\n",
        "plt.legend(loc=9, fontsize=13);"
      ],
      "metadata": {
        "colab": {
          "base_uri": "https://localhost:8080/",
          "height": 320
        },
        "id": "5T90CY1OOguA",
        "outputId": "9afd2805-1ed8-4409-8a34-c2bf690cf18d"
      },
      "execution_count": 35,
      "outputs": [
        {
          "output_type": "display_data",
          "data": {
            "text/plain": [
              "<Figure size 576x360 with 1 Axes>"
            ],
            "image/png": "[encoded data removed]"
          },
          "metadata": {
            "needs_background": "light"
          }
        }
      ]
    },
    {
      "cell_type": "code",
      "source": [
        "# 귀무가설 : pro - nonpro <= 0 -> 둘의 차이를 나타내는 분포는 0을 나타내는 빨간선 기준으로 오른쪽에 위치(기각)\n",
        "# 대립가설 : pro - nonpro > 0 -> 승진한 사람들의 평균 근속년수가 승진못한 사람들의 평균 근속년수보다 많다 (채택)"
      ],
      "metadata": {
        "id": "0xpFkQyMOjod"
      },
      "execution_count": null,
      "outputs": []
    },
    {
      "cell_type": "code",
      "source": [
        "sample_diff_mean = df[df['promotion_last_5years'] == 1]['time_spend_company'].mean() - df[df['promotion_last_5years'] == 0]['time_spend_company'].mean()\n",
        "sample_diff_mean"
      ],
      "metadata": {
        "colab": {
          "base_uri": "https://localhost:8080/"
        },
        "id": "cZdgqZwXO2Y_",
        "outputId": "b6a5537b-9ca0-4b8b-c79b-a7aa76fc713f"
      },
      "execution_count": 36,
      "outputs": [
        {
          "output_type": "execute_result",
          "data": {
            "text/plain": [
              "0.682424854577913"
            ]
          },
          "metadata": {},
          "execution_count": 36
        }
      ]
    },
    {
      "cell_type": "code",
      "source": [
        "sample_diff_std = np.std(diff_means)\n",
        "sample_diff_std"
      ],
      "metadata": {
        "colab": {
          "base_uri": "https://localhost:8080/"
        },
        "id": "bdwWDYzDO_sj",
        "outputId": "c31465b3-6e67-4993-ee4d-a82a844044ce"
      },
      "execution_count": 37,
      "outputs": [
        {
          "output_type": "execute_result",
          "data": {
            "text/plain": [
              "0.12245958651824032"
            ]
          },
          "metadata": {},
          "execution_count": 37
        }
      ]
    },
    {
      "cell_type": "code",
      "source": [
        "plt.figure(figsize=(8,5))\n",
        "null_vals = np.random.normal(0, sample_diff_std, 1000) # diff_means는 두 분포의 차이의 표본 분포입니다.\n",
        "plt.hist(null_vals, alpha=0.5, label='null hypothesis')\n",
        "plt.axvline(sample_diff_mean, color='r', label='statistics')\n",
        "plt.legend(loc=9, fontsize=13)\n",
        "plt.show()"
      ],
      "metadata": {
        "colab": {
          "base_uri": "https://localhost:8080/",
          "height": 323
        },
        "id": "DJCdQf7QPCgf",
        "outputId": "04ad9b80-1e32-454d-85eb-f18690a841ca"
      },
      "execution_count": 38,
      "outputs": [
        {
          "output_type": "display_data",
          "data": {
            "text/plain": [
              "<Figure size 576x360 with 1 Axes>"
            ],
            "image/png": "[encoded data removed]"
          },
          "metadata": {
            "needs_background": "light"
          }
        }
      ]
    },
    {
      "cell_type": "code",
      "source": [
        "# p-value 확인\n",
        "(null_vals > sample_diff_mean).mean()"
      ],
      "metadata": {
        "colab": {
          "base_uri": "https://localhost:8080/"
        },
        "id": "i058qzNfPGVB",
        "outputId": "2b5a4b4e-98b2-46c4-dcea-b7471a63c887"
      },
      "execution_count": 40,
      "outputs": [
        {
          "output_type": "execute_result",
          "data": {
            "text/plain": [
              "0.0"
            ]
          },
          "metadata": {},
          "execution_count": 40
        }
      ]
    },
    {
      "cell_type": "code",
      "source": [
        "# 이 평균 만족도 차이가 귀무 분포의 왼쪽에 존재함을 알 수 있습니다. 기각역은 0.05보다 작아야 기각이 가능한데 왼쪽에 존재하는 분포가 없음.\n",
        "# p-value가 0으로 0.05보다 작기 때문에 귀무 가설을 안전하게 기각하고 대립 가설을 채택할 수 있다."
      ],
      "metadata": {
        "id": "8KugYsFQPlD6"
      },
      "execution_count": null,
      "outputs": []
    },
    {
      "cell_type": "code",
      "source": [
        "# 승진한 사람들의 평균 직무 만족도가 승진 못한 사람들보다 높다?"
      ],
      "metadata": {
        "id": "bylfFw1dSWVD"
      },
      "execution_count": null,
      "outputs": []
    },
    {
      "cell_type": "code",
      "source": [
        "np.random.seed(10)\n",
        "\n",
        "pro_means, nonpro_means, diff_means = [], [], []\n",
        "\n",
        "for _ in range(10000):\n",
        "  sample = df.sample(df.shape[0], replace=True)\n",
        "  \n",
        "  pro_mean = sample[sample['promotion_last_5years'] == 1]['satisfaction_level'].mean()\n",
        "  pro_means.append(pro_mean)\n",
        "\n",
        "  nonpro_mean = sample[sample['promotion_last_5years'] == 0]['satisfaction_level'].mean()\n",
        "  nonpro_means.append(nonpro_mean)\n",
        "\n",
        "  diff_means.append(pro_mean - nonpro_mean)"
      ],
      "metadata": {
        "id": "xvb5KgDSr8IP"
      },
      "execution_count": 41,
      "outputs": []
    },
    {
      "cell_type": "code",
      "source": [
        "plt.figure(figsize=(8,5))\n",
        "plt.hist(pro_means, alpha = 0.5, label='pro')\n",
        "plt.hist(nonpro_means, alpha = 0.5, label = 'no pro')\n",
        "plt.legend(loc=9, fontsize=13)\n",
        "plt.show()"
      ],
      "metadata": {
        "colab": {
          "base_uri": "https://localhost:8080/",
          "height": 320
        },
        "id": "Pg6JuHsvsIVQ",
        "outputId": "132e7279-ff64-4f81-e9c9-16fef71a58dc"
      },
      "execution_count": 42,
      "outputs": [
        {
          "output_type": "display_data",
          "data": {
            "text/plain": [
              "<Figure size 576x360 with 1 Axes>"
            ],
            "image/png": "[encoded data removed]"
          },
          "metadata": {
            "needs_background": "light"
          }
        }
      ]
    },
    {
      "cell_type": "code",
      "source": [
        "plt.figure(figsize=(8,5))\n",
        "plt.hist(diff_means, alpha=0.5, label = 'Difference in Means')\n",
        "plt.axvline(0, c='r')\n",
        "plt.legend(loc=9, fontsize=13);"
      ],
      "metadata": {
        "colab": {
          "base_uri": "https://localhost:8080/",
          "height": 320
        },
        "id": "7N8zkGlTsNJh",
        "outputId": "a5a256a3-f9ad-469f-80b4-abf50b84c202"
      },
      "execution_count": 43,
      "outputs": [
        {
          "output_type": "display_data",
          "data": {
            "text/plain": [
              "<Figure size 576x360 with 1 Axes>"
            ],
            "image/png": "[encoded data removed]"
          },
          "metadata": {
            "needs_background": "light"
          }
        }
      ]
    },
    {
      "cell_type": "code",
      "source": [
        "# 귀무가설 : pro - nonpro <= 0 -> 둘의 차이를 나타내는 분포는 0을 나타내는 빨간선 기준으로 오른쪽에 위치(기각)\n",
        "# 대립가설 : pro - nonpro > 0 -> 승진한 사람들의 평균 근속년수가 승진못한 사람들의 평균 근속년수보다 많다 (채택)"
      ],
      "metadata": {
        "id": "Mgx3QiJbsQ_4"
      },
      "execution_count": null,
      "outputs": []
    },
    {
      "cell_type": "code",
      "source": [
        "sample_diff_mean = df[df['promotion_last_5years'] == 1]['satisfaction_level'].mean() - df[df['promotion_last_5years'] == 0]['satisfaction_level'].mean()\n",
        "sample_diff_mean"
      ],
      "metadata": {
        "colab": {
          "base_uri": "https://localhost:8080/"
        },
        "id": "wBqJmXAEsQza",
        "outputId": "dae84a7e-c3c3-4a9c-975a-af3c3f8aec97"
      },
      "execution_count": 44,
      "outputs": [
        {
          "output_type": "execute_result",
          "data": {
            "text/plain": [
              "0.0441237134095821"
            ]
          },
          "metadata": {},
          "execution_count": 44
        }
      ]
    },
    {
      "cell_type": "code",
      "source": [
        "sample_diff_std = np.std(diff_means)\n",
        "sample_diff_std"
      ],
      "metadata": {
        "colab": {
          "base_uri": "https://localhost:8080/"
        },
        "id": "ezz_3hq4sVt-",
        "outputId": "381f8d4d-883e-4caa-f9ac-f926b25fb911"
      },
      "execution_count": 45,
      "outputs": [
        {
          "output_type": "execute_result",
          "data": {
            "text/plain": [
              "0.011938608246174487"
            ]
          },
          "metadata": {},
          "execution_count": 45
        }
      ]
    },
    {
      "cell_type": "code",
      "source": [
        "plt.figure(figsize=(8,5))\n",
        "null_vals = np.random.normal(0, sample_diff_std, 1000) # diff_means는 두 분포의 차이의 표본 분포입니다.\n",
        "plt.hist(null_vals, alpha=0.5, label='null hypothesis')\n",
        "plt.axvline(sample_diff_mean, color='r', label='statistics')\n",
        "plt.legend(loc=9, fontsize=13)\n",
        "plt.show()"
      ],
      "metadata": {
        "colab": {
          "base_uri": "https://localhost:8080/",
          "height": 323
        },
        "id": "LVI9VJ0vsQll",
        "outputId": "6250ff66-6d83-414e-9bf3-ef3718b53328"
      },
      "execution_count": 46,
      "outputs": [
        {
          "output_type": "display_data",
          "data": {
            "text/plain": [
              "<Figure size 576x360 with 1 Axes>"
            ],
            "image/png": "[encoded data removed]"
          },
          "metadata": {
            "needs_background": "light"
          }
        }
      ]
    },
    {
      "cell_type": "code",
      "source": [
        "# p-value 확인\n",
        "(null_vals > sample_diff_mean).mean()"
      ],
      "metadata": {
        "colab": {
          "base_uri": "https://localhost:8080/"
        },
        "id": "rGe36JjIsnSt",
        "outputId": "f214bc1d-6fc5-480e-e307-41090f01985d"
      },
      "execution_count": 47,
      "outputs": [
        {
          "output_type": "execute_result",
          "data": {
            "text/plain": [
              "0.0"
            ]
          },
          "metadata": {},
          "execution_count": 47
        }
      ]
    },
    {
      "cell_type": "code",
      "source": [
        "# 이 평균 만족도 차이가 귀무 분포의 오른쪽에 존재함을 알 수 있습니다. 기각역은 0.05보다 작아야 기각이 가능한데 오른쪽에 존재하는 분포가 없음.\n",
        "# p-value가 0으로 0.05보다 작기 때문에 귀무 가설을 안전하게 기각하고 대립 가설을 채택할 수 있다."
      ],
      "metadata": {
        "id": "kEbMGzPPsq6P"
      },
      "execution_count": null,
      "outputs": []
    },
    {
      "cell_type": "code",
      "source": [
        "# 승진한 사람들의 평균 사건사고건수가 승진 못한 사람들보다 적다?"
      ],
      "metadata": {
        "id": "cJEObGZOs7hy"
      },
      "execution_count": null,
      "outputs": []
    },
    {
      "cell_type": "code",
      "source": [
        "Work = df.groupby(['promotion_last_5years','Work_accident']).size()\n",
        "Work"
      ],
      "metadata": {
        "colab": {
          "base_uri": "https://localhost:8080/"
        },
        "id": "pUGAGFxytHe3",
        "outputId": "e4c7ca98-4672-4c82-9223-bc69981796dc"
      },
      "execution_count": 49,
      "outputs": [
        {
          "output_type": "execute_result",
          "data": {
            "text/plain": [
              "promotion_last_5years  Work_accident\n",
              "0                      0                12587\n",
              "                       1                 2093\n",
              "1                      0                  243\n",
              "                       1                   76\n",
              "dtype: int64"
            ]
          },
          "metadata": {},
          "execution_count": 49
        }
      ]
    },
    {
      "cell_type": "code",
      "source": [
        "import seaborn as sns\n",
        "\n",
        "# kind에 count를 넣어주는 것에 주목합시다.\n",
        "sns.catplot(data=df, x=\"promotion_last_5years\",col=\"Work_accident\",kind=\"count\",col_wrap=2)"
      ],
      "metadata": {
        "colab": {
          "base_uri": "https://localhost:8080/",
          "height": 387
        },
        "id": "lJWgSN7p0B9m",
        "outputId": "39d9b454-08d8-4f57-a4b5-edb96b21d160"
      },
      "execution_count": 50,
      "outputs": [
        {
          "output_type": "execute_result",
          "data": {
            "text/plain": [
              "<seaborn.axisgrid.FacetGrid at 0x7fc1259a32d0>"
            ]
          },
          "metadata": {},
          "execution_count": 50
        },
        {
          "output_type": "display_data",
          "data": {
            "text/plain": [
              "<Figure size 720x360 with 2 Axes>"
            ],
            "image/png": "[encoded data removed]"
          },
          "metadata": {
            "needs_background": "light"
          }
        }
      ]
    },
    {
      "cell_type": "code",
      "source": [
        "import scipy.stats as stats\n",
        "chi, p, df, ex = stats.chi2_contingency(Work)\n",
        "msg = \"chi2 : {}, p-value : {}, df : {}\".format(chi,p,df)\n",
        "print(msg)"
      ],
      "metadata": {
        "colab": {
          "base_uri": "https://localhost:8080/"
        },
        "id": "Bb11tWp82-3s",
        "outputId": "d228e5a7-32d8-4e11-8bac-691262121092"
      },
      "execution_count": 52,
      "outputs": [
        {
          "output_type": "stream",
          "name": "stdout",
          "text": [
            "chi2 : 0.0, p-value : 1.0, df : 0\n"
          ]
        }
      ]
    },
    {
      "cell_type": "code",
      "source": [
        "# p-value가 0.05보다 크기 때문에 승진과 사건발생여부는 관련성이 없다."
      ],
      "metadata": {
        "id": "sTMczno-uknW"
      },
      "execution_count": null,
      "outputs": []
    },
    {
      "cell_type": "markdown",
      "source": [
        "Modeling"
      ],
      "metadata": {
        "id": "5nuwEXGuwB2L"
      }
    },
    {
      "cell_type": "code",
      "source": [
        "# train, validation, test set으로 먼저 나눠주겠습니다.\n",
        "\n",
        "from sklearn.model_selection import train_test_split\n",
        "\n",
        "y = df['promotion_last_5years']\n",
        "X = df.drop('promotion_last_5years', axis=1)\n",
        "\n",
        "X_train, X_test, y_train, y_test = train_test_split(X, y,  random_state=42, stratify=y)\n",
        "X_train, X_val, y_train, y_val = train_test_split(X_train, y_train, random_state=42, stratify=y_train)\n",
        "\n",
        "print(\"X_train shape: \", X_train.shape)\n",
        "print(\"X_val shape: \", X_val.shape)\n",
        "print(\"X_test shape: \", X_test.shape)"
      ],
      "metadata": {
        "colab": {
          "base_uri": "https://localhost:8080/"
        },
        "id": "jpK7a0bRwBKJ",
        "outputId": "7db3b2f1-3294-44eb-b0ea-ec4f3b582e26"
      },
      "execution_count": 29,
      "outputs": [
        {
          "output_type": "stream",
          "name": "stdout",
          "text": [
            "X_train shape:  (8436, 9)\n",
            "X_val shape:  (2813, 9)\n",
            "X_test shape:  (3750, 9)\n"
          ]
        }
      ]
    },
    {
      "cell_type": "markdown",
      "source": [
        "기준 모델\n",
        "최빈 클래스 0 (majority class)으로 모든 예측 수행"
      ],
      "metadata": {
        "id": "UujlqGKiypRZ"
      }
    },
    {
      "cell_type": "code",
      "source": [
        "# mode(): Return the highest frequency value in a Series.\n",
        "base_major = y_train.mode()[0]\n",
        "\n",
        "# 타겟 샘플 수 만큼 0이 담긴 리스트를 만듭니다. 기준모델로 예측\n",
        "y_pred_base = [base_major] * len(y_train)"
      ],
      "metadata": {
        "id": "6CDLMVUwylp4"
      },
      "execution_count": 30,
      "outputs": []
    },
    {
      "cell_type": "code",
      "source": [
        "# 최빈 클래스의 빈도가 정확도가 됩니다.\n",
        "from sklearn.metrics import accuracy_score\n",
        "\n",
        "print(\"training accuracy: \", accuracy_score(y_train, y_pred_base).round(2))"
      ],
      "metadata": {
        "colab": {
          "base_uri": "https://localhost:8080/"
        },
        "id": "piK1oFzlyvG1",
        "outputId": "ab1b06b1-e90f-442d-b9ff-20b92d591305"
      },
      "execution_count": 31,
      "outputs": [
        {
          "output_type": "stream",
          "name": "stdout",
          "text": [
            "training accuracy:  0.98\n"
          ]
        }
      ]
    },
    {
      "cell_type": "code",
      "source": [
        "# 검증세트에서도 정확도를 확인해 볼 수 있습니다.\n",
        "y_pred_base_val = [base_major] * len(y_val)\n",
        "print(\"validation accuracy: \", accuracy_score(y_val, y_pred_base_val).round(2))"
      ],
      "metadata": {
        "colab": {
          "base_uri": "https://localhost:8080/"
        },
        "id": "_61hmcRvyybU",
        "outputId": "c2c2df0c-6a64-462d-d2bd-d7d4429e5cb4"
      },
      "execution_count": 32,
      "outputs": [
        {
          "output_type": "stream",
          "name": "stdout",
          "text": [
            "validation accuracy:  0.98\n"
          ]
        }
      ]
    },
    {
      "cell_type": "code",
      "source": [
        "# scaling -> 로지스틱 회귀모델은 디폴트로 l2 penalty가 적용되는 정규화 모델입니다. 따라서 모델을 만들기 전 표준화 작업이 필요\n",
        "# 문자형 변수를 수치형 변수로 변환 -> One-Hot Encoding\n",
        "from sklearn.preprocessing import StandardScaler\n",
        "numeric_feats = X_train.dtypes[X_train.dtypes != \"object\"].index\n",
        "\n",
        "scaler = StandardScaler()\n",
        "X_train[numeric_feats] = scaler.fit_transform(X_train[numeric_feats])\n",
        "X_val[numeric_feats] = scaler.transform(X_val[numeric_feats])\n",
        "X_test[numeric_feats] = scaler.transform(X_test[numeric_feats])"
      ],
      "metadata": {
        "id": "6nEK1Wt7y5Zf"
      },
      "execution_count": 33,
      "outputs": []
    },
    {
      "cell_type": "code",
      "source": [
        "# 원핫인코딩을 위해 category_encoders 라이브러리를 설치해줍니다.\n",
        "!pip install category_encoders"
      ],
      "metadata": {
        "colab": {
          "base_uri": "https://localhost:8080/"
        },
        "id": "jw-_Q1u4zbUv",
        "outputId": "7dbcdcc3-e77e-4654-9a0c-90eaf011872c"
      },
      "execution_count": 35,
      "outputs": [
        {
          "output_type": "stream",
          "name": "stdout",
          "text": [
            "Looking in indexes: https://pypi.org/simple, https://us-python.pkg.dev/colab-wheels/public/simple/\n",
            "Collecting category_encoders\n",
            "  Downloading category_encoders-2.5.0-py2.py3-none-any.whl (69 kB)\n",
            "\u001b[K     |████████████████████████████████| 69 kB 1.8 MB/s \n",
            "\u001b[?25hRequirement already satisfied: scipy>=1.0.0 in /usr/local/lib/python3.7/dist-packages (from category_encoders) (1.7.3)\n",
            "Requirement already satisfied: scikit-learn>=0.20.0 in /usr/local/lib/python3.7/dist-packages (from category_encoders) (1.0.2)\n",
            "Requirement already satisfied: pandas>=1.0.5 in /usr/local/lib/python3.7/dist-packages (from category_encoders) (1.3.5)\n",
            "Requirement already satisfied: statsmodels>=0.9.0 in /usr/local/lib/python3.7/dist-packages (from category_encoders) (0.12.2)\n",
            "Requirement already satisfied: numpy>=1.14.0 in /usr/local/lib/python3.7/dist-packages (from category_encoders) (1.21.6)\n",
            "Requirement already satisfied: patsy>=0.5.1 in /usr/local/lib/python3.7/dist-packages (from category_encoders) (0.5.2)\n",
            "Requirement already satisfied: python-dateutil>=2.7.3 in /usr/local/lib/python3.7/dist-packages (from pandas>=1.0.5->category_encoders) (2.8.2)\n",
            "Requirement already satisfied: pytz>=2017.3 in /usr/local/lib/python3.7/dist-packages (from pandas>=1.0.5->category_encoders) (2022.2.1)\n",
            "Requirement already satisfied: six in /usr/local/lib/python3.7/dist-packages (from patsy>=0.5.1->category_encoders) (1.15.0)\n",
            "Requirement already satisfied: joblib>=0.11 in /usr/local/lib/python3.7/dist-packages (from scikit-learn>=0.20.0->category_encoders) (1.1.0)\n",
            "Requirement already satisfied: threadpoolctl>=2.0.0 in /usr/local/lib/python3.7/dist-packages (from scikit-learn>=0.20.0->category_encoders) (3.1.0)\n",
            "Installing collected packages: category-encoders\n",
            "Successfully installed category-encoders-2.5.0\n"
          ]
        }
      ]
    },
    {
      "cell_type": "code",
      "source": [
        "# One-Hot encoding\n",
        "from category_encoders import OneHotEncoder\n",
        "\n",
        "ohe = OneHotEncoder()\n",
        "\n",
        "X_train_ohe = ohe.fit_transform(X_train)\n",
        "X_val_ohe = ohe.transform(X_val)\n",
        "X_test_ohe = ohe.transform(X_test)"
      ],
      "metadata": {
        "id": "UkZc3hv0zJVM"
      },
      "execution_count": 36,
      "outputs": []
    },
    {
      "cell_type": "code",
      "source": [
        "from sklearn.datasets import make_classification\n",
        "from sklearn.linear_model import LinearRegression, LogisticRegression\n",
        "\n",
        "logistic = LogisticRegression(class_weight='balanced')\n",
        "logistic.fit(X_train_ohe, y_train)\n",
        "y_val_pred = logistic.predict(X_val_ohe)\n",
        "print('logistic train accuracy', logistic.score(X_train_ohe, y_train).round(2))\n",
        "print(\"logistic validation accuracy: \", accuracy_score(y_val, y_val_pred).round(2))"
      ],
      "metadata": {
        "colab": {
          "base_uri": "https://localhost:8080/"
        },
        "id": "YzsRKM7wzmo9",
        "outputId": "e7a82353-f474-465d-f340-7783440578ac"
      },
      "execution_count": 37,
      "outputs": [
        {
          "output_type": "stream",
          "name": "stdout",
          "text": [
            "logistic train accuracy 0.73\n",
            "logistic validation accuracy:  0.72\n"
          ]
        }
      ]
    },
    {
      "cell_type": "code",
      "source": [
        "print('회귀계수가 양수인 특성 상위 3개')\n",
        "print(pd.Series(logistic.coef_[0], logistic.feature_names_in_).sort_values(ascending=False).head(3), '\\n')\n",
        "print('회귀계수가 음수인 특성 하위 3개')\n",
        "print(pd.Series(logistic.coef_[0], logistic.feature_names_in_).sort_values(ascending=False).tail(3))"
      ],
      "metadata": {
        "colab": {
          "base_uri": "https://localhost:8080/"
        },
        "id": "j9oj5RnRz16y",
        "outputId": "5b00bec4-1252-4a52-a374-b2a4397ee22c"
      },
      "execution_count": 38,
      "outputs": [
        {
          "output_type": "stream",
          "name": "stdout",
          "text": [
            "회귀계수가 양수인 특성 상위 3개\n",
            "department_5    1.829379\n",
            "department_7    1.089825\n",
            "department_4    1.051052\n",
            "dtype: float64 \n",
            "\n",
            "회귀계수가 음수인 특성 하위 3개\n",
            "salary_2       -0.760105\n",
            "department_9   -1.267516\n",
            "department_3   -3.758908\n",
            "dtype: float64\n"
          ]
        }
      ]
    },
    {
      "cell_type": "markdown",
      "source": [
        "회귀계수를 살펴보면\n",
        "\n",
        "5(department_5    1.829379)\n",
        "7(department_7    1.089825)\n",
        "4 (department_4    1.051052)\n",
        "승진할 가능성이 높아지는 것을 알 수 있습니다.\n",
        "\n",
        "임금수준 mid (salary_2       -0.760105)\n",
        "9(department_9   -1.267516)\n",
        "3(department_3   -3.758908)\n",
        "승진할 가능성이 낮아지는 것을 알 수 있습니다.\n"
      ],
      "metadata": {
        "id": "xH7UhpQV0Nwk"
      }
    },
    {
      "cell_type": "code",
      "source": [
        "y_true0 = y_val.value_counts()[0]\n",
        "y_true1 = y_val.value_counts()[1]\n",
        "fn = len(y_pred_base_val) - y_true0\n",
        "base = pd.DataFrame(index = ['True 0', 'True1'], data = {'Predicted 0':[y_true0, fn], 'Predicted 1':[0,0]})\n",
        "base"
      ],
      "metadata": {
        "colab": {
          "base_uri": "https://localhost:8080/",
          "height": 112
        },
        "id": "AxUCHQeT0Iy3",
        "outputId": "88eb5a42-629b-4f11-d71b-e27bfe846f0b"
      },
      "execution_count": 39,
      "outputs": [
        {
          "output_type": "execute_result",
          "data": {
            "text/plain": [
              "        Predicted 0  Predicted 1\n",
              "True 0         2753            0\n",
              "True1            60            0"
            ],
            "text/html": [
              "\n",
              "  <div id=\"df-298d01bb-fa67-40ed-99b8-b04e4f00f4db\">\n",
              "    <div class=\"colab-df-container\">\n",
              "      <div>\n",
              "<style scoped>\n",
              "    .dataframe tbody tr th:only-of-type {\n",
              "        vertical-align: middle;\n",
              "    }\n",
              "\n",
              "    .dataframe tbody tr th {\n",
              "        vertical-align: top;\n",
              "    }\n",
              "\n",
              "    .dataframe thead th {\n",
              "        text-align: right;\n",
              "    }\n",
              "</style>\n",
              "<table border=\"1\" class=\"dataframe\">\n",
              "  <thead>\n",
              "    <tr style=\"text-align: right;\">\n",
              "      <th></th>\n",
              "      <th>Predicted 0</th>\n",
              "      <th>Predicted 1</th>\n",
              "    </tr>\n",
              "  </thead>\n",
              "  <tbody>\n",
              "    <tr>\n",
              "      <th>True 0</th>\n",
              "      <td>2753</td>\n",
              "      <td>0</td>\n",
              "    </tr>\n",
              "    <tr>\n",
              "      <th>True1</th>\n",
              "      <td>60</td>\n",
              "      <td>0</td>\n",
              "    </tr>\n",
              "  </tbody>\n",
              "</table>\n",
              "</div>\n",
              "      <button class=\"colab-df-convert\" onclick=\"convertToInteractive('df-298d01bb-fa67-40ed-99b8-b04e4f00f4db')\"\n",
              "              title=\"Convert this dataframe to an interactive table.\"\n",
              "              style=\"display:none;\">\n",
              "        \n",
              "  <svg xmlns=\"http://www.w3.org/2000/svg\" height=\"24px\"viewBox=\"0 0 24 24\"\n",
              "       width=\"24px\">\n",
              "    <path d=\"M0 0h24v24H0V0z\" fill=\"none\"/>\n",
              "    <path d=\"M18.56 5.44l.94 2.06.94-2.06 2.06-.94-2.06-.94-.94-2.06-.94 2.06-2.06.94zm-11 1L8.5 8.5l.94-2.06 2.06-.94-2.06-.94L8.5 2.5l-.94 2.06-2.06.94zm10 10l.94 2.06.94-2.06 2.06-.94-2.06-.94-.94-2.06-.94 2.06-2.06.94z\"/><path d=\"M17.41 7.96l-1.37-1.37c-.4-.4-.92-.59-1.43-.59-.52 0-1.04.2-1.43.59L10.3 9.45l-7.72 7.72c-.78.78-.78 2.05 0 2.83L4 21.41c.39.39.9.59 1.41.59.51 0 1.02-.2 1.41-.59l7.78-7.78 2.81-2.81c.8-.78.8-2.07 0-2.86zM5.41 20L4 18.59l7.72-7.72 1.47 1.35L5.41 20z\"/>\n",
              "  </svg>\n",
              "      </button>\n",
              "      \n",
              "  <style>\n",
              "    .colab-df-container {\n",
              "      display:flex;\n",
              "      flex-wrap:wrap;\n",
              "      gap: 12px;\n",
              "    }\n",
              "\n",
              "    .colab-df-convert {\n",
              "      background-color: #E8F0FE;\n",
              "      border: none;\n",
              "      border-radius: 50%;\n",
              "      cursor: pointer;\n",
              "      display: none;\n",
              "      fill: #1967D2;\n",
              "      height: 32px;\n",
              "      padding: 0 0 0 0;\n",
              "      width: 32px;\n",
              "    }\n",
              "\n",
              "    .colab-df-convert:hover {\n",
              "      background-color: #E2EBFA;\n",
              "      box-shadow: 0px 1px 2px rgba(60, 64, 67, 0.3), 0px 1px 3px 1px rgba(60, 64, 67, 0.15);\n",
              "      fill: #174EA6;\n",
              "    }\n",
              "\n",
              "    [theme=dark] .colab-df-convert {\n",
              "      background-color: #3B4455;\n",
              "      fill: #D2E3FC;\n",
              "    }\n",
              "\n",
              "    [theme=dark] .colab-df-convert:hover {\n",
              "      background-color: #434B5C;\n",
              "      box-shadow: 0px 1px 3px 1px rgba(0, 0, 0, 0.15);\n",
              "      filter: drop-shadow(0px 1px 2px rgba(0, 0, 0, 0.3));\n",
              "      fill: #FFFFFF;\n",
              "    }\n",
              "  </style>\n",
              "\n",
              "      <script>\n",
              "        const buttonEl =\n",
              "          document.querySelector('#df-298d01bb-fa67-40ed-99b8-b04e4f00f4db button.colab-df-convert');\n",
              "        buttonEl.style.display =\n",
              "          google.colab.kernel.accessAllowed ? 'block' : 'none';\n",
              "\n",
              "        async function convertToInteractive(key) {\n",
              "          const element = document.querySelector('#df-298d01bb-fa67-40ed-99b8-b04e4f00f4db');\n",
              "          const dataTable =\n",
              "            await google.colab.kernel.invokeFunction('convertToInteractive',\n",
              "                                                     [key], {});\n",
              "          if (!dataTable) return;\n",
              "\n",
              "          const docLinkHtml = 'Like what you see? Visit the ' +\n",
              "            '<a target=\"_blank\" href=https://colab.research.google.com/notebooks/data_table.ipynb>data table notebook</a>'\n",
              "            + ' to learn more about interactive tables.';\n",
              "          element.innerHTML = '';\n",
              "          dataTable['output_type'] = 'display_data';\n",
              "          await google.colab.output.renderOutput(dataTable, element);\n",
              "          const docLink = document.createElement('div');\n",
              "          docLink.innerHTML = docLinkHtml;\n",
              "          element.appendChild(docLink);\n",
              "        }\n",
              "      </script>\n",
              "    </div>\n",
              "  </div>\n",
              "  "
            ]
          },
          "metadata": {},
          "execution_count": 39
        }
      ]
    },
    {
      "cell_type": "code",
      "source": [
        "fig, ax = plt.subplots()\n",
        "sns.heatmap(base, cmap=plt.cm.Blues, annot=True,fmt=\"d\")\n",
        "plt.title(f'Confusion matrix of Baseline, n = {len(y_val)}', fontsize=15)\n",
        "plt.show()"
      ],
      "metadata": {
        "colab": {
          "base_uri": "https://localhost:8080/",
          "height": 283
        },
        "id": "OJZY6xyA081k",
        "outputId": "918ebbcd-9c95-4d77-9304-c223649b0828"
      },
      "execution_count": 40,
      "outputs": [
        {
          "output_type": "display_data",
          "data": {
            "text/plain": [
              "<Figure size 432x288 with 2 Axes>"
            ],
            "image/png": "[encoded data removed]"
          },
          "metadata": {
            "needs_background": "light"
          }
        }
      ]
    },
    {
      "cell_type": "code",
      "source": [
        "# 기준모델은 모든 샘플을 0으로 예측하였고 우리가 정말 관심이 있는 Class1은 전혀 예측하지 못했습니다"
      ],
      "metadata": {
        "id": "9y3Rmm-s1Nv1"
      },
      "execution_count": null,
      "outputs": []
    },
    {
      "cell_type": "code",
      "source": [
        "from sklearn.metrics import plot_confusion_matrix\n",
        "import matplotlib.pyplot as plt\n",
        "\n",
        "fig, ax = plt.subplots()\n",
        "pcm = plot_confusion_matrix(logistic, X_val_ohe, y_val,\n",
        "                            cmap=plt.cm.Blues,\n",
        "                            ax=ax)\n",
        "plt.title(f'Confusion matrix of Logistic Regression, n = {len(y_val)}', fontsize=15)\n",
        "plt.show()"
      ],
      "metadata": {
        "colab": {
          "base_uri": "https://localhost:8080/",
          "height": 353
        },
        "id": "6liHIVop0-n4",
        "outputId": "fa84bbd2-f6f2-45c7-9a85-b76f4edfa598"
      },
      "execution_count": 41,
      "outputs": [
        {
          "output_type": "stream",
          "name": "stderr",
          "text": [
            "/usr/local/lib/python3.7/dist-packages/sklearn/utils/deprecation.py:87: FutureWarning: Function plot_confusion_matrix is deprecated; Function `plot_confusion_matrix` is deprecated in 1.0 and will be removed in 1.2. Use one of the class methods: ConfusionMatrixDisplay.from_predictions or ConfusionMatrixDisplay.from_estimator.\n",
            "  warnings.warn(msg, category=FutureWarning)\n"
          ]
        },
        {
          "output_type": "display_data",
          "data": {
            "text/plain": [
              "<Figure size 432x288 with 2 Axes>"
            ],
            "image/png": "[encoded data removed]"
          },
          "metadata": {
            "needs_background": "light"
          }
        }
      ]
    },
    {
      "cell_type": "code",
      "source": [
        "# 1로 예측하는 샘플이 기준모델보다 많아졌기 때문에 모두 0으로 예측하는 모델보다는 정확도가 떨어졌습니다."
      ],
      "metadata": {
        "id": "IyNARqW51UF1"
      },
      "execution_count": null,
      "outputs": []
    },
    {
      "cell_type": "code",
      "source": [
        "cm = pcm.confusion_matrix\n",
        "cm"
      ],
      "metadata": {
        "colab": {
          "base_uri": "https://localhost:8080/"
        },
        "id": "6K8CJIgt1lPO",
        "outputId": "ca9a5954-bace-4b5d-ae52-7e33db681018"
      },
      "execution_count": 42,
      "outputs": [
        {
          "output_type": "execute_result",
          "data": {
            "text/plain": [
              "array([[1979,  774],\n",
              "       [  14,   46]])"
            ]
          },
          "metadata": {},
          "execution_count": 42
        }
      ]
    },
    {
      "cell_type": "code",
      "source": [
        "# rows = True label, cols = PredictedLabel\n",
        "TP = cm[1][1]\n",
        "FP = cm[0][1]\n",
        "FN = cm[1][0]\n",
        "TN = cm[0][0]\n",
        "\n",
        "accuracy = (TP + TN) / cm.sum()\n",
        "precision = TP / (TP + FP)\n",
        "recall = TP / (TP + FN)\n",
        "f1 = 2*precision*recall/(precision+recall)\n",
        "\n",
        "print(f'accuracy of logistic regression is {accuracy.round(2)}')\n",
        "print(f'precision of logistic regression is {precision.round(2)}')\n",
        "print(f'recall of logistic regression is {recall.round(2)}')\n",
        "print(f'f1 of logistic regression is {f1.round(2)}')"
      ],
      "metadata": {
        "colab": {
          "base_uri": "https://localhost:8080/"
        },
        "id": "6L-cfMPU1qik",
        "outputId": "5957d186-46e1-4b11-c774-1085b779f7d6"
      },
      "execution_count": 43,
      "outputs": [
        {
          "output_type": "stream",
          "name": "stdout",
          "text": [
            "accuracy of logistic regression is 0.72\n",
            "precision of logistic regression is 0.06\n",
            "recall of logistic regression is 0.77\n",
            "f1 of logistic regression is 0.1\n"
          ]
        }
      ]
    },
    {
      "cell_type": "code",
      "source": [
        "from sklearn.metrics import classification_report, recall_score, precision_score, f1_score\n",
        "\n",
        "print(classification_report(y_val, y_val_pred))\n",
        "\n",
        "accuracy = accuracy_score(y_val, y_val_pred)\n",
        "precision = precision_score(y_val, y_val_pred)\n",
        "recall = recall_score(y_val, y_val_pred)\n",
        "f1 = f1_score(y_val, y_val_pred)\n",
        "\n",
        "print(f'accuracy of logistic regression is {accuracy.round(2)}')\n",
        "print(f'precision of logistic regression is {precision.round(2)}')\n",
        "print(f'recall of logistic regression is {recall.round(2)}')\n",
        "print(f'f1 of logistic regression is {f1.round(2)}')"
      ],
      "metadata": {
        "colab": {
          "base_uri": "https://localhost:8080/"
        },
        "id": "YWPAMFz_1ti9",
        "outputId": "d1efeb12-0b16-4f82-8fad-b869f2bf346d"
      },
      "execution_count": 44,
      "outputs": [
        {
          "output_type": "stream",
          "name": "stdout",
          "text": [
            "              precision    recall  f1-score   support\n",
            "\n",
            "           0       0.99      0.72      0.83      2753\n",
            "           1       0.06      0.77      0.10        60\n",
            "\n",
            "    accuracy                           0.72      2813\n",
            "   macro avg       0.52      0.74      0.47      2813\n",
            "weighted avg       0.97      0.72      0.82      2813\n",
            "\n",
            "accuracy of logistic regression is 0.72\n",
            "precision of logistic regression is 0.06\n",
            "recall of logistic regression is 0.77\n",
            "f1 of logistic regression is 0.1\n"
          ]
        }
      ]
    },
    {
      "cell_type": "code",
      "source": [
        "# 현재는 임계값 0.5(default)를 기준으로 승진여부를 분류하고 있습니다. \n",
        "\n",
        "y_pred_proba = logistic.predict_proba(X_val_ohe)[:,1]\n",
        "sns.displot(y_pred_proba)\n",
        "\n",
        "threshold = 0.5\n",
        "y_pred = y_pred_proba > threshold\n",
        "\n",
        "ax = sns.histplot(y_pred_proba)\n",
        "ax.axvline(threshold, color='red')\n",
        "\n",
        "pd.Series(y_pred).value_counts()"
      ],
      "metadata": {
        "colab": {
          "base_uri": "https://localhost:8080/",
          "height": 423
        },
        "id": "RdbGSuQq13zu",
        "outputId": "820c3950-7b31-4e24-f9db-656445873dd1"
      },
      "execution_count": 45,
      "outputs": [
        {
          "output_type": "execute_result",
          "data": {
            "text/plain": [
              "False    1993\n",
              "True      820\n",
              "dtype: int64"
            ]
          },
          "metadata": {},
          "execution_count": 45
        },
        {
          "output_type": "display_data",
          "data": {
            "text/plain": [
              "<Figure size 360x360 with 1 Axes>"
            ],
            "image/png": "[encoded data removed]"
          },
          "metadata": {
            "needs_background": "light"
          }
        }
      ]
    },
    {
      "cell_type": "code",
      "source": [
        "# 만약 임계값 낮추면 어떻게 될까요?\n",
        "\n",
        "sns.displot(y_pred_proba)\n",
        "\n",
        "threshold = 0.3\n",
        "y_pred = y_pred_proba > threshold\n",
        "\n",
        "ax = sns.histplot(y_pred_proba)\n",
        "ax.axvline(threshold, color='red')\n",
        "\n",
        "pd.Series(y_pred).value_counts()\n",
        "\n",
        "print(classification_report(y_val, y_pred))"
      ],
      "metadata": {
        "colab": {
          "base_uri": "https://localhost:8080/",
          "height": 530
        },
        "id": "skWJlrRG19hW",
        "outputId": "acf162b8-f678-40a9-e906-752e065722f8"
      },
      "execution_count": 46,
      "outputs": [
        {
          "output_type": "stream",
          "name": "stdout",
          "text": [
            "              precision    recall  f1-score   support\n",
            "\n",
            "           0       1.00      0.45      0.62      2753\n",
            "           1       0.04      0.97      0.07        60\n",
            "\n",
            "    accuracy                           0.46      2813\n",
            "   macro avg       0.52      0.71      0.35      2813\n",
            "weighted avg       0.98      0.46      0.61      2813\n",
            "\n"
          ]
        },
        {
          "output_type": "display_data",
          "data": {
            "text/plain": [
              "<Figure size 360x360 with 1 Axes>"
            ],
            "image/png": "[encoded data removed]"
          },
          "metadata": {
            "needs_background": "light"
          }
        }
      ]
    },
    {
      "cell_type": "code",
      "source": [
        "# 임계값을 낮추니 class1에 해당하는 재현율이 올라가고 정밀도가 떨어졌습니다."
      ],
      "metadata": {
        "id": "DfItVR0x2OuH"
      },
      "execution_count": null,
      "outputs": []
    },
    {
      "cell_type": "code",
      "source": [
        "from ipywidgets import interact, fixed\n",
        "\n",
        "def explore_threshold(y_true, y_pred_proba, threshold=0.5):\n",
        "    y_pred = y_pred_proba >= threshold\n",
        "    vc = pd.Series(y_pred).value_counts()\n",
        "    ax = sns.histplot(y_pred_proba, kde=True)\n",
        "    ax.axvline(threshold, color='red')\n",
        "    ax.set_title(f'# of target, 1={vc[1]}, 0={vc[0]}')\n",
        "    plt.show()\n",
        "    print(classification_report(y_true, y_pred))\n",
        "\n",
        "    \n",
        "interact(explore_threshold, \n",
        "    y_true=fixed(y_val), \n",
        "    y_pred_proba=fixed(y_pred_proba), \n",
        "    threshold=(0, 1, 0.01))"
      ],
      "metadata": {
        "colab": {
          "base_uri": "https://localhost:8080/",
          "height": 740,
          "referenced_widgets": [
            "26d432bb1ba6424280822f4f37724868",
            "20ae3d9be92342b2b77c872d39f4a223",
            "3b8d890f0af54b76a5776beffeadb63c",
            "b324193893824aed8655d4d04eb36ac0",
            "e656efafa57749ffb714bd8a87214409",
            "927601400d554fa9b88976d7cde154e7",
            "a74e75df70cf4a8ca6082eb233db61a2"
          ]
        },
        "id": "LObfp42j2RBf",
        "outputId": "931a96f1-cc96-49a1-ec8b-4a8537be7792"
      },
      "execution_count": 47,
      "outputs": [
        {
          "output_type": "display_data",
          "data": {
            "text/plain": [
              "interactive(children=(FloatSlider(value=0.5, description='threshold', max=1.0, step=0.01), Output()), _dom_cla…"
            ],
            "application/vnd.jupyter.widget-view+json": {
              "version_major": 2,
              "version_minor": 0,
              "model_id": "26d432bb1ba6424280822f4f37724868"
            }
          },
          "metadata": {}
        },
        {
          "output_type": "execute_result",
          "data": {
            "text/plain": [
              "<function __main__.explore_threshold(y_true, y_pred_proba, threshold=0.5)>"
            ]
          },
          "metadata": {},
          "execution_count": 47
        },
        {
          "output_type": "display_data",
          "data": {
            "text/plain": [
              "<Figure size 432x288 with 1 Axes>"
            ],
            "image/png": "[encoded data removed]"
          },
          "metadata": {
            "needs_background": "light"
          }
        }
      ]
    },
    {
      "cell_type": "code",
      "source": [
        "thresholds = [0.4, 0.5, 0.6]\n",
        "for threshold in thresholds :\n",
        "    probability = logistic.predict_proba(X_val_ohe)[:,1]\n",
        "    prediction = probability >= threshold\n",
        "    true_label = y_val\n",
        "    tmp = pd.DataFrame({'true label':true_label , 'prediction':prediction})\n",
        "    con1 = tmp['true label'] == tmp['prediction']\n",
        "    con2 = tmp['prediction'] == True\n",
        "\n",
        "    TP = len(tmp[con1 & con2])\n",
        "    FP = len(tmp[~con1 & con2])\n",
        "    FN = len(tmp[~con1 & ~con2])\n",
        "    \n",
        "    neg, pos = tmp['prediction'].value_counts()\n",
        "    precision = TP / (TP + FP)\n",
        "    recall = TP / (TP + FN)\n",
        "\n",
        "    print(f'Threshold: {threshold}')\n",
        "    print(f'# of Positive: {pos}')\n",
        "    print(f'# of Negative: {neg}')\n",
        "    print(f'FN: {FN}, FP: {FP}')\n",
        "    print(f'recall: {round(recall,2)}, precision: {round(precision,2)}')\n",
        "    print('--------------------')"
      ],
      "metadata": {
        "colab": {
          "base_uri": "https://localhost:8080/"
        },
        "id": "bUB8J8Zy2rru",
        "outputId": "9740cedf-6306-4915-ecf5-6217387503ac"
      },
      "execution_count": 48,
      "outputs": [
        {
          "output_type": "stream",
          "name": "stdout",
          "text": [
            "Threshold: 0.4\n",
            "# of Positive: 1171\n",
            "# of Negative: 1642\n",
            "FN: 6, FP: 1117\n",
            "recall: 0.9, precision: 0.05\n",
            "--------------------\n",
            "Threshold: 0.5\n",
            "# of Positive: 820\n",
            "# of Negative: 1993\n",
            "FN: 14, FP: 774\n",
            "recall: 0.77, precision: 0.06\n",
            "--------------------\n",
            "Threshold: 0.6\n",
            "# of Positive: 539\n",
            "# of Negative: 2274\n",
            "FN: 24, FP: 503\n",
            "recall: 0.6, precision: 0.07\n",
            "--------------------\n"
          ]
        }
      ]
    },
    {
      "cell_type": "code",
      "source": [
        "# roc_curve 함수를 사용하면 각 임계값에 따른 fpr과 tpr을 쉽게 구할 수 있습니다.\n",
        "\n",
        "from sklearn.metrics import roc_curve\n",
        "\n",
        "# roc_curve(타겟값, prob of 1)\n",
        "\n",
        "fpr, tpr, thresholds = roc_curve(y_val, y_pred_proba)\n",
        "\n",
        "roc = pd.DataFrame({\n",
        "    'FPR(Fall-out)': fpr, \n",
        "    'TPR(Recall)': tpr, \n",
        "    'Threshold': thresholds\n",
        "})\n",
        "roc"
      ],
      "metadata": {
        "colab": {
          "base_uri": "https://localhost:8080/",
          "height": 1000
        },
        "id": "F62uaneZ3AZZ",
        "outputId": "b2bbb396-5e4c-482c-bb47-bda889a93536"
      },
      "execution_count": 49,
      "outputs": [
        {
          "output_type": "execute_result",
          "data": {
            "text/plain": [
              "     FPR(Fall-out)  TPR(Recall)  Threshold\n",
              "0         0.000000     0.000000   1.984767\n",
              "1         0.000000     0.016667   0.984767\n",
              "2         0.000726     0.016667   0.979914\n",
              "3         0.001453     0.016667   0.962836\n",
              "4         0.001453     0.033333   0.961322\n",
              "5         0.003269     0.033333   0.943473\n",
              "6         0.003269     0.050000   0.936671\n",
              "7         0.004359     0.050000   0.927709\n",
              "8         0.004359     0.100000   0.922190\n",
              "9         0.007265     0.100000   0.903255\n",
              "10        0.007265     0.116667   0.901463\n",
              "11        0.007628     0.116667   0.898372\n",
              "12        0.007628     0.133333   0.898293\n",
              "13        0.010171     0.133333   0.885276\n",
              "14        0.010171     0.166667   0.884928\n",
              "15        0.011987     0.166667   0.876135\n",
              "16        0.011987     0.183333   0.876048\n",
              "17        0.015619     0.183333   0.862863\n",
              "18        0.016346     0.183333   0.862489\n",
              "19        0.018888     0.183333   0.850685\n",
              "20        0.019615     0.183333   0.850280\n",
              "21        0.019615     0.216667   0.849359\n",
              "22        0.021794     0.216667   0.844820\n",
              "23        0.021794     0.233333   0.842684\n",
              "24        0.027243     0.233333   0.835554\n",
              "25        0.027969     0.233333   0.835300\n",
              "26        0.035234     0.233333   0.811417\n",
              "27        0.035234     0.250000   0.811146\n",
              "28        0.035961     0.250000   0.809332\n",
              "29        0.035961     0.266667   0.809329\n",
              "30        0.037050     0.266667   0.806095\n",
              "31        0.037050     0.283333   0.805272\n",
              "32        0.043952     0.283333   0.782793\n",
              "33        0.043952     0.300000   0.781800\n",
              "34        0.048674     0.300000   0.773002\n",
              "35        0.049401     0.300000   0.772533\n",
              "36        0.059208     0.300000   0.752874\n",
              "37        0.059208     0.333333   0.751165\n",
              "38        0.063930     0.333333   0.739799\n",
              "39        0.063930     0.350000   0.737006\n",
              "40        0.064657     0.350000   0.736952\n",
              "41        0.072285     0.350000   0.725290\n",
              "42        0.073011     0.350000   0.724957\n",
              "43        0.081366     0.350000   0.712085\n",
              "44        0.082092     0.350000   0.710313\n",
              "45        0.085361     0.350000   0.706300\n",
              "46        0.085361     0.366667   0.705815\n",
              "47        0.085725     0.366667   0.705775\n",
              "48        0.085725     0.383333   0.705710\n",
              "49        0.088994     0.383333   0.701547\n",
              "50        0.088994     0.400000   0.701215\n",
              "51        0.098438     0.400000   0.690143\n",
              "52        0.098438     0.416667   0.690040\n",
              "53        0.103160     0.416667   0.686360\n",
              "54        0.103160     0.433333   0.686194\n",
              "55        0.103523     0.433333   0.685463\n",
              "56        0.104250     0.433333   0.685013\n",
              "57        0.109699     0.433333   0.675997\n",
              "58        0.109699     0.466667   0.674875\n",
              "59        0.121685     0.466667   0.659451\n",
              "60        0.122412     0.466667   0.659153\n",
              "61        0.124955     0.466667   0.656093\n",
              "62        0.124955     0.483333   0.656030\n",
              "63        0.135852     0.483333   0.641644\n",
              "64        0.136578     0.483333   0.641344\n",
              "65        0.149655     0.483333   0.628901\n",
              "66        0.150381     0.483333   0.628661\n",
              "67        0.152198     0.483333   0.627396\n",
              "68        0.152924     0.483333   0.627319\n",
              "69        0.158009     0.483333   0.622924\n",
              "70        0.158009     0.500000   0.622314\n",
              "71        0.169996     0.500000   0.612025\n",
              "72        0.169996     0.516667   0.611215\n",
              "73        0.171449     0.516667   0.609030\n",
              "74        0.171449     0.533333   0.609008\n",
              "75        0.172902     0.533333   0.608234\n",
              "76        0.172902     0.550000   0.608083\n",
              "77        0.179077     0.550000   0.605072\n",
              "78        0.179077     0.566667   0.604883\n",
              "79        0.179804     0.566667   0.603931\n",
              "80        0.179804     0.600000   0.603184\n",
              "81        0.181983     0.600000   0.600538\n",
              "82        0.182710     0.600000   0.600243\n",
              "83        0.195786     0.600000   0.587269\n",
              "84        0.195786     0.616667   0.587019\n",
              "85        0.205957     0.616667   0.576981\n",
              "86        0.205957     0.633333   0.576930\n",
              "87        0.209953     0.633333   0.574489\n",
              "88        0.209953     0.666667   0.573837\n",
              "89        0.214312     0.666667   0.568708\n",
              "90        0.215038     0.666667   0.568575\n",
              "91        0.224482     0.666667   0.557106\n",
              "92        0.224482     0.683333   0.556963\n",
              "93        0.229931     0.683333   0.552973\n",
              "94        0.229931     0.700000   0.552896\n",
              "95        0.231021     0.700000   0.551946\n",
              "96        0.231021     0.716667   0.551722\n",
              "97        0.231747     0.716667   0.551471\n",
              "98        0.232474     0.716667   0.551364\n",
              "99        0.242281     0.716667   0.538545\n",
              "100       0.242281     0.733333   0.538443\n",
              "101       0.244461     0.733333   0.537298\n",
              "102       0.244461     0.750000   0.537195\n",
              "103       0.248456     0.750000   0.531785\n",
              "104       0.249183     0.750000   0.531292\n",
              "105       0.250636     0.750000   0.529694\n",
              "106       0.251362     0.750000   0.529534\n",
              "107       0.257174     0.750000   0.525470\n",
              "108       0.257900     0.750000   0.524905\n",
              "109       0.258990     0.750000   0.524466\n",
              "110       0.258990     0.766667   0.524378\n",
              "111       0.291319     0.766667   0.491140\n",
              "112       0.291319     0.783333   0.489898\n",
              "113       0.297130     0.783333   0.485911\n",
              "114       0.297857     0.783333   0.484763\n",
              "115       0.298947     0.783333   0.484287\n",
              "116       0.299673     0.783333   0.484090\n",
              "117       0.327279     0.783333   0.461618\n",
              "118       0.328006     0.783333   0.461250\n",
              "119       0.334544     0.783333   0.456103\n",
              "120       0.334544     0.800000   0.455695\n",
              "121       0.337087     0.800000   0.453851\n",
              "122       0.337087     0.833333   0.453037\n",
              "123       0.337450     0.833333   0.453032\n",
              "124       0.337450     0.850000   0.452515\n",
              "125       0.356339     0.850000   0.440366\n",
              "126       0.356339     0.866667   0.440267\n",
              "127       0.377043     0.866667   0.422282\n",
              "128       0.377043     0.883333   0.422116\n",
              "129       0.389393     0.883333   0.412661\n",
              "130       0.389393     0.900000   0.412522\n",
              "131       0.396658     0.900000   0.408376\n",
              "132       0.397385     0.900000   0.408280\n",
              "133       0.402470     0.900000   0.401717\n",
              "134       0.403197     0.900000   0.401584\n",
              "135       0.416273     0.900000   0.392374\n",
              "136       0.416273     0.916667   0.392348\n",
              "137       0.432619     0.916667   0.379398\n",
              "138       0.432619     0.933333   0.378798\n",
              "139       0.447512     0.933333   0.369030\n",
              "140       0.448238     0.933333   0.368843\n",
              "141       0.451507     0.933333   0.366298\n",
              "142       0.452234     0.933333   0.365844\n",
              "143       0.455140     0.933333   0.363834\n",
              "144       0.455866     0.933333   0.363624\n",
              "145       0.463131     0.933333   0.359686\n",
              "146       0.463858     0.933333   0.359564\n",
              "147       0.474755     0.933333   0.351258\n",
              "148       0.475481     0.933333   0.351233\n",
              "149       0.486378     0.933333   0.344113\n",
              "150       0.487105     0.933333   0.344080\n",
              "151       0.522703     0.933333   0.316754\n",
              "152       0.522703     0.950000   0.316658\n",
              "153       0.544860     0.950000   0.302457\n",
              "154       0.544860     0.966667   0.302157\n",
              "155       0.554668     0.966667   0.294773\n",
              "156       0.555757     0.966667   0.294719\n",
              "157       0.569560     0.966667   0.285503\n",
              "158       0.570287     0.966667   0.285282\n",
              "159       0.575372     0.966667   0.278604\n",
              "160       0.576099     0.966667   0.278149\n",
              "161       0.577915     0.966667   0.276715\n",
              "162       0.578641     0.966667   0.276678\n",
              "163       0.584090     0.966667   0.272783\n",
              "164       0.584817     0.966667   0.272707\n",
              "165       0.588449     0.966667   0.270291\n",
              "166       0.589175     0.966667   0.269601\n",
              "167       0.589902     0.966667   0.269458\n",
              "168       0.590628     0.966667   0.269381\n",
              "169       0.633491     0.966667   0.228931\n",
              "170       0.634217     0.966667   0.228551\n",
              "171       0.679259     0.966667   0.207538\n",
              "172       0.679985     0.966667   0.207532\n",
              "173       0.682891     0.966667   0.205928\n",
              "174       0.683618     0.966667   0.205898\n",
              "175       0.685434     0.966667   0.204366\n",
              "176       0.686161     0.966667   0.204226\n",
              "177       0.693789     0.966667   0.198196\n",
              "178       0.694515     0.966667   0.198044\n",
              "179       0.714130     0.966667   0.184010\n",
              "180       0.714857     0.966667   0.183415\n",
              "181       0.715583     0.966667   0.182495\n",
              "182       0.716309     0.966667   0.182408\n",
              "183       0.717762     0.966667   0.180439\n",
              "184       0.718489     0.966667   0.180404\n",
              "185       0.747185     0.966667   0.163762\n",
              "186       0.747911     0.966667   0.163585\n",
              "187       0.747911     0.983333   0.163580\n",
              "188       0.751544     0.983333   0.161851\n",
              "189       0.752270     0.983333   0.161373\n",
              "190       0.753360     0.983333   0.160969\n",
              "191       0.754086     0.983333   0.160708\n",
              "192       0.761714     0.983333   0.158191\n",
              "193       0.762441     0.983333   0.158115\n",
              "194       0.763167     0.983333   0.158058\n",
              "195       0.763894     0.983333   0.157825\n",
              "196       0.767526     0.983333   0.156408\n",
              "197       0.768253     0.983333   0.156170\n",
              "198       0.769706     0.983333   0.155829\n",
              "199       0.770432     0.983333   0.155691\n",
              "200       0.776971     0.983333   0.153301\n",
              "201       0.777697     0.983333   0.153281\n",
              "202       0.785325     0.983333   0.150283\n",
              "203       0.786052     0.983333   0.150085\n",
              "204       0.787505     0.983333   0.149387\n",
              "205       0.788594     0.983333   0.149264\n",
              "206       0.797312     0.983333   0.146221\n",
              "207       0.798039     0.983333   0.146062\n",
              "208       0.809299     0.983333   0.132002\n",
              "209       0.810025     0.983333   0.131190\n",
              "210       0.833636     0.983333   0.107736\n",
              "211       0.834363     0.983333   0.107164\n",
              "212       0.854341     0.983333   0.088483\n",
              "213       0.855067     0.983333   0.088108\n",
              "214       0.861969     0.983333   0.086008\n",
              "215       0.862695     0.983333   0.085428\n",
              "216       0.866328     0.983333   0.083841\n",
              "217       0.867054     0.983333   0.083812\n",
              "218       0.873229     0.983333   0.080483\n",
              "219       0.873956     0.983333   0.079992\n",
              "220       0.874682     0.983333   0.079764\n",
              "221       0.875409     0.983333   0.079481\n",
              "222       0.884490     0.983333   0.070656\n",
              "223       0.885216     0.983333   0.070637\n",
              "224       0.893934     0.983333   0.065847\n",
              "225       0.894660     0.983333   0.065755\n",
              "226       0.895024     0.983333   0.065400\n",
              "227       0.895750     0.983333   0.065377\n",
              "228       0.901199     0.983333   0.063303\n",
              "229       0.901925     0.983333   0.062148\n",
              "230       0.902288     0.983333   0.061949\n",
              "231       0.903015     0.983333   0.061747\n",
              "232       0.905194     0.983333   0.060689\n",
              "233       0.905921     0.983333   0.060409\n",
              "234       0.922993     0.983333   0.041805\n",
              "235       0.924083     0.983333   0.041723\n",
              "236       0.935707     0.983333   0.030993\n",
              "237       0.937159     0.983333   0.030926\n",
              "238       0.940429     0.983333   0.027969\n",
              "239       0.940429     1.000000   0.027837\n",
              "240       0.943335     1.000000   0.026132\n",
              "241       0.944061     1.000000   0.025780\n",
              "242       0.947330     1.000000   0.024354\n",
              "243       0.948057     1.000000   0.023928\n",
              "244       0.958591     1.000000   0.016686\n",
              "245       0.959317     1.000000   0.016525\n",
              "246       0.965492     1.000000   0.013817\n",
              "247       0.966945     1.000000   0.013669\n",
              "248       0.978569     1.000000   0.007406\n",
              "249       0.979295     1.000000   0.007279\n",
              "250       0.988740     1.000000   0.005373\n",
              "251       0.989466     1.000000   0.005014\n",
              "252       0.991645     1.000000   0.004540\n",
              "253       0.992372     1.000000   0.004532\n",
              "254       0.994915     1.000000   0.002660\n",
              "255       0.995641     1.000000   0.002301\n",
              "256       1.000000     1.000000   0.000978"
            ],
            "text/html": [
              "\n",
              "  <div id=\"df-d7e1644c-d707-4573-b0e0-17febeb25153\">\n",
              "    <div class=\"colab-df-container\">\n",
              "      <div>\n",
              "<style scoped>\n",
              "    .dataframe tbody tr th:only-of-type {\n",
              "        vertical-align: middle;\n",
              "    }\n",
              "\n",
              "    .dataframe tbody tr th {\n",
              "        vertical-align: top;\n",
              "    }\n",
              "\n",
              "    .dataframe thead th {\n",
              "        text-align: right;\n",
              "    }\n",
              "</style>\n",
              "<table border=\"1\" class=\"dataframe\">\n",
              "  <thead>\n",
              "    <tr style=\"text-align: right;\">\n",
              "      <th></th>\n",
              "      <th>FPR(Fall-out)</th>\n",
              "      <th>TPR(Recall)</th>\n",
              "      <th>Threshold</th>\n",
              "    </tr>\n",
              "  </thead>\n",
              "  <tbody>\n",
              "    <tr>\n",
              "      <th>0</th>\n",
              "      <td>0.000000</td>\n",
              "      <td>0.000000</td>\n",
              "      <td>1.984767</td>\n",
              "    </tr>\n",
              "    <tr>\n",
              "      <th>1</th>\n",
              "      <td>0.000000</td>\n",
              "      <td>0.016667</td>\n",
              "      <td>0.984767</td>\n",
              "    </tr>\n",
              "    <tr>\n",
              "      <th>2</th>\n",
              "      <td>0.000726</td>\n",
              "      <td>0.016667</td>\n",
              "      <td>0.979914</td>\n",
              "    </tr>\n",
              "    <tr>\n",
              "      <th>3</th>\n",
              "      <td>0.001453</td>\n",
              "      <td>0.016667</td>\n",
              "      <td>0.962836</td>\n",
              "    </tr>\n",
              "    <tr>\n",
              "      <th>4</th>\n",
              "      <td>0.001453</td>\n",
              "      <td>0.033333</td>\n",
              "      <td>0.961322</td>\n",
              "    </tr>\n",
              "    <tr>\n",
              "      <th>5</th>\n",
              "      <td>0.003269</td>\n",
              "      <td>0.033333</td>\n",
              "      <td>0.943473</td>\n",
              "    </tr>\n",
              "    <tr>\n",
              "      <th>6</th>\n",
              "      <td>0.003269</td>\n",
              "      <td>0.050000</td>\n",
              "      <td>0.936671</td>\n",
              "    </tr>\n",
              "    <tr>\n",
              "      <th>7</th>\n",
              "      <td>0.004359</td>\n",
              "      <td>0.050000</td>\n",
              "      <td>0.927709</td>\n",
              "    </tr>\n",
              "    <tr>\n",
              "      <th>8</th>\n",
              "      <td>0.004359</td>\n",
              "      <td>0.100000</td>\n",
              "      <td>0.922190</td>\n",
              "    </tr>\n",
              "    <tr>\n",
              "      <th>9</th>\n",
              "      <td>0.007265</td>\n",
              "      <td>0.100000</td>\n",
              "      <td>0.903255</td>\n",
              "    </tr>\n",
              "    <tr>\n",
              "      <th>10</th>\n",
              "      <td>0.007265</td>\n",
              "      <td>0.116667</td>\n",
              "      <td>0.901463</td>\n",
              "    </tr>\n",
              "    <tr>\n",
              "      <th>11</th>\n",
              "      <td>0.007628</td>\n",
              "      <td>0.116667</td>\n",
              "      <td>0.898372</td>\n",
              "    </tr>\n",
              "    <tr>\n",
              "      <th>12</th>\n",
              "      <td>0.007628</td>\n",
              "      <td>0.133333</td>\n",
              "      <td>0.898293</td>\n",
              "    </tr>\n",
              "    <tr>\n",
              "      <th>13</th>\n",
              "      <td>0.010171</td>\n",
              "      <td>0.133333</td>\n",
              "      <td>0.885276</td>\n",
              "    </tr>\n",
              "    <tr>\n",
              "      <th>14</th>\n",
              "      <td>0.010171</td>\n",
              "      <td>0.166667</td>\n",
              "      <td>0.884928</td>\n",
              "    </tr>\n",
              "    <tr>\n",
              "      <th>15</th>\n",
              "      <td>0.011987</td>\n",
              "      <td>0.166667</td>\n",
              "      <td>0.876135</td>\n",
              "    </tr>\n",
              "    <tr>\n",
              "      <th>16</th>\n",
              "      <td>0.011987</td>\n",
              "      <td>0.183333</td>\n",
              "      <td>0.876048</td>\n",
              "    </tr>\n",
              "    <tr>\n",
              "      <th>17</th>\n",
              "      <td>0.015619</td>\n",
              "      <td>0.183333</td>\n",
              "      <td>0.862863</td>\n",
              "    </tr>\n",
              "    <tr>\n",
              "      <th>18</th>\n",
              "      <td>0.016346</td>\n",
              "      <td>0.183333</td>\n",
              "      <td>0.862489</td>\n",
              "    </tr>\n",
              "    <tr>\n",
              "      <th>19</th>\n",
              "      <td>0.018888</td>\n",
              "      <td>0.183333</td>\n",
              "      <td>0.850685</td>\n",
              "    </tr>\n",
              "    <tr>\n",
              "      <th>20</th>\n",
              "      <td>0.019615</td>\n",
              "      <td>0.183333</td>\n",
              "      <td>0.850280</td>\n",
              "    </tr>\n",
              "    <tr>\n",
              "      <th>21</th>\n",
              "      <td>0.019615</td>\n",
              "      <td>0.216667</td>\n",
              "      <td>0.849359</td>\n",
              "    </tr>\n",
              "    <tr>\n",
              "      <th>22</th>\n",
              "      <td>0.021794</td>\n",
              "      <td>0.216667</td>\n",
              "      <td>0.844820</td>\n",
              "    </tr>\n",
              "    <tr>\n",
              "      <th>23</th>\n",
              "      <td>0.021794</td>\n",
              "      <td>0.233333</td>\n",
              "      <td>0.842684</td>\n",
              "    </tr>\n",
              "    <tr>\n",
              "      <th>24</th>\n",
              "      <td>0.027243</td>\n",
              "      <td>0.233333</td>\n",
              "      <td>0.835554</td>\n",
              "    </tr>\n",
              "    <tr>\n",
              "      <th>25</th>\n",
              "      <td>0.027969</td>\n",
              "      <td>0.233333</td>\n",
              "      <td>0.835300</td>\n",
              "    </tr>\n",
              "    <tr>\n",
              "      <th>26</th>\n",
              "      <td>0.035234</td>\n",
              "      <td>0.233333</td>\n",
              "      <td>0.811417</td>\n",
              "    </tr>\n",
              "    <tr>\n",
              "      <th>27</th>\n",
              "      <td>0.035234</td>\n",
              "      <td>0.250000</td>\n",
              "      <td>0.811146</td>\n",
              "    </tr>\n",
              "    <tr>\n",
              "      <th>28</th>\n",
              "      <td>0.035961</td>\n",
              "      <td>0.250000</td>\n",
              "      <td>0.809332</td>\n",
              "    </tr>\n",
              "    <tr>\n",
              "      <th>29</th>\n",
              "      <td>0.035961</td>\n",
              "      <td>0.266667</td>\n",
              "      <td>0.809329</td>\n",
              "    </tr>\n",
              "    <tr>\n",
              "      <th>30</th>\n",
              "      <td>0.037050</td>\n",
              "      <td>0.266667</td>\n",
              "      <td>0.806095</td>\n",
              "    </tr>\n",
              "    <tr>\n",
              "      <th>31</th>\n",
              "      <td>0.037050</td>\n",
              "      <td>0.283333</td>\n",
              "      <td>0.805272</td>\n",
              "    </tr>\n",
              "    <tr>\n",
              "      <th>32</th>\n",
              "      <td>0.043952</td>\n",
              "      <td>0.283333</td>\n",
              "      <td>0.782793</td>\n",
              "    </tr>\n",
              "    <tr>\n",
              "      <th>33</th>\n",
              "      <td>0.043952</td>\n",
              "      <td>0.300000</td>\n",
              "      <td>0.781800</td>\n",
              "    </tr>\n",
              "    <tr>\n",
              "      <th>34</th>\n",
              "      <td>0.048674</td>\n",
              "      <td>0.300000</td>\n",
              "      <td>0.773002</td>\n",
              "    </tr>\n",
              "    <tr>\n",
              "      <th>35</th>\n",
              "      <td>0.049401</td>\n",
              "      <td>0.300000</td>\n",
              "      <td>0.772533</td>\n",
              "    </tr>\n",
              "    <tr>\n",
              "      <th>36</th>\n",
              "      <td>0.059208</td>\n",
              "      <td>0.300000</td>\n",
              "      <td>0.752874</td>\n",
              "    </tr>\n",
              "    <tr>\n",
              "      <th>37</th>\n",
              "      <td>0.059208</td>\n",
              "      <td>0.333333</td>\n",
              "      <td>0.751165</td>\n",
              "    </tr>\n",
              "    <tr>\n",
              "      <th>38</th>\n",
              "      <td>0.063930</td>\n",
              "      <td>0.333333</td>\n",
              "      <td>0.739799</td>\n",
              "    </tr>\n",
              "    <tr>\n",
              "      <th>39</th>\n",
              "      <td>0.063930</td>\n",
              "      <td>0.350000</td>\n",
              "      <td>0.737006</td>\n",
              "    </tr>\n",
              "    <tr>\n",
              "      <th>40</th>\n",
              "      <td>0.064657</td>\n",
              "      <td>0.350000</td>\n",
              "      <td>0.736952</td>\n",
              "    </tr>\n",
              "    <tr>\n",
              "      <th>41</th>\n",
              "      <td>0.072285</td>\n",
              "      <td>0.350000</td>\n",
              "      <td>0.725290</td>\n",
              "    </tr>\n",
              "    <tr>\n",
              "      <th>42</th>\n",
              "      <td>0.073011</td>\n",
              "      <td>0.350000</td>\n",
              "      <td>0.724957</td>\n",
              "    </tr>\n",
              "    <tr>\n",
              "      <th>43</th>\n",
              "      <td>0.081366</td>\n",
              "      <td>0.350000</td>\n",
              "      <td>0.712085</td>\n",
              "    </tr>\n",
              "    <tr>\n",
              "      <th>44</th>\n",
              "      <td>0.082092</td>\n",
              "      <td>0.350000</td>\n",
              "      <td>0.710313</td>\n",
              "    </tr>\n",
              "    <tr>\n",
              "      <th>45</th>\n",
              "      <td>0.085361</td>\n",
              "      <td>0.350000</td>\n",
              "      <td>0.706300</td>\n",
              "    </tr>\n",
              "    <tr>\n",
              "      <th>46</th>\n",
              "      <td>0.085361</td>\n",
              "      <td>0.366667</td>\n",
              "      <td>0.705815</td>\n",
              "    </tr>\n",
              "    <tr>\n",
              "      <th>47</th>\n",
              "      <td>0.085725</td>\n",
              "      <td>0.366667</td>\n",
              "      <td>0.705775</td>\n",
              "    </tr>\n",
              "    <tr>\n",
              "      <th>48</th>\n",
              "      <td>0.085725</td>\n",
              "      <td>0.383333</td>\n",
              "      <td>0.705710</td>\n",
              "    </tr>\n",
              "    <tr>\n",
              "      <th>49</th>\n",
              "      <td>0.088994</td>\n",
              "      <td>0.383333</td>\n",
              "      <td>0.701547</td>\n",
              "    </tr>\n",
              "    <tr>\n",
              "      <th>50</th>\n",
              "      <td>0.088994</td>\n",
              "      <td>0.400000</td>\n",
              "      <td>0.701215</td>\n",
              "    </tr>\n",
              "    <tr>\n",
              "      <th>51</th>\n",
              "      <td>0.098438</td>\n",
              "      <td>0.400000</td>\n",
              "      <td>0.690143</td>\n",
              "    </tr>\n",
              "    <tr>\n",
              "      <th>52</th>\n",
              "      <td>0.098438</td>\n",
              "      <td>0.416667</td>\n",
              "      <td>0.690040</td>\n",
              "    </tr>\n",
              "    <tr>\n",
              "      <th>53</th>\n",
              "      <td>0.103160</td>\n",
              "      <td>0.416667</td>\n",
              "      <td>0.686360</td>\n",
              "    </tr>\n",
              "    <tr>\n",
              "      <th>54</th>\n",
              "      <td>0.103160</td>\n",
              "      <td>0.433333</td>\n",
              "      <td>0.686194</td>\n",
              "    </tr>\n",
              "    <tr>\n",
              "      <th>55</th>\n",
              "      <td>0.103523</td>\n",
              "      <td>0.433333</td>\n",
              "      <td>0.685463</td>\n",
              "    </tr>\n",
              "    <tr>\n",
              "      <th>56</th>\n",
              "      <td>0.104250</td>\n",
              "      <td>0.433333</td>\n",
              "      <td>0.685013</td>\n",
              "    </tr>\n",
              "    <tr>\n",
              "      <th>57</th>\n",
              "      <td>0.109699</td>\n",
              "      <td>0.433333</td>\n",
              "      <td>0.675997</td>\n",
              "    </tr>\n",
              "    <tr>\n",
              "      <th>58</th>\n",
              "      <td>0.109699</td>\n",
              "      <td>0.466667</td>\n",
              "      <td>0.674875</td>\n",
              "    </tr>\n",
              "    <tr>\n",
              "      <th>59</th>\n",
              "      <td>0.121685</td>\n",
              "      <td>0.466667</td>\n",
              "      <td>0.659451</td>\n",
              "    </tr>\n",
              "    <tr>\n",
              "      <th>60</th>\n",
              "      <td>0.122412</td>\n",
              "      <td>0.466667</td>\n",
              "      <td>0.659153</td>\n",
              "    </tr>\n",
              "    <tr>\n",
              "      <th>61</th>\n",
              "      <td>0.124955</td>\n",
              "      <td>0.466667</td>\n",
              "      <td>0.656093</td>\n",
              "    </tr>\n",
              "    <tr>\n",
              "      <th>62</th>\n",
              "      <td>0.124955</td>\n",
              "      <td>0.483333</td>\n",
              "      <td>0.656030</td>\n",
              "    </tr>\n",
              "    <tr>\n",
              "      <th>63</th>\n",
              "      <td>0.135852</td>\n",
              "      <td>0.483333</td>\n",
              "      <td>0.641644</td>\n",
              "    </tr>\n",
              "    <tr>\n",
              "      <th>64</th>\n",
              "      <td>0.136578</td>\n",
              "      <td>0.483333</td>\n",
              "      <td>0.641344</td>\n",
              "    </tr>\n",
              "    <tr>\n",
              "      <th>65</th>\n",
              "      <td>0.149655</td>\n",
              "      <td>0.483333</td>\n",
              "      <td>0.628901</td>\n",
              "    </tr>\n",
              "    <tr>\n",
              "      <th>66</th>\n",
              "      <td>0.150381</td>\n",
              "      <td>0.483333</td>\n",
              "      <td>0.628661</td>\n",
              "    </tr>\n",
              "    <tr>\n",
              "      <th>67</th>\n",
              "      <td>0.152198</td>\n",
              "      <td>0.483333</td>\n",
              "      <td>0.627396</td>\n",
              "    </tr>\n",
              "    <tr>\n",
              "      <th>68</th>\n",
              "      <td>0.152924</td>\n",
              "      <td>0.483333</td>\n",
              "      <td>0.627319</td>\n",
              "    </tr>\n",
              "    <tr>\n",
              "      <th>69</th>\n",
              "      <td>0.158009</td>\n",
              "      <td>0.483333</td>\n",
              "      <td>0.622924</td>\n",
              "    </tr>\n",
              "    <tr>\n",
              "      <th>70</th>\n",
              "      <td>0.158009</td>\n",
              "      <td>0.500000</td>\n",
              "      <td>0.622314</td>\n",
              "    </tr>\n",
              "    <tr>\n",
              "      <th>71</th>\n",
              "      <td>0.169996</td>\n",
              "      <td>0.500000</td>\n",
              "      <td>0.612025</td>\n",
              "    </tr>\n",
              "    <tr>\n",
              "      <th>72</th>\n",
              "      <td>0.169996</td>\n",
              "      <td>0.516667</td>\n",
              "      <td>0.611215</td>\n",
              "    </tr>\n",
              "    <tr>\n",
              "      <th>73</th>\n",
              "      <td>0.171449</td>\n",
              "      <td>0.516667</td>\n",
              "      <td>0.609030</td>\n",
              "    </tr>\n",
              "    <tr>\n",
              "      <th>74</th>\n",
              "      <td>0.171449</td>\n",
              "      <td>0.533333</td>\n",
              "      <td>0.609008</td>\n",
              "    </tr>\n",
              "    <tr>\n",
              "      <th>75</th>\n",
              "      <td>0.172902</td>\n",
              "      <td>0.533333</td>\n",
              "      <td>0.608234</td>\n",
              "    </tr>\n",
              "    <tr>\n",
              "      <th>76</th>\n",
              "      <td>0.172902</td>\n",
              "      <td>0.550000</td>\n",
              "      <td>0.608083</td>\n",
              "    </tr>\n",
              "    <tr>\n",
              "      <th>77</th>\n",
              "      <td>0.179077</td>\n",
              "      <td>0.550000</td>\n",
              "      <td>0.605072</td>\n",
              "    </tr>\n",
              "    <tr>\n",
              "      <th>78</th>\n",
              "      <td>0.179077</td>\n",
              "      <td>0.566667</td>\n",
              "      <td>0.604883</td>\n",
              "    </tr>\n",
              "    <tr>\n",
              "      <th>79</th>\n",
              "      <td>0.179804</td>\n",
              "      <td>0.566667</td>\n",
              "      <td>0.603931</td>\n",
              "    </tr>\n",
              "    <tr>\n",
              "      <th>80</th>\n",
              "      <td>0.179804</td>\n",
              "      <td>0.600000</td>\n",
              "      <td>0.603184</td>\n",
              "    </tr>\n",
              "    <tr>\n",
              "      <th>81</th>\n",
              "      <td>0.181983</td>\n",
              "      <td>0.600000</td>\n",
              "      <td>0.600538</td>\n",
              "    </tr>\n",
              "    <tr>\n",
              "      <th>82</th>\n",
              "      <td>0.182710</td>\n",
              "      <td>0.600000</td>\n",
              "      <td>0.600243</td>\n",
              "    </tr>\n",
              "    <tr>\n",
              "      <th>83</th>\n",
              "      <td>0.195786</td>\n",
              "      <td>0.600000</td>\n",
              "      <td>0.587269</td>\n",
              "    </tr>\n",
              "    <tr>\n",
              "      <th>84</th>\n",
              "      <td>0.195786</td>\n",
              "      <td>0.616667</td>\n",
              "      <td>0.587019</td>\n",
              "    </tr>\n",
              "    <tr>\n",
              "      <th>85</th>\n",
              "      <td>0.205957</td>\n",
              "      <td>0.616667</td>\n",
              "      <td>0.576981</td>\n",
              "    </tr>\n",
              "    <tr>\n",
              "      <th>86</th>\n",
              "      <td>0.205957</td>\n",
              "      <td>0.633333</td>\n",
              "      <td>0.576930</td>\n",
              "    </tr>\n",
              "    <tr>\n",
              "      <th>87</th>\n",
              "      <td>0.209953</td>\n",
              "      <td>0.633333</td>\n",
              "      <td>0.574489</td>\n",
              "    </tr>\n",
              "    <tr>\n",
              "      <th>88</th>\n",
              "      <td>0.209953</td>\n",
              "      <td>0.666667</td>\n",
              "      <td>0.573837</td>\n",
              "    </tr>\n",
              "    <tr>\n",
              "      <th>89</th>\n",
              "      <td>0.214312</td>\n",
              "      <td>0.666667</td>\n",
              "      <td>0.568708</td>\n",
              "    </tr>\n",
              "    <tr>\n",
              "      <th>90</th>\n",
              "      <td>0.215038</td>\n",
              "      <td>0.666667</td>\n",
              "      <td>0.568575</td>\n",
              "    </tr>\n",
              "    <tr>\n",
              "      <th>91</th>\n",
              "      <td>0.224482</td>\n",
              "      <td>0.666667</td>\n",
              "      <td>0.557106</td>\n",
              "    </tr>\n",
              "    <tr>\n",
              "      <th>92</th>\n",
              "      <td>0.224482</td>\n",
              "      <td>0.683333</td>\n",
              "      <td>0.556963</td>\n",
              "    </tr>\n",
              "    <tr>\n",
              "      <th>93</th>\n",
              "      <td>0.229931</td>\n",
              "      <td>0.683333</td>\n",
              "      <td>0.552973</td>\n",
              "    </tr>\n",
              "    <tr>\n",
              "      <th>94</th>\n",
              "      <td>0.229931</td>\n",
              "      <td>0.700000</td>\n",
              "      <td>0.552896</td>\n",
              "    </tr>\n",
              "    <tr>\n",
              "      <th>95</th>\n",
              "      <td>0.231021</td>\n",
              "      <td>0.700000</td>\n",
              "      <td>0.551946</td>\n",
              "    </tr>\n",
              "    <tr>\n",
              "      <th>96</th>\n",
              "      <td>0.231021</td>\n",
              "      <td>0.716667</td>\n",
              "      <td>0.551722</td>\n",
              "    </tr>\n",
              "    <tr>\n",
              "      <th>97</th>\n",
              "      <td>0.231747</td>\n",
              "      <td>0.716667</td>\n",
              "      <td>0.551471</td>\n",
              "    </tr>\n",
              "    <tr>\n",
              "      <th>98</th>\n",
              "      <td>0.232474</td>\n",
              "      <td>0.716667</td>\n",
              "      <td>0.551364</td>\n",
              "    </tr>\n",
              "    <tr>\n",
              "      <th>99</th>\n",
              "      <td>0.242281</td>\n",
              "      <td>0.716667</td>\n",
              "      <td>0.538545</td>\n",
              "    </tr>\n",
              "    <tr>\n",
              "      <th>100</th>\n",
              "      <td>0.242281</td>\n",
              "      <td>0.733333</td>\n",
              "      <td>0.538443</td>\n",
              "    </tr>\n",
              "    <tr>\n",
              "      <th>101</th>\n",
              "      <td>0.244461</td>\n",
              "      <td>0.733333</td>\n",
              "      <td>0.537298</td>\n",
              "    </tr>\n",
              "    <tr>\n",
              "      <th>102</th>\n",
              "      <td>0.244461</td>\n",
              "      <td>0.750000</td>\n",
              "      <td>0.537195</td>\n",
              "    </tr>\n",
              "    <tr>\n",
              "      <th>103</th>\n",
              "      <td>0.248456</td>\n",
              "      <td>0.750000</td>\n",
              "      <td>0.531785</td>\n",
              "    </tr>\n",
              "    <tr>\n",
              "      <th>104</th>\n",
              "      <td>0.249183</td>\n",
              "      <td>0.750000</td>\n",
              "      <td>0.531292</td>\n",
              "    </tr>\n",
              "    <tr>\n",
              "      <th>105</th>\n",
              "      <td>0.250636</td>\n",
              "      <td>0.750000</td>\n",
              "      <td>0.529694</td>\n",
              "    </tr>\n",
              "    <tr>\n",
              "      <th>106</th>\n",
              "      <td>0.251362</td>\n",
              "      <td>0.750000</td>\n",
              "      <td>0.529534</td>\n",
              "    </tr>\n",
              "    <tr>\n",
              "      <th>107</th>\n",
              "      <td>0.257174</td>\n",
              "      <td>0.750000</td>\n",
              "      <td>0.525470</td>\n",
              "    </tr>\n",
              "    <tr>\n",
              "      <th>108</th>\n",
              "      <td>0.257900</td>\n",
              "      <td>0.750000</td>\n",
              "      <td>0.524905</td>\n",
              "    </tr>\n",
              "    <tr>\n",
              "      <th>109</th>\n",
              "      <td>0.258990</td>\n",
              "      <td>0.750000</td>\n",
              "      <td>0.524466</td>\n",
              "    </tr>\n",
              "    <tr>\n",
              "      <th>110</th>\n",
              "      <td>0.258990</td>\n",
              "      <td>0.766667</td>\n",
              "      <td>0.524378</td>\n",
              "    </tr>\n",
              "    <tr>\n",
              "      <th>111</th>\n",
              "      <td>0.291319</td>\n",
              "      <td>0.766667</td>\n",
              "      <td>0.491140</td>\n",
              "    </tr>\n",
              "    <tr>\n",
              "      <th>112</th>\n",
              "      <td>0.291319</td>\n",
              "      <td>0.783333</td>\n",
              "      <td>0.489898</td>\n",
              "    </tr>\n",
              "    <tr>\n",
              "      <th>113</th>\n",
              "      <td>0.297130</td>\n",
              "      <td>0.783333</td>\n",
              "      <td>0.485911</td>\n",
              "    </tr>\n",
              "    <tr>\n",
              "      <th>114</th>\n",
              "      <td>0.297857</td>\n",
              "      <td>0.783333</td>\n",
              "      <td>0.484763</td>\n",
              "    </tr>\n",
              "    <tr>\n",
              "      <th>115</th>\n",
              "      <td>0.298947</td>\n",
              "      <td>0.783333</td>\n",
              "      <td>0.484287</td>\n",
              "    </tr>\n",
              "    <tr>\n",
              "      <th>116</th>\n",
              "      <td>0.299673</td>\n",
              "      <td>0.783333</td>\n",
              "      <td>0.484090</td>\n",
              "    </tr>\n",
              "    <tr>\n",
              "      <th>117</th>\n",
              "      <td>0.327279</td>\n",
              "      <td>0.783333</td>\n",
              "      <td>0.461618</td>\n",
              "    </tr>\n",
              "    <tr>\n",
              "      <th>118</th>\n",
              "      <td>0.328006</td>\n",
              "      <td>0.783333</td>\n",
              "      <td>0.461250</td>\n",
              "    </tr>\n",
              "    <tr>\n",
              "      <th>119</th>\n",
              "      <td>0.334544</td>\n",
              "      <td>0.783333</td>\n",
              "      <td>0.456103</td>\n",
              "    </tr>\n",
              "    <tr>\n",
              "      <th>120</th>\n",
              "      <td>0.334544</td>\n",
              "      <td>0.800000</td>\n",
              "      <td>0.455695</td>\n",
              "    </tr>\n",
              "    <tr>\n",
              "      <th>121</th>\n",
              "      <td>0.337087</td>\n",
              "      <td>0.800000</td>\n",
              "      <td>0.453851</td>\n",
              "    </tr>\n",
              "    <tr>\n",
              "      <th>122</th>\n",
              "      <td>0.337087</td>\n",
              "      <td>0.833333</td>\n",
              "      <td>0.453037</td>\n",
              "    </tr>\n",
              "    <tr>\n",
              "      <th>123</th>\n",
              "      <td>0.337450</td>\n",
              "      <td>0.833333</td>\n",
              "      <td>0.453032</td>\n",
              "    </tr>\n",
              "    <tr>\n",
              "      <th>124</th>\n",
              "      <td>0.337450</td>\n",
              "      <td>0.850000</td>\n",
              "      <td>0.452515</td>\n",
              "    </tr>\n",
              "    <tr>\n",
              "      <th>125</th>\n",
              "      <td>0.356339</td>\n",
              "      <td>0.850000</td>\n",
              "      <td>0.440366</td>\n",
              "    </tr>\n",
              "    <tr>\n",
              "      <th>126</th>\n",
              "      <td>0.356339</td>\n",
              "      <td>0.866667</td>\n",
              "      <td>0.440267</td>\n",
              "    </tr>\n",
              "    <tr>\n",
              "      <th>127</th>\n",
              "      <td>0.377043</td>\n",
              "      <td>0.866667</td>\n",
              "      <td>0.422282</td>\n",
              "    </tr>\n",
              "    <tr>\n",
              "      <th>128</th>\n",
              "      <td>0.377043</td>\n",
              "      <td>0.883333</td>\n",
              "      <td>0.422116</td>\n",
              "    </tr>\n",
              "    <tr>\n",
              "      <th>129</th>\n",
              "      <td>0.389393</td>\n",
              "      <td>0.883333</td>\n",
              "      <td>0.412661</td>\n",
              "    </tr>\n",
              "    <tr>\n",
              "      <th>130</th>\n",
              "      <td>0.389393</td>\n",
              "      <td>0.900000</td>\n",
              "      <td>0.412522</td>\n",
              "    </tr>\n",
              "    <tr>\n",
              "      <th>131</th>\n",
              "      <td>0.396658</td>\n",
              "      <td>0.900000</td>\n",
              "      <td>0.408376</td>\n",
              "    </tr>\n",
              "    <tr>\n",
              "      <th>132</th>\n",
              "      <td>0.397385</td>\n",
              "      <td>0.900000</td>\n",
              "      <td>0.408280</td>\n",
              "    </tr>\n",
              "    <tr>\n",
              "      <th>133</th>\n",
              "      <td>0.402470</td>\n",
              "      <td>0.900000</td>\n",
              "      <td>0.401717</td>\n",
              "    </tr>\n",
              "    <tr>\n",
              "      <th>134</th>\n",
              "      <td>0.403197</td>\n",
              "      <td>0.900000</td>\n",
              "      <td>0.401584</td>\n",
              "    </tr>\n",
              "    <tr>\n",
              "      <th>135</th>\n",
              "      <td>0.416273</td>\n",
              "      <td>0.900000</td>\n",
              "      <td>0.392374</td>\n",
              "    </tr>\n",
              "    <tr>\n",
              "      <th>136</th>\n",
              "      <td>0.416273</td>\n",
              "      <td>0.916667</td>\n",
              "      <td>0.392348</td>\n",
              "    </tr>\n",
              "    <tr>\n",
              "      <th>137</th>\n",
              "      <td>0.432619</td>\n",
              "      <td>0.916667</td>\n",
              "      <td>0.379398</td>\n",
              "    </tr>\n",
              "    <tr>\n",
              "      <th>138</th>\n",
              "      <td>0.432619</td>\n",
              "      <td>0.933333</td>\n",
              "      <td>0.378798</td>\n",
              "    </tr>\n",
              "    <tr>\n",
              "      <th>139</th>\n",
              "      <td>0.447512</td>\n",
              "      <td>0.933333</td>\n",
              "      <td>0.369030</td>\n",
              "    </tr>\n",
              "    <tr>\n",
              "      <th>140</th>\n",
              "      <td>0.448238</td>\n",
              "      <td>0.933333</td>\n",
              "      <td>0.368843</td>\n",
              "    </tr>\n",
              "    <tr>\n",
              "      <th>141</th>\n",
              "      <td>0.451507</td>\n",
              "      <td>0.933333</td>\n",
              "      <td>0.366298</td>\n",
              "    </tr>\n",
              "    <tr>\n",
              "      <th>142</th>\n",
              "      <td>0.452234</td>\n",
              "      <td>0.933333</td>\n",
              "      <td>0.365844</td>\n",
              "    </tr>\n",
              "    <tr>\n",
              "      <th>143</th>\n",
              "      <td>0.455140</td>\n",
              "      <td>0.933333</td>\n",
              "      <td>0.363834</td>\n",
              "    </tr>\n",
              "    <tr>\n",
              "      <th>144</th>\n",
              "      <td>0.455866</td>\n",
              "      <td>0.933333</td>\n",
              "      <td>0.363624</td>\n",
              "    </tr>\n",
              "    <tr>\n",
              "      <th>145</th>\n",
              "      <td>0.463131</td>\n",
              "      <td>0.933333</td>\n",
              "      <td>0.359686</td>\n",
              "    </tr>\n",
              "    <tr>\n",
              "      <th>146</th>\n",
              "      <td>0.463858</td>\n",
              "      <td>0.933333</td>\n",
              "      <td>0.359564</td>\n",
              "    </tr>\n",
              "    <tr>\n",
              "      <th>147</th>\n",
              "      <td>0.474755</td>\n",
              "      <td>0.933333</td>\n",
              "      <td>0.351258</td>\n",
              "    </tr>\n",
              "    <tr>\n",
              "      <th>148</th>\n",
              "      <td>0.475481</td>\n",
              "      <td>0.933333</td>\n",
              "      <td>0.351233</td>\n",
              "    </tr>\n",
              "    <tr>\n",
              "      <th>149</th>\n",
              "      <td>0.486378</td>\n",
              "      <td>0.933333</td>\n",
              "      <td>0.344113</td>\n",
              "    </tr>\n",
              "    <tr>\n",
              "      <th>150</th>\n",
              "      <td>0.487105</td>\n",
              "      <td>0.933333</td>\n",
              "      <td>0.344080</td>\n",
              "    </tr>\n",
              "    <tr>\n",
              "      <th>151</th>\n",
              "      <td>0.522703</td>\n",
              "      <td>0.933333</td>\n",
              "      <td>0.316754</td>\n",
              "    </tr>\n",
              "    <tr>\n",
              "      <th>152</th>\n",
              "      <td>0.522703</td>\n",
              "      <td>0.950000</td>\n",
              "      <td>0.316658</td>\n",
              "    </tr>\n",
              "    <tr>\n",
              "      <th>153</th>\n",
              "      <td>0.544860</td>\n",
              "      <td>0.950000</td>\n",
              "      <td>0.302457</td>\n",
              "    </tr>\n",
              "    <tr>\n",
              "      <th>154</th>\n",
              "      <td>0.544860</td>\n",
              "      <td>0.966667</td>\n",
              "      <td>0.302157</td>\n",
              "    </tr>\n",
              "    <tr>\n",
              "      <th>155</th>\n",
              "      <td>0.554668</td>\n",
              "      <td>0.966667</td>\n",
              "      <td>0.294773</td>\n",
              "    </tr>\n",
              "    <tr>\n",
              "      <th>156</th>\n",
              "      <td>0.555757</td>\n",
              "      <td>0.966667</td>\n",
              "      <td>0.294719</td>\n",
              "    </tr>\n",
              "    <tr>\n",
              "      <th>157</th>\n",
              "      <td>0.569560</td>\n",
              "      <td>0.966667</td>\n",
              "      <td>0.285503</td>\n",
              "    </tr>\n",
              "    <tr>\n",
              "      <th>158</th>\n",
              "      <td>0.570287</td>\n",
              "      <td>0.966667</td>\n",
              "      <td>0.285282</td>\n",
              "    </tr>\n",
              "    <tr>\n",
              "      <th>159</th>\n",
              "      <td>0.575372</td>\n",
              "      <td>0.966667</td>\n",
              "      <td>0.278604</td>\n",
              "    </tr>\n",
              "    <tr>\n",
              "      <th>160</th>\n",
              "      <td>0.576099</td>\n",
              "      <td>0.966667</td>\n",
              "      <td>0.278149</td>\n",
              "    </tr>\n",
              "    <tr>\n",
              "      <th>161</th>\n",
              "      <td>0.577915</td>\n",
              "      <td>0.966667</td>\n",
              "      <td>0.276715</td>\n",
              "    </tr>\n",
              "    <tr>\n",
              "      <th>162</th>\n",
              "      <td>0.578641</td>\n",
              "      <td>0.966667</td>\n",
              "      <td>0.276678</td>\n",
              "    </tr>\n",
              "    <tr>\n",
              "      <th>163</th>\n",
              "      <td>0.584090</td>\n",
              "      <td>0.966667</td>\n",
              "      <td>0.272783</td>\n",
              "    </tr>\n",
              "    <tr>\n",
              "      <th>164</th>\n",
              "      <td>0.584817</td>\n",
              "      <td>0.966667</td>\n",
              "      <td>0.272707</td>\n",
              "    </tr>\n",
              "    <tr>\n",
              "      <th>165</th>\n",
              "      <td>0.588449</td>\n",
              "      <td>0.966667</td>\n",
              "      <td>0.270291</td>\n",
              "    </tr>\n",
              "    <tr>\n",
              "      <th>166</th>\n",
              "      <td>0.589175</td>\n",
              "      <td>0.966667</td>\n",
              "      <td>0.269601</td>\n",
              "    </tr>\n",
              "    <tr>\n",
              "      <th>167</th>\n",
              "      <td>0.589902</td>\n",
              "      <td>0.966667</td>\n",
              "      <td>0.269458</td>\n",
              "    </tr>\n",
              "    <tr>\n",
              "      <th>168</th>\n",
              "      <td>0.590628</td>\n",
              "      <td>0.966667</td>\n",
              "      <td>0.269381</td>\n",
              "    </tr>\n",
              "    <tr>\n",
              "      <th>169</th>\n",
              "      <td>0.633491</td>\n",
              "      <td>0.966667</td>\n",
              "      <td>0.228931</td>\n",
              "    </tr>\n",
              "    <tr>\n",
              "      <th>170</th>\n",
              "      <td>0.634217</td>\n",
              "      <td>0.966667</td>\n",
              "      <td>0.228551</td>\n",
              "    </tr>\n",
              "    <tr>\n",
              "      <th>171</th>\n",
              "      <td>0.679259</td>\n",
              "      <td>0.966667</td>\n",
              "      <td>0.207538</td>\n",
              "    </tr>\n",
              "    <tr>\n",
              "      <th>172</th>\n",
              "      <td>0.679985</td>\n",
              "      <td>0.966667</td>\n",
              "      <td>0.207532</td>\n",
              "    </tr>\n",
              "    <tr>\n",
              "      <th>173</th>\n",
              "      <td>0.682891</td>\n",
              "      <td>0.966667</td>\n",
              "      <td>0.205928</td>\n",
              "    </tr>\n",
              "    <tr>\n",
              "      <th>174</th>\n",
              "      <td>0.683618</td>\n",
              "      <td>0.966667</td>\n",
              "      <td>0.205898</td>\n",
              "    </tr>\n",
              "    <tr>\n",
              "      <th>175</th>\n",
              "      <td>0.685434</td>\n",
              "      <td>0.966667</td>\n",
              "      <td>0.204366</td>\n",
              "    </tr>\n",
              "    <tr>\n",
              "      <th>176</th>\n",
              "      <td>0.686161</td>\n",
              "      <td>0.966667</td>\n",
              "      <td>0.204226</td>\n",
              "    </tr>\n",
              "    <tr>\n",
              "      <th>177</th>\n",
              "      <td>0.693789</td>\n",
              "      <td>0.966667</td>\n",
              "      <td>0.198196</td>\n",
              "    </tr>\n",
              "    <tr>\n",
              "      <th>178</th>\n",
              "      <td>0.694515</td>\n",
              "      <td>0.966667</td>\n",
              "      <td>0.198044</td>\n",
              "    </tr>\n",
              "    <tr>\n",
              "      <th>179</th>\n",
              "      <td>0.714130</td>\n",
              "      <td>0.966667</td>\n",
              "      <td>0.184010</td>\n",
              "    </tr>\n",
              "    <tr>\n",
              "      <th>180</th>\n",
              "      <td>0.714857</td>\n",
              "      <td>0.966667</td>\n",
              "      <td>0.183415</td>\n",
              "    </tr>\n",
              "    <tr>\n",
              "      <th>181</th>\n",
              "      <td>0.715583</td>\n",
              "      <td>0.966667</td>\n",
              "      <td>0.182495</td>\n",
              "    </tr>\n",
              "    <tr>\n",
              "      <th>182</th>\n",
              "      <td>0.716309</td>\n",
              "      <td>0.966667</td>\n",
              "      <td>0.182408</td>\n",
              "    </tr>\n",
              "    <tr>\n",
              "      <th>183</th>\n",
              "      <td>0.717762</td>\n",
              "      <td>0.966667</td>\n",
              "      <td>0.180439</td>\n",
              "    </tr>\n",
              "    <tr>\n",
              "      <th>184</th>\n",
              "      <td>0.718489</td>\n",
              "      <td>0.966667</td>\n",
              "      <td>0.180404</td>\n",
              "    </tr>\n",
              "    <tr>\n",
              "      <th>185</th>\n",
              "      <td>0.747185</td>\n",
              "      <td>0.966667</td>\n",
              "      <td>0.163762</td>\n",
              "    </tr>\n",
              "    <tr>\n",
              "      <th>186</th>\n",
              "      <td>0.747911</td>\n",
              "      <td>0.966667</td>\n",
              "      <td>0.163585</td>\n",
              "    </tr>\n",
              "    <tr>\n",
              "      <th>187</th>\n",
              "      <td>0.747911</td>\n",
              "      <td>0.983333</td>\n",
              "      <td>0.163580</td>\n",
              "    </tr>\n",
              "    <tr>\n",
              "      <th>188</th>\n",
              "      <td>0.751544</td>\n",
              "      <td>0.983333</td>\n",
              "      <td>0.161851</td>\n",
              "    </tr>\n",
              "    <tr>\n",
              "      <th>189</th>\n",
              "      <td>0.752270</td>\n",
              "      <td>0.983333</td>\n",
              "      <td>0.161373</td>\n",
              "    </tr>\n",
              "    <tr>\n",
              "      <th>190</th>\n",
              "      <td>0.753360</td>\n",
              "      <td>0.983333</td>\n",
              "      <td>0.160969</td>\n",
              "    </tr>\n",
              "    <tr>\n",
              "      <th>191</th>\n",
              "      <td>0.754086</td>\n",
              "      <td>0.983333</td>\n",
              "      <td>0.160708</td>\n",
              "    </tr>\n",
              "    <tr>\n",
              "      <th>192</th>\n",
              "      <td>0.761714</td>\n",
              "      <td>0.983333</td>\n",
              "      <td>0.158191</td>\n",
              "    </tr>\n",
              "    <tr>\n",
              "      <th>193</th>\n",
              "      <td>0.762441</td>\n",
              "      <td>0.983333</td>\n",
              "      <td>0.158115</td>\n",
              "    </tr>\n",
              "    <tr>\n",
              "      <th>194</th>\n",
              "      <td>0.763167</td>\n",
              "      <td>0.983333</td>\n",
              "      <td>0.158058</td>\n",
              "    </tr>\n",
              "    <tr>\n",
              "      <th>195</th>\n",
              "      <td>0.763894</td>\n",
              "      <td>0.983333</td>\n",
              "      <td>0.157825</td>\n",
              "    </tr>\n",
              "    <tr>\n",
              "      <th>196</th>\n",
              "      <td>0.767526</td>\n",
              "      <td>0.983333</td>\n",
              "      <td>0.156408</td>\n",
              "    </tr>\n",
              "    <tr>\n",
              "      <th>197</th>\n",
              "      <td>0.768253</td>\n",
              "      <td>0.983333</td>\n",
              "      <td>0.156170</td>\n",
              "    </tr>\n",
              "    <tr>\n",
              "      <th>198</th>\n",
              "      <td>0.769706</td>\n",
              "      <td>0.983333</td>\n",
              "      <td>0.155829</td>\n",
              "    </tr>\n",
              "    <tr>\n",
              "      <th>199</th>\n",
              "      <td>0.770432</td>\n",
              "      <td>0.983333</td>\n",
              "      <td>0.155691</td>\n",
              "    </tr>\n",
              "    <tr>\n",
              "      <th>200</th>\n",
              "      <td>0.776971</td>\n",
              "      <td>0.983333</td>\n",
              "      <td>0.153301</td>\n",
              "    </tr>\n",
              "    <tr>\n",
              "      <th>201</th>\n",
              "      <td>0.777697</td>\n",
              "      <td>0.983333</td>\n",
              "      <td>0.153281</td>\n",
              "    </tr>\n",
              "    <tr>\n",
              "      <th>202</th>\n",
              "      <td>0.785325</td>\n",
              "      <td>0.983333</td>\n",
              "      <td>0.150283</td>\n",
              "    </tr>\n",
              "    <tr>\n",
              "      <th>203</th>\n",
              "      <td>0.786052</td>\n",
              "      <td>0.983333</td>\n",
              "      <td>0.150085</td>\n",
              "    </tr>\n",
              "    <tr>\n",
              "      <th>204</th>\n",
              "      <td>0.787505</td>\n",
              "      <td>0.983333</td>\n",
              "      <td>0.149387</td>\n",
              "    </tr>\n",
              "    <tr>\n",
              "      <th>205</th>\n",
              "      <td>0.788594</td>\n",
              "      <td>0.983333</td>\n",
              "      <td>0.149264</td>\n",
              "    </tr>\n",
              "    <tr>\n",
              "      <th>206</th>\n",
              "      <td>0.797312</td>\n",
              "      <td>0.983333</td>\n",
              "      <td>0.146221</td>\n",
              "    </tr>\n",
              "    <tr>\n",
              "      <th>207</th>\n",
              "      <td>0.798039</td>\n",
              "      <td>0.983333</td>\n",
              "      <td>0.146062</td>\n",
              "    </tr>\n",
              "    <tr>\n",
              "      <th>208</th>\n",
              "      <td>0.809299</td>\n",
              "      <td>0.983333</td>\n",
              "      <td>0.132002</td>\n",
              "    </tr>\n",
              "    <tr>\n",
              "      <th>209</th>\n",
              "      <td>0.810025</td>\n",
              "      <td>0.983333</td>\n",
              "      <td>0.131190</td>\n",
              "    </tr>\n",
              "    <tr>\n",
              "      <th>210</th>\n",
              "      <td>0.833636</td>\n",
              "      <td>0.983333</td>\n",
              "      <td>0.107736</td>\n",
              "    </tr>\n",
              "    <tr>\n",
              "      <th>211</th>\n",
              "      <td>0.834363</td>\n",
              "      <td>0.983333</td>\n",
              "      <td>0.107164</td>\n",
              "    </tr>\n",
              "    <tr>\n",
              "      <th>212</th>\n",
              "      <td>0.854341</td>\n",
              "      <td>0.983333</td>\n",
              "      <td>0.088483</td>\n",
              "    </tr>\n",
              "    <tr>\n",
              "      <th>213</th>\n",
              "      <td>0.855067</td>\n",
              "      <td>0.983333</td>\n",
              "      <td>0.088108</td>\n",
              "    </tr>\n",
              "    <tr>\n",
              "      <th>214</th>\n",
              "      <td>0.861969</td>\n",
              "      <td>0.983333</td>\n",
              "      <td>0.086008</td>\n",
              "    </tr>\n",
              "    <tr>\n",
              "      <th>215</th>\n",
              "      <td>0.862695</td>\n",
              "      <td>0.983333</td>\n",
              "      <td>0.085428</td>\n",
              "    </tr>\n",
              "    <tr>\n",
              "      <th>216</th>\n",
              "      <td>0.866328</td>\n",
              "      <td>0.983333</td>\n",
              "      <td>0.083841</td>\n",
              "    </tr>\n",
              "    <tr>\n",
              "      <th>217</th>\n",
              "      <td>0.867054</td>\n",
              "      <td>0.983333</td>\n",
              "      <td>0.083812</td>\n",
              "    </tr>\n",
              "    <tr>\n",
              "      <th>218</th>\n",
              "      <td>0.873229</td>\n",
              "      <td>0.983333</td>\n",
              "      <td>0.080483</td>\n",
              "    </tr>\n",
              "    <tr>\n",
              "      <th>219</th>\n",
              "      <td>0.873956</td>\n",
              "      <td>0.983333</td>\n",
              "      <td>0.079992</td>\n",
              "    </tr>\n",
              "    <tr>\n",
              "      <th>220</th>\n",
              "      <td>0.874682</td>\n",
              "      <td>0.983333</td>\n",
              "      <td>0.079764</td>\n",
              "    </tr>\n",
              "    <tr>\n",
              "      <th>221</th>\n",
              "      <td>0.875409</td>\n",
              "      <td>0.983333</td>\n",
              "      <td>0.079481</td>\n",
              "    </tr>\n",
              "    <tr>\n",
              "      <th>222</th>\n",
              "      <td>0.884490</td>\n",
              "      <td>0.983333</td>\n",
              "      <td>0.070656</td>\n",
              "    </tr>\n",
              "    <tr>\n",
              "      <th>223</th>\n",
              "      <td>0.885216</td>\n",
              "      <td>0.983333</td>\n",
              "      <td>0.070637</td>\n",
              "    </tr>\n",
              "    <tr>\n",
              "      <th>224</th>\n",
              "      <td>0.893934</td>\n",
              "      <td>0.983333</td>\n",
              "      <td>0.065847</td>\n",
              "    </tr>\n",
              "    <tr>\n",
              "      <th>225</th>\n",
              "      <td>0.894660</td>\n",
              "      <td>0.983333</td>\n",
              "      <td>0.065755</td>\n",
              "    </tr>\n",
              "    <tr>\n",
              "      <th>226</th>\n",
              "      <td>0.895024</td>\n",
              "      <td>0.983333</td>\n",
              "      <td>0.065400</td>\n",
              "    </tr>\n",
              "    <tr>\n",
              "      <th>227</th>\n",
              "      <td>0.895750</td>\n",
              "      <td>0.983333</td>\n",
              "      <td>0.065377</td>\n",
              "    </tr>\n",
              "    <tr>\n",
              "      <th>228</th>\n",
              "      <td>0.901199</td>\n",
              "      <td>0.983333</td>\n",
              "      <td>0.063303</td>\n",
              "    </tr>\n",
              "    <tr>\n",
              "      <th>229</th>\n",
              "      <td>0.901925</td>\n",
              "      <td>0.983333</td>\n",
              "      <td>0.062148</td>\n",
              "    </tr>\n",
              "    <tr>\n",
              "      <th>230</th>\n",
              "      <td>0.902288</td>\n",
              "      <td>0.983333</td>\n",
              "      <td>0.061949</td>\n",
              "    </tr>\n",
              "    <tr>\n",
              "      <th>231</th>\n",
              "      <td>0.903015</td>\n",
              "      <td>0.983333</td>\n",
              "      <td>0.061747</td>\n",
              "    </tr>\n",
              "    <tr>\n",
              "      <th>232</th>\n",
              "      <td>0.905194</td>\n",
              "      <td>0.983333</td>\n",
              "      <td>0.060689</td>\n",
              "    </tr>\n",
              "    <tr>\n",
              "      <th>233</th>\n",
              "      <td>0.905921</td>\n",
              "      <td>0.983333</td>\n",
              "      <td>0.060409</td>\n",
              "    </tr>\n",
              "    <tr>\n",
              "      <th>234</th>\n",
              "      <td>0.922993</td>\n",
              "      <td>0.983333</td>\n",
              "      <td>0.041805</td>\n",
              "    </tr>\n",
              "    <tr>\n",
              "      <th>235</th>\n",
              "      <td>0.924083</td>\n",
              "      <td>0.983333</td>\n",
              "      <td>0.041723</td>\n",
              "    </tr>\n",
              "    <tr>\n",
              "      <th>236</th>\n",
              "      <td>0.935707</td>\n",
              "      <td>0.983333</td>\n",
              "      <td>0.030993</td>\n",
              "    </tr>\n",
              "    <tr>\n",
              "      <th>237</th>\n",
              "      <td>0.937159</td>\n",
              "      <td>0.983333</td>\n",
              "      <td>0.030926</td>\n",
              "    </tr>\n",
              "    <tr>\n",
              "      <th>238</th>\n",
              "      <td>0.940429</td>\n",
              "      <td>0.983333</td>\n",
              "      <td>0.027969</td>\n",
              "    </tr>\n",
              "    <tr>\n",
              "      <th>239</th>\n",
              "      <td>0.940429</td>\n",
              "      <td>1.000000</td>\n",
              "      <td>0.027837</td>\n",
              "    </tr>\n",
              "    <tr>\n",
              "      <th>240</th>\n",
              "      <td>0.943335</td>\n",
              "      <td>1.000000</td>\n",
              "      <td>0.026132</td>\n",
              "    </tr>\n",
              "    <tr>\n",
              "      <th>241</th>\n",
              "      <td>0.944061</td>\n",
              "      <td>1.000000</td>\n",
              "      <td>0.025780</td>\n",
              "    </tr>\n",
              "    <tr>\n",
              "      <th>242</th>\n",
              "      <td>0.947330</td>\n",
              "      <td>1.000000</td>\n",
              "      <td>0.024354</td>\n",
              "    </tr>\n",
              "    <tr>\n",
              "      <th>243</th>\n",
              "      <td>0.948057</td>\n",
              "      <td>1.000000</td>\n",
              "      <td>0.023928</td>\n",
              "    </tr>\n",
              "    <tr>\n",
              "      <th>244</th>\n",
              "      <td>0.958591</td>\n",
              "      <td>1.000000</td>\n",
              "      <td>0.016686</td>\n",
              "    </tr>\n",
              "    <tr>\n",
              "      <th>245</th>\n",
              "      <td>0.959317</td>\n",
              "      <td>1.000000</td>\n",
              "      <td>0.016525</td>\n",
              "    </tr>\n",
              "    <tr>\n",
              "      <th>246</th>\n",
              "      <td>0.965492</td>\n",
              "      <td>1.000000</td>\n",
              "      <td>0.013817</td>\n",
              "    </tr>\n",
              "    <tr>\n",
              "      <th>247</th>\n",
              "      <td>0.966945</td>\n",
              "      <td>1.000000</td>\n",
              "      <td>0.013669</td>\n",
              "    </tr>\n",
              "    <tr>\n",
              "      <th>248</th>\n",
              "      <td>0.978569</td>\n",
              "      <td>1.000000</td>\n",
              "      <td>0.007406</td>\n",
              "    </tr>\n",
              "    <tr>\n",
              "      <th>249</th>\n",
              "      <td>0.979295</td>\n",
              "      <td>1.000000</td>\n",
              "      <td>0.007279</td>\n",
              "    </tr>\n",
              "    <tr>\n",
              "      <th>250</th>\n",
              "      <td>0.988740</td>\n",
              "      <td>1.000000</td>\n",
              "      <td>0.005373</td>\n",
              "    </tr>\n",
              "    <tr>\n",
              "      <th>251</th>\n",
              "      <td>0.989466</td>\n",
              "      <td>1.000000</td>\n",
              "      <td>0.005014</td>\n",
              "    </tr>\n",
              "    <tr>\n",
              "      <th>252</th>\n",
              "      <td>0.991645</td>\n",
              "      <td>1.000000</td>\n",
              "      <td>0.004540</td>\n",
              "    </tr>\n",
              "    <tr>\n",
              "      <th>253</th>\n",
              "      <td>0.992372</td>\n",
              "      <td>1.000000</td>\n",
              "      <td>0.004532</td>\n",
              "    </tr>\n",
              "    <tr>\n",
              "      <th>254</th>\n",
              "      <td>0.994915</td>\n",
              "      <td>1.000000</td>\n",
              "      <td>0.002660</td>\n",
              "    </tr>\n",
              "    <tr>\n",
              "      <th>255</th>\n",
              "      <td>0.995641</td>\n",
              "      <td>1.000000</td>\n",
              "      <td>0.002301</td>\n",
              "    </tr>\n",
              "    <tr>\n",
              "      <th>256</th>\n",
              "      <td>1.000000</td>\n",
              "      <td>1.000000</td>\n",
              "      <td>0.000978</td>\n",
              "    </tr>\n",
              "  </tbody>\n",
              "</table>\n",
              "</div>\n",
              "      <button class=\"colab-df-convert\" onclick=\"convertToInteractive('df-d7e1644c-d707-4573-b0e0-17febeb25153')\"\n",
              "              title=\"Convert this dataframe to an interactive table.\"\n",
              "              style=\"display:none;\">\n",
              "        \n",
              "  <svg xmlns=\"http://www.w3.org/2000/svg\" height=\"24px\"viewBox=\"0 0 24 24\"\n",
              "       width=\"24px\">\n",
              "    <path d=\"M0 0h24v24H0V0z\" fill=\"none\"/>\n",
              "    <path d=\"M18.56 5.44l.94 2.06.94-2.06 2.06-.94-2.06-.94-.94-2.06-.94 2.06-2.06.94zm-11 1L8.5 8.5l.94-2.06 2.06-.94-2.06-.94L8.5 2.5l-.94 2.06-2.06.94zm10 10l.94 2.06.94-2.06 2.06-.94-2.06-.94-.94-2.06-.94 2.06-2.06.94z\"/><path d=\"M17.41 7.96l-1.37-1.37c-.4-.4-.92-.59-1.43-.59-.52 0-1.04.2-1.43.59L10.3 9.45l-7.72 7.72c-.78.78-.78 2.05 0 2.83L4 21.41c.39.39.9.59 1.41.59.51 0 1.02-.2 1.41-.59l7.78-7.78 2.81-2.81c.8-.78.8-2.07 0-2.86zM5.41 20L4 18.59l7.72-7.72 1.47 1.35L5.41 20z\"/>\n",
              "  </svg>\n",
              "      </button>\n",
              "      \n",
              "  <style>\n",
              "    .colab-df-container {\n",
              "      display:flex;\n",
              "      flex-wrap:wrap;\n",
              "      gap: 12px;\n",
              "    }\n",
              "\n",
              "    .colab-df-convert {\n",
              "      background-color: #E8F0FE;\n",
              "      border: none;\n",
              "      border-radius: 50%;\n",
              "      cursor: pointer;\n",
              "      display: none;\n",
              "      fill: #1967D2;\n",
              "      height: 32px;\n",
              "      padding: 0 0 0 0;\n",
              "      width: 32px;\n",
              "    }\n",
              "\n",
              "    .colab-df-convert:hover {\n",
              "      background-color: #E2EBFA;\n",
              "      box-shadow: 0px 1px 2px rgba(60, 64, 67, 0.3), 0px 1px 3px 1px rgba(60, 64, 67, 0.15);\n",
              "      fill: #174EA6;\n",
              "    }\n",
              "\n",
              "    [theme=dark] .colab-df-convert {\n",
              "      background-color: #3B4455;\n",
              "      fill: #D2E3FC;\n",
              "    }\n",
              "\n",
              "    [theme=dark] .colab-df-convert:hover {\n",
              "      background-color: #434B5C;\n",
              "      box-shadow: 0px 1px 3px 1px rgba(0, 0, 0, 0.15);\n",
              "      filter: drop-shadow(0px 1px 2px rgba(0, 0, 0, 0.3));\n",
              "      fill: #FFFFFF;\n",
              "    }\n",
              "  </style>\n",
              "\n",
              "      <script>\n",
              "        const buttonEl =\n",
              "          document.querySelector('#df-d7e1644c-d707-4573-b0e0-17febeb25153 button.colab-df-convert');\n",
              "        buttonEl.style.display =\n",
              "          google.colab.kernel.accessAllowed ? 'block' : 'none';\n",
              "\n",
              "        async function convertToInteractive(key) {\n",
              "          const element = document.querySelector('#df-d7e1644c-d707-4573-b0e0-17febeb25153');\n",
              "          const dataTable =\n",
              "            await google.colab.kernel.invokeFunction('convertToInteractive',\n",
              "                                                     [key], {});\n",
              "          if (!dataTable) return;\n",
              "\n",
              "          const docLinkHtml = 'Like what you see? Visit the ' +\n",
              "            '<a target=\"_blank\" href=https://colab.research.google.com/notebooks/data_table.ipynb>data table notebook</a>'\n",
              "            + ' to learn more about interactive tables.';\n",
              "          element.innerHTML = '';\n",
              "          dataTable['output_type'] = 'display_data';\n",
              "          await google.colab.output.renderOutput(dataTable, element);\n",
              "          const docLink = document.createElement('div');\n",
              "          docLink.innerHTML = docLinkHtml;\n",
              "          element.appendChild(docLink);\n",
              "        }\n",
              "      </script>\n",
              "    </div>\n",
              "  </div>\n",
              "  "
            ]
          },
          "metadata": {},
          "execution_count": 49
        }
      ]
    },
    {
      "cell_type": "code",
      "source": [
        "# 위의 tpr, fpr, threshold를 이용해 ROC Curve를 그려보겠습니다.\n",
        "\n",
        "plt.plot(fpr, tpr, label='Logistic Regression')\n",
        "x_base = np.arange(0, 1.0, 0.01)\n",
        "y_base = np.arange(0, 1.0, 0.01)\n",
        "plt.plot(x_base, y_base, linestyle='--', color = 'orange', alpha=0.7, label='Random')\n",
        "plt.title('ROC curve')\n",
        "plt.xlabel('FPR(Fall-out)')\n",
        "plt.ylabel('TPR(Recall)')\n",
        "plt.legend();"
      ],
      "metadata": {
        "colab": {
          "base_uri": "https://localhost:8080/",
          "height": 295
        },
        "id": "V6cSjx9h3Gn6",
        "outputId": "81af71d9-e19d-416c-e7f0-79294d11bc98"
      },
      "execution_count": 50,
      "outputs": [
        {
          "output_type": "display_data",
          "data": {
            "text/plain": [
              "<Figure size 432x288 with 1 Axes>"
            ],
            "image/png": "[encoded data removed]"
          },
          "metadata": {
            "needs_background": "light"
          }
        }
      ]
    },
    {
      "cell_type": "code",
      "source": [
        "# auc_score 역시 sklearn에서 손쉽게 불러와 사용할 수 있습니다.\n",
        "\n",
        "from sklearn.metrics import roc_auc_score\n",
        "\n",
        "auc = roc_auc_score(y_val, y_pred_proba)\n",
        "print(f\"Logistic Regression의 auc score : {auc.round(3)}\")"
      ],
      "metadata": {
        "colab": {
          "base_uri": "https://localhost:8080/"
        },
        "id": "IvP4MPVp3MUK",
        "outputId": "a6ff8711-56c2-4086-e92d-42e5e6dfb730"
      },
      "execution_count": 51,
      "outputs": [
        {
          "output_type": "stream",
          "name": "stdout",
          "text": [
            "Logistic Regression의 auc score : 0.815\n"
          ]
        }
      ]
    },
    {
      "cell_type": "code",
      "source": [
        "# Positive 샘플의 확률이 Negative 샘플의 확률보다 클 확률이 0.815"
      ],
      "metadata": {
        "id": "egaPWF2d36Lm"
      },
      "execution_count": null,
      "outputs": []
    },
    {
      "cell_type": "code",
      "source": [
        "# 랜덤으로 실제값이 1인 샘플 50개와 실제값이 0인 샘플 50개를 뽑아서 확인?"
      ],
      "metadata": {
        "id": "opLCQwqa4AY-"
      },
      "execution_count": null,
      "outputs": []
    },
    {
      "cell_type": "code",
      "source": [
        "result = pd.concat([y_val.reset_index(drop=True), pd.Series(y_pred_proba)], axis=1)"
      ],
      "metadata": {
        "id": "A7-wtmED3NiB"
      },
      "execution_count": 52,
      "outputs": []
    },
    {
      "cell_type": "code",
      "source": [
        "class1 = result[result['promotion_last_5years']==1].sample(50, random_state=3)[0].values\n",
        "class0 = result[result['promotion_last_5years']==0].sample(50, random_state=3)[0].values\n",
        "\n",
        "((class1-class0)>0).sum() / 50"
      ],
      "metadata": {
        "colab": {
          "base_uri": "https://localhost:8080/"
        },
        "id": "0u2IyDJd3TdO",
        "outputId": "34dac985-b5e2-4487-b3b9-d8b567abfdbc"
      },
      "execution_count": 54,
      "outputs": [
        {
          "output_type": "execute_result",
          "data": {
            "text/plain": [
              "0.82"
            ]
          },
          "metadata": {},
          "execution_count": 54
        }
      ]
    },
    {
      "cell_type": "code",
      "source": [
        "# threshold 최대값의 인덱스, np.argmax()\n",
        "optimal_idx = np.argmax(tpr - fpr)\n",
        "optimal_threshold = thresholds[optimal_idx]\n",
        "\n",
        "print('idx:', optimal_idx, ', threshold:', optimal_threshold)\n",
        "\n",
        "optimal_fpr = roc[roc['Threshold'] == optimal_threshold]['FPR(Fall-out)']\n",
        "optimal_tpr = roc[roc['Threshold'] == optimal_threshold]['TPR(Recall)']\n",
        "\n",
        "plt.plot(fpr, tpr, label='Logistic Regression')\n",
        "\n",
        "plt.scatter(optimal_fpr, optimal_tpr, color = 'red', alpha=1, label='Optimal Threshold')\n",
        "plt.title('ROC curve')\n",
        "plt.xlabel('FPR(Fall-out)')\n",
        "plt.ylabel('TPR(Recall)')\n",
        "plt.legend();"
      ],
      "metadata": {
        "colab": {
          "base_uri": "https://localhost:8080/",
          "height": 313
        },
        "id": "SeEbrXPN3z4v",
        "outputId": "039438e7-49f0-45eb-a6d1-a6761f17042e"
      },
      "execution_count": 55,
      "outputs": [
        {
          "output_type": "stream",
          "name": "stdout",
          "text": [
            "idx: 124 , threshold: 0.4525145818450786\n"
          ]
        },
        {
          "output_type": "display_data",
          "data": {
            "text/plain": [
              "<Figure size 432x288 with 1 Axes>"
            ],
            "image/png": "[encoded data removed]"
          },
          "metadata": {
            "needs_background": "light"
          }
        }
      ]
    },
    {
      "cell_type": "code",
      "source": [
        "y_pred_optimal = y_pred_proba >= optimal_threshold\n",
        "print(classification_report(y_val, y_pred_optimal))"
      ],
      "metadata": {
        "colab": {
          "base_uri": "https://localhost:8080/"
        },
        "id": "_pIjCNdu4Rt4",
        "outputId": "d65fd9eb-acda-4c1c-c0da-36e683728fd7"
      },
      "execution_count": 56,
      "outputs": [
        {
          "output_type": "stream",
          "name": "stdout",
          "text": [
            "              precision    recall  f1-score   support\n",
            "\n",
            "           0       1.00      0.66      0.80      2753\n",
            "           1       0.05      0.85      0.10        60\n",
            "\n",
            "    accuracy                           0.67      2813\n",
            "   macro avg       0.52      0.76      0.45      2813\n",
            "weighted avg       0.97      0.67      0.78      2813\n",
            "\n"
          ]
        }
      ]
    },
    {
      "cell_type": "code",
      "source": [
        "y_pred_optimal = y_pred_proba >= 0.5\n",
        "print(classification_report(y_val, y_pred_optimal))"
      ],
      "metadata": {
        "colab": {
          "base_uri": "https://localhost:8080/"
        },
        "id": "82NUimdo4TGu",
        "outputId": "401e4cfc-3aa0-4cf9-e467-197ce1ef6e68"
      },
      "execution_count": 57,
      "outputs": [
        {
          "output_type": "stream",
          "name": "stdout",
          "text": [
            "              precision    recall  f1-score   support\n",
            "\n",
            "           0       0.99      0.72      0.83      2753\n",
            "           1       0.06      0.77      0.10        60\n",
            "\n",
            "    accuracy                           0.72      2813\n",
            "   macro avg       0.52      0.74      0.47      2813\n",
            "weighted avg       0.97      0.72      0.82      2813\n",
            "\n"
          ]
        }
      ]
    },
    {
      "cell_type": "markdown",
      "source": [
        "최적의 임계값을 적용한 결과와 0.5 임계값을 적용한 결과를 비교\n",
        "최적의 임계값의 경우 recall이 0.85로 약간 상승한 것을 알 수 있습니다."
      ],
      "metadata": {
        "id": "o2sxls804bf5"
      }
    },
    {
      "cell_type": "code",
      "source": [
        "!pip install category_encoders\n",
        "!pip install pandas-profiling==3.1.0"
      ],
      "metadata": {
        "colab": {
          "base_uri": "https://localhost:8080/",
          "height": 1000
        },
        "id": "i7rUhufRqtUT",
        "outputId": "739f6862-586a-4d91-f28d-7fa3ddcad7db"
      },
      "execution_count": 58,
      "outputs": [
        {
          "output_type": "stream",
          "name": "stdout",
          "text": [
            "Looking in indexes: https://pypi.org/simple, https://us-python.pkg.dev/colab-wheels/public/simple/\n",
            "Requirement already satisfied: category_encoders in /usr/local/lib/python3.7/dist-packages (2.5.0)\n",
            "Requirement already satisfied: scipy>=1.0.0 in /usr/local/lib/python3.7/dist-packages (from category_encoders) (1.7.3)\n",
            "Requirement already satisfied: patsy>=0.5.1 in /usr/local/lib/python3.7/dist-packages (from category_encoders) (0.5.2)\n",
            "Requirement already satisfied: numpy>=1.14.0 in /usr/local/lib/python3.7/dist-packages (from category_encoders) (1.21.6)\n",
            "Requirement already satisfied: statsmodels>=0.9.0 in /usr/local/lib/python3.7/dist-packages (from category_encoders) (0.12.2)\n",
            "Requirement already satisfied: scikit-learn>=0.20.0 in /usr/local/lib/python3.7/dist-packages (from category_encoders) (1.0.2)\n",
            "Requirement already satisfied: pandas>=1.0.5 in /usr/local/lib/python3.7/dist-packages (from category_encoders) (1.3.5)\n",
            "Requirement already satisfied: python-dateutil>=2.7.3 in /usr/local/lib/python3.7/dist-packages (from pandas>=1.0.5->category_encoders) (2.8.2)\n",
            "Requirement already satisfied: pytz>=2017.3 in /usr/local/lib/python3.7/dist-packages (from pandas>=1.0.5->category_encoders) (2022.2.1)\n",
            "Requirement already satisfied: six in /usr/local/lib/python3.7/dist-packages (from patsy>=0.5.1->category_encoders) (1.15.0)\n",
            "Requirement already satisfied: threadpoolctl>=2.0.0 in /usr/local/lib/python3.7/dist-packages (from scikit-learn>=0.20.0->category_encoders) (3.1.0)\n",
            "Requirement already satisfied: joblib>=0.11 in /usr/local/lib/python3.7/dist-packages (from scikit-learn>=0.20.0->category_encoders) (1.1.0)\n",
            "Looking in indexes: https://pypi.org/simple, https://us-python.pkg.dev/colab-wheels/public/simple/\n",
            "Collecting pandas-profiling==3.1.0\n",
            "  Downloading pandas_profiling-3.1.0-py2.py3-none-any.whl (261 kB)\n",
            "\u001b[K     |████████████████████████████████| 261 kB 2.3 MB/s \n",
            "\u001b[?25hRequirement already satisfied: jinja2>=2.11.1 in /usr/local/lib/python3.7/dist-packages (from pandas-profiling==3.1.0) (2.11.3)\n",
            "Collecting visions[type_image_path]==0.7.4\n",
            "  Downloading visions-0.7.4-py3-none-any.whl (102 kB)\n",
            "\u001b[K     |████████████████████████████████| 102 kB 11.0 MB/s \n",
            "\u001b[?25hCollecting tangled-up-in-unicode==0.1.0\n",
            "  Downloading tangled_up_in_unicode-0.1.0-py3-none-any.whl (3.1 MB)\n",
            "\u001b[K     |████████████████████████████████| 3.1 MB 34.6 MB/s \n",
            "\u001b[?25hCollecting htmlmin>=0.1.12\n",
            "  Downloading htmlmin-0.1.12.tar.gz (19 kB)\n",
            "Requirement already satisfied: matplotlib>=3.2.0 in /usr/local/lib/python3.7/dist-packages (from pandas-profiling==3.1.0) (3.2.2)\n",
            "Requirement already satisfied: pandas!=1.0.0,!=1.0.1,!=1.0.2,!=1.1.0,>=0.25.3 in /usr/local/lib/python3.7/dist-packages (from pandas-profiling==3.1.0) (1.3.5)\n",
            "Requirement already satisfied: tqdm>=4.48.2 in /usr/local/lib/python3.7/dist-packages (from pandas-profiling==3.1.0) (4.64.1)\n",
            "Requirement already satisfied: missingno>=0.4.2 in /usr/local/lib/python3.7/dist-packages (from pandas-profiling==3.1.0) (0.5.1)\n",
            "Requirement already satisfied: seaborn>=0.10.1 in /usr/local/lib/python3.7/dist-packages (from pandas-profiling==3.1.0) (0.11.2)\n",
            "Requirement already satisfied: scipy>=1.4.1 in /usr/local/lib/python3.7/dist-packages (from pandas-profiling==3.1.0) (1.7.3)\n",
            "Collecting multimethod>=1.4\n",
            "  Downloading multimethod-1.9-py3-none-any.whl (10 kB)\n",
            "Collecting joblib~=1.0.1\n",
            "  Downloading joblib-1.0.1-py3-none-any.whl (303 kB)\n",
            "\u001b[K     |████████████████████████████████| 303 kB 57.7 MB/s \n",
            "\u001b[?25hRequirement already satisfied: markupsafe~=2.0.1 in /usr/local/lib/python3.7/dist-packages (from pandas-profiling==3.1.0) (2.0.1)\n",
            "Collecting requests>=2.24.0\n",
            "  Downloading requests-2.28.1-py3-none-any.whl (62 kB)\n",
            "\u001b[K     |████████████████████████████████| 62 kB 1.4 MB/s \n",
            "\u001b[?25hRequirement already satisfied: pydantic>=1.8.1 in /usr/local/lib/python3.7/dist-packages (from pandas-profiling==3.1.0) (1.9.2)\n",
            "Requirement already satisfied: PyYAML>=5.0.0 in /usr/local/lib/python3.7/dist-packages (from pandas-profiling==3.1.0) (6.0)\n",
            "Requirement already satisfied: numpy>=1.16.0 in /usr/local/lib/python3.7/dist-packages (from pandas-profiling==3.1.0) (1.21.6)\n",
            "Collecting phik>=0.11.1\n",
            "  Downloading phik-0.12.2-cp37-cp37m-manylinux_2_17_x86_64.manylinux2014_x86_64.whl (690 kB)\n",
            "\u001b[K     |████████████████████████████████| 690 kB 49.7 MB/s \n",
            "\u001b[?25hRequirement already satisfied: attrs>=19.3.0 in /usr/local/lib/python3.7/dist-packages (from visions[type_image_path]==0.7.4->pandas-profiling==3.1.0) (22.1.0)\n",
            "Requirement already satisfied: networkx>=2.4 in /usr/local/lib/python3.7/dist-packages (from visions[type_image_path]==0.7.4->pandas-profiling==3.1.0) (2.6.3)\n",
            "Requirement already satisfied: Pillow in /usr/local/lib/python3.7/dist-packages (from visions[type_image_path]==0.7.4->pandas-profiling==3.1.0) (7.1.2)\n",
            "Collecting imagehash\n",
            "  Downloading ImageHash-4.3.1-py2.py3-none-any.whl (296 kB)\n",
            "\u001b[K     |████████████████████████████████| 296 kB 59.8 MB/s \n",
            "\u001b[?25hRequirement already satisfied: kiwisolver>=1.0.1 in /usr/local/lib/python3.7/dist-packages (from matplotlib>=3.2.0->pandas-profiling==3.1.0) (1.4.4)\n",
            "Requirement already satisfied: pyparsing!=2.0.4,!=2.1.2,!=2.1.6,>=2.0.1 in /usr/local/lib/python3.7/dist-packages (from matplotlib>=3.2.0->pandas-profiling==3.1.0) (3.0.9)\n",
            "Requirement already satisfied: cycler>=0.10 in /usr/local/lib/python3.7/dist-packages (from matplotlib>=3.2.0->pandas-profiling==3.1.0) (0.11.0)\n",
            "Requirement already satisfied: python-dateutil>=2.1 in /usr/local/lib/python3.7/dist-packages (from matplotlib>=3.2.0->pandas-profiling==3.1.0) (2.8.2)\n",
            "Requirement already satisfied: typing-extensions in /usr/local/lib/python3.7/dist-packages (from kiwisolver>=1.0.1->matplotlib>=3.2.0->pandas-profiling==3.1.0) (4.1.1)\n",
            "Requirement already satisfied: pytz>=2017.3 in /usr/local/lib/python3.7/dist-packages (from pandas!=1.0.0,!=1.0.1,!=1.0.2,!=1.1.0,>=0.25.3->pandas-profiling==3.1.0) (2022.2.1)\n",
            "Requirement already satisfied: six>=1.5 in /usr/local/lib/python3.7/dist-packages (from python-dateutil>=2.1->matplotlib>=3.2.0->pandas-profiling==3.1.0) (1.15.0)\n",
            "Requirement already satisfied: charset-normalizer<3,>=2 in /usr/local/lib/python3.7/dist-packages (from requests>=2.24.0->pandas-profiling==3.1.0) (2.1.1)\n",
            "Requirement already satisfied: urllib3<1.27,>=1.21.1 in /usr/local/lib/python3.7/dist-packages (from requests>=2.24.0->pandas-profiling==3.1.0) (1.24.3)\n",
            "Requirement already satisfied: idna<4,>=2.5 in /usr/local/lib/python3.7/dist-packages (from requests>=2.24.0->pandas-profiling==3.1.0) (2.10)\n",
            "Requirement already satisfied: certifi>=2017.4.17 in /usr/local/lib/python3.7/dist-packages (from requests>=2.24.0->pandas-profiling==3.1.0) (2022.6.15)\n",
            "Requirement already satisfied: PyWavelets in /usr/local/lib/python3.7/dist-packages (from imagehash->visions[type_image_path]==0.7.4->pandas-profiling==3.1.0) (1.3.0)\n",
            "Building wheels for collected packages: htmlmin\n",
            "  Building wheel for htmlmin (setup.py) ... \u001b[?25l\u001b[?25hdone\n",
            "  Created wheel for htmlmin: filename=htmlmin-0.1.12-py3-none-any.whl size=27098 sha256=510aa8b9e736e57dc09825facbc819a3df93ed6cb630c68a081e3d4a9c1c7569\n",
            "  Stored in directory: /root/.cache/pip/wheels/70/e1/52/5b14d250ba868768823940c3229e9950d201a26d0bd3ee8655\n",
            "Successfully built htmlmin\n",
            "Installing collected packages: tangled-up-in-unicode, multimethod, visions, joblib, imagehash, requests, phik, htmlmin, pandas-profiling\n",
            "  Attempting uninstall: joblib\n",
            "    Found existing installation: joblib 1.1.0\n",
            "    Uninstalling joblib-1.1.0:\n",
            "      Successfully uninstalled joblib-1.1.0\n",
            "  Attempting uninstall: requests\n",
            "    Found existing installation: requests 2.23.0\n",
            "    Uninstalling requests-2.23.0:\n",
            "      Successfully uninstalled requests-2.23.0\n",
            "  Attempting uninstall: pandas-profiling\n",
            "    Found existing installation: pandas-profiling 1.4.1\n",
            "    Uninstalling pandas-profiling-1.4.1:\n",
            "      Successfully uninstalled pandas-profiling-1.4.1\n",
            "Successfully installed htmlmin-0.1.12 imagehash-4.3.1 joblib-1.0.1 multimethod-1.9 pandas-profiling-3.1.0 phik-0.12.2 requests-2.28.1 tangled-up-in-unicode-0.1.0 visions-0.7.4\n"
          ]
        },
        {
          "output_type": "display_data",
          "data": {
            "application/vnd.colab-display-data+json": {
              "pip_warning": {
                "packages": [
                  "joblib"
                ]
              }
            }
          },
          "metadata": {}
        }
      ]
    },
    {
      "cell_type": "code",
      "source": [
        "target = 'promotion_last_5years'"
      ],
      "metadata": {
        "id": "HEE5oonjuQks"
      },
      "execution_count": 71,
      "outputs": []
    },
    {
      "cell_type": "code",
      "source": [
        "from sklearn.model_selection import train_test_split\n",
        "\n",
        "# train, test, validation으로 데이터를 분할합니다.\n",
        "train, test = train_test_split(df, test_size=0.2, stratify=df[target], random_state=42)\n",
        "train, val = train_test_split(train, test_size=0.2, random_state=42)\n",
        "\n",
        "# 각 데이터 세트의 shape을 확인해보겠습니다. \n",
        "print(\"train set : \",train.shape)\n",
        "print(\"test set : \",test.shape)\n",
        "print(\"validation set : \",val.shape)"
      ],
      "metadata": {
        "colab": {
          "base_uri": "https://localhost:8080/"
        },
        "id": "vxTAeo9uuiJb",
        "outputId": "012c31df-8f4b-4662-b61f-c7e4806d3dd6"
      },
      "execution_count": 76,
      "outputs": [
        {
          "output_type": "stream",
          "name": "stdout",
          "text": [
            "train set :  (9599, 10)\n",
            "test set :  (3000, 10)\n",
            "validation set :  (2400, 10)\n"
          ]
        }
      ]
    },
    {
      "cell_type": "code",
      "source": [
        "# 타겟비율 확인 -> 가장 큰 범주(0)가 97.80%를 차지하고 있으므고 클래스가 불균형(imbalanced)한 분류 문제\n",
        "train[target].value_counts(normalize=True)"
      ],
      "metadata": {
        "colab": {
          "base_uri": "https://localhost:8080/"
        },
        "id": "gk-5WugTvyjm",
        "outputId": "385b9bcf-fb6a-4fc0-87ec-e307e7666f41"
      },
      "execution_count": 77,
      "outputs": [
        {
          "output_type": "execute_result",
          "data": {
            "text/plain": [
              "0    0.978019\n",
              "1    0.021981\n",
              "Name: promotion_last_5years, dtype: float64"
            ]
          },
          "metadata": {},
          "execution_count": 77
        }
      ]
    },
    {
      "cell_type": "code",
      "source": [
        "import numpy as np\n",
        "\n",
        "\n",
        "def engineer(df):\n",
        "    \"\"\"특성을 엔지니어링 하는 함수입니다.\"\"\"\n",
        "\n",
        "    # 높은 카디널리티를 가지는 특성을 제거합니다.\n",
        "    selected_cols = df.select_dtypes(include=[\"number\", \"object\"])\n",
        "    labels = selected_cols.nunique()  # 특성별 카디널리티 리스트\n",
        "    selected_features = labels[labels <= 30].index.tolist()  # 카디널리티가 30보다 작은 특성만 선택합니다.\n",
        "    df = df[selected_features]\n",
        "\n",
        "    # 새로운 특성을 생성합니다.\n",
        "    behaviorals = [col for col in df.columns if \"behavioral\" in col]\n",
        "    df[\"behaviorals\"] = df[behaviorals].sum(axis=1)\n",
        "\n",
        "    dels = [col for col in df.columns if (\"employment\" in col or \"seas\" in col)]\n",
        "    df.drop(columns=dels, inplace=True)\n",
        "\n",
        "    return df\n",
        "\n",
        "\n",
        "train = engineer(train)\n",
        "val = engineer(val)\n",
        "test = engineer(test)"
      ],
      "metadata": {
        "colab": {
          "base_uri": "https://localhost:8080/"
        },
        "id": "5b3iAsD_rIXG",
        "outputId": "36932ffd-3612-49f6-ea92-15201a9113e6"
      },
      "execution_count": 78,
      "outputs": [
        {
          "output_type": "stream",
          "name": "stderr",
          "text": [
            "/usr/local/lib/python3.7/dist-packages/ipykernel_launcher.py:15: SettingWithCopyWarning: \n",
            "A value is trying to be set on a copy of a slice from a DataFrame.\n",
            "Try using .loc[row_indexer,col_indexer] = value instead\n",
            "\n",
            "See the caveats in the documentation: https://pandas.pydata.org/pandas-docs/stable/user_guide/indexing.html#returning-a-view-versus-a-copy\n",
            "  from ipykernel import kernelapp as app\n",
            "/usr/local/lib/python3.7/dist-packages/pandas/core/frame.py:4913: SettingWithCopyWarning: \n",
            "A value is trying to be set on a copy of a slice from a DataFrame\n",
            "\n",
            "See the caveats in the documentation: https://pandas.pydata.org/pandas-docs/stable/user_guide/indexing.html#returning-a-view-versus-a-copy\n",
            "  errors=errors,\n"
          ]
        }
      ]
    },
    {
      "cell_type": "code",
      "source": [
        "# 훈련/검증/테스트 데이터를 특성과 타겟으로 분리합니다\n",
        "\n",
        "features = train.drop(columns=[target]).columns\n",
        "\n",
        "X_train = train[features]\n",
        "y_train = train[target]\n",
        "X_val = val[features]\n",
        "y_val = val[target]\n",
        "X_test = test[features]"
      ],
      "metadata": {
        "id": "PoZU4yoov8CF"
      },
      "execution_count": 79,
      "outputs": []
    },
    {
      "cell_type": "code",
      "source": [
        "# 기준모델\n",
        "from sklearn.metrics import accuracy_score\n",
        "\n",
        "base = y_train.mode()[0]\n",
        "baseline = len(y_train) * [base]\n",
        "baseline_acc = accuracy_score(y_train, baseline)\n",
        "print(f'기준모델의 정확도는 {baseline_acc.round(2)} 입니다')"
      ],
      "metadata": {
        "colab": {
          "base_uri": "https://localhost:8080/"
        },
        "id": "C8-lqdlXwGMV",
        "outputId": "ecf49945-b1cf-4850-c166-baf2e5f88c92"
      },
      "execution_count": 80,
      "outputs": [
        {
          "output_type": "stream",
          "name": "stdout",
          "text": [
            "기준모델의 정확도는 0.98 입니다\n"
          ]
        }
      ]
    },
    {
      "cell_type": "code",
      "source": [
        "# 결정트리 훈련"
      ],
      "metadata": {
        "id": "u_r-aXEowwvS"
      },
      "execution_count": null,
      "outputs": []
    },
    {
      "cell_type": "code",
      "source": [
        "# without pipeline\n",
        "from category_encoders import OrdinalEncoder\n",
        "from sklearn.impute import SimpleImputer\n",
        "from sklearn.pipeline import make_pipeline\n",
        "from sklearn.tree import DecisionTreeClassifier\n",
        "\n",
        "enc = OrdinalEncoder()\n",
        "imp_mean = SimpleImputer()\n",
        "model_dt = DecisionTreeClassifier(random_state=2, criterion=\"entropy\")\n",
        "\n",
        "X_train_encoded = enc.fit_transform(X_train)\n",
        "X_train_imputed = imp_mean.fit_transform(X_train_encoded)\n",
        "model_dt.fit(X_train_imputed, y_train)\n",
        "\n",
        "X_val_encoded = enc.transform(X_val)\n",
        "X_val_imputed = imp_mean.transform(X_val_encoded)\n",
        "\n",
        "# score method: Return the mean accuracy on the given test data and labels\n",
        "print(\"훈련 정확도\", model_dt.score(X_train_imputed, y_train))\n",
        "print(\"검증 정확도\", model_dt.score(X_val_imputed, y_val))\n",
        "\n",
        "X_test_encoded = enc.transform(X_test)\n",
        "X_test_imputed = imp_mean.transform(X_test_encoded)\n",
        "\n",
        "y_pred = model_dt.predict(X_test_imputed)"
      ],
      "metadata": {
        "colab": {
          "base_uri": "https://localhost:8080/"
        },
        "id": "mUd_QTnHwIAg",
        "outputId": "a27714c8-1894-4487-bdee-83dc67564e33"
      },
      "execution_count": 81,
      "outputs": [
        {
          "output_type": "stream",
          "name": "stdout",
          "text": [
            "훈련 정확도 0.9830190644858839\n",
            "검증 정확도 0.9791666666666666\n"
          ]
        }
      ]
    },
    {
      "cell_type": "code",
      "source": [
        "pipe_dt = make_pipeline(\n",
        "    OrdinalEncoder(),\n",
        "    SimpleImputer(),\n",
        "    DecisionTreeClassifier(random_state=2, criterion=\"entropy\"),\n",
        ")\n",
        "pipe_dt.fit(X_train, y_train)\n",
        "\n",
        "print(\"훈련 정확도: \", pipe_dt.score(X_train, y_train))\n",
        "print(\"검증 정확도: \", pipe_dt.score(X_val, y_val))\n",
        "\n",
        "y_pred = pipe_dt.predict(X_test)"
      ],
      "metadata": {
        "colab": {
          "base_uri": "https://localhost:8080/"
        },
        "id": "YI1BDqohwOif",
        "outputId": "c041e2ca-2d35-42ac-9f4d-305ba9c657e8"
      },
      "execution_count": 82,
      "outputs": [
        {
          "output_type": "stream",
          "name": "stdout",
          "text": [
            "훈련 정확도:  0.9830190644858839\n",
            "검증 정확도:  0.9791666666666666\n"
          ]
        }
      ]
    },
    {
      "cell_type": "code",
      "source": [
        "from sklearn.metrics import classification_report\n",
        "\n",
        "y_pred = pipe_dt.predict(X_val)\n",
        "print(classification_report(y_val, y_pred))"
      ],
      "metadata": {
        "colab": {
          "base_uri": "https://localhost:8080/"
        },
        "id": "8CQ6HlM7wSVv",
        "outputId": "d6519e13-6da7-44e1-edf3-d1e2ebc2c121"
      },
      "execution_count": 83,
      "outputs": [
        {
          "output_type": "stream",
          "name": "stdout",
          "text": [
            "              precision    recall  f1-score   support\n",
            "\n",
            "           0       0.98      1.00      0.99      2356\n",
            "           1       0.29      0.09      0.14        44\n",
            "\n",
            "    accuracy                           0.98      2400\n",
            "   macro avg       0.63      0.54      0.56      2400\n",
            "weighted avg       0.97      0.98      0.97      2400\n",
            "\n"
          ]
        }
      ]
    },
    {
      "cell_type": "code",
      "source": [
        "import graphviz\n",
        "from sklearn.tree import export_graphviz\n",
        "\n",
        "# graphviz 설치방법: conda install -c conda-forge python-graphviz\n",
        "\n",
        "# named_steps 속성을 사용해서 파이프라인의 각 스텝에 접근이 가능합니다.\n",
        "# named_steps 은 유사 딕셔너리 객체(dictionary-like object)로 파이프라인 내 과정에 접근 가능하도록 합니다.\n",
        "model_dt = pipe_dt.named_steps['decisiontreeclassifier']\n",
        "enc = pipe_dt.named_steps['ordinalencoder']\n",
        "encoded_columns = enc.transform(X_val).columns\n",
        "\n",
        "dot_data = export_graphviz(model_dt\n",
        "                          , max_depth=3\n",
        "                          , feature_names=encoded_columns\n",
        "                          , class_names=['no', 'yes']\n",
        "                          , filled=True\n",
        "                          , proportion=True)\n",
        "\n",
        "\n",
        "display(graphviz.Source(dot_data))"
      ],
      "metadata": {
        "colab": {
          "base_uri": "https://localhost:8080/",
          "height": 735
        },
        "id": "fpBpJOg_wW5o",
        "outputId": "20cd014a-b8c7-4013-90e9-8232c3e17f29"
      },
      "execution_count": 84,
      "outputs": [
        {
          "output_type": "display_data",
          "data": {
            "text/plain": [
              "<graphviz.files.Source at 0x7fd9b9afdb10>"
            ],
            "image/svg+xml": "<?xml version=\"1.0\" encoding=\"UTF-8\" standalone=\"no\"?>\n<!DOCTYPE svg PUBLIC \"-//W3C//DTD SVG 1.1//EN\"\n \"http://www.w3.org/Graphics/SVG/1.1/DTD/svg11.dtd\">\n<!-- Generated by graphviz version 2.40.1 (20161225.0304)\n -->\n<!-- Title: Tree Pages: 1 -->\n<svg width=\"1407pt\" height=\"520pt\"\n viewBox=\"0.00 0.00 1407.00 520.00\" xmlns=\"http://www.w3.org/2000/svg\" xmlns:xlink=\"http://www.w3.org/1999/xlink\">\n<g id=\"graph0\" class=\"graph\" transform=\"scale(1 1) rotate(0) translate(4 516)\">\n<title>Tree</title>\n<polygon fill=\"#ffffff\" stroke=\"transparent\" points=\"-4,4 -4,-516 1403,-516 1403,4 -4,4\"/>\n<!-- 0 -->\n<g id=\"node1\" class=\"node\">\n<title>0</title>\n<polygon fill=\"#e6843d\" stroke=\"#000000\" points=\"763.5,-512 558.5,-512 558.5,-429 763.5,-429 763.5,-512\"/>\n<text text-anchor=\"middle\" x=\"661\" y=\"-496.8\" font-family=\"Helvetica,sans-Serif\" font-size=\"14.00\" fill=\"#000000\">time_spend_company &lt;= 6.5</text>\n<text text-anchor=\"middle\" x=\"661\" y=\"-481.8\" font-family=\"Helvetica,sans-Serif\" font-size=\"14.00\" fill=\"#000000\">entropy = 0.152</text>\n<text text-anchor=\"middle\" x=\"661\" y=\"-466.8\" font-family=\"Helvetica,sans-Serif\" font-size=\"14.00\" fill=\"#000000\">samples = 100.0%</text>\n<text text-anchor=\"middle\" x=\"661\" y=\"-451.8\" font-family=\"Helvetica,sans-Serif\" font-size=\"14.00\" fill=\"#000000\">value = [0.978, 0.022]</text>\n<text text-anchor=\"middle\" x=\"661\" y=\"-436.8\" font-family=\"Helvetica,sans-Serif\" font-size=\"14.00\" fill=\"#000000\">class = no</text>\n</g>\n<!-- 1 -->\n<g id=\"node2\" class=\"node\">\n<title>1</title>\n<polygon fill=\"#e5833d\" stroke=\"#000000\" points=\"581,-393 425,-393 425,-310 581,-310 581,-393\"/>\n<text text-anchor=\"middle\" x=\"503\" y=\"-377.8\" font-family=\"Helvetica,sans-Serif\" font-size=\"14.00\" fill=\"#000000\">department &lt;= 6.5</text>\n<text text-anchor=\"middle\" x=\"503\" y=\"-362.8\" font-family=\"Helvetica,sans-Serif\" font-size=\"14.00\" fill=\"#000000\">entropy = 0.131</text>\n<text text-anchor=\"middle\" x=\"503\" y=\"-347.8\" font-family=\"Helvetica,sans-Serif\" font-size=\"14.00\" fill=\"#000000\">samples = 96.2%</text>\n<text text-anchor=\"middle\" x=\"503\" y=\"-332.8\" font-family=\"Helvetica,sans-Serif\" font-size=\"14.00\" fill=\"#000000\">value = [0.982, 0.018]</text>\n<text text-anchor=\"middle\" x=\"503\" y=\"-317.8\" font-family=\"Helvetica,sans-Serif\" font-size=\"14.00\" fill=\"#000000\">class = no</text>\n</g>\n<!-- 0&#45;&gt;1 -->\n<g id=\"edge1\" class=\"edge\">\n<title>0&#45;&gt;1</title>\n<path fill=\"none\" stroke=\"#000000\" d=\"M605.7393,-428.8796C592.9901,-419.2774 579.3317,-408.9903 566.2709,-399.1534\"/>\n<polygon fill=\"#000000\" stroke=\"#000000\" points=\"568.3231,-396.3174 558.2295,-393.0969 564.1117,-401.9089 568.3231,-396.3174\"/>\n<text text-anchor=\"middle\" x=\"561.715\" y=\"-414.1528\" font-family=\"Helvetica,sans-Serif\" font-size=\"14.00\" fill=\"#000000\">True</text>\n</g>\n<!-- 590 -->\n<g id=\"node15\" class=\"node\">\n<title>590</title>\n<polygon fill=\"#e89254\" stroke=\"#000000\" points=\"925,-393 769,-393 769,-310 925,-310 925,-393\"/>\n<text text-anchor=\"middle\" x=\"847\" y=\"-377.8\" font-family=\"Helvetica,sans-Serif\" font-size=\"14.00\" fill=\"#000000\">salary &lt;= 2.5</text>\n<text text-anchor=\"middle\" x=\"847\" y=\"-362.8\" font-family=\"Helvetica,sans-Serif\" font-size=\"14.00\" fill=\"#000000\">entropy = 0.524</text>\n<text text-anchor=\"middle\" x=\"847\" y=\"-347.8\" font-family=\"Helvetica,sans-Serif\" font-size=\"14.00\" fill=\"#000000\">samples = 3.8%</text>\n<text text-anchor=\"middle\" x=\"847\" y=\"-332.8\" font-family=\"Helvetica,sans-Serif\" font-size=\"14.00\" fill=\"#000000\">value = [0.882, 0.118]</text>\n<text text-anchor=\"middle\" x=\"847\" y=\"-317.8\" font-family=\"Helvetica,sans-Serif\" font-size=\"14.00\" fill=\"#000000\">class = no</text>\n</g>\n<!-- 0&#45;&gt;590 -->\n<g id=\"edge14\" class=\"edge\">\n<title>0&#45;&gt;590</title>\n<path fill=\"none\" stroke=\"#000000\" d=\"M726.0538,-428.8796C741.3454,-419.0962 757.7484,-408.6019 773.386,-398.5971\"/>\n<polygon fill=\"#000000\" stroke=\"#000000\" points=\"775.4457,-401.4345 781.983,-393.0969 771.6732,-395.538 775.4457,-401.4345\"/>\n<text text-anchor=\"middle\" x=\"776.619\" y=\"-413.8147\" font-family=\"Helvetica,sans-Serif\" font-size=\"14.00\" fill=\"#000000\">False</text>\n</g>\n<!-- 2 -->\n<g id=\"node3\" class=\"node\">\n<title>2</title>\n<polygon fill=\"#e6843e\" stroke=\"#000000\" points=\"336,-274 180,-274 180,-191 336,-191 336,-274\"/>\n<text text-anchor=\"middle\" x=\"258\" y=\"-258.8\" font-family=\"Helvetica,sans-Serif\" font-size=\"14.00\" fill=\"#000000\">salary &lt;= 1.5</text>\n<text text-anchor=\"middle\" x=\"258\" y=\"-243.8\" font-family=\"Helvetica,sans-Serif\" font-size=\"14.00\" fill=\"#000000\">entropy = 0.169</text>\n<text text-anchor=\"middle\" x=\"258\" y=\"-228.8\" font-family=\"Helvetica,sans-Serif\" font-size=\"14.00\" fill=\"#000000\">samples = 59.6%</text>\n<text text-anchor=\"middle\" x=\"258\" y=\"-213.8\" font-family=\"Helvetica,sans-Serif\" font-size=\"14.00\" fill=\"#000000\">value = [0.975, 0.025]</text>\n<text text-anchor=\"middle\" x=\"258\" y=\"-198.8\" font-family=\"Helvetica,sans-Serif\" font-size=\"14.00\" fill=\"#000000\">class = no</text>\n</g>\n<!-- 1&#45;&gt;2 -->\n<g id=\"edge2\" class=\"edge\">\n<title>1&#45;&gt;2</title>\n<path fill=\"none\" stroke=\"#000000\" d=\"M424.8069,-313.5205C399.5021,-301.2296 371.2822,-287.5228 345.3566,-274.9303\"/>\n<polygon fill=\"#000000\" stroke=\"#000000\" points=\"346.8149,-271.7477 336.2906,-270.5269 343.7565,-278.0442 346.8149,-271.7477\"/>\n</g>\n<!-- 441 -->\n<g id=\"node10\" class=\"node\">\n<title>441</title>\n<polygon fill=\"#e5823a\" stroke=\"#000000\" points=\"581,-274 425,-274 425,-191 581,-191 581,-274\"/>\n<text text-anchor=\"middle\" x=\"503\" y=\"-258.8\" font-family=\"Helvetica,sans-Serif\" font-size=\"14.00\" fill=\"#000000\">department &lt;= 9.5</text>\n<text text-anchor=\"middle\" x=\"503\" y=\"-243.8\" font-family=\"Helvetica,sans-Serif\" font-size=\"14.00\" fill=\"#000000\">entropy = 0.059</text>\n<text text-anchor=\"middle\" x=\"503\" y=\"-228.8\" font-family=\"Helvetica,sans-Serif\" font-size=\"14.00\" fill=\"#000000\">samples = 36.6%</text>\n<text text-anchor=\"middle\" x=\"503\" y=\"-213.8\" font-family=\"Helvetica,sans-Serif\" font-size=\"14.00\" fill=\"#000000\">value = [0.993, 0.007]</text>\n<text text-anchor=\"middle\" x=\"503\" y=\"-198.8\" font-family=\"Helvetica,sans-Serif\" font-size=\"14.00\" fill=\"#000000\">class = no</text>\n</g>\n<!-- 1&#45;&gt;441 -->\n<g id=\"edge9\" class=\"edge\">\n<title>1&#45;&gt;441</title>\n<path fill=\"none\" stroke=\"#000000\" d=\"M503,-309.8796C503,-301.6838 503,-292.9891 503,-284.5013\"/>\n<polygon fill=\"#000000\" stroke=\"#000000\" points=\"506.5001,-284.298 503,-274.2981 499.5001,-284.2981 506.5001,-284.298\"/>\n</g>\n<!-- 3 -->\n<g id=\"node4\" class=\"node\">\n<title>3</title>\n<polygon fill=\"#e5833b\" stroke=\"#000000\" points=\"162,-155 0,-155 0,-72 162,-72 162,-155\"/>\n<text text-anchor=\"middle\" x=\"81\" y=\"-139.8\" font-family=\"Helvetica,sans-Serif\" font-size=\"14.00\" fill=\"#000000\">number_project &lt;= 4.5</text>\n<text text-anchor=\"middle\" x=\"81\" y=\"-124.8\" font-family=\"Helvetica,sans-Serif\" font-size=\"14.00\" fill=\"#000000\">entropy = 0.096</text>\n<text text-anchor=\"middle\" x=\"81\" y=\"-109.8\" font-family=\"Helvetica,sans-Serif\" font-size=\"14.00\" fill=\"#000000\">samples = 29.6%</text>\n<text text-anchor=\"middle\" x=\"81\" y=\"-94.8\" font-family=\"Helvetica,sans-Serif\" font-size=\"14.00\" fill=\"#000000\">value = [0.988, 0.012]</text>\n<text text-anchor=\"middle\" x=\"81\" y=\"-79.8\" font-family=\"Helvetica,sans-Serif\" font-size=\"14.00\" fill=\"#000000\">class = no</text>\n</g>\n<!-- 2&#45;&gt;3 -->\n<g id=\"edge3\" class=\"edge\">\n<title>2&#45;&gt;3</title>\n<path fill=\"none\" stroke=\"#000000\" d=\"M196.094,-190.8796C181.677,-181.1868 166.222,-170.7961 151.4656,-160.8752\"/>\n<polygon fill=\"#000000\" stroke=\"#000000\" points=\"153.1227,-157.7718 142.8711,-155.0969 149.2171,-163.581 153.1227,-157.7718\"/>\n</g>\n<!-- 130 -->\n<g id=\"node7\" class=\"node\">\n<title>130</title>\n<polygon fill=\"#e68641\" stroke=\"#000000\" points=\"336,-155 180,-155 180,-72 336,-72 336,-155\"/>\n<text text-anchor=\"middle\" x=\"258\" y=\"-139.8\" font-family=\"Helvetica,sans-Serif\" font-size=\"14.00\" fill=\"#000000\">left &lt;= 0.5</text>\n<text text-anchor=\"middle\" x=\"258\" y=\"-124.8\" font-family=\"Helvetica,sans-Serif\" font-size=\"14.00\" fill=\"#000000\">entropy = 0.232</text>\n<text text-anchor=\"middle\" x=\"258\" y=\"-109.8\" font-family=\"Helvetica,sans-Serif\" font-size=\"14.00\" fill=\"#000000\">samples = 30.0%</text>\n<text text-anchor=\"middle\" x=\"258\" y=\"-94.8\" font-family=\"Helvetica,sans-Serif\" font-size=\"14.00\" fill=\"#000000\">value = [0.962, 0.038]</text>\n<text text-anchor=\"middle\" x=\"258\" y=\"-79.8\" font-family=\"Helvetica,sans-Serif\" font-size=\"14.00\" fill=\"#000000\">class = no</text>\n</g>\n<!-- 2&#45;&gt;130 -->\n<g id=\"edge6\" class=\"edge\">\n<title>2&#45;&gt;130</title>\n<path fill=\"none\" stroke=\"#000000\" d=\"M258,-190.8796C258,-182.6838 258,-173.9891 258,-165.5013\"/>\n<polygon fill=\"#000000\" stroke=\"#000000\" points=\"261.5001,-165.298 258,-155.2981 254.5001,-165.2981 261.5001,-165.298\"/>\n</g>\n<!-- 4 -->\n<g id=\"node5\" class=\"node\">\n<title>4</title>\n<polygon fill=\"#c0c0c0\" stroke=\"#000000\" points=\"72,-36 18,-36 18,0 72,0 72,-36\"/>\n<text text-anchor=\"middle\" x=\"45\" y=\"-14.3\" font-family=\"Helvetica,sans-Serif\" font-size=\"14.00\" fill=\"#000000\">(...)</text>\n</g>\n<!-- 3&#45;&gt;4 -->\n<g id=\"edge4\" class=\"edge\">\n<title>3&#45;&gt;4</title>\n<path fill=\"none\" stroke=\"#000000\" d=\"M65.3146,-71.8901C61.9739,-63.0279 58.525,-53.8788 55.4386,-45.6913\"/>\n<polygon fill=\"#000000\" stroke=\"#000000\" points=\"58.6877,-44.3878 51.8853,-36.2651 52.1376,-46.8569 58.6877,-44.3878\"/>\n</g>\n<!-- 119 -->\n<g id=\"node6\" class=\"node\">\n<title>119</title>\n<polygon fill=\"#c0c0c0\" stroke=\"#000000\" points=\"144,-36 90,-36 90,0 144,0 144,-36\"/>\n<text text-anchor=\"middle\" x=\"117\" y=\"-14.3\" font-family=\"Helvetica,sans-Serif\" font-size=\"14.00\" fill=\"#000000\">(...)</text>\n</g>\n<!-- 3&#45;&gt;119 -->\n<g id=\"edge5\" class=\"edge\">\n<title>3&#45;&gt;119</title>\n<path fill=\"none\" stroke=\"#000000\" d=\"M96.6854,-71.8901C100.0261,-63.0279 103.475,-53.8788 106.5614,-45.6913\"/>\n<polygon fill=\"#000000\" stroke=\"#000000\" points=\"109.8624,-46.8569 110.1147,-36.2651 103.3123,-44.3878 109.8624,-46.8569\"/>\n</g>\n<!-- 131 -->\n<g id=\"node8\" class=\"node\">\n<title>131</title>\n<polygon fill=\"#c0c0c0\" stroke=\"#000000\" points=\"251,-36 197,-36 197,0 251,0 251,-36\"/>\n<text text-anchor=\"middle\" x=\"224\" y=\"-14.3\" font-family=\"Helvetica,sans-Serif\" font-size=\"14.00\" fill=\"#000000\">(...)</text>\n</g>\n<!-- 130&#45;&gt;131 -->\n<g id=\"edge7\" class=\"edge\">\n<title>130&#45;&gt;131</title>\n<path fill=\"none\" stroke=\"#000000\" d=\"M243.186,-71.8901C240.0309,-63.0279 236.7736,-53.8788 233.8587,-45.6913\"/>\n<polygon fill=\"#000000\" stroke=\"#000000\" points=\"237.1541,-44.512 230.5028,-36.2651 230.5595,-46.8598 237.1541,-44.512\"/>\n</g>\n<!-- 424 -->\n<g id=\"node9\" class=\"node\">\n<title>424</title>\n<polygon fill=\"#c0c0c0\" stroke=\"#000000\" points=\"323,-36 269,-36 269,0 323,0 323,-36\"/>\n<text text-anchor=\"middle\" x=\"296\" y=\"-14.3\" font-family=\"Helvetica,sans-Serif\" font-size=\"14.00\" fill=\"#000000\">(...)</text>\n</g>\n<!-- 130&#45;&gt;424 -->\n<g id=\"edge8\" class=\"edge\">\n<title>130&#45;&gt;424</title>\n<path fill=\"none\" stroke=\"#000000\" d=\"M274.5568,-71.8901C278.0831,-63.0279 281.7236,-53.8788 284.9815,-45.6913\"/>\n<polygon fill=\"#000000\" stroke=\"#000000\" points=\"288.287,-46.8506 288.7322,-36.2651 281.783,-44.2626 288.287,-46.8506\"/>\n</g>\n<!-- 442 -->\n<g id=\"node11\" class=\"node\">\n<title>442</title>\n<polygon fill=\"#e5823b\" stroke=\"#000000\" points=\"510,-155 354,-155 354,-72 510,-72 510,-155\"/>\n<text text-anchor=\"middle\" x=\"432\" y=\"-139.8\" font-family=\"Helvetica,sans-Serif\" font-size=\"14.00\" fill=\"#000000\">salary &lt;= 1.5</text>\n<text text-anchor=\"middle\" x=\"432\" y=\"-124.8\" font-family=\"Helvetica,sans-Serif\" font-size=\"14.00\" fill=\"#000000\">entropy = 0.068</text>\n<text text-anchor=\"middle\" x=\"432\" y=\"-109.8\" font-family=\"Helvetica,sans-Serif\" font-size=\"14.00\" fill=\"#000000\">samples = 30.6%</text>\n<text text-anchor=\"middle\" x=\"432\" y=\"-94.8\" font-family=\"Helvetica,sans-Serif\" font-size=\"14.00\" fill=\"#000000\">value = [0.992, 0.008]</text>\n<text text-anchor=\"middle\" x=\"432\" y=\"-79.8\" font-family=\"Helvetica,sans-Serif\" font-size=\"14.00\" fill=\"#000000\">class = no</text>\n</g>\n<!-- 441&#45;&gt;442 -->\n<g id=\"edge10\" class=\"edge\">\n<title>441&#45;&gt;442</title>\n<path fill=\"none\" stroke=\"#000000\" d=\"M478.1676,-190.8796C473.0091,-182.2335 467.5192,-173.0322 462.1924,-164.1042\"/>\n<polygon fill=\"#000000\" stroke=\"#000000\" points=\"465.0678,-162.0924 456.9383,-155.2981 459.0564,-165.679 465.0678,-162.0924\"/>\n</g>\n<!-- 589 -->\n<g id=\"node14\" class=\"node\">\n<title>589</title>\n<polygon fill=\"#e58139\" stroke=\"#000000\" points=\"651.5,-147.5 528.5,-147.5 528.5,-79.5 651.5,-79.5 651.5,-147.5\"/>\n<text text-anchor=\"middle\" x=\"590\" y=\"-132.3\" font-family=\"Helvetica,sans-Serif\" font-size=\"14.00\" fill=\"#000000\">entropy = 0.0</text>\n<text text-anchor=\"middle\" x=\"590\" y=\"-117.3\" font-family=\"Helvetica,sans-Serif\" font-size=\"14.00\" fill=\"#000000\">samples = 5.9%</text>\n<text text-anchor=\"middle\" x=\"590\" y=\"-102.3\" font-family=\"Helvetica,sans-Serif\" font-size=\"14.00\" fill=\"#000000\">value = [1.0, 0.0]</text>\n<text text-anchor=\"middle\" x=\"590\" y=\"-87.3\" font-family=\"Helvetica,sans-Serif\" font-size=\"14.00\" fill=\"#000000\">class = no</text>\n</g>\n<!-- 441&#45;&gt;589 -->\n<g id=\"edge13\" class=\"edge\">\n<title>441&#45;&gt;589</title>\n<path fill=\"none\" stroke=\"#000000\" d=\"M533.4284,-190.8796C541.7087,-179.5536 550.6857,-167.2748 558.9974,-155.9058\"/>\n<polygon fill=\"#000000\" stroke=\"#000000\" points=\"561.8361,-157.9533 564.9126,-147.8149 556.1853,-153.822 561.8361,-157.9533\"/>\n</g>\n<!-- 443 -->\n<g id=\"node12\" class=\"node\">\n<title>443</title>\n<polygon fill=\"#c0c0c0\" stroke=\"#000000\" points=\"427,-36 373,-36 373,0 427,0 427,-36\"/>\n<text text-anchor=\"middle\" x=\"400\" y=\"-14.3\" font-family=\"Helvetica,sans-Serif\" font-size=\"14.00\" fill=\"#000000\">(...)</text>\n</g>\n<!-- 442&#45;&gt;443 -->\n<g id=\"edge11\" class=\"edge\">\n<title>442&#45;&gt;443</title>\n<path fill=\"none\" stroke=\"#000000\" d=\"M418.0574,-71.8901C415.1205,-63.1253 412.0896,-54.0798 409.3693,-45.9615\"/>\n<polygon fill=\"#000000\" stroke=\"#000000\" points=\"412.6161,-44.6349 406.1202,-36.2651 405.9788,-46.859 412.6161,-44.6349\"/>\n</g>\n<!-- 496 -->\n<g id=\"node13\" class=\"node\">\n<title>496</title>\n<polygon fill=\"#c0c0c0\" stroke=\"#000000\" points=\"499,-36 445,-36 445,0 499,0 499,-36\"/>\n<text text-anchor=\"middle\" x=\"472\" y=\"-14.3\" font-family=\"Helvetica,sans-Serif\" font-size=\"14.00\" fill=\"#000000\">(...)</text>\n</g>\n<!-- 442&#45;&gt;496 -->\n<g id=\"edge12\" class=\"edge\">\n<title>442&#45;&gt;496</title>\n<path fill=\"none\" stroke=\"#000000\" d=\"M449.4282,-71.8901C453.1401,-63.0279 456.9722,-53.8788 460.4016,-45.6913\"/>\n<polygon fill=\"#000000\" stroke=\"#000000\" points=\"463.7146,-46.8409 464.3497,-36.2651 457.2581,-44.1365 463.7146,-46.8409\"/>\n</g>\n<!-- 591 -->\n<g id=\"node16\" class=\"node\">\n<title>591</title>\n<polygon fill=\"#e78b49\" stroke=\"#000000\" points=\"925,-274 769,-274 769,-191 925,-191 925,-274\"/>\n<text text-anchor=\"middle\" x=\"847\" y=\"-258.8\" font-family=\"Helvetica,sans-Serif\" font-size=\"14.00\" fill=\"#000000\">department &lt;= 2.5</text>\n<text text-anchor=\"middle\" x=\"847\" y=\"-243.8\" font-family=\"Helvetica,sans-Serif\" font-size=\"14.00\" fill=\"#000000\">entropy = 0.384</text>\n<text text-anchor=\"middle\" x=\"847\" y=\"-228.8\" font-family=\"Helvetica,sans-Serif\" font-size=\"14.00\" fill=\"#000000\">samples = 3.1%</text>\n<text text-anchor=\"middle\" x=\"847\" y=\"-213.8\" font-family=\"Helvetica,sans-Serif\" font-size=\"14.00\" fill=\"#000000\">value = [0.925, 0.075]</text>\n<text text-anchor=\"middle\" x=\"847\" y=\"-198.8\" font-family=\"Helvetica,sans-Serif\" font-size=\"14.00\" fill=\"#000000\">class = no</text>\n</g>\n<!-- 590&#45;&gt;591 -->\n<g id=\"edge15\" class=\"edge\">\n<title>590&#45;&gt;591</title>\n<path fill=\"none\" stroke=\"#000000\" d=\"M847,-309.8796C847,-301.6838 847,-292.9891 847,-284.5013\"/>\n<polygon fill=\"#000000\" stroke=\"#000000\" points=\"850.5001,-284.298 847,-274.2981 843.5001,-284.2981 850.5001,-284.298\"/>\n</g>\n<!-- 638 -->\n<g id=\"node23\" class=\"node\">\n<title>638</title>\n<polygon fill=\"#f0b78e\" stroke=\"#000000\" points=\"1248.5,-274 1043.5,-274 1043.5,-191 1248.5,-191 1248.5,-274\"/>\n<text text-anchor=\"middle\" x=\"1146\" y=\"-258.8\" font-family=\"Helvetica,sans-Serif\" font-size=\"14.00\" fill=\"#000000\">time_spend_company &lt;= 7.5</text>\n<text text-anchor=\"middle\" x=\"1146\" y=\"-243.8\" font-family=\"Helvetica,sans-Serif\" font-size=\"14.00\" fill=\"#000000\">entropy = 0.881</text>\n<text text-anchor=\"middle\" x=\"1146\" y=\"-228.8\" font-family=\"Helvetica,sans-Serif\" font-size=\"14.00\" fill=\"#000000\">samples = 0.7%</text>\n<text text-anchor=\"middle\" x=\"1146\" y=\"-213.8\" font-family=\"Helvetica,sans-Serif\" font-size=\"14.00\" fill=\"#000000\">value = [0.7, 0.3]</text>\n<text text-anchor=\"middle\" x=\"1146\" y=\"-198.8\" font-family=\"Helvetica,sans-Serif\" font-size=\"14.00\" fill=\"#000000\">class = no</text>\n</g>\n<!-- 590&#45;&gt;638 -->\n<g id=\"edge22\" class=\"edge\">\n<title>590&#45;&gt;638</title>\n<path fill=\"none\" stroke=\"#000000\" d=\"M925.1682,-320.3896C958.2854,-307.2092 997.5023,-291.6011 1033.6307,-277.2222\"/>\n<polygon fill=\"#000000\" stroke=\"#000000\" points=\"1035.2387,-280.3493 1043.2356,-273.3995 1032.6502,-273.8455 1035.2387,-280.3493\"/>\n</g>\n<!-- 592 -->\n<g id=\"node17\" class=\"node\">\n<title>592</title>\n<polygon fill=\"#d7ebfa\" stroke=\"#000000\" points=\"826,-155 670,-155 670,-72 826,-72 826,-155\"/>\n<text text-anchor=\"middle\" x=\"748\" y=\"-139.8\" font-family=\"Helvetica,sans-Serif\" font-size=\"14.00\" fill=\"#000000\">department &lt;= 1.5</text>\n<text text-anchor=\"middle\" x=\"748\" y=\"-124.8\" font-family=\"Helvetica,sans-Serif\" font-size=\"14.00\" fill=\"#000000\">entropy = 0.991</text>\n<text text-anchor=\"middle\" x=\"748\" y=\"-109.8\" font-family=\"Helvetica,sans-Serif\" font-size=\"14.00\" fill=\"#000000\">samples = 0.1%</text>\n<text text-anchor=\"middle\" x=\"748\" y=\"-94.8\" font-family=\"Helvetica,sans-Serif\" font-size=\"14.00\" fill=\"#000000\">value = [0.444, 0.556]</text>\n<text text-anchor=\"middle\" x=\"748\" y=\"-79.8\" font-family=\"Helvetica,sans-Serif\" font-size=\"14.00\" fill=\"#000000\">class = yes</text>\n</g>\n<!-- 591&#45;&gt;592 -->\n<g id=\"edge16\" class=\"edge\">\n<title>591&#45;&gt;592</title>\n<path fill=\"none\" stroke=\"#000000\" d=\"M812.3746,-190.8796C804.882,-181.8733 796.8881,-172.2644 789.1721,-162.9897\"/>\n<polygon fill=\"#000000\" stroke=\"#000000\" points=\"791.8593,-160.7472 782.7732,-155.2981 786.4781,-165.224 791.8593,-160.7472\"/>\n</g>\n<!-- 595 -->\n<g id=\"node20\" class=\"node\">\n<title>595</title>\n<polygon fill=\"#e78946\" stroke=\"#000000\" points=\"1049.5,-155 844.5,-155 844.5,-72 1049.5,-72 1049.5,-155\"/>\n<text text-anchor=\"middle\" x=\"947\" y=\"-139.8\" font-family=\"Helvetica,sans-Serif\" font-size=\"14.00\" fill=\"#000000\">time_spend_company &lt;= 7.5</text>\n<text text-anchor=\"middle\" x=\"947\" y=\"-124.8\" font-family=\"Helvetica,sans-Serif\" font-size=\"14.00\" fill=\"#000000\">entropy = 0.326</text>\n<text text-anchor=\"middle\" x=\"947\" y=\"-109.8\" font-family=\"Helvetica,sans-Serif\" font-size=\"14.00\" fill=\"#000000\">samples = 3.0%</text>\n<text text-anchor=\"middle\" x=\"947\" y=\"-94.8\" font-family=\"Helvetica,sans-Serif\" font-size=\"14.00\" fill=\"#000000\">value = [0.94, 0.06]</text>\n<text text-anchor=\"middle\" x=\"947\" y=\"-79.8\" font-family=\"Helvetica,sans-Serif\" font-size=\"14.00\" fill=\"#000000\">class = no</text>\n</g>\n<!-- 591&#45;&gt;595 -->\n<g id=\"edge19\" class=\"edge\">\n<title>591&#45;&gt;595</title>\n<path fill=\"none\" stroke=\"#000000\" d=\"M881.9751,-190.8796C889.5435,-181.8733 897.6181,-172.2644 905.412,-162.9897\"/>\n<polygon fill=\"#000000\" stroke=\"#000000\" points=\"908.1216,-165.2056 911.8756,-155.2981 902.7626,-160.7022 908.1216,-165.2056\"/>\n</g>\n<!-- 593 -->\n<g id=\"node18\" class=\"node\">\n<title>593</title>\n<polygon fill=\"#c0c0c0\" stroke=\"#000000\" points=\"730,-36 676,-36 676,0 730,0 730,-36\"/>\n<text text-anchor=\"middle\" x=\"703\" y=\"-14.3\" font-family=\"Helvetica,sans-Serif\" font-size=\"14.00\" fill=\"#000000\">(...)</text>\n</g>\n<!-- 592&#45;&gt;593 -->\n<g id=\"edge17\" class=\"edge\">\n<title>592&#45;&gt;593</title>\n<path fill=\"none\" stroke=\"#000000\" d=\"M728.3933,-71.8901C724.1715,-62.9305 719.8115,-53.6777 715.9212,-45.4217\"/>\n<polygon fill=\"#000000\" stroke=\"#000000\" points=\"719.0353,-43.8192 711.6066,-36.2651 712.7031,-46.8031 719.0353,-43.8192\"/>\n</g>\n<!-- 594 -->\n<g id=\"node19\" class=\"node\">\n<title>594</title>\n<polygon fill=\"#c0c0c0\" stroke=\"#000000\" points=\"802,-36 748,-36 748,0 802,0 802,-36\"/>\n<text text-anchor=\"middle\" x=\"775\" y=\"-14.3\" font-family=\"Helvetica,sans-Serif\" font-size=\"14.00\" fill=\"#000000\">(...)</text>\n</g>\n<!-- 592&#45;&gt;594 -->\n<g id=\"edge18\" class=\"edge\">\n<title>592&#45;&gt;594</title>\n<path fill=\"none\" stroke=\"#000000\" d=\"M759.764,-71.8901C762.2421,-63.1253 764.7994,-54.0798 767.0946,-45.9615\"/>\n<polygon fill=\"#000000\" stroke=\"#000000\" points=\"770.4834,-46.8401 769.836,-36.2651 763.7474,-44.9357 770.4834,-46.8401\"/>\n</g>\n<!-- 596 -->\n<g id=\"node21\" class=\"node\">\n<title>596</title>\n<polygon fill=\"#c0c0c0\" stroke=\"#000000\" points=\"929,-36 875,-36 875,0 929,0 929,-36\"/>\n<text text-anchor=\"middle\" x=\"902\" y=\"-14.3\" font-family=\"Helvetica,sans-Serif\" font-size=\"14.00\" fill=\"#000000\">(...)</text>\n</g>\n<!-- 595&#45;&gt;596 -->\n<g id=\"edge20\" class=\"edge\">\n<title>595&#45;&gt;596</title>\n<path fill=\"none\" stroke=\"#000000\" d=\"M927.3933,-71.8901C923.1715,-62.9305 918.8115,-53.6777 914.9212,-45.4217\"/>\n<polygon fill=\"#000000\" stroke=\"#000000\" points=\"918.0353,-43.8192 910.6066,-36.2651 911.7031,-46.8031 918.0353,-43.8192\"/>\n</g>\n<!-- 619 -->\n<g id=\"node22\" class=\"node\">\n<title>619</title>\n<polygon fill=\"#c0c0c0\" stroke=\"#000000\" points=\"1001,-36 947,-36 947,0 1001,0 1001,-36\"/>\n<text text-anchor=\"middle\" x=\"974\" y=\"-14.3\" font-family=\"Helvetica,sans-Serif\" font-size=\"14.00\" fill=\"#000000\">(...)</text>\n</g>\n<!-- 595&#45;&gt;619 -->\n<g id=\"edge21\" class=\"edge\">\n<title>595&#45;&gt;619</title>\n<path fill=\"none\" stroke=\"#000000\" d=\"M958.764,-71.8901C961.2421,-63.1253 963.7994,-54.0798 966.0946,-45.9615\"/>\n<polygon fill=\"#000000\" stroke=\"#000000\" points=\"969.4834,-46.8401 968.836,-36.2651 962.7474,-44.9357 969.4834,-46.8401\"/>\n</g>\n<!-- 639 -->\n<g id=\"node24\" class=\"node\">\n<title>639</title>\n<polygon fill=\"#ebf5fc\" stroke=\"#000000\" points=\"1225,-155 1067,-155 1067,-72 1225,-72 1225,-155\"/>\n<text text-anchor=\"middle\" x=\"1146\" y=\"-139.8\" font-family=\"Helvetica,sans-Serif\" font-size=\"14.00\" fill=\"#000000\">Work_accident &lt;= 0.5</text>\n<text text-anchor=\"middle\" x=\"1146\" y=\"-124.8\" font-family=\"Helvetica,sans-Serif\" font-size=\"14.00\" fill=\"#000000\">entropy = 0.998</text>\n<text text-anchor=\"middle\" x=\"1146\" y=\"-109.8\" font-family=\"Helvetica,sans-Serif\" font-size=\"14.00\" fill=\"#000000\">samples = 0.2%</text>\n<text text-anchor=\"middle\" x=\"1146\" y=\"-94.8\" font-family=\"Helvetica,sans-Serif\" font-size=\"14.00\" fill=\"#000000\">value = [0.474, 0.526]</text>\n<text text-anchor=\"middle\" x=\"1146\" y=\"-79.8\" font-family=\"Helvetica,sans-Serif\" font-size=\"14.00\" fill=\"#000000\">class = yes</text>\n</g>\n<!-- 638&#45;&gt;639 -->\n<g id=\"edge23\" class=\"edge\">\n<title>638&#45;&gt;639</title>\n<path fill=\"none\" stroke=\"#000000\" d=\"M1146,-190.8796C1146,-182.6838 1146,-173.9891 1146,-165.5013\"/>\n<polygon fill=\"#000000\" stroke=\"#000000\" points=\"1149.5001,-165.298 1146,-155.2981 1142.5001,-165.2981 1149.5001,-165.298\"/>\n</g>\n<!-- 654 -->\n<g id=\"node27\" class=\"node\">\n<title>654</title>\n<polygon fill=\"#eca46f\" stroke=\"#000000\" points=\"1399,-155 1243,-155 1243,-72 1399,-72 1399,-155\"/>\n<text text-anchor=\"middle\" x=\"1321\" y=\"-139.8\" font-family=\"Helvetica,sans-Serif\" font-size=\"14.00\" fill=\"#000000\">department &lt;= 3.5</text>\n<text text-anchor=\"middle\" x=\"1321\" y=\"-124.8\" font-family=\"Helvetica,sans-Serif\" font-size=\"14.00\" fill=\"#000000\">entropy = 0.752</text>\n<text text-anchor=\"middle\" x=\"1321\" y=\"-109.8\" font-family=\"Helvetica,sans-Serif\" font-size=\"14.00\" fill=\"#000000\">samples = 0.5%</text>\n<text text-anchor=\"middle\" x=\"1321\" y=\"-94.8\" font-family=\"Helvetica,sans-Serif\" font-size=\"14.00\" fill=\"#000000\">value = [0.784, 0.216]</text>\n<text text-anchor=\"middle\" x=\"1321\" y=\"-79.8\" font-family=\"Helvetica,sans-Serif\" font-size=\"14.00\" fill=\"#000000\">class = no</text>\n</g>\n<!-- 638&#45;&gt;654 -->\n<g id=\"edge26\" class=\"edge\">\n<title>638&#45;&gt;654</title>\n<path fill=\"none\" stroke=\"#000000\" d=\"M1207.2065,-190.8796C1221.4606,-181.1868 1236.741,-170.7961 1251.3307,-160.8752\"/>\n<polygon fill=\"#000000\" stroke=\"#000000\" points=\"1253.5269,-163.6143 1259.8281,-155.0969 1249.5907,-157.8258 1253.5269,-163.6143\"/>\n</g>\n<!-- 640 -->\n<g id=\"node25\" class=\"node\">\n<title>640</title>\n<polygon fill=\"#c0c0c0\" stroke=\"#000000\" points=\"1134,-36 1080,-36 1080,0 1134,0 1134,-36\"/>\n<text text-anchor=\"middle\" x=\"1107\" y=\"-14.3\" font-family=\"Helvetica,sans-Serif\" font-size=\"14.00\" fill=\"#000000\">(...)</text>\n</g>\n<!-- 639&#45;&gt;640 -->\n<g id=\"edge24\" class=\"edge\">\n<title>639&#45;&gt;640</title>\n<path fill=\"none\" stroke=\"#000000\" d=\"M1129.0075,-71.8901C1125.3884,-63.0279 1121.6521,-53.8788 1118.3085,-45.6913\"/>\n<polygon fill=\"#000000\" stroke=\"#000000\" points=\"1121.48,-44.1996 1114.459,-36.2651 1114.9995,-46.8461 1121.48,-44.1996\"/>\n</g>\n<!-- 653 -->\n<g id=\"node26\" class=\"node\">\n<title>653</title>\n<polygon fill=\"#c0c0c0\" stroke=\"#000000\" points=\"1206,-36 1152,-36 1152,0 1206,0 1206,-36\"/>\n<text text-anchor=\"middle\" x=\"1179\" y=\"-14.3\" font-family=\"Helvetica,sans-Serif\" font-size=\"14.00\" fill=\"#000000\">(...)</text>\n</g>\n<!-- 639&#45;&gt;653 -->\n<g id=\"edge25\" class=\"edge\">\n<title>639&#45;&gt;653</title>\n<path fill=\"none\" stroke=\"#000000\" d=\"M1160.3783,-71.8901C1163.407,-63.1253 1166.5326,-54.0798 1169.3379,-45.9615\"/>\n<polygon fill=\"#000000\" stroke=\"#000000\" points=\"1172.7305,-46.8599 1172.6885,-36.2651 1166.1144,-44.5736 1172.7305,-46.8599\"/>\n</g>\n<!-- 655 -->\n<g id=\"node28\" class=\"node\">\n<title>655</title>\n<polygon fill=\"#c0c0c0\" stroke=\"#000000\" points=\"1312,-36 1258,-36 1258,0 1312,0 1312,-36\"/>\n<text text-anchor=\"middle\" x=\"1285\" y=\"-14.3\" font-family=\"Helvetica,sans-Serif\" font-size=\"14.00\" fill=\"#000000\">(...)</text>\n</g>\n<!-- 654&#45;&gt;655 -->\n<g id=\"edge27\" class=\"edge\">\n<title>654&#45;&gt;655</title>\n<path fill=\"none\" stroke=\"#000000\" d=\"M1305.3146,-71.8901C1301.9739,-63.0279 1298.525,-53.8788 1295.4386,-45.6913\"/>\n<polygon fill=\"#000000\" stroke=\"#000000\" points=\"1298.6877,-44.3878 1291.8853,-36.2651 1292.1376,-46.8569 1298.6877,-44.3878\"/>\n</g>\n<!-- 656 -->\n<g id=\"node29\" class=\"node\">\n<title>656</title>\n<polygon fill=\"#c0c0c0\" stroke=\"#000000\" points=\"1384,-36 1330,-36 1330,0 1384,0 1384,-36\"/>\n<text text-anchor=\"middle\" x=\"1357\" y=\"-14.3\" font-family=\"Helvetica,sans-Serif\" font-size=\"14.00\" fill=\"#000000\">(...)</text>\n</g>\n<!-- 654&#45;&gt;656 -->\n<g id=\"edge28\" class=\"edge\">\n<title>654&#45;&gt;656</title>\n<path fill=\"none\" stroke=\"#000000\" d=\"M1336.6854,-71.8901C1340.0261,-63.0279 1343.475,-53.8788 1346.5614,-45.6913\"/>\n<polygon fill=\"#000000\" stroke=\"#000000\" points=\"1349.8624,-46.8569 1350.1147,-36.2651 1343.3123,-44.3878 1349.8624,-46.8569\"/>\n</g>\n</g>\n</svg>\n"
          },
          "metadata": {}
        }
      ]
    },
    {
      "cell_type": "code",
      "source": [
        "%matplotlib inline\n",
        "import matplotlib.pyplot as plt\n",
        "\n",
        "importances = pd.Series(model_dt.feature_importances_, X_train.columns)\n",
        "plt.figure(figsize=(10, 20))\n",
        "importances.sort_values().plot.barh();"
      ],
      "metadata": {
        "colab": {
          "base_uri": "https://localhost:8080/",
          "height": 1000
        },
        "id": "Qlb1CjrKwgiT",
        "outputId": "b61ee47a-9bcc-45cf-e421-a486c7e2e531"
      },
      "execution_count": 85,
      "outputs": [
        {
          "output_type": "display_data",
          "data": {
            "text/plain": [
              "<Figure size 720x1440 with 1 Axes>"
            ],
            "image/png": "[encoded data removed]"
          },
          "metadata": {
            "needs_background": "light"
          }
        }
      ]
    },
    {
      "cell_type": "code",
      "source": [
        "# max_depth는 None이 default입니다. 즉, 마지막까지 분기한다는 뜻입니다.\n",
        "# 과적합을 줄이기 위해 max_depth를 6으로 줬습니다.\n",
        "\n",
        "pipe_dt = make_pipeline(\n",
        "    OrdinalEncoder(),\n",
        "    SimpleImputer(),\n",
        "    DecisionTreeClassifier(random_state=2, criterion=\"entropy\", max_depth=6),\n",
        ")\n",
        "pipe_dt.fit(X_train, y_train)\n",
        "\n",
        "print(\"훈련 정확도: \", pipe_dt.score(X_train, y_train))\n",
        "print(\"검증 정확도: \", pipe_dt.score(X_val, y_val))\n",
        "\n",
        "y_pred = pipe_dt.predict(X_test)"
      ],
      "metadata": {
        "colab": {
          "base_uri": "https://localhost:8080/"
        },
        "id": "A4fA2zsXw263",
        "outputId": "ec7b0e6b-695f-4364-e83f-307cca13e226"
      },
      "execution_count": 86,
      "outputs": [
        {
          "output_type": "stream",
          "name": "stdout",
          "text": [
            "훈련 정확도:  0.9801020939681216\n",
            "검증 정확도:  0.9816666666666667\n"
          ]
        }
      ]
    },
    {
      "cell_type": "code",
      "source": [
        "from sklearn.ensemble import RandomForestClassifier\n",
        "\n",
        "pipe_rf = make_pipeline(\n",
        "    OrdinalEncoder(),\n",
        "    SimpleImputer(),\n",
        "    RandomForestClassifier(random_state=2, oob_score=True, n_jobs=-1),\n",
        ")\n",
        "\n",
        "pipe_rf.fit(X_train, y_train)\n",
        "print(\"훈련 정확도: \", pipe_rf.score(X_train, y_train))\n",
        "print(\"검증 정확도: \", pipe_rf.score(X_val, y_val))"
      ],
      "metadata": {
        "colab": {
          "base_uri": "https://localhost:8080/"
        },
        "id": "qxn59q1WxC3M",
        "outputId": "209bdf21-251b-42b3-d40a-44ec1fa2dcf9"
      },
      "execution_count": 87,
      "outputs": [
        {
          "output_type": "stream",
          "name": "stdout",
          "text": [
            "훈련 정확도:  0.9830190644858839\n",
            "검증 정확도:  0.98\n"
          ]
        }
      ]
    },
    {
      "cell_type": "code",
      "source": [
        "# out-of-bag sample을 이용하여 oob_score를 구할 수 있습니다.\n",
        "pipe_rf.named_steps[\"randomforestclassifier\"].oob_score_"
      ],
      "metadata": {
        "colab": {
          "base_uri": "https://localhost:8080/"
        },
        "id": "1rXyBQz5xKDG",
        "outputId": "164c84b4-484d-4f9b-db63-a0f415e77c6f"
      },
      "execution_count": 88,
      "outputs": [
        {
          "output_type": "execute_result",
          "data": {
            "text/plain": [
              "0.9795812063756641"
            ]
          },
          "metadata": {},
          "execution_count": 88
        }
      ]
    },
    {
      "cell_type": "code",
      "source": [
        "from sklearn.ensemble import RandomForestClassifier\n",
        "\n",
        "pipe_rf = make_pipeline(\n",
        "    OrdinalEncoder(),\n",
        "    SimpleImputer(),\n",
        "    RandomForestClassifier(random_state=2, max_depth=6, oob_score=True, n_jobs=-1),\n",
        ")\n",
        "\n",
        "pipe_rf.fit(X_train, y_train)\n",
        "print(\"훈련 정확도: \", pipe_rf.score(X_train, y_train))\n",
        "print(\"검증 정확도: \", pipe_rf.score(X_val, y_val))"
      ],
      "metadata": {
        "colab": {
          "base_uri": "https://localhost:8080/"
        },
        "id": "ahujAXNYxS26",
        "outputId": "df7513ad-063c-44e0-de8e-f3732989a604"
      },
      "execution_count": 89,
      "outputs": [
        {
          "output_type": "stream",
          "name": "stdout",
          "text": [
            "훈련 정확도:  0.9782268986352745\n",
            "검증 정확도:  0.9820833333333333\n"
          ]
        }
      ]
    },
    {
      "cell_type": "code",
      "source": [
        "pipe_rf.named_steps[\"randomforestclassifier\"].oob_score_"
      ],
      "metadata": {
        "colab": {
          "base_uri": "https://localhost:8080/"
        },
        "id": "xOPs9tSPxmge",
        "outputId": "21f1f84a-3b5e-4076-af3b-189c9709e84e"
      },
      "execution_count": 90,
      "outputs": [
        {
          "output_type": "execute_result",
          "data": {
            "text/plain": [
              "0.9778101885613085"
            ]
          },
          "metadata": {},
          "execution_count": 90
        }
      ]
    },
    {
      "cell_type": "code",
      "source": [
        "y_pred = pipe_rf.predict(X_val)\n",
        "print(classification_report(y_val, y_pred))"
      ],
      "metadata": {
        "colab": {
          "base_uri": "https://localhost:8080/"
        },
        "id": "6E2w3YZnxn7X",
        "outputId": "e1554b7f-0a66-4098-c6ee-683013a85708"
      },
      "execution_count": 91,
      "outputs": [
        {
          "output_type": "stream",
          "name": "stdout",
          "text": [
            "              precision    recall  f1-score   support\n",
            "\n",
            "           0       0.98      1.00      0.99      2356\n",
            "           1       1.00      0.02      0.04        44\n",
            "\n",
            "    accuracy                           0.98      2400\n",
            "   macro avg       0.99      0.51      0.52      2400\n",
            "weighted avg       0.98      0.98      0.97      2400\n",
            "\n"
          ]
        }
      ]
    },
    {
      "cell_type": "code",
      "source": [
        "!pip3 install xgboost"
      ],
      "metadata": {
        "colab": {
          "base_uri": "https://localhost:8080/"
        },
        "id": "TUtryvBUzCfF",
        "outputId": "587a74da-90fe-4e12-a4b8-8cc12488c5b7"
      },
      "execution_count": 92,
      "outputs": [
        {
          "output_type": "stream",
          "name": "stdout",
          "text": [
            "Looking in indexes: https://pypi.org/simple, https://us-python.pkg.dev/colab-wheels/public/simple/\n",
            "Requirement already satisfied: xgboost in /usr/local/lib/python3.7/dist-packages (0.90)\n",
            "Requirement already satisfied: scipy in /usr/local/lib/python3.7/dist-packages (from xgboost) (1.7.3)\n",
            "Requirement already satisfied: numpy in /usr/local/lib/python3.7/dist-packages (from xgboost) (1.21.6)\n"
          ]
        }
      ]
    },
    {
      "cell_type": "code",
      "source": [
        "from sklearn.model_selection import train_test_split\n",
        "\n",
        "# 타겟설정\n",
        "target = 'promotion_last_5years'\n",
        "\n",
        "# train, test, validation으로 데이터를 분할합니다.\n",
        "train, test = train_test_split(df, test_size=0.2, stratify=df[target], random_state=42)\n",
        "train, val = train_test_split(train, test_size=0.2, random_state=42)\n",
        "\n",
        "# 각 데이터 세트의 shape을 확인해보겠습니다. \n",
        "print(\"train set : \",train.shape)\n",
        "print(\"test set : \",test.shape)\n",
        "print(\"validation set : \",val.shape)"
      ],
      "metadata": {
        "colab": {
          "base_uri": "https://localhost:8080/"
        },
        "id": "rdqjYuHJzWrx",
        "outputId": "94889290-c7a5-4b25-c362-11d36be9bdd2"
      },
      "execution_count": 97,
      "outputs": [
        {
          "output_type": "stream",
          "name": "stdout",
          "text": [
            "train set :  (9599, 10)\n",
            "test set :  (3000, 10)\n",
            "validation set :  (2400, 10)\n"
          ]
        }
      ]
    },
    {
      "cell_type": "code",
      "source": [
        "# feature과 label을 분리합니다.\n",
        "X_train, y_train = train.drop(columns=target), train[target]\n",
        "X_val, y_val = val.drop(columns=target), val[target]\n",
        "X_test = test"
      ],
      "metadata": {
        "id": "MS0wNlb12NMV"
      },
      "execution_count": 98,
      "outputs": []
    },
    {
      "cell_type": "code",
      "source": [
        "from category_encoders import OrdinalEncoder\n",
        "from sklearn.impute import SimpleImputer\n",
        "from xgboost import XGBClassifier\n",
        "from sklearn.pipeline import make_pipeline\n",
        "\n",
        "\n",
        "pipe = make_pipeline(\n",
        "    OrdinalEncoder(),\n",
        "    SimpleImputer(strategy=\"median\"),\n",
        "    XGBClassifier(\n",
        "        objective=\"binary:logistic\",\n",
        "        eval_metric=\"error\",  # error = 1 - accuracy 지표를 사용해 평가합니다.\n",
        "        n_estimators=200,\n",
        "        random_state=42,\n",
        "        n_jobs=-1,\n",
        "        max_depth=7,\n",
        "        learning_rate=0.1,\n",
        "    ),\n",
        ")\n",
        "print(pipe)"
      ],
      "metadata": {
        "colab": {
          "base_uri": "https://localhost:8080/"
        },
        "id": "k_4-Fb3X2RcM",
        "outputId": "3bbb7d99-961a-4ea0-b11e-c125ef7b57b2"
      },
      "execution_count": 99,
      "outputs": [
        {
          "output_type": "stream",
          "name": "stdout",
          "text": [
            "Pipeline(steps=[('ordinalencoder', OrdinalEncoder()),\n",
            "                ('simpleimputer', SimpleImputer(strategy='median')),\n",
            "                ('xgbclassifier',\n",
            "                 XGBClassifier(eval_metric='error', max_depth=7,\n",
            "                               n_estimators=200, n_jobs=-1, random_state=42))])\n"
          ]
        }
      ]
    },
    {
      "cell_type": "code",
      "source": [
        "# 모델을 학습합니다.\n",
        "pipe.fit(X_train, y_train)"
      ],
      "metadata": {
        "colab": {
          "base_uri": "https://localhost:8080/"
        },
        "id": "OtmJtxZJ2f0O",
        "outputId": "34eeab0a-d0d4-40d6-8fe4-7e2c09acc6ef"
      },
      "execution_count": 100,
      "outputs": [
        {
          "output_type": "execute_result",
          "data": {
            "text/plain": [
              "Pipeline(steps=[('ordinalencoder',\n",
              "                 OrdinalEncoder(cols=['department', 'salary'],\n",
              "                                mapping=[{'col': 'department',\n",
              "                                          'data_type': dtype('O'),\n",
              "                                          'mapping': RandD           1\n",
              "hr              2\n",
              "sales           3\n",
              "marketing       4\n",
              "support         5\n",
              "management      6\n",
              "accounting      7\n",
              "IT              8\n",
              "technical       9\n",
              "product_mng    10\n",
              "NaN            -2\n",
              "dtype: int64},\n",
              "                                         {'col': 'salary',\n",
              "                                          'data_type': dtype('O'),\n",
              "                                          'mapping': low       1\n",
              "medium    2\n",
              "high      3\n",
              "NaN      -2\n",
              "dtype: int64}])),\n",
              "                ('simpleimputer', SimpleImputer(strategy='median')),\n",
              "                ('xgbclassifier',\n",
              "                 XGBClassifier(eval_metric='error', max_depth=7,\n",
              "                               n_estimators=200, n_jobs=-1, random_state=42))])"
            ]
          },
          "metadata": {},
          "execution_count": 100
        }
      ]
    },
    {
      "cell_type": "code",
      "source": [
        "from sklearn.metrics import classification_report\n",
        "\n",
        "# train 학습, 검증셋 정확도\n",
        "print(\"검증 정확도\", pipe.score(X_val, y_val))\n",
        "\n",
        "y_pred = pipe.predict(X_val)\n",
        "print(classification_report(y_val, y_pred))"
      ],
      "metadata": {
        "colab": {
          "base_uri": "https://localhost:8080/"
        },
        "id": "AIL8k_Nl2kIk",
        "outputId": "e38f4a17-550c-4acf-9971-c42184030eef"
      },
      "execution_count": 101,
      "outputs": [
        {
          "output_type": "stream",
          "name": "stdout",
          "text": [
            "검증 정확도 0.985\n",
            "              precision    recall  f1-score   support\n",
            "\n",
            "           0       0.99      1.00      0.99      2356\n",
            "           1       0.79      0.25      0.38        44\n",
            "\n",
            "    accuracy                           0.98      2400\n",
            "   macro avg       0.89      0.62      0.69      2400\n",
            "weighted avg       0.98      0.98      0.98      2400\n",
            "\n"
          ]
        }
      ]
    },
    {
      "cell_type": "code",
      "source": [
        "def get_pipeline(**kwargs):\n",
        "    pipe = make_pipeline(\n",
        "        OrdinalEncoder(),\n",
        "        SimpleImputer(strategy=\"median\"),\n",
        "        XGBClassifier(\n",
        "            objective=\"binary:logistic\", eval_metric=\"error\", random_state=42, **kwargs\n",
        "        ),\n",
        "    )\n",
        "    return pipe"
      ],
      "metadata": {
        "id": "h4BtlhSX2oEG"
      },
      "execution_count": 102,
      "outputs": []
    },
    {
      "cell_type": "code",
      "source": [
        "%%time\n",
        "p_md2 = get_pipeline(n_estimators=100, max_depth=2, learning_rate=0.1)\n",
        "p_md2.fit(X_train, y_train)\n",
        "print(\"학습 score\", p_md2.score(X_train, y_train))\n",
        "print(\"검증 score\", p_md2.score(X_val, y_val))"
      ],
      "metadata": {
        "colab": {
          "base_uri": "https://localhost:8080/"
        },
        "id": "fTr0jTem2rf4",
        "outputId": "98594cb7-6da2-4766-8467-62f978564742"
      },
      "execution_count": 103,
      "outputs": [
        {
          "output_type": "stream",
          "name": "stdout",
          "text": [
            "학습 score 0.9780185435982914\n",
            "검증 score 0.9816666666666667\n",
            "CPU times: user 407 ms, sys: 17 µs, total: 407 ms\n",
            "Wall time: 407 ms\n"
          ]
        }
      ]
    },
    {
      "cell_type": "code",
      "source": [
        "%%time\n",
        "p_md5 = get_pipeline(n_estimators=100, max_depth=5, learning_rate=0.1)\n",
        "p_md5.fit(X_train, y_train)\n",
        "print(\"학습 score\", p_md5.score(X_train, y_train))\n",
        "print(\"검증 score\", p_md5.score(X_val, y_val))"
      ],
      "metadata": {
        "colab": {
          "base_uri": "https://localhost:8080/"
        },
        "id": "CiM_loGU2uCY",
        "outputId": "d1d3ec23-88af-4891-b20c-2aa25c1c04c5"
      },
      "execution_count": 104,
      "outputs": [
        {
          "output_type": "stream",
          "name": "stdout",
          "text": [
            "학습 score 0.9822898218564434\n",
            "검증 score 0.9820833333333333\n",
            "CPU times: user 822 ms, sys: 0 ns, total: 822 ms\n",
            "Wall time: 821 ms\n"
          ]
        }
      ]
    },
    {
      "cell_type": "code",
      "source": [
        "%%time\n",
        "p_md12 = get_pipeline(n_estimators=100, max_depth=12, learning_rate=0.1)\n",
        "p_md12.fit(X_train, y_train)\n",
        "print(\"학습 score\", p_md12.score(X_train, y_train))\n",
        "print(\"검증 score\", p_md12.score(X_val, y_val))"
      ],
      "metadata": {
        "colab": {
          "base_uri": "https://localhost:8080/"
        },
        "id": "7qXhNXyd2wbw",
        "outputId": "be8b5e06-2b61-4ace-e709-70a383f95f54"
      },
      "execution_count": 105,
      "outputs": [
        {
          "output_type": "stream",
          "name": "stdout",
          "text": [
            "학습 score 0.9965621418897802\n",
            "검증 score 0.9858333333333333\n",
            "CPU times: user 1.77 s, sys: 0 ns, total: 1.77 s\n",
            "Wall time: 1.78 s\n"
          ]
        }
      ]
    },
    {
      "cell_type": "code",
      "source": [
        "encoder = OrdinalEncoder()\n",
        "X_train_encoded = encoder.fit_transform(X_train)  # 학습데이터\n",
        "X_val_encoded = encoder.transform(X_val)  # 검증데이터\n",
        "\n",
        "model = XGBClassifier(\n",
        "    objective=\"binary:logistic\",\n",
        "    eval_metric=\"error\",  # error = 1 - accuracy 지표를 사용해 평가합니다.\n",
        "    n_estimators=987654321,  # 매우 큰 값으로 설정했지만, 성능 향상이 없으면 자동으로 종료합니다.\n",
        "    random_state=42,\n",
        "    n_jobs=-1,\n",
        "    max_depth=12,\n",
        "    learning_rate=0.1,\n",
        "    reg_lambda=1,\n",
        ")\n",
        "\n",
        "watchlist = [(X_train_encoded, y_train), (X_val_encoded, y_val)]\n",
        "\n",
        "model.fit(\n",
        "    X_train_encoded,\n",
        "    y_train,\n",
        "    eval_set=watchlist,\n",
        "    early_stopping_rounds=50,  # 50 rounds 동안 성능 개선이 없으면 학습을 중지합니다.\n",
        ")"
      ],
      "metadata": {
        "colab": {
          "base_uri": "https://localhost:8080/"
        },
        "id": "dFw2nqo426rQ",
        "outputId": "30feffdc-4cd5-44bf-a8e1-53e11455981b"
      },
      "execution_count": 111,
      "outputs": [
        {
          "output_type": "stream",
          "name": "stdout",
          "text": [
            "[0]\tvalidation_0-error:0.02021\tvalidation_1-error:0.019583\n",
            "Multiple eval metrics have been passed: 'validation_1-error' will be used for early stopping.\n",
            "\n",
            "Will train until validation_1-error hasn't improved in 50 rounds.\n",
            "[1]\tvalidation_0-error:0.020002\tvalidation_1-error:0.02\n",
            "[2]\tvalidation_0-error:0.020315\tvalidation_1-error:0.019167\n",
            "[3]\tvalidation_0-error:0.020106\tvalidation_1-error:0.019167\n",
            "[4]\tvalidation_0-error:0.020002\tvalidation_1-error:0.01875\n",
            "[5]\tvalidation_0-error:0.01969\tvalidation_1-error:0.01875\n",
            "[6]\tvalidation_0-error:0.018752\tvalidation_1-error:0.018333\n",
            "[7]\tvalidation_0-error:0.019064\tvalidation_1-error:0.018333\n",
            "[8]\tvalidation_0-error:0.018544\tvalidation_1-error:0.018333\n",
            "[9]\tvalidation_0-error:0.018439\tvalidation_1-error:0.018333\n",
            "[10]\tvalidation_0-error:0.018231\tvalidation_1-error:0.017917\n",
            "[11]\tvalidation_0-error:0.017919\tvalidation_1-error:0.017917\n",
            "[12]\tvalidation_0-error:0.017293\tvalidation_1-error:0.018333\n",
            "[13]\tvalidation_0-error:0.016668\tvalidation_1-error:0.018333\n",
            "[14]\tvalidation_0-error:0.016668\tvalidation_1-error:0.018333\n",
            "[15]\tvalidation_0-error:0.016668\tvalidation_1-error:0.018333\n",
            "[16]\tvalidation_0-error:0.016252\tvalidation_1-error:0.018333\n",
            "[17]\tvalidation_0-error:0.01646\tvalidation_1-error:0.017917\n",
            "[18]\tvalidation_0-error:0.016564\tvalidation_1-error:0.017917\n",
            "[19]\tvalidation_0-error:0.016043\tvalidation_1-error:0.017917\n",
            "[20]\tvalidation_0-error:0.015939\tvalidation_1-error:0.0175\n",
            "[21]\tvalidation_0-error:0.015939\tvalidation_1-error:0.0175\n",
            "[22]\tvalidation_0-error:0.015522\tvalidation_1-error:0.0175\n",
            "[23]\tvalidation_0-error:0.015522\tvalidation_1-error:0.0175\n",
            "[24]\tvalidation_0-error:0.015314\tvalidation_1-error:0.0175\n",
            "[25]\tvalidation_0-error:0.015314\tvalidation_1-error:0.0175\n",
            "[26]\tvalidation_0-error:0.014897\tvalidation_1-error:0.0175\n",
            "[27]\tvalidation_0-error:0.014897\tvalidation_1-error:0.0175\n",
            "[28]\tvalidation_0-error:0.014897\tvalidation_1-error:0.0175\n",
            "[29]\tvalidation_0-error:0.014897\tvalidation_1-error:0.0175\n",
            "[30]\tvalidation_0-error:0.014897\tvalidation_1-error:0.0175\n",
            "[31]\tvalidation_0-error:0.014897\tvalidation_1-error:0.0175\n",
            "[32]\tvalidation_0-error:0.014481\tvalidation_1-error:0.0175\n",
            "[33]\tvalidation_0-error:0.014481\tvalidation_1-error:0.0175\n",
            "[34]\tvalidation_0-error:0.014376\tvalidation_1-error:0.0175\n",
            "[35]\tvalidation_0-error:0.014376\tvalidation_1-error:0.0175\n",
            "[36]\tvalidation_0-error:0.01396\tvalidation_1-error:0.0175\n",
            "[37]\tvalidation_0-error:0.013751\tvalidation_1-error:0.0175\n",
            "[38]\tvalidation_0-error:0.013647\tvalidation_1-error:0.0175\n",
            "[39]\tvalidation_0-error:0.013439\tvalidation_1-error:0.0175\n",
            "[40]\tvalidation_0-error:0.013126\tvalidation_1-error:0.0175\n",
            "[41]\tvalidation_0-error:0.013231\tvalidation_1-error:0.0175\n",
            "[42]\tvalidation_0-error:0.012397\tvalidation_1-error:0.0175\n",
            "[43]\tvalidation_0-error:0.012501\tvalidation_1-error:0.0175\n",
            "[44]\tvalidation_0-error:0.012085\tvalidation_1-error:0.0175\n",
            "[45]\tvalidation_0-error:0.011564\tvalidation_1-error:0.0175\n",
            "[46]\tvalidation_0-error:0.011251\tvalidation_1-error:0.0175\n",
            "[47]\tvalidation_0-error:0.011043\tvalidation_1-error:0.0175\n",
            "[48]\tvalidation_0-error:0.010314\tvalidation_1-error:0.0175\n",
            "[49]\tvalidation_0-error:0.010209\tvalidation_1-error:0.0175\n",
            "[50]\tvalidation_0-error:0.010001\tvalidation_1-error:0.0175\n",
            "[51]\tvalidation_0-error:0.009689\tvalidation_1-error:0.0175\n",
            "[52]\tvalidation_0-error:0.009793\tvalidation_1-error:0.0175\n",
            "[53]\tvalidation_0-error:0.009793\tvalidation_1-error:0.0175\n",
            "[54]\tvalidation_0-error:0.009689\tvalidation_1-error:0.0175\n",
            "[55]\tvalidation_0-error:0.009689\tvalidation_1-error:0.0175\n",
            "[56]\tvalidation_0-error:0.009689\tvalidation_1-error:0.0175\n",
            "[57]\tvalidation_0-error:0.00948\tvalidation_1-error:0.0175\n",
            "[58]\tvalidation_0-error:0.009376\tvalidation_1-error:0.0175\n",
            "[59]\tvalidation_0-error:0.009063\tvalidation_1-error:0.017083\n",
            "[60]\tvalidation_0-error:0.009063\tvalidation_1-error:0.017083\n",
            "[61]\tvalidation_0-error:0.008855\tvalidation_1-error:0.017083\n",
            "[62]\tvalidation_0-error:0.008751\tvalidation_1-error:0.016667\n",
            "[63]\tvalidation_0-error:0.008855\tvalidation_1-error:0.016667\n",
            "[64]\tvalidation_0-error:0.008647\tvalidation_1-error:0.016667\n",
            "[65]\tvalidation_0-error:0.008647\tvalidation_1-error:0.016667\n",
            "[66]\tvalidation_0-error:0.008647\tvalidation_1-error:0.016667\n",
            "[67]\tvalidation_0-error:0.008543\tvalidation_1-error:0.016667\n",
            "[68]\tvalidation_0-error:0.008438\tvalidation_1-error:0.016667\n",
            "[69]\tvalidation_0-error:0.008438\tvalidation_1-error:0.016667\n",
            "[70]\tvalidation_0-error:0.008022\tvalidation_1-error:0.016667\n",
            "[71]\tvalidation_0-error:0.007917\tvalidation_1-error:0.01625\n",
            "[72]\tvalidation_0-error:0.008022\tvalidation_1-error:0.01625\n",
            "[73]\tvalidation_0-error:0.007292\tvalidation_1-error:0.01625\n",
            "[74]\tvalidation_0-error:0.007188\tvalidation_1-error:0.01625\n",
            "[75]\tvalidation_0-error:0.007084\tvalidation_1-error:0.01625\n",
            "[76]\tvalidation_0-error:0.006876\tvalidation_1-error:0.015833\n",
            "[77]\tvalidation_0-error:0.006876\tvalidation_1-error:0.01625\n",
            "[78]\tvalidation_0-error:0.006563\tvalidation_1-error:0.015833\n",
            "[79]\tvalidation_0-error:0.006459\tvalidation_1-error:0.015417\n",
            "[80]\tvalidation_0-error:0.006146\tvalidation_1-error:0.015417\n",
            "[81]\tvalidation_0-error:0.005938\tvalidation_1-error:0.015417\n",
            "[82]\tvalidation_0-error:0.005626\tvalidation_1-error:0.015417\n",
            "[83]\tvalidation_0-error:0.005521\tvalidation_1-error:0.015417\n",
            "[84]\tvalidation_0-error:0.005417\tvalidation_1-error:0.015417\n",
            "[85]\tvalidation_0-error:0.005417\tvalidation_1-error:0.015417\n",
            "[86]\tvalidation_0-error:0.005417\tvalidation_1-error:0.015417\n",
            "[87]\tvalidation_0-error:0.005417\tvalidation_1-error:0.015417\n",
            "[88]\tvalidation_0-error:0.005209\tvalidation_1-error:0.015417\n",
            "[89]\tvalidation_0-error:0.005105\tvalidation_1-error:0.015\n",
            "[90]\tvalidation_0-error:0.005105\tvalidation_1-error:0.015\n",
            "[91]\tvalidation_0-error:0.004896\tvalidation_1-error:0.015\n",
            "[92]\tvalidation_0-error:0.00448\tvalidation_1-error:0.015\n",
            "[93]\tvalidation_0-error:0.00448\tvalidation_1-error:0.015\n",
            "[94]\tvalidation_0-error:0.004375\tvalidation_1-error:0.015\n",
            "[95]\tvalidation_0-error:0.004167\tvalidation_1-error:0.015\n",
            "[96]\tvalidation_0-error:0.00375\tvalidation_1-error:0.014167\n",
            "[97]\tvalidation_0-error:0.003542\tvalidation_1-error:0.014167\n",
            "[98]\tvalidation_0-error:0.003438\tvalidation_1-error:0.014167\n",
            "[99]\tvalidation_0-error:0.003438\tvalidation_1-error:0.014167\n",
            "[100]\tvalidation_0-error:0.00323\tvalidation_1-error:0.01375\n",
            "[101]\tvalidation_0-error:0.002813\tvalidation_1-error:0.01375\n",
            "[102]\tvalidation_0-error:0.002917\tvalidation_1-error:0.01375\n",
            "[103]\tvalidation_0-error:0.002709\tvalidation_1-error:0.01375\n",
            "[104]\tvalidation_0-error:0.002813\tvalidation_1-error:0.01375\n",
            "[105]\tvalidation_0-error:0.002604\tvalidation_1-error:0.01375\n",
            "[106]\tvalidation_0-error:0.0025\tvalidation_1-error:0.01375\n",
            "[107]\tvalidation_0-error:0.002292\tvalidation_1-error:0.01375\n",
            "[108]\tvalidation_0-error:0.002188\tvalidation_1-error:0.01375\n",
            "[109]\tvalidation_0-error:0.002084\tvalidation_1-error:0.013333\n",
            "[110]\tvalidation_0-error:0.001979\tvalidation_1-error:0.013333\n",
            "[111]\tvalidation_0-error:0.001875\tvalidation_1-error:0.013333\n",
            "[112]\tvalidation_0-error:0.001771\tvalidation_1-error:0.013333\n",
            "[113]\tvalidation_0-error:0.001667\tvalidation_1-error:0.013333\n",
            "[114]\tvalidation_0-error:0.001563\tvalidation_1-error:0.013333\n",
            "[115]\tvalidation_0-error:0.001354\tvalidation_1-error:0.013333\n",
            "[116]\tvalidation_0-error:0.00125\tvalidation_1-error:0.013333\n",
            "[117]\tvalidation_0-error:0.00125\tvalidation_1-error:0.013333\n",
            "[118]\tvalidation_0-error:0.00125\tvalidation_1-error:0.013333\n",
            "[119]\tvalidation_0-error:0.00125\tvalidation_1-error:0.013333\n",
            "[120]\tvalidation_0-error:0.001146\tvalidation_1-error:0.013333\n",
            "[121]\tvalidation_0-error:0.001042\tvalidation_1-error:0.013333\n",
            "[122]\tvalidation_0-error:0.001042\tvalidation_1-error:0.013333\n",
            "[123]\tvalidation_0-error:0.000833\tvalidation_1-error:0.013333\n",
            "[124]\tvalidation_0-error:0.000833\tvalidation_1-error:0.013333\n",
            "[125]\tvalidation_0-error:0.000833\tvalidation_1-error:0.013333\n",
            "[126]\tvalidation_0-error:0.000833\tvalidation_1-error:0.013333\n",
            "[127]\tvalidation_0-error:0.000833\tvalidation_1-error:0.013333\n",
            "[128]\tvalidation_0-error:0.000729\tvalidation_1-error:0.013333\n",
            "[129]\tvalidation_0-error:0.000729\tvalidation_1-error:0.013333\n",
            "[130]\tvalidation_0-error:0.000729\tvalidation_1-error:0.013333\n",
            "[131]\tvalidation_0-error:0.000729\tvalidation_1-error:0.013333\n",
            "[132]\tvalidation_0-error:0.000729\tvalidation_1-error:0.013333\n",
            "[133]\tvalidation_0-error:0.000625\tvalidation_1-error:0.012917\n",
            "[134]\tvalidation_0-error:0.000625\tvalidation_1-error:0.012917\n",
            "[135]\tvalidation_0-error:0.000625\tvalidation_1-error:0.012917\n",
            "[136]\tvalidation_0-error:0.000625\tvalidation_1-error:0.012917\n",
            "[137]\tvalidation_0-error:0.000625\tvalidation_1-error:0.012917\n",
            "[138]\tvalidation_0-error:0.000625\tvalidation_1-error:0.012917\n",
            "[139]\tvalidation_0-error:0.000625\tvalidation_1-error:0.012917\n",
            "[140]\tvalidation_0-error:0.000625\tvalidation_1-error:0.012917\n",
            "[141]\tvalidation_0-error:0.000521\tvalidation_1-error:0.012917\n",
            "[142]\tvalidation_0-error:0.000521\tvalidation_1-error:0.012917\n",
            "[143]\tvalidation_0-error:0.000521\tvalidation_1-error:0.012917\n",
            "[144]\tvalidation_0-error:0.000521\tvalidation_1-error:0.012917\n",
            "[145]\tvalidation_0-error:0.000521\tvalidation_1-error:0.012917\n",
            "[146]\tvalidation_0-error:0.000521\tvalidation_1-error:0.012917\n",
            "[147]\tvalidation_0-error:0.000521\tvalidation_1-error:0.012917\n",
            "[148]\tvalidation_0-error:0.000521\tvalidation_1-error:0.012917\n",
            "[149]\tvalidation_0-error:0.000521\tvalidation_1-error:0.012917\n",
            "[150]\tvalidation_0-error:0.000417\tvalidation_1-error:0.012917\n",
            "[151]\tvalidation_0-error:0.000417\tvalidation_1-error:0.012917\n",
            "[152]\tvalidation_0-error:0.000417\tvalidation_1-error:0.012917\n",
            "[153]\tvalidation_0-error:0.000417\tvalidation_1-error:0.012917\n",
            "[154]\tvalidation_0-error:0.000417\tvalidation_1-error:0.012917\n",
            "[155]\tvalidation_0-error:0.000417\tvalidation_1-error:0.012917\n",
            "[156]\tvalidation_0-error:0.000417\tvalidation_1-error:0.012917\n",
            "[157]\tvalidation_0-error:0.000417\tvalidation_1-error:0.012917\n",
            "[158]\tvalidation_0-error:0.000313\tvalidation_1-error:0.012917\n",
            "[159]\tvalidation_0-error:0.000313\tvalidation_1-error:0.012917\n",
            "[160]\tvalidation_0-error:0.000313\tvalidation_1-error:0.012917\n",
            "[161]\tvalidation_0-error:0.000313\tvalidation_1-error:0.012917\n",
            "[162]\tvalidation_0-error:0.000313\tvalidation_1-error:0.012917\n",
            "[163]\tvalidation_0-error:0.000313\tvalidation_1-error:0.012917\n",
            "[164]\tvalidation_0-error:0.000313\tvalidation_1-error:0.012917\n",
            "[165]\tvalidation_0-error:0.000313\tvalidation_1-error:0.012917\n",
            "[166]\tvalidation_0-error:0.000313\tvalidation_1-error:0.012917\n",
            "[167]\tvalidation_0-error:0.000313\tvalidation_1-error:0.012917\n",
            "[168]\tvalidation_0-error:0.000208\tvalidation_1-error:0.012917\n",
            "[169]\tvalidation_0-error:0.000208\tvalidation_1-error:0.012917\n",
            "[170]\tvalidation_0-error:0.000208\tvalidation_1-error:0.012917\n",
            "[171]\tvalidation_0-error:0.000208\tvalidation_1-error:0.012917\n",
            "[172]\tvalidation_0-error:0.000208\tvalidation_1-error:0.012917\n",
            "[173]\tvalidation_0-error:0.000208\tvalidation_1-error:0.012917\n",
            "[174]\tvalidation_0-error:0.000208\tvalidation_1-error:0.012917\n",
            "[175]\tvalidation_0-error:0.000208\tvalidation_1-error:0.012917\n",
            "[176]\tvalidation_0-error:0.000208\tvalidation_1-error:0.012917\n",
            "[177]\tvalidation_0-error:0.000208\tvalidation_1-error:0.012917\n",
            "[178]\tvalidation_0-error:0.000104\tvalidation_1-error:0.012917\n",
            "[179]\tvalidation_0-error:0.000104\tvalidation_1-error:0.012917\n",
            "[180]\tvalidation_0-error:0.000104\tvalidation_1-error:0.012917\n",
            "[181]\tvalidation_0-error:0.000104\tvalidation_1-error:0.012917\n",
            "[182]\tvalidation_0-error:0.000104\tvalidation_1-error:0.012917\n",
            "[183]\tvalidation_0-error:0.000104\tvalidation_1-error:0.012917\n",
            "Stopping. Best iteration:\n",
            "[133]\tvalidation_0-error:0.000625\tvalidation_1-error:0.012917\n",
            "\n"
          ]
        },
        {
          "output_type": "execute_result",
          "data": {
            "text/plain": [
              "XGBClassifier(eval_metric='error', max_depth=12, n_estimators=987654321,\n",
              "              n_jobs=-1, random_state=42)"
            ]
          },
          "metadata": {},
          "execution_count": 111
        }
      ]
    },
    {
      "cell_type": "code",
      "source": [
        "import matplotlib.pyplot as plt\n",
        "\n",
        "results = model.evals_result()\n",
        "train_error = results[\"validation_0\"][\"error\"]\n",
        "val_error = results[\"validation_1\"][\"error\"]\n",
        "\n",
        "plt.plot(train_error, label=\"Train\")\n",
        "plt.plot(val_error, label=\"Validation\")\n",
        "plt.ylabel(\"Classification Error\")\n",
        "plt.xlabel(\"Model Complexity (n_estimators)\")\n",
        "plt.legend()"
      ],
      "metadata": {
        "colab": {
          "base_uri": "https://localhost:8080/",
          "height": 298
        },
        "id": "UB2zzz1U2-J6",
        "outputId": "3cd5a9a6-6d27-4eb0-bdba-3f1113f9249e"
      },
      "execution_count": 112,
      "outputs": [
        {
          "output_type": "execute_result",
          "data": {
            "text/plain": [
              "<matplotlib.legend.Legend at 0x7fd9aeae7810>"
            ]
          },
          "metadata": {},
          "execution_count": 112
        },
        {
          "output_type": "display_data",
          "data": {
            "text/plain": [
              "<Figure size 432x288 with 1 Axes>"
            ],
            "image/png": "[encoded data removed]"
          },
          "metadata": {
            "needs_background": "light"
          }
        }
      ]
    },
    {
      "cell_type": "code",
      "source": [
        "print(\"검증 정확도\", model.score(X_val_encoded, y_val))\n",
        "\n",
        "print(\n",
        "    classification_report(\n",
        "        y_val, model.predict(X_val_encoded)\n",
        "    )\n",
        ")"
      ],
      "metadata": {
        "colab": {
          "base_uri": "https://localhost:8080/"
        },
        "id": "S4G_M6Bp_1yM",
        "outputId": "9e8f1ec9-1bc7-4d4a-d2a6-b513775cbf38"
      },
      "execution_count": 119,
      "outputs": [
        {
          "output_type": "stream",
          "name": "stdout",
          "text": [
            "검증 정확도 0.9870833333333333\n",
            "              precision    recall  f1-score   support\n",
            "\n",
            "           0       0.99      1.00      0.99      2356\n",
            "           1       0.88      0.34      0.49        44\n",
            "\n",
            "    accuracy                           0.99      2400\n",
            "   macro avg       0.94      0.67      0.74      2400\n",
            "weighted avg       0.99      0.99      0.98      2400\n",
            "\n"
          ]
        }
      ]
    },
    {
      "cell_type": "code",
      "source": [
        "model.best_iteration"
      ],
      "metadata": {
        "colab": {
          "base_uri": "https://localhost:8080/"
        },
        "id": "U0fDen4y_eB7",
        "outputId": "67c496b8-48d7-4941-9c79-886e2d2c97ca"
      },
      "execution_count": 120,
      "outputs": [
        {
          "output_type": "execute_result",
          "data": {
            "text/plain": [
              "133"
            ]
          },
          "metadata": {},
          "execution_count": 120
        }
      ]
    },
    {
      "cell_type": "markdown",
      "source": [
        "**전처리 -> Linear / Logistic Regression**\n",
        "\n",
        "\n",
        "\n",
        "1.   입력 특성들의 크기 / 범위 / 분포에 영향\n",
        "2.   결측치를 반드시 채워야\n",
        "3.   비선형적 특성이나 특성 간 상호작용 등을 미리 처리\n",
        "\n"
      ],
      "metadata": {
        "id": "lhuV1a3TAvBL"
      }
    },
    {
      "cell_type": "markdown",
      "source": [
        "전처리 -> Tree Based Models\n",
        "\n",
        "\n",
        "\n",
        "1.   입력 특성들의 크기 / 범위 / 분포에 영향을 받지 않습니다.\n",
        "2.   결측치를 반드시 채울 필요는 없습니다.\n",
        "3.   특성과 타겟 간의 비선형적 관계나 특성 간 상호작용이 자동으로 반영될 수 있습니다.\n",
        "\n"
      ],
      "metadata": {
        "id": "XBqfQ3EnBO_0"
      }
    },
    {
      "cell_type": "code",
      "source": [
        "# 단일 대표값으로 채우기\n",
        "'''\n",
        "from sklearn.impute import SimpleImputer\n",
        "imputer = SimpleImputer(strategy=\"median\")\n",
        "imputer.fit_transform(X1)\n",
        "\n",
        "strategy 파라미터를 mean, median, most_frequent, constant 중 하나로 선택\n",
        "'''"
      ],
      "metadata": {
        "id": "Cmp2BMQmA1cG"
      },
      "execution_count": null,
      "outputs": []
    },
    {
      "cell_type": "code",
      "source": [
        "# 수치형 변수의 전처리\n",
        "'''\n",
        "- 값 분포의 스케일만 변화시키는 변환 \n",
        "\n",
        "1. Min-Max Scaling\n",
        "0과 1 사이의 값으로 스케일링\n",
        "\n",
        "2. Standardization\n",
        "평균을 0, 표준편차를 1로 조정\n",
        "Min-Max Scaling에 비해 이상치에 덜 민감\n",
        "\n",
        "- 값 분포의 스케일과 형태를 변화시키는 전처리\n",
        "1. Clipping\n",
        "2. 로그 변환\n",
        "3. Bucketing\n",
        "4. Rank 변환\n",
        "'''"
      ],
      "metadata": {
        "id": "ZcZWmXkjB5Nj"
      },
      "execution_count": null,
      "outputs": []
    },
    {
      "cell_type": "code",
      "source": [
        "# 범주형 변수의 전처리\n",
        "'''\n",
        "One-Hot Encoding / Ordinal Encoding\n",
        "\n",
        "1. One-Hot Encoding은 각 범주형 특성 값들을 각 값들에 대해 (해당한다/해당하지 않는다)의 0과 1 값으로 인코딩\n",
        "2. Ordinal Encoding은 각 범주형 특성 값들을 단순히 서로 다른 정수값들로 인코딩\n",
        "트리 기반 모델에서는 여러 번의 분기를 통해 이러한 양적 대소 관계가 점차 사라지기 때문에, One-Hot Encoding에 비해 효율적\n",
        "\n",
        "Count Encoding(Frequency Encoding)\n",
        "카테고리 값들의 등장 빈도로 범주형 값을 대체\n",
        "\n",
        "Target Encoding(Mean Encoding)\n",
        "범주형 특성값들을 해당 특성을 갖는 데이터의 타겟값의 평균으로 인코딩\n",
        "'''"
      ],
      "metadata": {
        "id": "uEQmglPuCu84"
      },
      "execution_count": null,
      "outputs": []
    },
    {
      "cell_type": "code",
      "source": [
        "# 훈련/검증/테스트 데이터 구분\n",
        "from sklearn.model_selection import train_test_split\n",
        "\n",
        "# 80/20 비율로 학습/테스트 데이터를 분리합니다.\n",
        "train, val = train_test_split(\n",
        "    train, train_size=0.80, test_size=0.20, stratify=train[target], random_state=2\n",
        ")"
      ],
      "metadata": {
        "id": "pOgmfpTLEyrT"
      },
      "execution_count": 123,
      "outputs": []
    },
    {
      "cell_type": "code",
      "source": [
        "# feature과 label을 분리합니다.\n",
        "X_train, y_train = train.drop(columns=target), train[target]\n",
        "X_val, y_val = val.drop(columns=target), val[target]\n",
        "X_test = test\n",
        "\n",
        "features = train.drop(columns=[target]).columns\n",
        "X_train = train[features]\n",
        "y_train = train[target]\n",
        "X_val = val[features]\n",
        "y_val = val[target]\n",
        "X_test = test[features]\n",
        "\n",
        "\n",
        "# 타겟 비율 확인\n",
        "train[target].value_counts(normalize=True)"
      ],
      "metadata": {
        "colab": {
          "base_uri": "https://localhost:8080/"
        },
        "id": "cxxe9YzzEz5K",
        "outputId": "17620c2d-5d8c-4ec7-a36c-0a59f63fb047"
      },
      "execution_count": 124,
      "outputs": [
        {
          "output_type": "execute_result",
          "data": {
            "text/plain": [
              "0    0.977992\n",
              "1    0.022008\n",
              "Name: promotion_last_5years, dtype: float64"
            ]
          },
          "metadata": {},
          "execution_count": 124
        }
      ]
    },
    {
      "cell_type": "code",
      "source": [
        "df.info()"
      ],
      "metadata": {
        "colab": {
          "base_uri": "https://localhost:8080/"
        },
        "id": "AiAh7o23FIpg",
        "outputId": "30c3bf46-f278-4e12-9894-d53c6c6d87b4"
      },
      "execution_count": 126,
      "outputs": [
        {
          "output_type": "stream",
          "name": "stdout",
          "text": [
            "<class 'pandas.core.frame.DataFrame'>\n",
            "RangeIndex: 14999 entries, 0 to 14998\n",
            "Data columns (total 10 columns):\n",
            " #   Column                 Non-Null Count  Dtype  \n",
            "---  ------                 --------------  -----  \n",
            " 0   satisfaction_level     14999 non-null  float64\n",
            " 1   last_evaluation        14999 non-null  float64\n",
            " 2   number_project         14999 non-null  int64  \n",
            " 3   average_montly_hours   14999 non-null  int64  \n",
            " 4   time_spend_company     14999 non-null  int64  \n",
            " 5   Work_accident          14999 non-null  int64  \n",
            " 6   left                   14999 non-null  int64  \n",
            " 7   promotion_last_5years  14999 non-null  int64  \n",
            " 8   department             14999 non-null  object \n",
            " 9   salary                 14999 non-null  object \n",
            "dtypes: float64(2), int64(6), object(2)\n",
            "memory usage: 1.1+ MB\n"
          ]
        }
      ]
    },
    {
      "cell_type": "code",
      "source": [
        "# one-hot encoding\n",
        "# 범주가 3개 이상인 특성만 적용\n",
        "from category_encoders import OneHotEncoder\n",
        "\n",
        "feats = ['salary', 'salary'] \n",
        "ohe = OneHotEncoder('cols=feats', use_cat_names=True)\n",
        "\n",
        "\n",
        "X_train_ohe = ohe.fit_transform(X_train)\n",
        "X_val_ohe = ohe.transform(X_val)\n",
        "X_test_ohe = ohe.transform(X_test)"
      ],
      "metadata": {
        "id": "JFBFygX2E3TI"
      },
      "execution_count": 127,
      "outputs": []
    },
    {
      "cell_type": "code",
      "source": [
        "# 기준모델 - 최빈값\n",
        "y_base = [y_train.mode()]*len(y_train)\n",
        "\n",
        "# 기준모델 정확도\n",
        "from sklearn.metrics import accuracy_score\n",
        "print(\"training accuracy: \", accuracy_score(y_train, y_base).round(2))"
      ],
      "metadata": {
        "colab": {
          "base_uri": "https://localhost:8080/"
        },
        "id": "888wjTP5FwmN",
        "outputId": "f2e839ce-f054-4162-d2c7-1136812e0b5a"
      },
      "execution_count": 129,
      "outputs": [
        {
          "output_type": "stream",
          "name": "stdout",
          "text": [
            "training accuracy:  0.98\n"
          ]
        }
      ]
    },
    {
      "cell_type": "code",
      "source": [
        "from sklearn.linear_model import LogisticRegression\n",
        "from sklearn.metrics import classification_report, accuracy_score, recall_score, precision_score, f1_score\n",
        "\n",
        "logistic = LogisticRegression(class_weight='balanced') # 타겟값 불균형\n",
        "logistic.fit(X_train_ohe, y_train) # 학습\n",
        "y_val_pred = logistic.predict(X_val_ohe)\n",
        "\n",
        "print('logistic train accuracy', logistic.score(X_train_ohe, y_train).round(2))\n",
        "print(\"logistic validation accuracy: \", accuracy_score(y_val, y_val_pred).round(2))\n",
        "print(\"f1 score: \", f1_score(y_val, y_val_pred).round(2))\n",
        "print(classification_report(y_val, y_val_pred))"
      ],
      "metadata": {
        "colab": {
          "base_uri": "https://localhost:8080/"
        },
        "id": "SlBvNiBiEerr",
        "outputId": "f80ecb51-8274-48f8-a6d4-2c5d608ec5b8"
      },
      "execution_count": 130,
      "outputs": [
        {
          "output_type": "stream",
          "name": "stdout",
          "text": [
            "logistic train accuracy 0.75\n",
            "logistic validation accuracy:  0.73\n",
            "f1 score:  0.1\n",
            "              precision    recall  f1-score   support\n",
            "\n",
            "           0       0.99      0.73      0.84      1878\n",
            "           1       0.06      0.71      0.10        42\n",
            "\n",
            "    accuracy                           0.73      1920\n",
            "   macro avg       0.52      0.72      0.47      1920\n",
            "weighted avg       0.97      0.73      0.83      1920\n",
            "\n"
          ]
        },
        {
          "output_type": "stream",
          "name": "stderr",
          "text": [
            "/usr/local/lib/python3.7/dist-packages/sklearn/linear_model/_logistic.py:818: ConvergenceWarning: lbfgs failed to converge (status=1):\n",
            "STOP: TOTAL NO. of ITERATIONS REACHED LIMIT.\n",
            "\n",
            "Increase the number of iterations (max_iter) or scale the data as shown in:\n",
            "    https://scikit-learn.org/stable/modules/preprocessing.html\n",
            "Please also refer to the documentation for alternative solver options:\n",
            "    https://scikit-learn.org/stable/modules/linear_model.html#logistic-regression\n",
            "  extra_warning_msg=_LOGISTIC_SOLVER_CONVERGENCE_MSG,\n"
          ]
        }
      ]
    },
    {
      "cell_type": "code",
      "source": [
        "from sklearn.metrics import roc_curve\n",
        "\n",
        "# roc_curve 사용하기 위한 준비\n",
        "y_pred_proba = logistic.predict_proba(X_val_ohe)[:,1]\n",
        "\n",
        "fpr, tpr, thresholds = roc_curve(y_val, y_pred_proba)\n",
        "\n",
        "# 각 임계값에 따른 TPR, FPR을 df로 구성\n",
        "roc = pd.DataFrame({\n",
        "    'FPR(Fall-out)': fpr, \n",
        "    'TPR(Recall)': tpr, \n",
        "    'Threshold': thresholds\n",
        "})\n",
        "\n",
        "# roc_curve 이용해서 최적의 threshold 찾기\n",
        "# TPR이 최대, FPR이 최소가 되는 지점 = (TPR-FPR)이 최대가 되는 지점\n",
        "\n",
        "optimal_idx = np.argmax(tpr-fpr) # 최대값의 인덱스\n",
        "optimal_threshold = thresholds[optimal_idx]\n",
        "print('idx:', optimal_idx, ', threshold: ', optimal_threshold)"
      ],
      "metadata": {
        "colab": {
          "base_uri": "https://localhost:8080/"
        },
        "id": "ULtPc8D3FrUM",
        "outputId": "896cadbf-6a76-4938-81a5-bfa47252535a"
      },
      "execution_count": 131,
      "outputs": [
        {
          "output_type": "stream",
          "name": "stdout",
          "text": [
            "idx: 76 , threshold:  0.5137223696971238\n"
          ]
        }
      ]
    },
    {
      "cell_type": "code",
      "source": [
        "# 최적의 임계값 0.513 적용해서 성능 확인\n",
        "# f1, accuracy 올라감\n",
        "y_pred_optimal = y_pred_proba >= round(optimal_threshold, 3)\n",
        "print(\"f1 score: \", f1_score(y_val, y_pred_optimal).round(2))\n",
        "print(classification_report(y_val, y_pred_optimal))"
      ],
      "metadata": {
        "colab": {
          "base_uri": "https://localhost:8080/"
        },
        "id": "DPBnNyarF3Bp",
        "outputId": "e270d210-aa9c-46c0-843a-6ded286ed4bb"
      },
      "execution_count": 132,
      "outputs": [
        {
          "output_type": "stream",
          "name": "stdout",
          "text": [
            "f1 score:  0.11\n",
            "              precision    recall  f1-score   support\n",
            "\n",
            "           0       0.99      0.75      0.85      1878\n",
            "           1       0.06      0.69      0.11        42\n",
            "\n",
            "    accuracy                           0.74      1920\n",
            "   macro avg       0.52      0.72      0.48      1920\n",
            "weighted avg       0.97      0.74      0.83      1920\n",
            "\n"
          ]
        }
      ]
    },
    {
      "cell_type": "code",
      "source": [
        "from category_encoders import OrdinalEncoder\n",
        "od = OrdinalEncoder()\n",
        "X_train_od = od.fit_transform(X_train)\n",
        "X_val_od = od.transform(X_val)\n",
        "X_test_od = od.transform(X_test)"
      ],
      "metadata": {
        "id": "7uXhNbx6GI52"
      },
      "execution_count": 133,
      "outputs": []
    },
    {
      "cell_type": "code",
      "source": [
        "from sklearn.tree import DecisionTreeClassifier\n",
        "\n",
        "\n",
        "# 의사결정트리\n",
        "# random_state와 criterion만 설정했을 경우 과적합 발생\n",
        "dc = DecisionTreeClassifier(\n",
        "    random_state=2, criterion = 'entropy', # gini, entropy, log_loss 선택가능\n",
        "    max_depth=7) \n",
        "dc.fit(X_train_od, y_train) # 학습, fit_transform 아님\n",
        "y_pred_dc = dc.predict(X_val_od)\n",
        "\n",
        "print(\"훈련 정확도\", dc.score(X_train_od, y_train))\n",
        "print(\"검증 정확도\", dc.score(X_val_od, y_val))\n",
        "print(\"f1 score: \", f1_score(y_val, y_pred_dc).round(3))"
      ],
      "metadata": {
        "colab": {
          "base_uri": "https://localhost:8080/"
        },
        "id": "dDkkGk37GOhe",
        "outputId": "fdcbf8de-7f24-49f4-d8bc-f7d569499c4c"
      },
      "execution_count": 134,
      "outputs": [
        {
          "output_type": "stream",
          "name": "stdout",
          "text": [
            "훈련 정확도 0.9829404870425836\n",
            "검증 정확도 0.9791666666666666\n",
            "f1 score:  0.167\n"
          ]
        }
      ]
    },
    {
      "cell_type": "code",
      "source": [
        "%matplotlib inline\n",
        "import matplotlib.pyplot as plt\n",
        "\n",
        "# 특성 중요도\n",
        "importances = pd.Series(dc.feature_importances_, X_train.columns)\n",
        "plt.figure(figsize=(10, 20))\n",
        "importances.sort_values().plot.barh();"
      ],
      "metadata": {
        "colab": {
          "base_uri": "https://localhost:8080/",
          "height": 1000
        },
        "id": "FT8GEpPgGRsE",
        "outputId": "1d1f064a-ce9d-4af8-d1ea-dd6449aaf866"
      },
      "execution_count": 135,
      "outputs": [
        {
          "output_type": "display_data",
          "data": {
            "text/plain": [
              "<Figure size 720x1440 with 1 Axes>"
            ],
            "image/png": "[encoded data removed]"
          },
          "metadata": {
            "needs_background": "light"
          }
        }
      ]
    },
    {
      "cell_type": "code",
      "source": [
        "# 랜덤포레스트\n",
        "\n",
        "from sklearn.ensemble import RandomForestClassifier\n",
        "\n",
        "rf = RandomForestClassifier(\n",
        "    random_state=42, criterion='entropy', oob_score=True, n_jobs=-1, max_depth=6)\n",
        "rf.fit(X_train_od, y_train)\n",
        "y_pred_rf = rf.predict(X_val_od)\n",
        "\n",
        "print(\"훈련 정확도\", rf.score(X_train_od, y_train))\n",
        "print(\"검증 정확도\", rf.score(X_val_od, y_val))\n",
        "print(\"f1 score: \", f1_score(y_val, y_pred_rf).round(3))"
      ],
      "metadata": {
        "colab": {
          "base_uri": "https://localhost:8080/"
        },
        "id": "X8sjjtxiGX4r",
        "outputId": "5de70e5c-06aa-4a86-c2b3-0803ddcf919d"
      },
      "execution_count": 136,
      "outputs": [
        {
          "output_type": "stream",
          "name": "stdout",
          "text": [
            "훈련 정확도 0.980205755957807\n",
            "검증 정확도 0.9786458333333333\n",
            "f1 score:  0.047\n"
          ]
        }
      ]
    },
    {
      "cell_type": "code",
      "source": [
        "# 특성 중요도\n",
        "importances = pd.Series(rf.feature_importances_, X_train.columns)\n",
        "plt.figure(figsize=(10, 20))\n",
        "importances.sort_values().plot.barh();"
      ],
      "metadata": {
        "colab": {
          "base_uri": "https://localhost:8080/",
          "height": 1000
        },
        "id": "URXUFWpLGdCF",
        "outputId": "5f8eccf3-80df-4a02-ae54-80e9e75d9b5e"
      },
      "execution_count": 137,
      "outputs": [
        {
          "output_type": "display_data",
          "data": {
            "text/plain": [
              "<Figure size 720x1440 with 1 Axes>"
            ],
            "image/png": "[encoded data removed]"
          },
          "metadata": {
            "needs_background": "light"
          }
        }
      ]
    },
    {
      "cell_type": "code",
      "source": [
        "from xgboost import XGBClassifier\n",
        "xgb = XGBClassifier(\n",
        "        booster='gbtree', # dart보다 성능 좋았음\n",
        "        objective='binary:logistic',\n",
        "        eval_metric=\"error\",  # error = 1 - accuracy 지표를 사용해 평가합니다.\n",
        "        n_estimators=500,\n",
        "        random_state=42,\n",
        "        n_jobs=2,\n",
        "        max_depth=6,\n",
        "        learning_rate=0.1,\n",
        "        # scale_pos_weight = 8062/25661, # 타겟이 불균형, 설정하니 정확도 떨어짐\n",
        "        colsample_bytree=0.3, # 컬럼 중 일부 샘플링해서 학습, 작을수록 과적합 감소\n",
        "        subsample=0.3, # 데이터 중 일부 샘플링해서 학습, 낮을수록 과적합 감소\n",
        "        min_child_weight=16,# 관측치에 대한 가중치 합의 최소\n",
        "        reg_lambda=2, # 클수록 과적합 감소\n",
        "        alpha=1 # 클수록 과적합 감소\n",
        "        )"
      ],
      "metadata": {
        "id": "0CJxDa-LGlJ3"
      },
      "execution_count": 138,
      "outputs": []
    },
    {
      "cell_type": "code",
      "source": [
        "from sklearn.impute import SimpleImputer\n",
        "from xgboost import XGBClassifier\n",
        "from sklearn.pipeline import make_pipeline\n",
        "\n",
        "\n",
        "pipe = make_pipeline(\n",
        "    OrdinalEncoder(),\n",
        "    SimpleImputer(strategy=\"median\"),\n",
        "    XGBClassifier(\n",
        "        objective=\"binary:logistic\",\n",
        "        eval_metric=\"error\",  # error = 1 - accuracy 지표를 사용해 평가합니다.\n",
        "        n_estimators=200,\n",
        "        random_state=2,\n",
        "        n_jobs=-1,\n",
        "        max_depth=7,\n",
        "        learning_rate=0.1,\n",
        "        booster='gbtree', # dart보다 성능 좋았음\n",
        "        # scale_pos_weight = 8062/25661, # 타겟이 불균형, 설정하니 정확도 떨어짐\n",
        "        colsample_bytree=0.3, # 컬럼 중 일부 샘플링해서 학습, 작을수록 과적합 감소\n",
        "        subsample=0.3, # 데이터 중 일부 샘플링해서 학습, 낮을수록 과적합 감소\n",
        "        min_child_weight=16,# 관측치에 대한 가중치 합의 최소\n",
        "        reg_lambda=2, # 클수록 과적합 감소\n",
        "        alpha=1 # 클수록 과적합 감소\n",
        "        )\n",
        "    )\n",
        "\n",
        "print(pipe)"
      ],
      "metadata": {
        "colab": {
          "base_uri": "https://localhost:8080/"
        },
        "id": "YZL-zmHhGpSb",
        "outputId": "b293970f-b65a-44e4-faad-f763a85cb641"
      },
      "execution_count": 139,
      "outputs": [
        {
          "output_type": "stream",
          "name": "stdout",
          "text": [
            "Pipeline(steps=[('ordinalencoder', OrdinalEncoder()),\n",
            "                ('simpleimputer', SimpleImputer(strategy='median')),\n",
            "                ('xgbclassifier',\n",
            "                 XGBClassifier(alpha=1, colsample_bytree=0.3,\n",
            "                               eval_metric='error', max_depth=7,\n",
            "                               min_child_weight=16, n_estimators=200, n_jobs=-1,\n",
            "                               random_state=2, reg_lambda=2, subsample=0.3))])\n"
          ]
        }
      ]
    },
    {
      "cell_type": "code",
      "source": [
        "xgb = XGBClassifier(\n",
        "        objective=\"binary:logistic\",\n",
        "        eval_metric=\"error\",  # error = 1 - accuracy 지표를 사용해 평가합니다.\n",
        "        n_estimators=200,\n",
        "        random_state=2,\n",
        "        n_jobs=-1,\n",
        "        max_depth=7,\n",
        "        learning_rate=0.1,\n",
        "        booster='gbtree', # dart보다 성능 좋았음\n",
        "        # scale_pos_weight = 8062/25661, # 타겟이 불균형, 설정하니 정확도 떨어짐\n",
        "        colsample_bytree=0.3, # 컬럼 중 일부 샘플링해서 학습, 작을수록 과적합 감소\n",
        "        subsample=0.3, # 데이터 중 일부 샘플링해서 학습, 낮을수록 과적합 감소\n",
        "        min_child_weight=16,# 관측치에 대한 가중치 합의 최소\n",
        "        reg_lambda=2, # 클수록 과적합 감소\n",
        "        alpha=1 # 클수록 과적합 감소\n",
        "        )\n",
        "\n",
        "# early stopping 설정\n",
        "watchlist = [(X_train_od, y_train), (X_val_od, y_val)]\n",
        "\n",
        "xgb.fit(X_train_od, y_train, eval_set=watchlist, early_stopping_rounds=50)\n",
        "y_pred_xgb = xgb.predict(X_val_od)\n",
        "\n",
        "print(\"훈련 정확도\", xgb.score(X_train_od, y_train))\n",
        "print(\"검증 정확도\", xgb.score(X_val_od, y_val))\n",
        "print(\"f1 score: \", f1_score(y_val, y_pred_xgb).round(3))"
      ],
      "metadata": {
        "colab": {
          "base_uri": "https://localhost:8080/"
        },
        "id": "0JyY7F3pGqwt",
        "outputId": "d6baace7-363d-414e-d0e3-7c81c5c1bf6d"
      },
      "execution_count": 140,
      "outputs": [
        {
          "output_type": "stream",
          "name": "stdout",
          "text": [
            "[0]\tvalidation_0-error:0.022008\tvalidation_1-error:0.021875\n",
            "Multiple eval metrics have been passed: 'validation_1-error' will be used for early stopping.\n",
            "\n",
            "Will train until validation_1-error hasn't improved in 50 rounds.\n",
            "[1]\tvalidation_0-error:0.022008\tvalidation_1-error:0.021875\n",
            "[2]\tvalidation_0-error:0.022008\tvalidation_1-error:0.021875\n",
            "[3]\tvalidation_0-error:0.022008\tvalidation_1-error:0.021875\n",
            "[4]\tvalidation_0-error:0.022008\tvalidation_1-error:0.021875\n",
            "[5]\tvalidation_0-error:0.022008\tvalidation_1-error:0.021875\n",
            "[6]\tvalidation_0-error:0.022008\tvalidation_1-error:0.021875\n",
            "[7]\tvalidation_0-error:0.022008\tvalidation_1-error:0.021875\n",
            "[8]\tvalidation_0-error:0.022008\tvalidation_1-error:0.021875\n",
            "[9]\tvalidation_0-error:0.022008\tvalidation_1-error:0.021875\n",
            "[10]\tvalidation_0-error:0.022008\tvalidation_1-error:0.021875\n",
            "[11]\tvalidation_0-error:0.022008\tvalidation_1-error:0.021875\n",
            "[12]\tvalidation_0-error:0.022008\tvalidation_1-error:0.021875\n",
            "[13]\tvalidation_0-error:0.022008\tvalidation_1-error:0.021875\n",
            "[14]\tvalidation_0-error:0.022008\tvalidation_1-error:0.021875\n",
            "[15]\tvalidation_0-error:0.022008\tvalidation_1-error:0.021875\n",
            "[16]\tvalidation_0-error:0.022008\tvalidation_1-error:0.021875\n",
            "[17]\tvalidation_0-error:0.022008\tvalidation_1-error:0.021875\n",
            "[18]\tvalidation_0-error:0.022008\tvalidation_1-error:0.021875\n",
            "[19]\tvalidation_0-error:0.022008\tvalidation_1-error:0.021875\n",
            "[20]\tvalidation_0-error:0.022008\tvalidation_1-error:0.021875\n",
            "[21]\tvalidation_0-error:0.022008\tvalidation_1-error:0.021875\n",
            "[22]\tvalidation_0-error:0.022008\tvalidation_1-error:0.021875\n",
            "[23]\tvalidation_0-error:0.022008\tvalidation_1-error:0.021875\n",
            "[24]\tvalidation_0-error:0.022008\tvalidation_1-error:0.021875\n",
            "[25]\tvalidation_0-error:0.022008\tvalidation_1-error:0.021875\n",
            "[26]\tvalidation_0-error:0.022008\tvalidation_1-error:0.021875\n",
            "[27]\tvalidation_0-error:0.022008\tvalidation_1-error:0.021875\n",
            "[28]\tvalidation_0-error:0.022008\tvalidation_1-error:0.021875\n",
            "[29]\tvalidation_0-error:0.022008\tvalidation_1-error:0.021875\n",
            "[30]\tvalidation_0-error:0.022008\tvalidation_1-error:0.021875\n",
            "[31]\tvalidation_0-error:0.022008\tvalidation_1-error:0.021875\n",
            "[32]\tvalidation_0-error:0.022008\tvalidation_1-error:0.021875\n",
            "[33]\tvalidation_0-error:0.022008\tvalidation_1-error:0.021875\n",
            "[34]\tvalidation_0-error:0.022008\tvalidation_1-error:0.021875\n",
            "[35]\tvalidation_0-error:0.022008\tvalidation_1-error:0.021875\n",
            "[36]\tvalidation_0-error:0.022008\tvalidation_1-error:0.021875\n",
            "[37]\tvalidation_0-error:0.022008\tvalidation_1-error:0.021875\n",
            "[38]\tvalidation_0-error:0.022008\tvalidation_1-error:0.021875\n",
            "[39]\tvalidation_0-error:0.022008\tvalidation_1-error:0.021875\n",
            "[40]\tvalidation_0-error:0.022008\tvalidation_1-error:0.021875\n",
            "[41]\tvalidation_0-error:0.022008\tvalidation_1-error:0.021875\n",
            "[42]\tvalidation_0-error:0.022008\tvalidation_1-error:0.021875\n",
            "[43]\tvalidation_0-error:0.022008\tvalidation_1-error:0.021875\n",
            "[44]\tvalidation_0-error:0.022008\tvalidation_1-error:0.021875\n",
            "[45]\tvalidation_0-error:0.022008\tvalidation_1-error:0.021875\n",
            "[46]\tvalidation_0-error:0.022008\tvalidation_1-error:0.021875\n",
            "[47]\tvalidation_0-error:0.022008\tvalidation_1-error:0.021875\n",
            "[48]\tvalidation_0-error:0.022008\tvalidation_1-error:0.021875\n",
            "[49]\tvalidation_0-error:0.022008\tvalidation_1-error:0.021875\n",
            "[50]\tvalidation_0-error:0.022008\tvalidation_1-error:0.021875\n",
            "Stopping. Best iteration:\n",
            "[0]\tvalidation_0-error:0.022008\tvalidation_1-error:0.021875\n",
            "\n",
            "훈련 정확도 0.9779919260320354\n",
            "검증 정확도 0.978125\n",
            "f1 score:  0.0\n"
          ]
        }
      ]
    },
    {
      "cell_type": "code",
      "source": [
        "from sklearn.metrics import classification_report\n",
        "\n",
        "# train 학습, 검증셋 정확도\n",
        "print(\"검증 정확도\", pipe.score(X_val, y_val))\n",
        "\n",
        "y_pred = pipe.predict(X_val)\n",
        "print(classification_report(y_val, y_pred))"
      ],
      "metadata": {
        "colab": {
          "base_uri": "https://localhost:8080/",
          "height": 390
        },
        "id": "a2od619oGwDw",
        "outputId": "c2b43421-4657-4782-c58f-597c0c0e6d76"
      },
      "execution_count": 142,
      "outputs": [
        {
          "output_type": "error",
          "ename": "NotFittedError",
          "evalue": "ignored",
          "traceback": [
            "\u001b[0;31m---------------------------------------------------------------------------\u001b[0m",
            "\u001b[0;31mNotFittedError\u001b[0m                            Traceback (most recent call last)",
            "\u001b[0;32m<ipython-input-142-7b8c45806c5c>\u001b[0m in \u001b[0;36m<module>\u001b[0;34m\u001b[0m\n\u001b[1;32m      2\u001b[0m \u001b[0;34m\u001b[0m\u001b[0m\n\u001b[1;32m      3\u001b[0m \u001b[0;31m# train 학습, 검증셋 정확도\u001b[0m\u001b[0;34m\u001b[0m\u001b[0;34m\u001b[0m\u001b[0;34m\u001b[0m\u001b[0m\n\u001b[0;32m----> 4\u001b[0;31m \u001b[0mprint\u001b[0m\u001b[0;34m(\u001b[0m\u001b[0;34m\"검증 정확도\"\u001b[0m\u001b[0;34m,\u001b[0m \u001b[0mpipe\u001b[0m\u001b[0;34m.\u001b[0m\u001b[0mscore\u001b[0m\u001b[0;34m(\u001b[0m\u001b[0mX_val\u001b[0m\u001b[0;34m,\u001b[0m \u001b[0my_val\u001b[0m\u001b[0;34m)\u001b[0m\u001b[0;34m)\u001b[0m\u001b[0;34m\u001b[0m\u001b[0;34m\u001b[0m\u001b[0m\n\u001b[0m\u001b[1;32m      5\u001b[0m \u001b[0;34m\u001b[0m\u001b[0m\n\u001b[1;32m      6\u001b[0m \u001b[0my_pred\u001b[0m \u001b[0;34m=\u001b[0m \u001b[0mpipe\u001b[0m\u001b[0;34m.\u001b[0m\u001b[0mpredict\u001b[0m\u001b[0;34m(\u001b[0m\u001b[0mX_val\u001b[0m\u001b[0;34m)\u001b[0m\u001b[0;34m\u001b[0m\u001b[0;34m\u001b[0m\u001b[0m\n",
            "\u001b[0;32m/usr/local/lib/python3.7/dist-packages/sklearn/utils/metaestimators.py\u001b[0m in \u001b[0;36m<lambda>\u001b[0;34m(*args, **kwargs)\u001b[0m\n\u001b[1;32m    111\u001b[0m \u001b[0;34m\u001b[0m\u001b[0m\n\u001b[1;32m    112\u001b[0m             \u001b[0;31m# lambda, but not partial, allows help() to work with update_wrapper\u001b[0m\u001b[0;34m\u001b[0m\u001b[0;34m\u001b[0m\u001b[0;34m\u001b[0m\u001b[0m\n\u001b[0;32m--> 113\u001b[0;31m             \u001b[0mout\u001b[0m \u001b[0;34m=\u001b[0m \u001b[0;32mlambda\u001b[0m \u001b[0;34m*\u001b[0m\u001b[0margs\u001b[0m\u001b[0;34m,\u001b[0m \u001b[0;34m**\u001b[0m\u001b[0mkwargs\u001b[0m\u001b[0;34m:\u001b[0m \u001b[0mself\u001b[0m\u001b[0;34m.\u001b[0m\u001b[0mfn\u001b[0m\u001b[0;34m(\u001b[0m\u001b[0mobj\u001b[0m\u001b[0;34m,\u001b[0m \u001b[0;34m*\u001b[0m\u001b[0margs\u001b[0m\u001b[0;34m,\u001b[0m \u001b[0;34m**\u001b[0m\u001b[0mkwargs\u001b[0m\u001b[0;34m)\u001b[0m  \u001b[0;31m# noqa\u001b[0m\u001b[0;34m\u001b[0m\u001b[0;34m\u001b[0m\u001b[0m\n\u001b[0m\u001b[1;32m    114\u001b[0m         \u001b[0;32melse\u001b[0m\u001b[0;34m:\u001b[0m\u001b[0;34m\u001b[0m\u001b[0;34m\u001b[0m\u001b[0m\n\u001b[1;32m    115\u001b[0m \u001b[0;34m\u001b[0m\u001b[0m\n",
            "\u001b[0;32m/usr/local/lib/python3.7/dist-packages/sklearn/pipeline.py\u001b[0m in \u001b[0;36mscore\u001b[0;34m(self, X, y, sample_weight)\u001b[0m\n\u001b[1;32m    705\u001b[0m         \u001b[0mXt\u001b[0m \u001b[0;34m=\u001b[0m \u001b[0mX\u001b[0m\u001b[0;34m\u001b[0m\u001b[0;34m\u001b[0m\u001b[0m\n\u001b[1;32m    706\u001b[0m         \u001b[0;32mfor\u001b[0m \u001b[0m_\u001b[0m\u001b[0;34m,\u001b[0m \u001b[0mname\u001b[0m\u001b[0;34m,\u001b[0m \u001b[0mtransform\u001b[0m \u001b[0;32min\u001b[0m \u001b[0mself\u001b[0m\u001b[0;34m.\u001b[0m\u001b[0m_iter\u001b[0m\u001b[0;34m(\u001b[0m\u001b[0mwith_final\u001b[0m\u001b[0;34m=\u001b[0m\u001b[0;32mFalse\u001b[0m\u001b[0;34m)\u001b[0m\u001b[0;34m:\u001b[0m\u001b[0;34m\u001b[0m\u001b[0;34m\u001b[0m\u001b[0m\n\u001b[0;32m--> 707\u001b[0;31m             \u001b[0mXt\u001b[0m \u001b[0;34m=\u001b[0m \u001b[0mtransform\u001b[0m\u001b[0;34m.\u001b[0m\u001b[0mtransform\u001b[0m\u001b[0;34m(\u001b[0m\u001b[0mXt\u001b[0m\u001b[0;34m)\u001b[0m\u001b[0;34m\u001b[0m\u001b[0;34m\u001b[0m\u001b[0m\n\u001b[0m\u001b[1;32m    708\u001b[0m         \u001b[0mscore_params\u001b[0m \u001b[0;34m=\u001b[0m \u001b[0;34m{\u001b[0m\u001b[0;34m}\u001b[0m\u001b[0;34m\u001b[0m\u001b[0;34m\u001b[0m\u001b[0m\n\u001b[1;32m    709\u001b[0m         \u001b[0;32mif\u001b[0m \u001b[0msample_weight\u001b[0m \u001b[0;32mis\u001b[0m \u001b[0;32mnot\u001b[0m \u001b[0;32mNone\u001b[0m\u001b[0;34m:\u001b[0m\u001b[0;34m\u001b[0m\u001b[0;34m\u001b[0m\u001b[0m\n",
            "\u001b[0;32m/usr/local/lib/python3.7/dist-packages/category_encoders/utils.py\u001b[0m in \u001b[0;36mtransform\u001b[0;34m(self, X, override_return_df)\u001b[0m\n\u001b[1;32m    442\u001b[0m         \u001b[0;31m# first check the type\u001b[0m\u001b[0;34m\u001b[0m\u001b[0;34m\u001b[0m\u001b[0;34m\u001b[0m\u001b[0m\n\u001b[1;32m    443\u001b[0m         \u001b[0mX\u001b[0m \u001b[0;34m=\u001b[0m \u001b[0mconvert_input\u001b[0m\u001b[0;34m(\u001b[0m\u001b[0mX\u001b[0m\u001b[0;34m,\u001b[0m \u001b[0mdeep\u001b[0m\u001b[0;34m=\u001b[0m\u001b[0;32mTrue\u001b[0m\u001b[0;34m)\u001b[0m\u001b[0;34m\u001b[0m\u001b[0;34m\u001b[0m\u001b[0m\n\u001b[0;32m--> 444\u001b[0;31m         \u001b[0mself\u001b[0m\u001b[0;34m.\u001b[0m\u001b[0m_check_transform_inputs\u001b[0m\u001b[0;34m(\u001b[0m\u001b[0mX\u001b[0m\u001b[0;34m)\u001b[0m\u001b[0;34m\u001b[0m\u001b[0;34m\u001b[0m\u001b[0m\n\u001b[0m\u001b[1;32m    445\u001b[0m \u001b[0;34m\u001b[0m\u001b[0m\n\u001b[1;32m    446\u001b[0m         \u001b[0;32mif\u001b[0m \u001b[0;32mnot\u001b[0m \u001b[0mlist\u001b[0m\u001b[0;34m(\u001b[0m\u001b[0mself\u001b[0m\u001b[0;34m.\u001b[0m\u001b[0mcols\u001b[0m\u001b[0;34m)\u001b[0m\u001b[0;34m:\u001b[0m\u001b[0;34m\u001b[0m\u001b[0;34m\u001b[0m\u001b[0m\n",
            "\u001b[0;32m/usr/local/lib/python3.7/dist-packages/category_encoders/utils.py\u001b[0m in \u001b[0;36m_check_transform_inputs\u001b[0;34m(self, X)\u001b[0m\n\u001b[1;32m    317\u001b[0m \u001b[0;34m\u001b[0m\u001b[0m\n\u001b[1;32m    318\u001b[0m         \u001b[0;32mif\u001b[0m \u001b[0mself\u001b[0m\u001b[0;34m.\u001b[0m\u001b[0m_dim\u001b[0m \u001b[0;32mis\u001b[0m \u001b[0;32mNone\u001b[0m\u001b[0;34m:\u001b[0m\u001b[0;34m\u001b[0m\u001b[0;34m\u001b[0m\u001b[0m\n\u001b[0;32m--> 319\u001b[0;31m             \u001b[0;32mraise\u001b[0m \u001b[0mNotFittedError\u001b[0m\u001b[0;34m(\u001b[0m\u001b[0;34m'Must train encoder before it can be used to transform data.'\u001b[0m\u001b[0;34m)\u001b[0m\u001b[0;34m\u001b[0m\u001b[0;34m\u001b[0m\u001b[0m\n\u001b[0m\u001b[1;32m    320\u001b[0m \u001b[0;34m\u001b[0m\u001b[0m\n\u001b[1;32m    321\u001b[0m         \u001b[0;31m# then make sure that it is the right size\u001b[0m\u001b[0;34m\u001b[0m\u001b[0;34m\u001b[0m\u001b[0;34m\u001b[0m\u001b[0m\n",
            "\u001b[0;31mNotFittedError\u001b[0m: Must train encoder before it can be used to transform data."
          ]
        }
      ]
    },
    {
      "cell_type": "code",
      "source": [
        "# 비교\n",
        "compare = pd.DataFrame(\n",
        "    index = ['f1 score'],\n",
        "    data = {'logistic': [f1_score(y_val, y_val_pred)], 'decision tree' : [f1_score(y_val, y_pred_dc)],\n",
        "            'random forest':[f1_score(y_val, y_pred_rf)], 'XGBoost':[f1_score(y_val, y_pred_xgb)]})\n",
        "compare"
      ],
      "metadata": {
        "colab": {
          "base_uri": "https://localhost:8080/",
          "height": 81
        },
        "id": "imexpHoeDi0k",
        "outputId": "f1eb5e5f-154e-425a-fce9-aa3ce38700f1"
      },
      "execution_count": 143,
      "outputs": [
        {
          "output_type": "execute_result",
          "data": {
            "text/plain": [
              "          logistic  decision tree  random forest  XGBoost\n",
              "f1 score  0.104348       0.166667       0.046512      0.0"
            ],
            "text/html": [
              "\n",
              "  <div id=\"df-171aa1b2-ad00-4c2e-91ad-45bd19ece2f2\">\n",
              "    <div class=\"colab-df-container\">\n",
              "      <div>\n",
              "<style scoped>\n",
              "    .dataframe tbody tr th:only-of-type {\n",
              "        vertical-align: middle;\n",
              "    }\n",
              "\n",
              "    .dataframe tbody tr th {\n",
              "        vertical-align: top;\n",
              "    }\n",
              "\n",
              "    .dataframe thead th {\n",
              "        text-align: right;\n",
              "    }\n",
              "</style>\n",
              "<table border=\"1\" class=\"dataframe\">\n",
              "  <thead>\n",
              "    <tr style=\"text-align: right;\">\n",
              "      <th></th>\n",
              "      <th>logistic</th>\n",
              "      <th>decision tree</th>\n",
              "      <th>random forest</th>\n",
              "      <th>XGBoost</th>\n",
              "    </tr>\n",
              "  </thead>\n",
              "  <tbody>\n",
              "    <tr>\n",
              "      <th>f1 score</th>\n",
              "      <td>0.104348</td>\n",
              "      <td>0.166667</td>\n",
              "      <td>0.046512</td>\n",
              "      <td>0.0</td>\n",
              "    </tr>\n",
              "  </tbody>\n",
              "</table>\n",
              "</div>\n",
              "      <button class=\"colab-df-convert\" onclick=\"convertToInteractive('df-171aa1b2-ad00-4c2e-91ad-45bd19ece2f2')\"\n",
              "              title=\"Convert this dataframe to an interactive table.\"\n",
              "              style=\"display:none;\">\n",
              "        \n",
              "  <svg xmlns=\"http://www.w3.org/2000/svg\" height=\"24px\"viewBox=\"0 0 24 24\"\n",
              "       width=\"24px\">\n",
              "    <path d=\"M0 0h24v24H0V0z\" fill=\"none\"/>\n",
              "    <path d=\"M18.56 5.44l.94 2.06.94-2.06 2.06-.94-2.06-.94-.94-2.06-.94 2.06-2.06.94zm-11 1L8.5 8.5l.94-2.06 2.06-.94-2.06-.94L8.5 2.5l-.94 2.06-2.06.94zm10 10l.94 2.06.94-2.06 2.06-.94-2.06-.94-.94-2.06-.94 2.06-2.06.94z\"/><path d=\"M17.41 7.96l-1.37-1.37c-.4-.4-.92-.59-1.43-.59-.52 0-1.04.2-1.43.59L10.3 9.45l-7.72 7.72c-.78.78-.78 2.05 0 2.83L4 21.41c.39.39.9.59 1.41.59.51 0 1.02-.2 1.41-.59l7.78-7.78 2.81-2.81c.8-.78.8-2.07 0-2.86zM5.41 20L4 18.59l7.72-7.72 1.47 1.35L5.41 20z\"/>\n",
              "  </svg>\n",
              "      </button>\n",
              "      \n",
              "  <style>\n",
              "    .colab-df-container {\n",
              "      display:flex;\n",
              "      flex-wrap:wrap;\n",
              "      gap: 12px;\n",
              "    }\n",
              "\n",
              "    .colab-df-convert {\n",
              "      background-color: #E8F0FE;\n",
              "      border: none;\n",
              "      border-radius: 50%;\n",
              "      cursor: pointer;\n",
              "      display: none;\n",
              "      fill: #1967D2;\n",
              "      height: 32px;\n",
              "      padding: 0 0 0 0;\n",
              "      width: 32px;\n",
              "    }\n",
              "\n",
              "    .colab-df-convert:hover {\n",
              "      background-color: #E2EBFA;\n",
              "      box-shadow: 0px 1px 2px rgba(60, 64, 67, 0.3), 0px 1px 3px 1px rgba(60, 64, 67, 0.15);\n",
              "      fill: #174EA6;\n",
              "    }\n",
              "\n",
              "    [theme=dark] .colab-df-convert {\n",
              "      background-color: #3B4455;\n",
              "      fill: #D2E3FC;\n",
              "    }\n",
              "\n",
              "    [theme=dark] .colab-df-convert:hover {\n",
              "      background-color: #434B5C;\n",
              "      box-shadow: 0px 1px 3px 1px rgba(0, 0, 0, 0.15);\n",
              "      filter: drop-shadow(0px 1px 2px rgba(0, 0, 0, 0.3));\n",
              "      fill: #FFFFFF;\n",
              "    }\n",
              "  </style>\n",
              "\n",
              "      <script>\n",
              "        const buttonEl =\n",
              "          document.querySelector('#df-171aa1b2-ad00-4c2e-91ad-45bd19ece2f2 button.colab-df-convert');\n",
              "        buttonEl.style.display =\n",
              "          google.colab.kernel.accessAllowed ? 'block' : 'none';\n",
              "\n",
              "        async function convertToInteractive(key) {\n",
              "          const element = document.querySelector('#df-171aa1b2-ad00-4c2e-91ad-45bd19ece2f2');\n",
              "          const dataTable =\n",
              "            await google.colab.kernel.invokeFunction('convertToInteractive',\n",
              "                                                     [key], {});\n",
              "          if (!dataTable) return;\n",
              "\n",
              "          const docLinkHtml = 'Like what you see? Visit the ' +\n",
              "            '<a target=\"_blank\" href=https://colab.research.google.com/notebooks/data_table.ipynb>data table notebook</a>'\n",
              "            + ' to learn more about interactive tables.';\n",
              "          element.innerHTML = '';\n",
              "          dataTable['output_type'] = 'display_data';\n",
              "          await google.colab.output.renderOutput(dataTable, element);\n",
              "          const docLink = document.createElement('div');\n",
              "          docLink.innerHTML = docLinkHtml;\n",
              "          element.appendChild(docLink);\n",
              "        }\n",
              "      </script>\n",
              "    </div>\n",
              "  </div>\n",
              "  "
            ]
          },
          "metadata": {},
          "execution_count": 143
        }
      ]
    }
  ]
}